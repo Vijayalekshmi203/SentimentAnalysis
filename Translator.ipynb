{
 "cells": [
  {
   "cell_type": "code",
   "execution_count": 1,
   "id": "404fc438-285c-4556-a93c-85a034ccb805",
   "metadata": {},
   "outputs": [
    {
     "name": "stdout",
     "output_type": "stream",
     "text": [
      "Requirement already satisfied: langdetect in c:\\users\\vijayalekshmi\\desktop\\sentimentanalysis\\venv\\lib\\site-packages (1.0.9)\n",
      "Requirement already satisfied: six in c:\\users\\vijayalekshmi\\desktop\\sentimentanalysis\\venv\\lib\\site-packages (from langdetect) (1.16.0)\n",
      "Note: you may need to restart the kernel to use updated packages.\n"
     ]
    },
    {
     "name": "stderr",
     "output_type": "stream",
     "text": [
      "\n",
      "[notice] A new release of pip is available: 24.1 -> 24.2\n",
      "[notice] To update, run: python.exe -m pip install --upgrade pip\n"
     ]
    }
   ],
   "source": [
    "pip install langdetect"
   ]
  },
  {
   "cell_type": "code",
   "execution_count": 2,
   "id": "7cc73f08-29e0-4bd3-8b17-da7d6adacfa6",
   "metadata": {},
   "outputs": [
    {
     "name": "stdout",
     "output_type": "stream",
     "text": [
      "Requirement already satisfied: deep-translator in c:\\users\\vijayalekshmi\\desktop\\sentimentanalysis\\venv\\lib\\site-packages (1.11.4)Note: you may need to restart the kernel to use updated packages.\n"
     ]
    },
    {
     "name": "stderr",
     "output_type": "stream",
     "text": [
      "\n",
      "[notice] A new release of pip is available: 24.1 -> 24.2\n",
      "[notice] To update, run: python.exe -m pip install --upgrade pip\n"
     ]
    },
    {
     "name": "stdout",
     "output_type": "stream",
     "text": [
      "\n",
      "Requirement already satisfied: beautifulsoup4<5.0.0,>=4.9.1 in c:\\users\\vijayalekshmi\\desktop\\sentimentanalysis\\venv\\lib\\site-packages (from deep-translator) (4.12.3)\n",
      "Requirement already satisfied: requests<3.0.0,>=2.23.0 in c:\\users\\vijayalekshmi\\desktop\\sentimentanalysis\\venv\\lib\\site-packages (from deep-translator) (2.32.3)\n",
      "Requirement already satisfied: soupsieve>1.2 in c:\\users\\vijayalekshmi\\desktop\\sentimentanalysis\\venv\\lib\\site-packages (from beautifulsoup4<5.0.0,>=4.9.1->deep-translator) (2.5)\n",
      "Requirement already satisfied: charset-normalizer<4,>=2 in c:\\users\\vijayalekshmi\\desktop\\sentimentanalysis\\venv\\lib\\site-packages (from requests<3.0.0,>=2.23.0->deep-translator) (3.3.2)\n",
      "Requirement already satisfied: idna<4,>=2.5 in c:\\users\\vijayalekshmi\\desktop\\sentimentanalysis\\venv\\lib\\site-packages (from requests<3.0.0,>=2.23.0->deep-translator) (2.10)\n",
      "Requirement already satisfied: urllib3<3,>=1.21.1 in c:\\users\\vijayalekshmi\\desktop\\sentimentanalysis\\venv\\lib\\site-packages (from requests<3.0.0,>=2.23.0->deep-translator) (2.2.1)\n",
      "Requirement already satisfied: certifi>=2017.4.17 in c:\\users\\vijayalekshmi\\desktop\\sentimentanalysis\\venv\\lib\\site-packages (from requests<3.0.0,>=2.23.0->deep-translator) (2024.6.2)\n"
     ]
    }
   ],
   "source": [
    "pip install deep-translator"
   ]
  },
  {
   "cell_type": "markdown",
   "id": "f09d8b2a-8f10-4ac0-9a31-d250f967d727",
   "metadata": {},
   "source": [
    "Mymemory translator"
   ]
  },
  {
   "cell_type": "code",
   "execution_count": 3,
   "id": "499777e4-564f-4dee-8d45-ddc5356cae79",
   "metadata": {},
   "outputs": [
    {
     "data": {
      "text/plain": [
       "'Where are you'"
      ]
     },
     "execution_count": 3,
     "metadata": {},
     "output_type": "execute_result"
    }
   ],
   "source": [
    "from deep_translator import MyMemoryTranslator\n",
    "translated = MyMemoryTranslator(source=\"ta-IN\", target=\"en-GB\").translate(text=\"எங்கே இருக்கிறீர்கள்\")\n",
    "translated"
   ]
  },
  {
   "cell_type": "code",
   "execution_count": 4,
   "id": "c2b506ca-1ff0-4699-9b51-31a2e7cb9433",
   "metadata": {},
   "outputs": [],
   "source": [
    "from flask import Flask, request, jsonify\n",
    "from deep_translator import MyMemoryTranslator\n",
    "from langdetect import detect, DetectorFactory\n",
    "from langdetect.lang_detect_exception import LangDetectException\n",
    "\n",
    "# Ensuring deterministic results for language detection\n",
    "DetectorFactory.seed = 0\n",
    "\n",
    "app = Flask(__name__)"
   ]
  },
  {
   "cell_type": "code",
   "execution_count": 5,
   "id": "fc4aa2bf-09fd-4602-bd4a-2d14d5055828",
   "metadata": {},
   "outputs": [],
   "source": [
    "LANGUAGE_CODE_MAP = {\n",
    "    'en': 'en-GB',  # English (UK)\n",
    "    'ta': 'ta-IN',  # Tamil (India)\n",
    "    'hi': 'hi-IN',  # Hindi (India)\n",
    "    'es': 'es-ES',  # Spanish (Spain)\n",
    "    'fr': 'fr-FR',  # French (France)\n",
    "    'de': 'de-DE',  # German (Germany)\n",
    "    'zh-cn': 'zh-CN',  # Chinese Simplified (China)\n",
    "    'ar': 'ar-SA',  # Arabic (Saudi Arabia)\n",
    "    'ru': 'ru-RU',  # Russian (Russia)\n",
    "    'ja': 'ja-JP',  # Japanese (Japan)\n",
    "    'ko': 'ko-KR',  # Korean (South Korea)\n",
    "    'pt': 'pt-PT',  # Portuguese (Portugal)\n",
    "    'pt-br': 'pt-BR',  # Portuguese (Brazil)\n",
    "    'it': 'it-IT',  # Italian (Italy)\n",
    "    'nl': 'nl-NL',  # Dutch (Netherlands)\n",
    "    'pl': 'pl-PL',  # Polish (Poland)\n",
    "    'sv': 'sv-SE',  # Swedish (Sweden)\n",
    "    'da': 'da-DK',  # Danish (Denmark)\n",
    "    'fi': 'fi-FI',  # Finnish (Finland)\n",
    "    'no': 'no-NO',  # Norwegian (Norway)\n",
    "    'el': 'el-GR',  # Greek (Greece)\n",
    "    'tr': 'tr-TR',  # Turkish (Turkey)\n",
    "    'th': 'th-TH',  # Thai (Thailand)\n",
    "    'vi': 'vi-VN',  # Vietnamese (Vietnam)\n",
    "    'ms': 'ms-MY',  # Malay (Malaysia)\n",
    "    'id': 'id-ID',  # Indonesian (Indonesia)\n",
    "    'he': 'he-IL',  # Hebrew (Israel)\n",
    "    'uk': 'uk-UA',  # Ukrainian (Ukraine)\n",
    "    'cs': 'cs-CZ',  # Czech (Czech Republic)\n",
    "    'hu': 'hu-HU',  # Hungarian (Hungary)\n",
    "    'ro': 'ro-RO',  # Romanian (Romania)\n",
    "    'bg': 'bg-BG',  # Bulgarian (Bulgaria)\n",
    "    'hr': 'hr-HR',  # Croatian (Croatia)\n",
    "    'sk': 'sk-SK',  # Slovak (Slovakia)\n",
    "    'sl': 'sl-SI',  # Slovenian (Slovenia)\n",
    "    'lt': 'lt-LT',  # Lithuanian (Lithuania)\n",
    "    'lv': 'lv-LV',  # Latvian (Latvia)\n",
    "    'et': 'et-EE',  # Estonian (Estonia)\n",
    "    'bn': 'bn-IN',  # Bengali (India)\n",
    "    'pa': 'pa-IN',  # Punjabi (India)\n",
    "    'gu': 'gu-IN',  # Gujarati (India)\n",
    "    'kn': 'kn-IN',  # Kannada (India)\n",
    "    'ml': 'ml-IN',  # Malayalam (India)\n",
    "    'mr': 'mr-IN',  # Marathi (India)\n",
    "    'or': 'or-IN',  # Oriya (India)\n",
    "    'te': 'te-IN',  # Telugu (India)\n",
    "    'ur': 'ur-PK',  # Urdu (Pakistan)\n",
    "    'fa': 'fa-IR',  # Persian (Iran)\n",
    "    'am': 'am-ET',  # Amharic (Ethiopia)\n",
    "    'sw': 'sw-KE',  # Swahili (Kenya)\n",
    "    'yo': 'yo-NG',  # Yoruba (Nigeria)\n",
    "    'zu': 'zu-ZA',  # Zulu (South Africa)\n",
    "    'xh': 'xh-ZA',  # Xhosa (South Africa)\n",
    "    'af': 'af-ZA',  # Afrikaans (South Africa)\n",
    "    'is': 'is-IS',  # Icelandic (Iceland)\n",
    "    'ga': 'ga-IE',  # Irish (Ireland)\n",
    "    'cy': 'cy-GB',  # Welsh (United Kingdom)\n",
    "    'hy': 'hy-AM',  # Armenian (Armenia)\n",
    "    'ka': 'ka-GE',  # Georgian (Georgia)\n",
    "    'az': 'az-AZ',  # Azerbaijani (Azerbaijan)\n",
    "    'kk': 'kk-KZ',  # Kazakh (Kazakhstan)\n",
    "    'uz': 'uz-UZ',  # Uzbek (Uzbekistan)\n",
    "    'mn': 'mn-MN',  # Mongolian (Mongolia)\n",
    "    'ky': 'ky-KG',  # Kyrgyz (Kyrgyzstan)\n",
    "    'tg': 'tg-TJ',  # Tajik (Tajikistan)\n",
    "    'ps': 'ps-AF',  # Pashto (Afghanistan)\n",
    "    'ne': 'ne-NP',  # Nepali (Nepal)\n",
    "    'si': 'si-LK',  # Sinhala (Sri Lanka)\n",
    "    'my': 'my-MM',  # Burmese (Myanmar)\n",
    "    'km': 'km-KH',  # Khmer (Cambodia)\n",
    "    'lo': 'lo-LA',  # Lao (Laos)\n",
    "    'jv': 'jv-ID',  # Javanese (Indonesia)\n",
    "    'su': 'su-ID',  # Sundanese (Indonesia)\n",
    "    'tl': 'tl-PH',  # Tagalog (Philippines)\n",
    "    'mg': 'mg-MG',  # Malagasy (Madagascar)\n",
    "    'ht': 'ht-HT',  # Haitian Creole (Haiti)\n",
    "    'qu': 'qu-PE',  # Quechua (Peru)\n",
    "    'lb': 'lb-LU',  # Luxembourgish (Luxembourg)\n",
    "    'mt': 'mt-MT',  # Maltese (Malta)\n",
    "    'sq': 'sq-AL',  # Albanian (Albania)\n",
    "    'bs': 'bs-BA',  # Bosnian (Bosnia and Herzegovina)\n",
    "    'mk': 'mk-MK',  # Macedonian (North Macedonia)\n",
    "    'sr': 'sr-RS',  # Serbian (Serbia)\n",
    "    'mo': 'mo-MD',  # Moldavian (Moldova)\n",
    "    'ca': 'ca-ES',  # Catalan (Spain)\n",
    "    'gl': 'gl-ES',  # Galician (Spain)\n",
    "    'eu': 'eu-ES',  # Basque (Spain)\n",
    "    'eo': 'eo-EO',  # Esperanto\n",
    "    'la': 'la-LA',  # Latin\n",
    "    'bo': 'bo-CN',  # Tibetan (China)\n",
    "    'dv': 'dv-MV',  # Dhivehi (Maldives)\n",
    "    'fo': 'fo-FO',  # Faroese (Faroe Islands)\n",
    "    'iu': 'iu-CA',  # Inuktitut (Canada)\n",
    "    'kl': 'kl-GL',  # Greenlandic (Greenland)\n",
    "    'sa': 'sa-IN',  # Sanskrit (India)\n",
    "    'gd': 'gd-GB',  # Scottish Gaelic (United Kingdom)\n",
    "    'tt': 'tt-RU',  # Tatar (Russia)\n",
    "    'ug': 'ug-CN',  # Uighur (China)\n",
    "    'yi': 'yi-YI',  # Yiddish\n",
    "    'wo': 'wo-SN',  # Wolof (Senegal)\n",
    "    'rw': 'rw-RW',  # Kinyarwanda (Rwanda)\n",
    "    'ak': 'ak-GH',  # Akan (Ghana)\n",
    "    'ig': 'ig-NG',  # Igbo (Nigeria)\n",
    "    'ts': 'ts-ZA',  # Tsonga (South Africa)\n",
    "    'ss': 'ss-SZ',  # Swati (Swaziland)\n",
    "    'tn': 'tn-BW',  # Tswana (Botswana)\n",
    "    'st': 'st-ZA',  # Southern Sotho (South Africa)\n",
    "    've': 've-ZA',  # Venda (South Africa)\n",
    "    'nr': 'nr-ZA',  # Southern Ndebele (South Africa)\n",
    "    'ng': 'ng-NA',  # Ndonga (Namibia)\n",
    "}\n"
   ]
  },
  {
   "cell_type": "code",
   "execution_count": 6,
   "id": "02e5b2c4-22e2-4491-b435-c5bd54a7b0fb",
   "metadata": {},
   "outputs": [],
   "source": [
    "def translate_text():\n",
    "    data = request.get_json()\n",
    "    text = data.get('text')\n",
    "    if not text:\n",
    "        return jsonify({'error': 'No text provided'}), 400\n",
    "\n",
    "    try:\n",
    "        # Detect the language\n",
    "        detected_language = detect(text)\n",
    "    except LangDetectException:\n",
    "        return jsonify({'error': 'Could not detect language'}), 400\n",
    "\n",
    "    # Map the detected language to MyMemoryTranslator supported code\n",
    "    source_language = LANGUAGE_CODE_MAP.get(detected_language, detected_language)\n",
    "    \n",
    "    if source_language not in LANGUAGE_CODE_MAP.values():\n",
    "        return jsonify({'error': f'Unsupported language: {detected_language}'}), 400\n",
    "\n",
    "    # Translate the text to English\n",
    "    translator = MyMemoryTranslator(source=source_language, target='en-GB')\n",
    "    translation = translator.translate(text)"
   ]
  },
  {
   "cell_type": "code",
   "execution_count": 7,
   "id": "8b873130-213c-485a-94ca-de2d39ff44ba",
   "metadata": {},
   "outputs": [
    {
     "data": {
      "text/plain": [
       "'Where are you'"
      ]
     },
     "execution_count": 7,
     "metadata": {},
     "output_type": "execute_result"
    }
   ],
   "source": [
    "text=\"எங்கே இருக்கிறீர்கள்\"\n",
    "detected_language = detect(text)\n",
    "source_language = LANGUAGE_CODE_MAP.get(detected_language, detected_language)\n",
    "translator = MyMemoryTranslator(source=source_language, target='en-GB')\n",
    "translation = translator.translate(text)\n",
    "translation"
   ]
  },
  {
   "cell_type": "code",
   "execution_count": 8,
   "id": "e387a834-45c1-4eef-9ccb-cc01536f82c5",
   "metadata": {},
   "outputs": [
    {
     "data": {
      "text/plain": [
       "\"Where are you. I couldn't even find you. Why are you afraid to call me back? Welcome. Today, the anniversary of the release of Robert Frost's iconic poem “Stopping by Woods on a Snowy Evening”, the Literary Hub Office sparked a long conversation about their favorite poems, the finest poems written in English, and which poems. We should all have read it already\""
      ]
     },
     "execution_count": 8,
     "metadata": {},
     "output_type": "execute_result"
    }
   ],
   "source": [
    "text=\"మీరు ఎక్కడ ఉన్నారు. నేను నిన్ను కూడా కనుగొనలేకపోయాను. నన్ను తిరిగి పిలవడానికి ఎందుకు భయపడుతున్నారు? നിനക്ക് സ്വാഗതം. ராபர்ட் ஃப்ரோஸ்டின் சின்னமான கவிதையான “Stopping by Woods on a Snowy Evening” வெளியானதன் ஆண்டு நினைவு தினம் இன்று, லிட்டரரி ஹப் அலுவலகம் தங்களுக்குப் பிடித்த கவிதைகள், ஆங்கிலத்தில் எழுதப்பட்ட மிகச்சிறப்பான கவிதைகள் மற்றும் எந்தக் கவிதைகள் பற்றிய நீண்ட உரையாடலைத் தூண்டியது. நாம் அனைவரும் ஏற்கனவே படித்திருக்க வேண்டும்\"\n",
    "translation2 = translator.translate(text)\n",
    "translation2\n",
    "#detected_language = detect(text)\n",
    "#detected_language"
   ]
  }
 ],
 "metadata": {
  "kernelspec": {
   "display_name": "Python 3 (ipykernel)",
   "language": "python",
   "name": "python3"
  },
  "language_info": {
   "codemirror_mode": {
    "name": "ipython",
    "version": 3
   },
   "file_extension": ".py",
   "mimetype": "text/x-python",
   "name": "python",
   "nbconvert_exporter": "python",
   "pygments_lexer": "ipython3",
   "version": "3.12.0"
  }
 },
 "nbformat": 4,
 "nbformat_minor": 5
}
