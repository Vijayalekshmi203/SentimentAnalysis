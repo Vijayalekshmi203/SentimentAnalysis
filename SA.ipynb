{
 "cells": [
  {
   "cell_type": "code",
   "execution_count": 1,
   "id": "9d9cf16e",
   "metadata": {},
   "outputs": [],
   "source": [
    "import pandas as pd\n",
    "import numpy as np\n",
    "import matplotlib.pyplot as plt # type: ignore"
   ]
  },
  {
   "cell_type": "code",
   "execution_count": 2,
   "id": "0bd33a2b",
   "metadata": {},
   "outputs": [],
   "source": [
    "import warnings\n",
    "warnings.filterwarnings('ignore')"
   ]
  },
  {
   "cell_type": "code",
   "execution_count": 3,
   "id": "c2fcd236",
   "metadata": {},
   "outputs": [
    {
     "data": {
      "text/html": [
       "<div>\n",
       "<style scoped>\n",
       "    .dataframe tbody tr th:only-of-type {\n",
       "        vertical-align: middle;\n",
       "    }\n",
       "\n",
       "    .dataframe tbody tr th {\n",
       "        vertical-align: top;\n",
       "    }\n",
       "\n",
       "    .dataframe thead th {\n",
       "        text-align: right;\n",
       "    }\n",
       "</style>\n",
       "<table border=\"1\" class=\"dataframe\">\n",
       "  <thead>\n",
       "    <tr style=\"text-align: right;\">\n",
       "      <th></th>\n",
       "      <th>Id</th>\n",
       "      <th>ProductId</th>\n",
       "      <th>UserId</th>\n",
       "      <th>ProfileName</th>\n",
       "      <th>HelpfulnessNumerator</th>\n",
       "      <th>HelpfulnessDenominator</th>\n",
       "      <th>Score</th>\n",
       "      <th>Time</th>\n",
       "      <th>Summary</th>\n",
       "      <th>Text</th>\n",
       "    </tr>\n",
       "  </thead>\n",
       "  <tbody>\n",
       "    <tr>\n",
       "      <th>0</th>\n",
       "      <td>1</td>\n",
       "      <td>B001E4KFG0</td>\n",
       "      <td>A3SGXH7AUHU8GW</td>\n",
       "      <td>delmartian</td>\n",
       "      <td>1</td>\n",
       "      <td>1</td>\n",
       "      <td>5</td>\n",
       "      <td>1303862400</td>\n",
       "      <td>Good Quality Dog Food</td>\n",
       "      <td>I have bought several of the Vitality canned d...</td>\n",
       "    </tr>\n",
       "    <tr>\n",
       "      <th>1</th>\n",
       "      <td>2</td>\n",
       "      <td>B00813GRG4</td>\n",
       "      <td>A1D87F6ZCVE5NK</td>\n",
       "      <td>dll pa</td>\n",
       "      <td>0</td>\n",
       "      <td>0</td>\n",
       "      <td>1</td>\n",
       "      <td>1346976000</td>\n",
       "      <td>Not as Advertised</td>\n",
       "      <td>Product arrived labeled as Jumbo Salted Peanut...</td>\n",
       "    </tr>\n",
       "    <tr>\n",
       "      <th>2</th>\n",
       "      <td>3</td>\n",
       "      <td>B000LQOCH0</td>\n",
       "      <td>ABXLMWJIXXAIN</td>\n",
       "      <td>Natalia Corres \"Natalia Corres\"</td>\n",
       "      <td>1</td>\n",
       "      <td>1</td>\n",
       "      <td>4</td>\n",
       "      <td>1219017600</td>\n",
       "      <td>\"Delight\" says it all</td>\n",
       "      <td>This is a confection that has been around a fe...</td>\n",
       "    </tr>\n",
       "    <tr>\n",
       "      <th>3</th>\n",
       "      <td>4</td>\n",
       "      <td>B000UA0QIQ</td>\n",
       "      <td>A395BORC6FGVXV</td>\n",
       "      <td>Karl</td>\n",
       "      <td>3</td>\n",
       "      <td>3</td>\n",
       "      <td>2</td>\n",
       "      <td>1307923200</td>\n",
       "      <td>Cough Medicine</td>\n",
       "      <td>If you are looking for the secret ingredient i...</td>\n",
       "    </tr>\n",
       "    <tr>\n",
       "      <th>4</th>\n",
       "      <td>5</td>\n",
       "      <td>B006K2ZZ7K</td>\n",
       "      <td>A1UQRSCLF8GW1T</td>\n",
       "      <td>Michael D. Bigham \"M. Wassir\"</td>\n",
       "      <td>0</td>\n",
       "      <td>0</td>\n",
       "      <td>5</td>\n",
       "      <td>1350777600</td>\n",
       "      <td>Great taffy</td>\n",
       "      <td>Great taffy at a great price.  There was a wid...</td>\n",
       "    </tr>\n",
       "    <tr>\n",
       "      <th>...</th>\n",
       "      <td>...</td>\n",
       "      <td>...</td>\n",
       "      <td>...</td>\n",
       "      <td>...</td>\n",
       "      <td>...</td>\n",
       "      <td>...</td>\n",
       "      <td>...</td>\n",
       "      <td>...</td>\n",
       "      <td>...</td>\n",
       "      <td>...</td>\n",
       "    </tr>\n",
       "    <tr>\n",
       "      <th>994</th>\n",
       "      <td>995</td>\n",
       "      <td>B006F2NYI2</td>\n",
       "      <td>A1T5CH6SHV989P</td>\n",
       "      <td>a biemold</td>\n",
       "      <td>2</td>\n",
       "      <td>2</td>\n",
       "      <td>5</td>\n",
       "      <td>1323734400</td>\n",
       "      <td>best hot sauce around</td>\n",
       "      <td>absolutely love the habenaro sauce...use it on...</td>\n",
       "    </tr>\n",
       "    <tr>\n",
       "      <th>995</th>\n",
       "      <td>996</td>\n",
       "      <td>B006F2NYI2</td>\n",
       "      <td>A1D3F6UI1RTXO0</td>\n",
       "      <td>Swopes</td>\n",
       "      <td>1</td>\n",
       "      <td>1</td>\n",
       "      <td>5</td>\n",
       "      <td>1331856000</td>\n",
       "      <td>Hot &amp; Flavorful</td>\n",
       "      <td>BLACK MARKET HOT SAUCE IS WONDERFUL.... My hus...</td>\n",
       "    </tr>\n",
       "    <tr>\n",
       "      <th>996</th>\n",
       "      <td>997</td>\n",
       "      <td>B006F2NYI2</td>\n",
       "      <td>AF50D40Y85TV3</td>\n",
       "      <td>Mike A.</td>\n",
       "      <td>1</td>\n",
       "      <td>1</td>\n",
       "      <td>5</td>\n",
       "      <td>1328140800</td>\n",
       "      <td>Great Hot Sauce and people who run it!</td>\n",
       "      <td>Man what can i say, this salsa is the bomb!! i...</td>\n",
       "    </tr>\n",
       "    <tr>\n",
       "      <th>997</th>\n",
       "      <td>998</td>\n",
       "      <td>B006F2NYI2</td>\n",
       "      <td>A3G313KLWDG3PW</td>\n",
       "      <td>kefka82</td>\n",
       "      <td>1</td>\n",
       "      <td>1</td>\n",
       "      <td>5</td>\n",
       "      <td>1324252800</td>\n",
       "      <td>this sauce is the shiznit</td>\n",
       "      <td>this sauce is so good with just about anything...</td>\n",
       "    </tr>\n",
       "    <tr>\n",
       "      <th>998</th>\n",
       "      <td>999</td>\n",
       "      <td>B006F2NYI2</td>\n",
       "      <td>A3NIDDT7E7JIFW</td>\n",
       "      <td>V. B. Brookshaw</td>\n",
       "      <td>1</td>\n",
       "      <td>2</td>\n",
       "      <td>1</td>\n",
       "      <td>1336089600</td>\n",
       "      <td>Not Hot</td>\n",
       "      <td>Not hot at all. Like the other low star review...</td>\n",
       "    </tr>\n",
       "  </tbody>\n",
       "</table>\n",
       "<p>999 rows × 10 columns</p>\n",
       "</div>"
      ],
      "text/plain": [
       "      Id   ProductId          UserId                      ProfileName  \\\n",
       "0      1  B001E4KFG0  A3SGXH7AUHU8GW                       delmartian   \n",
       "1      2  B00813GRG4  A1D87F6ZCVE5NK                           dll pa   \n",
       "2      3  B000LQOCH0   ABXLMWJIXXAIN  Natalia Corres \"Natalia Corres\"   \n",
       "3      4  B000UA0QIQ  A395BORC6FGVXV                             Karl   \n",
       "4      5  B006K2ZZ7K  A1UQRSCLF8GW1T    Michael D. Bigham \"M. Wassir\"   \n",
       "..   ...         ...             ...                              ...   \n",
       "994  995  B006F2NYI2  A1T5CH6SHV989P                        a biemold   \n",
       "995  996  B006F2NYI2  A1D3F6UI1RTXO0                           Swopes   \n",
       "996  997  B006F2NYI2   AF50D40Y85TV3                          Mike A.   \n",
       "997  998  B006F2NYI2  A3G313KLWDG3PW                          kefka82   \n",
       "998  999  B006F2NYI2  A3NIDDT7E7JIFW                  V. B. Brookshaw   \n",
       "\n",
       "     HelpfulnessNumerator  HelpfulnessDenominator  Score        Time  \\\n",
       "0                       1                       1      5  1303862400   \n",
       "1                       0                       0      1  1346976000   \n",
       "2                       1                       1      4  1219017600   \n",
       "3                       3                       3      2  1307923200   \n",
       "4                       0                       0      5  1350777600   \n",
       "..                    ...                     ...    ...         ...   \n",
       "994                     2                       2      5  1323734400   \n",
       "995                     1                       1      5  1331856000   \n",
       "996                     1                       1      5  1328140800   \n",
       "997                     1                       1      5  1324252800   \n",
       "998                     1                       2      1  1336089600   \n",
       "\n",
       "                                    Summary  \\\n",
       "0                     Good Quality Dog Food   \n",
       "1                         Not as Advertised   \n",
       "2                     \"Delight\" says it all   \n",
       "3                            Cough Medicine   \n",
       "4                               Great taffy   \n",
       "..                                      ...   \n",
       "994                   best hot sauce around   \n",
       "995                         Hot & Flavorful   \n",
       "996  Great Hot Sauce and people who run it!   \n",
       "997               this sauce is the shiznit   \n",
       "998                                 Not Hot   \n",
       "\n",
       "                                                  Text  \n",
       "0    I have bought several of the Vitality canned d...  \n",
       "1    Product arrived labeled as Jumbo Salted Peanut...  \n",
       "2    This is a confection that has been around a fe...  \n",
       "3    If you are looking for the secret ingredient i...  \n",
       "4    Great taffy at a great price.  There was a wid...  \n",
       "..                                                 ...  \n",
       "994  absolutely love the habenaro sauce...use it on...  \n",
       "995  BLACK MARKET HOT SAUCE IS WONDERFUL.... My hus...  \n",
       "996  Man what can i say, this salsa is the bomb!! i...  \n",
       "997  this sauce is so good with just about anything...  \n",
       "998  Not hot at all. Like the other low star review...  \n",
       "\n",
       "[999 rows x 10 columns]"
      ]
     },
     "execution_count": 3,
     "metadata": {},
     "output_type": "execute_result"
    }
   ],
   "source": [
    "whole_data = pd.read_csv(r'Data\\Book1.csv')\n",
    "whole_data"
   ]
  },
  {
   "cell_type": "code",
   "execution_count": 4,
   "id": "a1507438",
   "metadata": {},
   "outputs": [
    {
     "data": {
      "text/html": [
       "<div>\n",
       "<style scoped>\n",
       "    .dataframe tbody tr th:only-of-type {\n",
       "        vertical-align: middle;\n",
       "    }\n",
       "\n",
       "    .dataframe tbody tr th {\n",
       "        vertical-align: top;\n",
       "    }\n",
       "\n",
       "    .dataframe thead th {\n",
       "        text-align: right;\n",
       "    }\n",
       "</style>\n",
       "<table border=\"1\" class=\"dataframe\">\n",
       "  <thead>\n",
       "    <tr style=\"text-align: right;\">\n",
       "      <th></th>\n",
       "      <th>Score</th>\n",
       "      <th>Text</th>\n",
       "    </tr>\n",
       "  </thead>\n",
       "  <tbody>\n",
       "    <tr>\n",
       "      <th>0</th>\n",
       "      <td>5</td>\n",
       "      <td>I have bought several of the Vitality canned d...</td>\n",
       "    </tr>\n",
       "    <tr>\n",
       "      <th>1</th>\n",
       "      <td>1</td>\n",
       "      <td>Product arrived labeled as Jumbo Salted Peanut...</td>\n",
       "    </tr>\n",
       "    <tr>\n",
       "      <th>2</th>\n",
       "      <td>4</td>\n",
       "      <td>This is a confection that has been around a fe...</td>\n",
       "    </tr>\n",
       "    <tr>\n",
       "      <th>3</th>\n",
       "      <td>2</td>\n",
       "      <td>If you are looking for the secret ingredient i...</td>\n",
       "    </tr>\n",
       "    <tr>\n",
       "      <th>4</th>\n",
       "      <td>5</td>\n",
       "      <td>Great taffy at a great price.  There was a wid...</td>\n",
       "    </tr>\n",
       "    <tr>\n",
       "      <th>...</th>\n",
       "      <td>...</td>\n",
       "      <td>...</td>\n",
       "    </tr>\n",
       "    <tr>\n",
       "      <th>994</th>\n",
       "      <td>5</td>\n",
       "      <td>absolutely love the habenaro sauce...use it on...</td>\n",
       "    </tr>\n",
       "    <tr>\n",
       "      <th>995</th>\n",
       "      <td>5</td>\n",
       "      <td>BLACK MARKET HOT SAUCE IS WONDERFUL.... My hus...</td>\n",
       "    </tr>\n",
       "    <tr>\n",
       "      <th>996</th>\n",
       "      <td>5</td>\n",
       "      <td>Man what can i say, this salsa is the bomb!! i...</td>\n",
       "    </tr>\n",
       "    <tr>\n",
       "      <th>997</th>\n",
       "      <td>5</td>\n",
       "      <td>this sauce is so good with just about anything...</td>\n",
       "    </tr>\n",
       "    <tr>\n",
       "      <th>998</th>\n",
       "      <td>1</td>\n",
       "      <td>Not hot at all. Like the other low star review...</td>\n",
       "    </tr>\n",
       "  </tbody>\n",
       "</table>\n",
       "<p>999 rows × 2 columns</p>\n",
       "</div>"
      ],
      "text/plain": [
       "     Score                                               Text\n",
       "0        5  I have bought several of the Vitality canned d...\n",
       "1        1  Product arrived labeled as Jumbo Salted Peanut...\n",
       "2        4  This is a confection that has been around a fe...\n",
       "3        2  If you are looking for the secret ingredient i...\n",
       "4        5  Great taffy at a great price.  There was a wid...\n",
       "..     ...                                                ...\n",
       "994      5  absolutely love the habenaro sauce...use it on...\n",
       "995      5  BLACK MARKET HOT SAUCE IS WONDERFUL.... My hus...\n",
       "996      5  Man what can i say, this salsa is the bomb!! i...\n",
       "997      5  this sauce is so good with just about anything...\n",
       "998      1  Not hot at all. Like the other low star review...\n",
       "\n",
       "[999 rows x 2 columns]"
      ]
     },
     "execution_count": 4,
     "metadata": {},
     "output_type": "execute_result"
    }
   ],
   "source": [
    "data=whole_data[['Score','Text']]\n",
    "data"
   ]
  },
  {
   "cell_type": "code",
   "execution_count": 5,
   "id": "249e307a",
   "metadata": {},
   "outputs": [
    {
     "data": {
      "text/plain": [
       "Score    0\n",
       "Text     0\n",
       "dtype: int64"
      ]
     },
     "execution_count": 5,
     "metadata": {},
     "output_type": "execute_result"
    }
   ],
   "source": [
    "data.isnull().sum()"
   ]
  },
  {
   "cell_type": "code",
   "execution_count": 6,
   "id": "329c5b78",
   "metadata": {},
   "outputs": [
    {
     "data": {
      "text/plain": [
       "<Axes: xlabel='Score'>"
      ]
     },
     "execution_count": 6,
     "metadata": {},
     "output_type": "execute_result"
    },
    {
     "data": {
      "image/png": "[encoded data removed]",
      "text/plain": [
       "<Figure size 640x480 with 1 Axes>"
      ]
     },
     "metadata": {},
     "output_type": "display_data"
    }
   ],
   "source": [
    "data['Score'].value_counts().plot.bar()"
   ]
  },
  {
   "cell_type": "code",
   "execution_count": 7,
   "id": "0f745954",
   "metadata": {},
   "outputs": [
    {
     "data": {
      "text/html": [
       "<div>\n",
       "<style scoped>\n",
       "    .dataframe tbody tr th:only-of-type {\n",
       "        vertical-align: middle;\n",
       "    }\n",
       "\n",
       "    .dataframe tbody tr th {\n",
       "        vertical-align: top;\n",
       "    }\n",
       "\n",
       "    .dataframe thead th {\n",
       "        text-align: right;\n",
       "    }\n",
       "</style>\n",
       "<table border=\"1\" class=\"dataframe\">\n",
       "  <thead>\n",
       "    <tr style=\"text-align: right;\">\n",
       "      <th></th>\n",
       "      <th>Score</th>\n",
       "      <th>Text</th>\n",
       "      <th>Char_count</th>\n",
       "    </tr>\n",
       "  </thead>\n",
       "  <tbody>\n",
       "    <tr>\n",
       "      <th>0</th>\n",
       "      <td>5</td>\n",
       "      <td>I have bought several of the Vitality canned d...</td>\n",
       "      <td>263</td>\n",
       "    </tr>\n",
       "    <tr>\n",
       "      <th>1</th>\n",
       "      <td>1</td>\n",
       "      <td>Product arrived labeled as Jumbo Salted Peanut...</td>\n",
       "      <td>190</td>\n",
       "    </tr>\n",
       "    <tr>\n",
       "      <th>2</th>\n",
       "      <td>4</td>\n",
       "      <td>This is a confection that has been around a fe...</td>\n",
       "      <td>509</td>\n",
       "    </tr>\n",
       "    <tr>\n",
       "      <th>3</th>\n",
       "      <td>2</td>\n",
       "      <td>If you are looking for the secret ingredient i...</td>\n",
       "      <td>219</td>\n",
       "    </tr>\n",
       "    <tr>\n",
       "      <th>4</th>\n",
       "      <td>5</td>\n",
       "      <td>Great taffy at a great price.  There was a wid...</td>\n",
       "      <td>140</td>\n",
       "    </tr>\n",
       "    <tr>\n",
       "      <th>...</th>\n",
       "      <td>...</td>\n",
       "      <td>...</td>\n",
       "      <td>...</td>\n",
       "    </tr>\n",
       "    <tr>\n",
       "      <th>994</th>\n",
       "      <td>5</td>\n",
       "      <td>absolutely love the habenaro sauce...use it on...</td>\n",
       "      <td>256</td>\n",
       "    </tr>\n",
       "    <tr>\n",
       "      <th>995</th>\n",
       "      <td>5</td>\n",
       "      <td>BLACK MARKET HOT SAUCE IS WONDERFUL.... My hus...</td>\n",
       "      <td>477</td>\n",
       "    </tr>\n",
       "    <tr>\n",
       "      <th>996</th>\n",
       "      <td>5</td>\n",
       "      <td>Man what can i say, this salsa is the bomb!! i...</td>\n",
       "      <td>305</td>\n",
       "    </tr>\n",
       "    <tr>\n",
       "      <th>997</th>\n",
       "      <td>5</td>\n",
       "      <td>this sauce is so good with just about anything...</td>\n",
       "      <td>265</td>\n",
       "    </tr>\n",
       "    <tr>\n",
       "      <th>998</th>\n",
       "      <td>1</td>\n",
       "      <td>Not hot at all. Like the other low star review...</td>\n",
       "      <td>280</td>\n",
       "    </tr>\n",
       "  </tbody>\n",
       "</table>\n",
       "<p>999 rows × 3 columns</p>\n",
       "</div>"
      ],
      "text/plain": [
       "     Score                                               Text  Char_count\n",
       "0        5  I have bought several of the Vitality canned d...         263\n",
       "1        1  Product arrived labeled as Jumbo Salted Peanut...         190\n",
       "2        4  This is a confection that has been around a fe...         509\n",
       "3        2  If you are looking for the secret ingredient i...         219\n",
       "4        5  Great taffy at a great price.  There was a wid...         140\n",
       "..     ...                                                ...         ...\n",
       "994      5  absolutely love the habenaro sauce...use it on...         256\n",
       "995      5  BLACK MARKET HOT SAUCE IS WONDERFUL.... My hus...         477\n",
       "996      5  Man what can i say, this salsa is the bomb!! i...         305\n",
       "997      5  this sauce is so good with just about anything...         265\n",
       "998      1  Not hot at all. Like the other low star review...         280\n",
       "\n",
       "[999 rows x 3 columns]"
      ]
     },
     "execution_count": 7,
     "metadata": {},
     "output_type": "execute_result"
    }
   ],
   "source": [
    "#Finding the character count\n",
    "data['Char_count']= data['Text'].apply(len)\n",
    "data"
   ]
  },
  {
   "cell_type": "code",
   "execution_count": 8,
   "id": "3cfb912c",
   "metadata": {},
   "outputs": [
    {
     "data": {
      "text/html": [
       "<div>\n",
       "<style scoped>\n",
       "    .dataframe tbody tr th:only-of-type {\n",
       "        vertical-align: middle;\n",
       "    }\n",
       "\n",
       "    .dataframe tbody tr th {\n",
       "        vertical-align: top;\n",
       "    }\n",
       "\n",
       "    .dataframe thead th {\n",
       "        text-align: right;\n",
       "    }\n",
       "</style>\n",
       "<table border=\"1\" class=\"dataframe\">\n",
       "  <thead>\n",
       "    <tr style=\"text-align: right;\">\n",
       "      <th></th>\n",
       "      <th>Score</th>\n",
       "      <th>Text</th>\n",
       "      <th>Char_count</th>\n",
       "      <th>Word_Count</th>\n",
       "    </tr>\n",
       "  </thead>\n",
       "  <tbody>\n",
       "    <tr>\n",
       "      <th>0</th>\n",
       "      <td>5</td>\n",
       "      <td>I have bought several of the Vitality canned d...</td>\n",
       "      <td>263</td>\n",
       "      <td>48</td>\n",
       "    </tr>\n",
       "    <tr>\n",
       "      <th>1</th>\n",
       "      <td>1</td>\n",
       "      <td>Product arrived labeled as Jumbo Salted Peanut...</td>\n",
       "      <td>190</td>\n",
       "      <td>31</td>\n",
       "    </tr>\n",
       "    <tr>\n",
       "      <th>2</th>\n",
       "      <td>4</td>\n",
       "      <td>This is a confection that has been around a fe...</td>\n",
       "      <td>509</td>\n",
       "      <td>94</td>\n",
       "    </tr>\n",
       "    <tr>\n",
       "      <th>3</th>\n",
       "      <td>2</td>\n",
       "      <td>If you are looking for the secret ingredient i...</td>\n",
       "      <td>219</td>\n",
       "      <td>41</td>\n",
       "    </tr>\n",
       "    <tr>\n",
       "      <th>4</th>\n",
       "      <td>5</td>\n",
       "      <td>Great taffy at a great price.  There was a wid...</td>\n",
       "      <td>140</td>\n",
       "      <td>27</td>\n",
       "    </tr>\n",
       "    <tr>\n",
       "      <th>...</th>\n",
       "      <td>...</td>\n",
       "      <td>...</td>\n",
       "      <td>...</td>\n",
       "      <td>...</td>\n",
       "    </tr>\n",
       "    <tr>\n",
       "      <th>994</th>\n",
       "      <td>5</td>\n",
       "      <td>absolutely love the habenaro sauce...use it on...</td>\n",
       "      <td>256</td>\n",
       "      <td>40</td>\n",
       "    </tr>\n",
       "    <tr>\n",
       "      <th>995</th>\n",
       "      <td>5</td>\n",
       "      <td>BLACK MARKET HOT SAUCE IS WONDERFUL.... My hus...</td>\n",
       "      <td>477</td>\n",
       "      <td>94</td>\n",
       "    </tr>\n",
       "    <tr>\n",
       "      <th>996</th>\n",
       "      <td>5</td>\n",
       "      <td>Man what can i say, this salsa is the bomb!! i...</td>\n",
       "      <td>305</td>\n",
       "      <td>62</td>\n",
       "    </tr>\n",
       "    <tr>\n",
       "      <th>997</th>\n",
       "      <td>5</td>\n",
       "      <td>this sauce is so good with just about anything...</td>\n",
       "      <td>265</td>\n",
       "      <td>53</td>\n",
       "    </tr>\n",
       "    <tr>\n",
       "      <th>998</th>\n",
       "      <td>1</td>\n",
       "      <td>Not hot at all. Like the other low star review...</td>\n",
       "      <td>280</td>\n",
       "      <td>54</td>\n",
       "    </tr>\n",
       "  </tbody>\n",
       "</table>\n",
       "<p>999 rows × 4 columns</p>\n",
       "</div>"
      ],
      "text/plain": [
       "     Score                                               Text  Char_count  \\\n",
       "0        5  I have bought several of the Vitality canned d...         263   \n",
       "1        1  Product arrived labeled as Jumbo Salted Peanut...         190   \n",
       "2        4  This is a confection that has been around a fe...         509   \n",
       "3        2  If you are looking for the secret ingredient i...         219   \n",
       "4        5  Great taffy at a great price.  There was a wid...         140   \n",
       "..     ...                                                ...         ...   \n",
       "994      5  absolutely love the habenaro sauce...use it on...         256   \n",
       "995      5  BLACK MARKET HOT SAUCE IS WONDERFUL.... My hus...         477   \n",
       "996      5  Man what can i say, this salsa is the bomb!! i...         305   \n",
       "997      5  this sauce is so good with just about anything...         265   \n",
       "998      1  Not hot at all. Like the other low star review...         280   \n",
       "\n",
       "     Word_Count  \n",
       "0            48  \n",
       "1            31  \n",
       "2            94  \n",
       "3            41  \n",
       "4            27  \n",
       "..          ...  \n",
       "994          40  \n",
       "995          94  \n",
       "996          62  \n",
       "997          53  \n",
       "998          54  \n",
       "\n",
       "[999 rows x 4 columns]"
      ]
     },
     "execution_count": 8,
     "metadata": {},
     "output_type": "execute_result"
    }
   ],
   "source": [
    "#Finding the word count\n",
    "data['Word_Count']=data['Text'].apply(lambda x: len(str(x).split()))\n",
    "data"
   ]
  },
  {
   "cell_type": "markdown",
   "id": "466fcfaf",
   "metadata": {},
   "source": [
    "Stop Words are common words that are usually filtered out in NLP, because they don't carry significant meaning\n",
    "example: is, the ..."
   ]
  },
  {
   "cell_type": "code",
   "execution_count": 9,
   "id": "d9afbc63",
   "metadata": {},
   "outputs": [
    {
     "name": "stderr",
     "output_type": "stream",
     "text": [
      "[nltk_data] Downloading package stopwords to\n",
      "[nltk_data]     C:\\Users\\vijayalekshmi\\AppData\\Roaming\\nltk_data...\n",
      "[nltk_data]   Package stopwords is already up-to-date!\n"
     ]
    },
    {
     "data": {
      "text/plain": [
       "True"
      ]
     },
     "execution_count": 9,
     "metadata": {},
     "output_type": "execute_result"
    }
   ],
   "source": [
    "#Stopwords\n",
    "import nltk\n",
    "from nltk.corpus import stopwords\n",
    "nltk.download('stopwords')"
   ]
  },
  {
   "cell_type": "code",
   "execution_count": 10,
   "id": "92f2ab56",
   "metadata": {},
   "outputs": [
    {
     "data": {
      "text/plain": [
       "{'a',\n",
       " 'about',\n",
       " 'above',\n",
       " 'after',\n",
       " 'again',\n",
       " 'against',\n",
       " 'ain',\n",
       " 'all',\n",
       " 'am',\n",
       " 'an',\n",
       " 'and',\n",
       " 'any',\n",
       " 'are',\n",
       " 'aren',\n",
       " \"aren't\",\n",
       " 'as',\n",
       " 'at',\n",
       " 'be',\n",
       " 'because',\n",
       " 'been',\n",
       " 'before',\n",
       " 'being',\n",
       " 'below',\n",
       " 'between',\n",
       " 'both',\n",
       " 'but',\n",
       " 'by',\n",
       " 'can',\n",
       " 'couldn',\n",
       " \"couldn't\",\n",
       " 'd',\n",
       " 'did',\n",
       " 'didn',\n",
       " \"didn't\",\n",
       " 'do',\n",
       " 'does',\n",
       " 'doesn',\n",
       " \"doesn't\",\n",
       " 'doing',\n",
       " 'don',\n",
       " \"don't\",\n",
       " 'down',\n",
       " 'during',\n",
       " 'each',\n",
       " 'few',\n",
       " 'for',\n",
       " 'from',\n",
       " 'further',\n",
       " 'had',\n",
       " 'hadn',\n",
       " \"hadn't\",\n",
       " 'has',\n",
       " 'hasn',\n",
       " \"hasn't\",\n",
       " 'have',\n",
       " 'haven',\n",
       " \"haven't\",\n",
       " 'having',\n",
       " 'he',\n",
       " 'her',\n",
       " 'here',\n",
       " 'hers',\n",
       " 'herself',\n",
       " 'him',\n",
       " 'himself',\n",
       " 'his',\n",
       " 'how',\n",
       " 'i',\n",
       " 'if',\n",
       " 'in',\n",
       " 'into',\n",
       " 'is',\n",
       " 'isn',\n",
       " \"isn't\",\n",
       " 'it',\n",
       " \"it's\",\n",
       " 'its',\n",
       " 'itself',\n",
       " 'just',\n",
       " 'll',\n",
       " 'm',\n",
       " 'ma',\n",
       " 'me',\n",
       " 'mightn',\n",
       " \"mightn't\",\n",
       " 'more',\n",
       " 'most',\n",
       " 'mustn',\n",
       " \"mustn't\",\n",
       " 'my',\n",
       " 'myself',\n",
       " 'needn',\n",
       " \"needn't\",\n",
       " 'no',\n",
       " 'nor',\n",
       " 'not',\n",
       " 'now',\n",
       " 'o',\n",
       " 'of',\n",
       " 'off',\n",
       " 'on',\n",
       " 'once',\n",
       " 'only',\n",
       " 'or',\n",
       " 'other',\n",
       " 'our',\n",
       " 'ours',\n",
       " 'ourselves',\n",
       " 'out',\n",
       " 'over',\n",
       " 'own',\n",
       " 're',\n",
       " 's',\n",
       " 'same',\n",
       " 'shan',\n",
       " \"shan't\",\n",
       " 'she',\n",
       " \"she's\",\n",
       " 'should',\n",
       " \"should've\",\n",
       " 'shouldn',\n",
       " \"shouldn't\",\n",
       " 'so',\n",
       " 'some',\n",
       " 'such',\n",
       " 't',\n",
       " 'than',\n",
       " 'that',\n",
       " \"that'll\",\n",
       " 'the',\n",
       " 'their',\n",
       " 'theirs',\n",
       " 'them',\n",
       " 'themselves',\n",
       " 'then',\n",
       " 'there',\n",
       " 'these',\n",
       " 'they',\n",
       " 'this',\n",
       " 'those',\n",
       " 'through',\n",
       " 'to',\n",
       " 'too',\n",
       " 'under',\n",
       " 'until',\n",
       " 'up',\n",
       " 've',\n",
       " 'very',\n",
       " 'was',\n",
       " 'wasn',\n",
       " \"wasn't\",\n",
       " 'we',\n",
       " 'were',\n",
       " 'weren',\n",
       " \"weren't\",\n",
       " 'what',\n",
       " 'when',\n",
       " 'where',\n",
       " 'which',\n",
       " 'while',\n",
       " 'who',\n",
       " 'whom',\n",
       " 'why',\n",
       " 'will',\n",
       " 'with',\n",
       " 'won',\n",
       " \"won't\",\n",
       " 'wouldn',\n",
       " \"wouldn't\",\n",
       " 'y',\n",
       " 'you',\n",
       " \"you'd\",\n",
       " \"you'll\",\n",
       " \"you're\",\n",
       " \"you've\",\n",
       " 'your',\n",
       " 'yours',\n",
       " 'yourself',\n",
       " 'yourselves'}"
      ]
     },
     "execution_count": 10,
     "metadata": {},
     "output_type": "execute_result"
    }
   ],
   "source": [
    "from nltk.corpus import stopwords\n",
    "stop_words = set(stopwords.words('english'))\n",
    "stop_words"
   ]
  },
  {
   "cell_type": "code",
   "execution_count": 11,
   "id": "9aec05f3",
   "metadata": {},
   "outputs": [
    {
     "data": {
      "text/plain": [
       "{'a',\n",
       " 'about',\n",
       " 'above',\n",
       " 'after',\n",
       " 'again',\n",
       " 'against',\n",
       " 'ain',\n",
       " 'all',\n",
       " 'am',\n",
       " 'an',\n",
       " 'and',\n",
       " 'any',\n",
       " 'are',\n",
       " 'aren',\n",
       " \"aren't\",\n",
       " 'as',\n",
       " 'at',\n",
       " 'be',\n",
       " 'because',\n",
       " 'been',\n",
       " 'before',\n",
       " 'being',\n",
       " 'below',\n",
       " 'between',\n",
       " 'both',\n",
       " 'br',\n",
       " 'but',\n",
       " 'by',\n",
       " 'can',\n",
       " 'couldn',\n",
       " \"couldn't\",\n",
       " 'd',\n",
       " 'did',\n",
       " 'didn',\n",
       " \"didn't\",\n",
       " 'do',\n",
       " 'does',\n",
       " 'doesn',\n",
       " \"doesn't\",\n",
       " 'doing',\n",
       " 'don',\n",
       " \"don't\",\n",
       " 'down',\n",
       " 'during',\n",
       " 'each',\n",
       " 'few',\n",
       " 'for',\n",
       " 'from',\n",
       " 'further',\n",
       " 'had',\n",
       " 'hadn',\n",
       " \"hadn't\",\n",
       " 'has',\n",
       " 'hasn',\n",
       " \"hasn't\",\n",
       " 'have',\n",
       " 'haven',\n",
       " \"haven't\",\n",
       " 'having',\n",
       " 'he',\n",
       " 'her',\n",
       " 'here',\n",
       " 'hers',\n",
       " 'herself',\n",
       " 'him',\n",
       " 'himself',\n",
       " 'his',\n",
       " 'how',\n",
       " 'i',\n",
       " 'if',\n",
       " 'in',\n",
       " 'into',\n",
       " 'is',\n",
       " 'isn',\n",
       " \"isn't\",\n",
       " 'it',\n",
       " \"it's\",\n",
       " 'its',\n",
       " 'itself',\n",
       " 'just',\n",
       " 'll',\n",
       " 'm',\n",
       " 'ma',\n",
       " 'me',\n",
       " 'mightn',\n",
       " \"mightn't\",\n",
       " 'more',\n",
       " 'most',\n",
       " 'mustn',\n",
       " \"mustn't\",\n",
       " 'my',\n",
       " 'myself',\n",
       " 'needn',\n",
       " \"needn't\",\n",
       " 'no',\n",
       " 'nor',\n",
       " 'not',\n",
       " 'now',\n",
       " 'o',\n",
       " 'of',\n",
       " 'off',\n",
       " 'on',\n",
       " 'once',\n",
       " 'only',\n",
       " 'or',\n",
       " 'other',\n",
       " 'our',\n",
       " 'ours',\n",
       " 'ourselves',\n",
       " 'out',\n",
       " 'over',\n",
       " 'own',\n",
       " 're',\n",
       " 's',\n",
       " 'same',\n",
       " 'shan',\n",
       " \"shan't\",\n",
       " 'she',\n",
       " \"she's\",\n",
       " 'should',\n",
       " \"should've\",\n",
       " 'shouldn',\n",
       " \"shouldn't\",\n",
       " 'so',\n",
       " 'some',\n",
       " 'such',\n",
       " 't',\n",
       " 'than',\n",
       " 'that',\n",
       " \"that'll\",\n",
       " 'the',\n",
       " 'their',\n",
       " 'theirs',\n",
       " 'them',\n",
       " 'themselves',\n",
       " 'then',\n",
       " 'there',\n",
       " 'these',\n",
       " 'they',\n",
       " 'this',\n",
       " 'those',\n",
       " 'through',\n",
       " 'to',\n",
       " 'too',\n",
       " 'under',\n",
       " 'until',\n",
       " 'up',\n",
       " 've',\n",
       " 'very',\n",
       " 'was',\n",
       " 'wasn',\n",
       " \"wasn't\",\n",
       " 'we',\n",
       " 'were',\n",
       " 'weren',\n",
       " \"weren't\",\n",
       " 'what',\n",
       " 'when',\n",
       " 'where',\n",
       " 'which',\n",
       " 'while',\n",
       " 'who',\n",
       " 'whom',\n",
       " 'why',\n",
       " 'will',\n",
       " 'with',\n",
       " 'won',\n",
       " \"won't\",\n",
       " 'wouldn',\n",
       " \"wouldn't\",\n",
       " 'y',\n",
       " 'you',\n",
       " \"you'd\",\n",
       " \"you'll\",\n",
       " \"you're\",\n",
       " \"you've\",\n",
       " 'your',\n",
       " 'yours',\n",
       " 'yourself',\n",
       " 'yourselves'}"
      ]
     },
     "execution_count": 11,
     "metadata": {},
     "output_type": "execute_result"
    }
   ],
   "source": [
    "#Adding Custom words to remove from the dataset\n",
    "custom_stopwords={\"br\"}\n",
    "stop_words.update(custom_stopwords)\n",
    "stop_words"
   ]
  },
  {
   "cell_type": "markdown",
   "id": "a8ae0a49",
   "metadata": {},
   "source": [
    "After doing lemmitization, it may not give us the expected root form of words because the WordNetLemmatizer() in NLTK require the correct part-of-speech (POS) tag to perform accurate lemmatization.\n",
    "To improve the lemmatization process, we need to provide correct \"POS tags\" for each word."
   ]
  },
  {
   "cell_type": "code",
   "execution_count": 12,
   "id": "e1ea6ce8",
   "metadata": {},
   "outputs": [],
   "source": [
    "import re\n",
    "from nltk.corpus import wordnet\n",
    "from nltk.tokenize import word_tokenize"
   ]
  },
  {
   "cell_type": "code",
   "execution_count": 13,
   "id": "652903d4",
   "metadata": {},
   "outputs": [
    {
     "name": "stderr",
     "output_type": "stream",
     "text": [
      "[nltk_data] Downloading package wordnet to\n",
      "[nltk_data]     C:\\Users\\vijayalekshmi\\AppData\\Roaming\\nltk_data...\n",
      "[nltk_data]   Package wordnet is already up-to-date!\n"
     ]
    },
    {
     "data": {
      "text/plain": [
       "True"
      ]
     },
     "execution_count": 13,
     "metadata": {},
     "output_type": "execute_result"
    }
   ],
   "source": [
    "import nltk\n",
    "from nltk.stem import WordNetLemmatizer\n",
    "nltk.download('wordnet')"
   ]
  },
  {
   "cell_type": "code",
   "execution_count": 14,
   "id": "0ad6bb51",
   "metadata": {},
   "outputs": [
    {
     "name": "stderr",
     "output_type": "stream",
     "text": [
      "[nltk_data] Downloading package averaged_perceptron_tagger to\n",
      "[nltk_data]     C:\\Users\\vijayalekshmi\\AppData\\Roaming\\nltk_data...\n",
      "[nltk_data]   Package averaged_perceptron_tagger is already up-to-\n",
      "[nltk_data]       date!\n"
     ]
    },
    {
     "data": {
      "text/plain": [
       "True"
      ]
     },
     "execution_count": 14,
     "metadata": {},
     "output_type": "execute_result"
    }
   ],
   "source": [
    "from nltk import pos_tag\n",
    "nltk.download('averaged_perceptron_tagger')"
   ]
  },
  {
   "cell_type": "code",
   "execution_count": 15,
   "id": "41c1fa83",
   "metadata": {},
   "outputs": [],
   "source": [
    "# Function to map NLTK POS tags to WordNet POS tags\n",
    "def get_wordnet_pos(tag):\n",
    "    if tag.startswith('J'):\n",
    "        return wordnet.ADJ\n",
    "    elif tag.startswith('V'):\n",
    "        return wordnet.VERB\n",
    "    elif tag.startswith('N'):\n",
    "        return wordnet.NOUN\n",
    "    elif tag.startswith('R'):\n",
    "        return wordnet.ADV\n",
    "    else:\n",
    "        return wordnet.NOUN"
   ]
  },
  {
   "cell_type": "code",
   "execution_count": 16,
   "id": "c25cb19e",
   "metadata": {},
   "outputs": [
    {
     "name": "stdout",
     "output_type": "stream",
     "text": [
      "0      buy several vitality can dog food product find...\n",
      "1      product arrive label jumbo salt peanut peanut ...\n",
      "2      confection around century light pillowy citrus...\n",
      "3      look secret ingredient robitussin believe find...\n",
      "4      great taffy great price wide assortment yummy ...\n",
      "                             ...                        \n",
      "994    absolutely love habenaro sauce use egg sandwic...\n",
      "995    black market hot sauce wonderful husband love ...\n",
      "996    man say salsa bomb different kind almost every...\n",
      "997    sauce good anything like add asian food anythi...\n",
      "998    hot like low star reviewer get suckered see ha...\n",
      "Name: Cleaned_Text, Length: 999, dtype: object\n"
     ]
    }
   ],
   "source": [
    "# Initialize WordNetLemmatizer\n",
    "lemmatizer = WordNetLemmatizer()\n",
    "\n",
    "corpus = []\n",
    "\n",
    "for i in range(len(data)):\n",
    "    # Clean the text\n",
    "    Cleaned_text = re.sub('[^a-zA-Z]', ' ', data[\"Text\"][i])\n",
    "    Cleaned_text = Cleaned_text.lower()\n",
    "    Cleaned_text = word_tokenize(Cleaned_text)\n",
    "    \n",
    "    # POS tagging\n",
    "    pos_tags = pos_tag(Cleaned_text)\n",
    "    \n",
    "    # Lemmatize with POS tags\n",
    "    Cleaned_text = [lemmatizer.lemmatize(word, get_wordnet_pos(tag)) for word, tag in pos_tags if word not in stop_words]\n",
    "    \n",
    "    # Join the words back into a single string\n",
    "    Cleaned_text = \" \".join(Cleaned_text)\n",
    "    corpus.append(Cleaned_text)\n",
    "\n",
    "data['Cleaned_Text'] = corpus\n",
    "print(data['Cleaned_Text'])"
   ]
  },
  {
   "cell_type": "code",
   "execution_count": 17,
   "id": "aaafa826",
   "metadata": {},
   "outputs": [
    {
     "data": {
      "text/plain": [
       "chip         659\n",
       "like         466\n",
       "good         412\n",
       "taste        410\n",
       "flavor       395\n",
       "            ... \n",
       "calm           1\n",
       "sooner         1\n",
       "vega           1\n",
       "tanginess      1\n",
       "suckered       1\n",
       "Name: count, Length: 4696, dtype: int64"
      ]
     },
     "execution_count": 17,
     "metadata": {},
     "output_type": "execute_result"
    }
   ],
   "source": [
    "temp_data = pd.Series(' '.join(data['Cleaned_Text']).split()).value_counts()\n",
    "temp_data"
   ]
  },
  {
   "cell_type": "code",
   "execution_count": 18,
   "id": "377d5943",
   "metadata": {},
   "outputs": [
    {
     "data": {
      "text/plain": [
       "tmi            1\n",
       "bun            1\n",
       "sumatra        1\n",
       "sickeningly    1\n",
       "appealing      1\n",
       "              ..\n",
       "calm           1\n",
       "sooner         1\n",
       "vega           1\n",
       "tanginess      1\n",
       "suckered       1\n",
       "Name: count, Length: 2193, dtype: int64"
      ]
     },
     "execution_count": 18,
     "metadata": {},
     "output_type": "execute_result"
    }
   ],
   "source": [
    "drops = temp_data[temp_data <= 1]\n",
    "drops"
   ]
  },
  {
   "cell_type": "code",
   "execution_count": 19,
   "id": "8f1993eb",
   "metadata": {},
   "outputs": [
    {
     "data": {
      "text/plain": [
       "0      buy several can dog food product find good qua...\n",
       "1      product arrive label jumbo salt peanut peanut ...\n",
       "2      around light citrus nut case cut tiny square c...\n",
       "3      look secret ingredient believe find get additi...\n",
       "4      great taffy great price wide assortment yummy ...\n",
       "                             ...                        \n",
       "994    absolutely love sauce use egg sandwich anythin...\n",
       "995    black market hot sauce wonderful husband love ...\n",
       "996    man say salsa bomb different kind almost every...\n",
       "997    sauce good anything like add asian food anythi...\n",
       "998    hot like low star reviewer get see habenero na...\n",
       "Name: Cleaned_Text, Length: 999, dtype: object"
      ]
     },
     "execution_count": 19,
     "metadata": {},
     "output_type": "execute_result"
    }
   ],
   "source": [
    "data['Cleaned_Text'] = data['Cleaned_Text'].apply(lambda x: \" \".join(x for x in x.split() if x not in drops))\n",
    "data['Cleaned_Text']"
   ]
  },
  {
   "cell_type": "markdown",
   "id": "409c39e2",
   "metadata": {},
   "source": [
    "# Tokenization"
   ]
  },
  {
   "cell_type": "code",
   "execution_count": 20,
   "id": "4e0df1c3",
   "metadata": {},
   "outputs": [],
   "source": [
    "#!pip install textblob"
   ]
  },
  {
   "cell_type": "code",
   "execution_count": 21,
   "id": "59885985",
   "metadata": {},
   "outputs": [],
   "source": [
    "from textblob import Word, TextBlob"
   ]
  },
  {
   "cell_type": "code",
   "execution_count": 22,
   "id": "84ff819d",
   "metadata": {},
   "outputs": [
    {
     "data": {
      "text/plain": [
       "0      buy several can dog food product find good qua...\n",
       "1      product arrive label jumbo salt peanut peanut ...\n",
       "2      around light citrus nut case cut tiny square c...\n",
       "3      look secret ingredient believe find get additi...\n",
       "4      great taffy great price wide assortment yummy ...\n",
       "                             ...                        \n",
       "994    absolutely love sauce use egg sandwich anythin...\n",
       "995    black market hot sauce wonderful husband love ...\n",
       "996    man say salsa bomb different kind almost every...\n",
       "997    sauce good anything like add asian food anythi...\n",
       "998    hot like low star reviewer get see habenero na...\n",
       "Name: Cleaned_Text, Length: 999, dtype: object"
      ]
     },
     "execution_count": 22,
     "metadata": {},
     "output_type": "execute_result"
    }
   ],
   "source": [
    "data[\"Cleaned_Text\"].apply(lambda x: TextBlob(x).words).head()\n",
    "data['Cleaned_Text']"
   ]
  },
  {
   "cell_type": "code",
   "execution_count": 23,
   "id": "0cc86ce8",
   "metadata": {},
   "outputs": [
    {
     "data": {
      "text/plain": [
       "0    [buy, several, can, dog, food, product, find, ...\n",
       "1    [product, arrive, label, jumbo, salt, peanut, ...\n",
       "2    [around, light, citrus, nut, case, cut, tiny, ...\n",
       "3    [look, secret, ingredient, believe, find, get,...\n",
       "4    [great, taffy, great, price, wide, assortment,...\n",
       "Name: Cleaned_Text, dtype: object"
      ]
     },
     "execution_count": 23,
     "metadata": {},
     "output_type": "execute_result"
    }
   ],
   "source": [
    "data[\"Cleaned_Text\"].apply(lambda x: TextBlob(x).words).head()"
   ]
  },
  {
   "cell_type": "markdown",
   "id": "2ff677b4",
   "metadata": {},
   "source": [
    "# Term Frequency"
   ]
  },
  {
   "cell_type": "code",
   "execution_count": 24,
   "id": "edae5585",
   "metadata": {},
   "outputs": [
    {
     "data": {
      "text/html": [
       "<div>\n",
       "<style scoped>\n",
       "    .dataframe tbody tr th:only-of-type {\n",
       "        vertical-align: middle;\n",
       "    }\n",
       "\n",
       "    .dataframe tbody tr th {\n",
       "        vertical-align: top;\n",
       "    }\n",
       "\n",
       "    .dataframe thead th {\n",
       "        text-align: right;\n",
       "    }\n",
       "</style>\n",
       "<table border=\"1\" class=\"dataframe\">\n",
       "  <thead>\n",
       "    <tr style=\"text-align: right;\">\n",
       "      <th></th>\n",
       "      <th>index</th>\n",
       "      <th>0</th>\n",
       "    </tr>\n",
       "  </thead>\n",
       "  <tbody>\n",
       "    <tr>\n",
       "      <th>0</th>\n",
       "      <td>product</td>\n",
       "      <td>287.0</td>\n",
       "    </tr>\n",
       "    <tr>\n",
       "      <th>1</th>\n",
       "      <td>good</td>\n",
       "      <td>412.0</td>\n",
       "    </tr>\n",
       "    <tr>\n",
       "      <th>2</th>\n",
       "      <td>buy</td>\n",
       "      <td>265.0</td>\n",
       "    </tr>\n",
       "    <tr>\n",
       "      <th>3</th>\n",
       "      <td>like</td>\n",
       "      <td>466.0</td>\n",
       "    </tr>\n",
       "    <tr>\n",
       "      <th>4</th>\n",
       "      <td>finicky</td>\n",
       "      <td>3.0</td>\n",
       "    </tr>\n",
       "    <tr>\n",
       "      <th>...</th>\n",
       "      <td>...</td>\n",
       "      <td>...</td>\n",
       "    </tr>\n",
       "    <tr>\n",
       "      <th>2498</th>\n",
       "      <td>folger</td>\n",
       "      <td>2.0</td>\n",
       "    </tr>\n",
       "    <tr>\n",
       "      <th>2499</th>\n",
       "      <td>rooibos</td>\n",
       "      <td>3.0</td>\n",
       "    </tr>\n",
       "    <tr>\n",
       "      <th>2500</th>\n",
       "      <td>matcha</td>\n",
       "      <td>5.0</td>\n",
       "    </tr>\n",
       "    <tr>\n",
       "      <th>2501</th>\n",
       "      <td>burrito</td>\n",
       "      <td>2.0</td>\n",
       "    </tr>\n",
       "    <tr>\n",
       "      <th>2502</th>\n",
       "      <td>habenero</td>\n",
       "      <td>3.0</td>\n",
       "    </tr>\n",
       "  </tbody>\n",
       "</table>\n",
       "<p>2503 rows × 2 columns</p>\n",
       "</div>"
      ],
      "text/plain": [
       "         index      0\n",
       "0      product  287.0\n",
       "1         good  412.0\n",
       "2          buy  265.0\n",
       "3         like  466.0\n",
       "4      finicky    3.0\n",
       "...        ...    ...\n",
       "2498    folger    2.0\n",
       "2499   rooibos    3.0\n",
       "2500    matcha    5.0\n",
       "2501   burrito    2.0\n",
       "2502  habenero    3.0\n",
       "\n",
       "[2503 rows x 2 columns]"
      ]
     },
     "execution_count": 24,
     "metadata": {},
     "output_type": "execute_result"
    }
   ],
   "source": [
    "term_freq = data[\"Cleaned_Text\"].apply(lambda x: pd.value_counts(x.split(\" \"))).sum(axis=0).reset_index()\n",
    "term_freq"
   ]
  },
  {
   "cell_type": "code",
   "execution_count": 25,
   "id": "3667a569",
   "metadata": {},
   "outputs": [],
   "source": [
    "term_freq.columns = ['words', 'term_freq']"
   ]
  },
  {
   "cell_type": "code",
   "execution_count": 26,
   "id": "bed320aa",
   "metadata": {},
   "outputs": [
    {
     "data": {
      "text/html": [
       "<div>\n",
       "<style scoped>\n",
       "    .dataframe tbody tr th:only-of-type {\n",
       "        vertical-align: middle;\n",
       "    }\n",
       "\n",
       "    .dataframe tbody tr th {\n",
       "        vertical-align: top;\n",
       "    }\n",
       "\n",
       "    .dataframe thead th {\n",
       "        text-align: right;\n",
       "    }\n",
       "</style>\n",
       "<table border=\"1\" class=\"dataframe\">\n",
       "  <thead>\n",
       "    <tr style=\"text-align: right;\">\n",
       "      <th></th>\n",
       "      <th>words</th>\n",
       "      <th>term_freq</th>\n",
       "    </tr>\n",
       "  </thead>\n",
       "  <tbody>\n",
       "    <tr>\n",
       "      <th>1345</th>\n",
       "      <td>chip</td>\n",
       "      <td>659.0</td>\n",
       "    </tr>\n",
       "    <tr>\n",
       "      <th>3</th>\n",
       "      <td>like</td>\n",
       "      <td>466.0</td>\n",
       "    </tr>\n",
       "    <tr>\n",
       "      <th>1</th>\n",
       "      <td>good</td>\n",
       "      <td>412.0</td>\n",
       "    </tr>\n",
       "    <tr>\n",
       "      <th>157</th>\n",
       "      <td>taste</td>\n",
       "      <td>410.0</td>\n",
       "    </tr>\n",
       "    <tr>\n",
       "      <th>58</th>\n",
       "      <td>flavor</td>\n",
       "      <td>395.0</td>\n",
       "    </tr>\n",
       "    <tr>\n",
       "      <th>...</th>\n",
       "      <td>...</td>\n",
       "      <td>...</td>\n",
       "    </tr>\n",
       "    <tr>\n",
       "      <th>1454</th>\n",
       "      <td>success</td>\n",
       "      <td>2.0</td>\n",
       "    </tr>\n",
       "    <tr>\n",
       "      <th>1964</th>\n",
       "      <td>raincoast</td>\n",
       "      <td>2.0</td>\n",
       "    </tr>\n",
       "    <tr>\n",
       "      <th>1965</th>\n",
       "      <td>dent</td>\n",
       "      <td>2.0</td>\n",
       "    </tr>\n",
       "    <tr>\n",
       "      <th>1968</th>\n",
       "      <td>teabag</td>\n",
       "      <td>2.0</td>\n",
       "    </tr>\n",
       "    <tr>\n",
       "      <th>1166</th>\n",
       "      <td>delicate</td>\n",
       "      <td>2.0</td>\n",
       "    </tr>\n",
       "  </tbody>\n",
       "</table>\n",
       "<p>2503 rows × 2 columns</p>\n",
       "</div>"
      ],
      "text/plain": [
       "          words  term_freq\n",
       "1345       chip      659.0\n",
       "3          like      466.0\n",
       "1          good      412.0\n",
       "157       taste      410.0\n",
       "58       flavor      395.0\n",
       "...         ...        ...\n",
       "1454    success        2.0\n",
       "1964  raincoast        2.0\n",
       "1965       dent        2.0\n",
       "1968     teabag        2.0\n",
       "1166   delicate        2.0\n",
       "\n",
       "[2503 rows x 2 columns]"
      ]
     },
     "execution_count": 26,
     "metadata": {},
     "output_type": "execute_result"
    }
   ],
   "source": [
    "tf_sorted = term_freq.sort_values(by='term_freq', ascending=False)\n",
    "tf_sorted"
   ]
  },
  {
   "cell_type": "markdown",
   "id": "83e765c3",
   "metadata": {},
   "source": [
    "# Term Bar Chart"
   ]
  },
  {
   "cell_type": "code",
   "execution_count": 27,
   "id": "29ca9f3f",
   "metadata": {},
   "outputs": [
    {
     "data": {
      "image/png": "[encoded data removed]",
      "text/plain": [
       "<Figure size 640x480 with 1 Axes>"
      ]
     },
     "metadata": {},
     "output_type": "display_data"
    }
   ],
   "source": [
    "term_freq[term_freq[\"term_freq\"] > 250].plot.bar(x=\"words\", y=\"term_freq\")\n",
    "plt.show(block=True)"
   ]
  },
  {
   "cell_type": "markdown",
   "id": "b98ebff6",
   "metadata": {},
   "source": [
    "# Word Cloud"
   ]
  },
  {
   "cell_type": "code",
   "execution_count": 28,
   "id": "77e16df1",
   "metadata": {},
   "outputs": [],
   "source": [
    "#!pip install wordcloud"
   ]
  },
  {
   "cell_type": "code",
   "execution_count": 29,
   "id": "0ac0c78a",
   "metadata": {},
   "outputs": [],
   "source": [
    "from wordcloud import WordCloud"
   ]
  },
  {
   "cell_type": "code",
   "execution_count": 30,
   "id": "83f6c006",
   "metadata": {},
   "outputs": [
    {
     "data": {
      "image/png": "[encoded data removed]",
      "text/plain": [
       "<Figure size 640x480 with 1 Axes>"
      ]
     },
     "metadata": {},
     "output_type": "display_data"
    }
   ],
   "source": [
    "text = \" \".join(i for i in data.Cleaned_Text)\n",
    "\n",
    "wordcloud = WordCloud().generate(text)\n",
    "plt.imshow(wordcloud, interpolation=\"bilinear\")\n",
    "plt.axis(\"off\")\n",
    "plt.show()"
   ]
  },
  {
   "cell_type": "code",
   "execution_count": 31,
   "id": "c8639358",
   "metadata": {},
   "outputs": [
    {
     "data": {
      "image/png": "[encoded data removed]",
      "text/plain": [
       "<Figure size 640x480 with 1 Axes>"
      ]
     },
     "metadata": {},
     "output_type": "display_data"
    },
    {
     "data": {
      "text/plain": [
       "<wordcloud.wordcloud.WordCloud at 0x1cb94650f80>"
      ]
     },
     "execution_count": 31,
     "metadata": {},
     "output_type": "execute_result"
    }
   ],
   "source": [
    "wordcloud = WordCloud(max_font_size=50, max_words=100, background_color=\"black\").generate(text)\n",
    "plt.figure()\n",
    "plt.imshow(wordcloud, interpolation=\"bilinear\")\n",
    "plt.axis(\"off\")\n",
    "plt.show()\n",
    "\n",
    "wordcloud.to_file(\"wordcloud.png\")"
   ]
  },
  {
   "cell_type": "markdown",
   "id": "0b25db50",
   "metadata": {},
   "source": [
    "# Sentiment Analysis - VADER"
   ]
  },
  {
   "cell_type": "markdown",
   "id": "998cfcb9",
   "metadata": {},
   "source": [
    "VADER (Valence Aware Dictionary Sentiment Reasoner), This is used for Sentiment Analysis because it is specifically designed to perform well with social media text, and informal text. It captures the positive sentiment as well as the emoticon."
   ]
  },
  {
   "cell_type": "code",
   "execution_count": 32,
   "id": "37ba2745",
   "metadata": {},
   "outputs": [
    {
     "name": "stderr",
     "output_type": "stream",
     "text": [
      "[nltk_data] Downloading package vader_lexicon to\n",
      "[nltk_data]     C:\\Users\\vijayalekshmi\\AppData\\Roaming\\nltk_data...\n",
      "[nltk_data]   Package vader_lexicon is already up-to-date!\n"
     ]
    },
    {
     "data": {
      "text/plain": [
       "True"
      ]
     },
     "execution_count": 32,
     "metadata": {},
     "output_type": "execute_result"
    }
   ],
   "source": [
    "nltk.download('vader_lexicon')"
   ]
  },
  {
   "cell_type": "code",
   "execution_count": 33,
   "id": "bb7c0643",
   "metadata": {},
   "outputs": [
    {
     "data": {
      "text/plain": [
       "0    buy several can dog food product find good qua...\n",
       "1    product arrive label jumbo salt peanut peanut ...\n",
       "2    around light citrus nut case cut tiny square c...\n",
       "3    look secret ingredient believe find get additi...\n",
       "4    great taffy great price wide assortment yummy ...\n",
       "5    get wild hair taffy order five pound bag taffy...\n",
       "6    taffy great flavor soft chewy candy individual...\n",
       "7    taffy good soft chewy flavor amaze would defin...\n",
       "8               right mostly cat eat grass love around\n",
       "9    healthy dog food good digestion also good smal...\n",
       "Name: Cleaned_Text, dtype: object"
      ]
     },
     "execution_count": 33,
     "metadata": {},
     "output_type": "execute_result"
    }
   ],
   "source": [
    "data['Cleaned_Text'].head(10)"
   ]
  },
  {
   "cell_type": "markdown",
   "id": "6a52ba59",
   "metadata": {},
   "source": [
    "The SentimentIntensityAnalyzer from NLTK's VADER module is a useful tool for performing sentiment analysis. We use the SentimentIntensityAnalyzer to get sentiment scores for individual sentences or larger pieces of text. The polarity_scores method returns a dictionary with the following keys: neg: Negative sentiment score (range from 0 to 1). neu: Neutral sentiment score (range from 0 to 1). pos: Positive sentiment score (range from 0 to 1). compound: A compound score that combines the three sentiment scores into a single value, ranging from -1 (most negative) to +1 (most positive)."
   ]
  },
  {
   "cell_type": "code",
   "execution_count": 34,
   "id": "9b011883",
   "metadata": {},
   "outputs": [],
   "source": [
    "from nltk.sentiment import SentimentIntensityAnalyzer\n",
    "sa = SentimentIntensityAnalyzer()"
   ]
  },
  {
   "cell_type": "code",
   "execution_count": 35,
   "id": "b2de1780",
   "metadata": {},
   "outputs": [
    {
     "data": {
      "text/plain": [
       "0    {'neg': 0.0, 'neu': 0.534, 'pos': 0.466, 'comp...\n",
       "1    {'neg': 0.135, 'neu': 0.75, 'pos': 0.115, 'com...\n",
       "2    {'neg': 0.162, 'neu': 0.479, 'pos': 0.358, 'co...\n",
       "3    {'neg': 0.0, 'neu': 0.847, 'pos': 0.153, 'comp...\n",
       "4    {'neg': 0.0, 'neu': 0.369, 'pos': 0.631, 'comp...\n",
       "5    {'neg': 0.044, 'neu': 0.659, 'pos': 0.297, 'co...\n",
       "6    {'neg': 0.0, 'neu': 0.569, 'pos': 0.431, 'comp...\n",
       "7    {'neg': 0.0, 'neu': 0.291, 'pos': 0.709, 'comp...\n",
       "8    {'neg': 0.0, 'neu': 0.588, 'pos': 0.412, 'comp...\n",
       "9    {'neg': 0.0, 'neu': 0.541, 'pos': 0.459, 'comp...\n",
       "Name: Cleaned_Text, dtype: object"
      ]
     },
     "execution_count": 35,
     "metadata": {},
     "output_type": "execute_result"
    }
   ],
   "source": [
    "#applying vader in our dataset\n",
    "data[\"Cleaned_Text\"][0:10].apply(lambda x: sa.polarity_scores(x))"
   ]
  },
  {
   "cell_type": "code",
   "execution_count": 36,
   "id": "afd841d7",
   "metadata": {},
   "outputs": [
    {
     "data": {
      "text/plain": [
       "0    0.9022\n",
       "1   -0.1027\n",
       "2    0.8624\n",
       "3    0.4404\n",
       "4    0.9468\n",
       "5    0.9136\n",
       "6    0.9422\n",
       "7    0.9274\n",
       "8    0.6369\n",
       "9    0.8176\n",
       "Name: Cleaned_Text, dtype: float64"
      ]
     },
     "execution_count": 36,
     "metadata": {},
     "output_type": "execute_result"
    }
   ],
   "source": [
    "data[\"Cleaned_Text\"][0:10].apply(lambda x: sa.polarity_scores(x)[\"compound\"])"
   ]
  },
  {
   "cell_type": "code",
   "execution_count": 37,
   "id": "f0be2faf",
   "metadata": {},
   "outputs": [
    {
     "data": {
      "text/html": [
       "<div>\n",
       "<style scoped>\n",
       "    .dataframe tbody tr th:only-of-type {\n",
       "        vertical-align: middle;\n",
       "    }\n",
       "\n",
       "    .dataframe tbody tr th {\n",
       "        vertical-align: top;\n",
       "    }\n",
       "\n",
       "    .dataframe thead th {\n",
       "        text-align: right;\n",
       "    }\n",
       "</style>\n",
       "<table border=\"1\" class=\"dataframe\">\n",
       "  <thead>\n",
       "    <tr style=\"text-align: right;\">\n",
       "      <th></th>\n",
       "      <th>Score</th>\n",
       "      <th>Text</th>\n",
       "      <th>Char_count</th>\n",
       "      <th>Word_Count</th>\n",
       "      <th>Cleaned_Text</th>\n",
       "      <th>polarity_score</th>\n",
       "    </tr>\n",
       "  </thead>\n",
       "  <tbody>\n",
       "    <tr>\n",
       "      <th>0</th>\n",
       "      <td>5</td>\n",
       "      <td>I have bought several of the Vitality canned d...</td>\n",
       "      <td>263</td>\n",
       "      <td>48</td>\n",
       "      <td>buy several can dog food product find good qua...</td>\n",
       "      <td>0.9022</td>\n",
       "    </tr>\n",
       "    <tr>\n",
       "      <th>1</th>\n",
       "      <td>1</td>\n",
       "      <td>Product arrived labeled as Jumbo Salted Peanut...</td>\n",
       "      <td>190</td>\n",
       "      <td>31</td>\n",
       "      <td>product arrive label jumbo salt peanut peanut ...</td>\n",
       "      <td>-0.1027</td>\n",
       "    </tr>\n",
       "    <tr>\n",
       "      <th>2</th>\n",
       "      <td>4</td>\n",
       "      <td>This is a confection that has been around a fe...</td>\n",
       "      <td>509</td>\n",
       "      <td>94</td>\n",
       "      <td>around light citrus nut case cut tiny square c...</td>\n",
       "      <td>0.8624</td>\n",
       "    </tr>\n",
       "    <tr>\n",
       "      <th>3</th>\n",
       "      <td>2</td>\n",
       "      <td>If you are looking for the secret ingredient i...</td>\n",
       "      <td>219</td>\n",
       "      <td>41</td>\n",
       "      <td>look secret ingredient believe find get additi...</td>\n",
       "      <td>0.4404</td>\n",
       "    </tr>\n",
       "    <tr>\n",
       "      <th>4</th>\n",
       "      <td>5</td>\n",
       "      <td>Great taffy at a great price.  There was a wid...</td>\n",
       "      <td>140</td>\n",
       "      <td>27</td>\n",
       "      <td>great taffy great price wide assortment yummy ...</td>\n",
       "      <td>0.9468</td>\n",
       "    </tr>\n",
       "    <tr>\n",
       "      <th>...</th>\n",
       "      <td>...</td>\n",
       "      <td>...</td>\n",
       "      <td>...</td>\n",
       "      <td>...</td>\n",
       "      <td>...</td>\n",
       "      <td>...</td>\n",
       "    </tr>\n",
       "    <tr>\n",
       "      <th>994</th>\n",
       "      <td>5</td>\n",
       "      <td>absolutely love the habenaro sauce...use it on...</td>\n",
       "      <td>256</td>\n",
       "      <td>40</td>\n",
       "      <td>absolutely love sauce use egg sandwich anythin...</td>\n",
       "      <td>0.8122</td>\n",
       "    </tr>\n",
       "    <tr>\n",
       "      <th>995</th>\n",
       "      <td>5</td>\n",
       "      <td>BLACK MARKET HOT SAUCE IS WONDERFUL.... My hus...</td>\n",
       "      <td>477</td>\n",
       "      <td>94</td>\n",
       "      <td>black market hot sauce wonderful husband love ...</td>\n",
       "      <td>0.9856</td>\n",
       "    </tr>\n",
       "    <tr>\n",
       "      <th>996</th>\n",
       "      <td>5</td>\n",
       "      <td>Man what can i say, this salsa is the bomb!! i...</td>\n",
       "      <td>305</td>\n",
       "      <td>62</td>\n",
       "      <td>man say salsa bomb different kind almost every...</td>\n",
       "      <td>0.5719</td>\n",
       "    </tr>\n",
       "    <tr>\n",
       "      <th>997</th>\n",
       "      <td>5</td>\n",
       "      <td>this sauce is so good with just about anything...</td>\n",
       "      <td>265</td>\n",
       "      <td>53</td>\n",
       "      <td>sauce good anything like add asian food anythi...</td>\n",
       "      <td>0.9375</td>\n",
       "    </tr>\n",
       "    <tr>\n",
       "      <th>998</th>\n",
       "      <td>1</td>\n",
       "      <td>Not hot at all. Like the other low star review...</td>\n",
       "      <td>280</td>\n",
       "      <td>54</td>\n",
       "      <td>hot like low star reviewer get see habenero na...</td>\n",
       "      <td>0.4404</td>\n",
       "    </tr>\n",
       "  </tbody>\n",
       "</table>\n",
       "<p>999 rows × 6 columns</p>\n",
       "</div>"
      ],
      "text/plain": [
       "     Score                                               Text  Char_count  \\\n",
       "0        5  I have bought several of the Vitality canned d...         263   \n",
       "1        1  Product arrived labeled as Jumbo Salted Peanut...         190   \n",
       "2        4  This is a confection that has been around a fe...         509   \n",
       "3        2  If you are looking for the secret ingredient i...         219   \n",
       "4        5  Great taffy at a great price.  There was a wid...         140   \n",
       "..     ...                                                ...         ...   \n",
       "994      5  absolutely love the habenaro sauce...use it on...         256   \n",
       "995      5  BLACK MARKET HOT SAUCE IS WONDERFUL.... My hus...         477   \n",
       "996      5  Man what can i say, this salsa is the bomb!! i...         305   \n",
       "997      5  this sauce is so good with just about anything...         265   \n",
       "998      1  Not hot at all. Like the other low star review...         280   \n",
       "\n",
       "     Word_Count                                       Cleaned_Text  \\\n",
       "0            48  buy several can dog food product find good qua...   \n",
       "1            31  product arrive label jumbo salt peanut peanut ...   \n",
       "2            94  around light citrus nut case cut tiny square c...   \n",
       "3            41  look secret ingredient believe find get additi...   \n",
       "4            27  great taffy great price wide assortment yummy ...   \n",
       "..          ...                                                ...   \n",
       "994          40  absolutely love sauce use egg sandwich anythin...   \n",
       "995          94  black market hot sauce wonderful husband love ...   \n",
       "996          62  man say salsa bomb different kind almost every...   \n",
       "997          53  sauce good anything like add asian food anythi...   \n",
       "998          54  hot like low star reviewer get see habenero na...   \n",
       "\n",
       "     polarity_score  \n",
       "0            0.9022  \n",
       "1           -0.1027  \n",
       "2            0.8624  \n",
       "3            0.4404  \n",
       "4            0.9468  \n",
       "..              ...  \n",
       "994          0.8122  \n",
       "995          0.9856  \n",
       "996          0.5719  \n",
       "997          0.9375  \n",
       "998          0.4404  \n",
       "\n",
       "[999 rows x 6 columns]"
      ]
     },
     "execution_count": 37,
     "metadata": {},
     "output_type": "execute_result"
    }
   ],
   "source": [
    "data[\"polarity_score\"] = data[\"Cleaned_Text\"].apply(lambda x: sa.polarity_scores(x)[\"compound\"])\n",
    "data"
   ]
  },
  {
   "cell_type": "code",
   "execution_count": 38,
   "id": "ff708eb4",
   "metadata": {},
   "outputs": [
    {
     "data": {
      "text/html": [
       "<div>\n",
       "<style scoped>\n",
       "    .dataframe tbody tr th:only-of-type {\n",
       "        vertical-align: middle;\n",
       "    }\n",
       "\n",
       "    .dataframe tbody tr th {\n",
       "        vertical-align: top;\n",
       "    }\n",
       "\n",
       "    .dataframe thead th {\n",
       "        text-align: right;\n",
       "    }\n",
       "</style>\n",
       "<table border=\"1\" class=\"dataframe\">\n",
       "  <thead>\n",
       "    <tr style=\"text-align: right;\">\n",
       "      <th></th>\n",
       "      <th>Score</th>\n",
       "      <th>Text</th>\n",
       "      <th>Char_count</th>\n",
       "      <th>Word_Count</th>\n",
       "      <th>Cleaned_Text</th>\n",
       "      <th>polarity_score</th>\n",
       "      <th>Sentiment</th>\n",
       "    </tr>\n",
       "  </thead>\n",
       "  <tbody>\n",
       "    <tr>\n",
       "      <th>0</th>\n",
       "      <td>5</td>\n",
       "      <td>I have bought several of the Vitality canned d...</td>\n",
       "      <td>263</td>\n",
       "      <td>48</td>\n",
       "      <td>buy several can dog food product find good qua...</td>\n",
       "      <td>0.9022</td>\n",
       "      <td>positive</td>\n",
       "    </tr>\n",
       "    <tr>\n",
       "      <th>1</th>\n",
       "      <td>1</td>\n",
       "      <td>Product arrived labeled as Jumbo Salted Peanut...</td>\n",
       "      <td>190</td>\n",
       "      <td>31</td>\n",
       "      <td>product arrive label jumbo salt peanut peanut ...</td>\n",
       "      <td>-0.1027</td>\n",
       "      <td>negative</td>\n",
       "    </tr>\n",
       "    <tr>\n",
       "      <th>2</th>\n",
       "      <td>4</td>\n",
       "      <td>This is a confection that has been around a fe...</td>\n",
       "      <td>509</td>\n",
       "      <td>94</td>\n",
       "      <td>around light citrus nut case cut tiny square c...</td>\n",
       "      <td>0.8624</td>\n",
       "      <td>positive</td>\n",
       "    </tr>\n",
       "    <tr>\n",
       "      <th>3</th>\n",
       "      <td>2</td>\n",
       "      <td>If you are looking for the secret ingredient i...</td>\n",
       "      <td>219</td>\n",
       "      <td>41</td>\n",
       "      <td>look secret ingredient believe find get additi...</td>\n",
       "      <td>0.4404</td>\n",
       "      <td>positive</td>\n",
       "    </tr>\n",
       "    <tr>\n",
       "      <th>4</th>\n",
       "      <td>5</td>\n",
       "      <td>Great taffy at a great price.  There was a wid...</td>\n",
       "      <td>140</td>\n",
       "      <td>27</td>\n",
       "      <td>great taffy great price wide assortment yummy ...</td>\n",
       "      <td>0.9468</td>\n",
       "      <td>positive</td>\n",
       "    </tr>\n",
       "    <tr>\n",
       "      <th>5</th>\n",
       "      <td>4</td>\n",
       "      <td>I got a wild hair for taffy and ordered this f...</td>\n",
       "      <td>416</td>\n",
       "      <td>72</td>\n",
       "      <td>get wild hair taffy order five pound bag taffy...</td>\n",
       "      <td>0.9136</td>\n",
       "      <td>positive</td>\n",
       "    </tr>\n",
       "    <tr>\n",
       "      <th>6</th>\n",
       "      <td>5</td>\n",
       "      <td>This saltwater taffy had great flavors and was...</td>\n",
       "      <td>304</td>\n",
       "      <td>49</td>\n",
       "      <td>taffy great flavor soft chewy candy individual...</td>\n",
       "      <td>0.9422</td>\n",
       "      <td>positive</td>\n",
       "    </tr>\n",
       "    <tr>\n",
       "      <th>7</th>\n",
       "      <td>5</td>\n",
       "      <td>This taffy is so good.  It is very soft and ch...</td>\n",
       "      <td>140</td>\n",
       "      <td>24</td>\n",
       "      <td>taffy good soft chewy flavor amaze would defin...</td>\n",
       "      <td>0.9274</td>\n",
       "      <td>positive</td>\n",
       "    </tr>\n",
       "    <tr>\n",
       "      <th>8</th>\n",
       "      <td>5</td>\n",
       "      <td>Right now I'm mostly just sprouting this so my...</td>\n",
       "      <td>131</td>\n",
       "      <td>26</td>\n",
       "      <td>right mostly cat eat grass love around</td>\n",
       "      <td>0.6369</td>\n",
       "      <td>positive</td>\n",
       "    </tr>\n",
       "    <tr>\n",
       "      <th>9</th>\n",
       "      <td>5</td>\n",
       "      <td>This is a very healthy dog food. Good for thei...</td>\n",
       "      <td>137</td>\n",
       "      <td>25</td>\n",
       "      <td>healthy dog food good digestion also good smal...</td>\n",
       "      <td>0.8176</td>\n",
       "      <td>positive</td>\n",
       "    </tr>\n",
       "    <tr>\n",
       "      <th>10</th>\n",
       "      <td>5</td>\n",
       "      <td>I don't know if it's the cactus or the tequila...</td>\n",
       "      <td>779</td>\n",
       "      <td>146</td>\n",
       "      <td>know cactus tequila unique combination ingredi...</td>\n",
       "      <td>0.9595</td>\n",
       "      <td>positive</td>\n",
       "    </tr>\n",
       "    <tr>\n",
       "      <th>11</th>\n",
       "      <td>5</td>\n",
       "      <td>One of my boys needed to lose some weight and ...</td>\n",
       "      <td>328</td>\n",
       "      <td>64</td>\n",
       "      <td>one boy need lose weight put food floor chubby...</td>\n",
       "      <td>-0.2023</td>\n",
       "      <td>negative</td>\n",
       "    </tr>\n",
       "    <tr>\n",
       "      <th>12</th>\n",
       "      <td>1</td>\n",
       "      <td>My cats have been happily eating Felidae Plati...</td>\n",
       "      <td>399</td>\n",
       "      <td>79</td>\n",
       "      <td>cat happily eat felidae platinum two year get ...</td>\n",
       "      <td>0.2960</td>\n",
       "      <td>positive</td>\n",
       "    </tr>\n",
       "    <tr>\n",
       "      <th>13</th>\n",
       "      <td>4</td>\n",
       "      <td>good flavor! these came securely packed... the...</td>\n",
       "      <td>97</td>\n",
       "      <td>15</td>\n",
       "      <td>good flavor come securely pack fresh delicious...</td>\n",
       "      <td>0.9382</td>\n",
       "      <td>positive</td>\n",
       "    </tr>\n",
       "    <tr>\n",
       "      <th>14</th>\n",
       "      <td>5</td>\n",
       "      <td>The Strawberry Twizzlers are my guilty pleasur...</td>\n",
       "      <td>113</td>\n",
       "      <td>22</td>\n",
       "      <td>strawberry twizzlers guilty pleasure yummy six...</td>\n",
       "      <td>0.6486</td>\n",
       "      <td>positive</td>\n",
       "    </tr>\n",
       "    <tr>\n",
       "      <th>15</th>\n",
       "      <td>5</td>\n",
       "      <td>My daughter loves twizzlers and this shipment ...</td>\n",
       "      <td>155</td>\n",
       "      <td>24</td>\n",
       "      <td>daughter love twizzlers shipment six pound rea...</td>\n",
       "      <td>0.6369</td>\n",
       "      <td>positive</td>\n",
       "    </tr>\n",
       "    <tr>\n",
       "      <th>16</th>\n",
       "      <td>2</td>\n",
       "      <td>I love eating them and they are good for watch...</td>\n",
       "      <td>195</td>\n",
       "      <td>42</td>\n",
       "      <td>love eat good watch tv look sweet like zip loc...</td>\n",
       "      <td>0.9313</td>\n",
       "      <td>positive</td>\n",
       "    </tr>\n",
       "    <tr>\n",
       "      <th>17</th>\n",
       "      <td>5</td>\n",
       "      <td>I am very satisfied with my Twizzler purchase....</td>\n",
       "      <td>141</td>\n",
       "      <td>25</td>\n",
       "      <td>satisfied purchase share others enjoy definite...</td>\n",
       "      <td>0.8720</td>\n",
       "      <td>positive</td>\n",
       "    </tr>\n",
       "    <tr>\n",
       "      <th>18</th>\n",
       "      <td>5</td>\n",
       "      <td>Twizzlers, Strawberry my childhood favorite ca...</td>\n",
       "      <td>746</td>\n",
       "      <td>131</td>\n",
       "      <td>twizzlers strawberry childhood favorite candy ...</td>\n",
       "      <td>0.9274</td>\n",
       "      <td>positive</td>\n",
       "    </tr>\n",
       "    <tr>\n",
       "      <th>19</th>\n",
       "      <td>5</td>\n",
       "      <td>Candy was delivered very fast and was purchase...</td>\n",
       "      <td>145</td>\n",
       "      <td>29</td>\n",
       "      <td>candy deliver fast purchase reasonable price h...</td>\n",
       "      <td>0.5719</td>\n",
       "      <td>positive</td>\n",
       "    </tr>\n",
       "    <tr>\n",
       "      <th>20</th>\n",
       "      <td>5</td>\n",
       "      <td>My husband is a Twizzlers addict.  We've bough...</td>\n",
       "      <td>262</td>\n",
       "      <td>44</td>\n",
       "      <td>husband twizzlers addict buy many time amazon ...</td>\n",
       "      <td>0.6249</td>\n",
       "      <td>positive</td>\n",
       "    </tr>\n",
       "    <tr>\n",
       "      <th>21</th>\n",
       "      <td>5</td>\n",
       "      <td>I bought these for my husband who is currently...</td>\n",
       "      <td>323</td>\n",
       "      <td>45</td>\n",
       "      <td>buy husband currently overseas love apparently...</td>\n",
       "      <td>0.9287</td>\n",
       "      <td>positive</td>\n",
       "    </tr>\n",
       "    <tr>\n",
       "      <th>22</th>\n",
       "      <td>5</td>\n",
       "      <td>I can remember buying this candy as a kid and ...</td>\n",
       "      <td>147</td>\n",
       "      <td>27</td>\n",
       "      <td>remember buy candy kid quality drop year still...</td>\n",
       "      <td>0.0772</td>\n",
       "      <td>positive</td>\n",
       "    </tr>\n",
       "    <tr>\n",
       "      <th>23</th>\n",
       "      <td>5</td>\n",
       "      <td>I love this candy.  After weight watchers I ha...</td>\n",
       "      <td>92</td>\n",
       "      <td>19</td>\n",
       "      <td>love candy weight watcher cut back still craving</td>\n",
       "      <td>0.4767</td>\n",
       "      <td>positive</td>\n",
       "    </tr>\n",
       "    <tr>\n",
       "      <th>24</th>\n",
       "      <td>5</td>\n",
       "      <td>I have lived out of the US for over 7 yrs now,...</td>\n",
       "      <td>274</td>\n",
       "      <td>59</td>\n",
       "      <td>live u yr miss twizzlers go back visit someone...</td>\n",
       "      <td>-0.1531</td>\n",
       "      <td>negative</td>\n",
       "    </tr>\n",
       "    <tr>\n",
       "      <th>25</th>\n",
       "      <td>5</td>\n",
       "      <td>Product received is as advertised.&lt;br /&gt;&lt;br /&gt;...</td>\n",
       "      <td>152</td>\n",
       "      <td>14</td>\n",
       "      <td>product receive advertised href http www amazo...</td>\n",
       "      <td>0.1779</td>\n",
       "      <td>positive</td>\n",
       "    </tr>\n",
       "    <tr>\n",
       "      <th>26</th>\n",
       "      <td>1</td>\n",
       "      <td>The candy is just red , No flavor . Just  plan...</td>\n",
       "      <td>88</td>\n",
       "      <td>20</td>\n",
       "      <td>candy red flavor plan chewy would never buy</td>\n",
       "      <td>0.0000</td>\n",
       "      <td>neutral</td>\n",
       "    </tr>\n",
       "    <tr>\n",
       "      <th>27</th>\n",
       "      <td>4</td>\n",
       "      <td>I was so glad Amazon carried these batteries. ...</td>\n",
       "      <td>196</td>\n",
       "      <td>36</td>\n",
       "      <td>glad amazon carry hard time find elsewhere uni...</td>\n",
       "      <td>0.8126</td>\n",
       "      <td>positive</td>\n",
       "    </tr>\n",
       "    <tr>\n",
       "      <th>28</th>\n",
       "      <td>5</td>\n",
       "      <td>I got this for my Mum who is not diabetic but ...</td>\n",
       "      <td>506</td>\n",
       "      <td>94</td>\n",
       "      <td>get diabetic need watch sugar intake father si...</td>\n",
       "      <td>0.9571</td>\n",
       "      <td>positive</td>\n",
       "    </tr>\n",
       "    <tr>\n",
       "      <th>29</th>\n",
       "      <td>5</td>\n",
       "      <td>I don't know if it's the cactus or the tequila...</td>\n",
       "      <td>779</td>\n",
       "      <td>146</td>\n",
       "      <td>know cactus tequila unique combination ingredi...</td>\n",
       "      <td>0.9595</td>\n",
       "      <td>positive</td>\n",
       "    </tr>\n",
       "  </tbody>\n",
       "</table>\n",
       "</div>"
      ],
      "text/plain": [
       "    Score                                               Text  Char_count  \\\n",
       "0       5  I have bought several of the Vitality canned d...         263   \n",
       "1       1  Product arrived labeled as Jumbo Salted Peanut...         190   \n",
       "2       4  This is a confection that has been around a fe...         509   \n",
       "3       2  If you are looking for the secret ingredient i...         219   \n",
       "4       5  Great taffy at a great price.  There was a wid...         140   \n",
       "5       4  I got a wild hair for taffy and ordered this f...         416   \n",
       "6       5  This saltwater taffy had great flavors and was...         304   \n",
       "7       5  This taffy is so good.  It is very soft and ch...         140   \n",
       "8       5  Right now I'm mostly just sprouting this so my...         131   \n",
       "9       5  This is a very healthy dog food. Good for thei...         137   \n",
       "10      5  I don't know if it's the cactus or the tequila...         779   \n",
       "11      5  One of my boys needed to lose some weight and ...         328   \n",
       "12      1  My cats have been happily eating Felidae Plati...         399   \n",
       "13      4  good flavor! these came securely packed... the...          97   \n",
       "14      5  The Strawberry Twizzlers are my guilty pleasur...         113   \n",
       "15      5  My daughter loves twizzlers and this shipment ...         155   \n",
       "16      2  I love eating them and they are good for watch...         195   \n",
       "17      5  I am very satisfied with my Twizzler purchase....         141   \n",
       "18      5  Twizzlers, Strawberry my childhood favorite ca...         746   \n",
       "19      5  Candy was delivered very fast and was purchase...         145   \n",
       "20      5  My husband is a Twizzlers addict.  We've bough...         262   \n",
       "21      5  I bought these for my husband who is currently...         323   \n",
       "22      5  I can remember buying this candy as a kid and ...         147   \n",
       "23      5  I love this candy.  After weight watchers I ha...          92   \n",
       "24      5  I have lived out of the US for over 7 yrs now,...         274   \n",
       "25      5  Product received is as advertised.<br /><br />...         152   \n",
       "26      1  The candy is just red , No flavor . Just  plan...          88   \n",
       "27      4  I was so glad Amazon carried these batteries. ...         196   \n",
       "28      5  I got this for my Mum who is not diabetic but ...         506   \n",
       "29      5  I don't know if it's the cactus or the tequila...         779   \n",
       "\n",
       "    Word_Count                                       Cleaned_Text  \\\n",
       "0           48  buy several can dog food product find good qua...   \n",
       "1           31  product arrive label jumbo salt peanut peanut ...   \n",
       "2           94  around light citrus nut case cut tiny square c...   \n",
       "3           41  look secret ingredient believe find get additi...   \n",
       "4           27  great taffy great price wide assortment yummy ...   \n",
       "5           72  get wild hair taffy order five pound bag taffy...   \n",
       "6           49  taffy great flavor soft chewy candy individual...   \n",
       "7           24  taffy good soft chewy flavor amaze would defin...   \n",
       "8           26             right mostly cat eat grass love around   \n",
       "9           25  healthy dog food good digestion also good smal...   \n",
       "10         146  know cactus tequila unique combination ingredi...   \n",
       "11          64  one boy need lose weight put food floor chubby...   \n",
       "12          79  cat happily eat felidae platinum two year get ...   \n",
       "13          15  good flavor come securely pack fresh delicious...   \n",
       "14          22  strawberry twizzlers guilty pleasure yummy six...   \n",
       "15          24  daughter love twizzlers shipment six pound rea...   \n",
       "16          42  love eat good watch tv look sweet like zip loc...   \n",
       "17          25  satisfied purchase share others enjoy definite...   \n",
       "18         131  twizzlers strawberry childhood favorite candy ...   \n",
       "19          29  candy deliver fast purchase reasonable price h...   \n",
       "20          44  husband twizzlers addict buy many time amazon ...   \n",
       "21          45  buy husband currently overseas love apparently...   \n",
       "22          27  remember buy candy kid quality drop year still...   \n",
       "23          19   love candy weight watcher cut back still craving   \n",
       "24          59  live u yr miss twizzlers go back visit someone...   \n",
       "25          14  product receive advertised href http www amazo...   \n",
       "26          20        candy red flavor plan chewy would never buy   \n",
       "27          36  glad amazon carry hard time find elsewhere uni...   \n",
       "28          94  get diabetic need watch sugar intake father si...   \n",
       "29         146  know cactus tequila unique combination ingredi...   \n",
       "\n",
       "    polarity_score Sentiment  \n",
       "0           0.9022  positive  \n",
       "1          -0.1027  negative  \n",
       "2           0.8624  positive  \n",
       "3           0.4404  positive  \n",
       "4           0.9468  positive  \n",
       "5           0.9136  positive  \n",
       "6           0.9422  positive  \n",
       "7           0.9274  positive  \n",
       "8           0.6369  positive  \n",
       "9           0.8176  positive  \n",
       "10          0.9595  positive  \n",
       "11         -0.2023  negative  \n",
       "12          0.2960  positive  \n",
       "13          0.9382  positive  \n",
       "14          0.6486  positive  \n",
       "15          0.6369  positive  \n",
       "16          0.9313  positive  \n",
       "17          0.8720  positive  \n",
       "18          0.9274  positive  \n",
       "19          0.5719  positive  \n",
       "20          0.6249  positive  \n",
       "21          0.9287  positive  \n",
       "22          0.0772  positive  \n",
       "23          0.4767  positive  \n",
       "24         -0.1531  negative  \n",
       "25          0.1779  positive  \n",
       "26          0.0000   neutral  \n",
       "27          0.8126  positive  \n",
       "28          0.9571  positive  \n",
       "29          0.9595  positive  "
      ]
     },
     "execution_count": 38,
     "metadata": {},
     "output_type": "execute_result"
    }
   ],
   "source": [
    "data['Sentiment']=data[\"Cleaned_Text\"].apply(lambda x: 'positive' if sa.polarity_scores(x)[\"compound\"] > 0  else 'neutral' if sa.polarity_scores(x)[\"compound\"] == 0  else 'negative')\n",
    "data.head(30)"
   ]
  },
  {
   "cell_type": "code",
   "execution_count": 39,
   "id": "43a9c36f",
   "metadata": {},
   "outputs": [
    {
     "data": {
      "text/plain": [
       "'candy red flavor plan chewy would never buy'"
      ]
     },
     "execution_count": 39,
     "metadata": {},
     "output_type": "execute_result"
    }
   ],
   "source": [
    "data['Cleaned_Text'][26]\n"
   ]
  },
  {
   "cell_type": "code",
   "execution_count": 40,
   "id": "059e5586",
   "metadata": {},
   "outputs": [
    {
     "data": {
      "text/plain": [
       "'The candy is just red , No flavor . Just  plan and chewy .  I would never buy them again'"
      ]
     },
     "execution_count": 40,
     "metadata": {},
     "output_type": "execute_result"
    }
   ],
   "source": [
    "data['Text'][26]"
   ]
  },
  {
   "cell_type": "code",
   "execution_count": 41,
   "id": "a9de276d",
   "metadata": {},
   "outputs": [
    {
     "data": {
      "text/plain": [
       "Sentiment\n",
       "positive    909\n",
       "negative     70\n",
       "neutral      20\n",
       "Name: count, dtype: int64"
      ]
     },
     "execution_count": 41,
     "metadata": {},
     "output_type": "execute_result"
    }
   ],
   "source": [
    "data[\"Sentiment\"].value_counts()"
   ]
  },
  {
   "cell_type": "markdown",
   "id": "4d2e5bae",
   "metadata": {},
   "source": [
    "The LabelEncoder from Scikit-learn to convert the sentiment scores into numerical labels. The LabelEncoder will find all unique values in the data[\"Sentiment\"] column. It will assign a unique integer to each unique sentiment score. The sentiment scores (which were previously floating-point numbers from the VADER analysis) are replaced by these integer labels. \n",
    "\n",
    "LabelEncoder() initializes a new instance of the LabelEncoder class. \".fit_transform(data[\"Sentiment\"])\" performs two actions: 1.fit: Learns the unique values in data[\"Sentiment\"]. 2.transform: Converts these unique values into numerical labels."
   ]
  },
  {
   "cell_type": "code",
   "execution_count": 43,
   "id": "83b72d35",
   "metadata": {},
   "outputs": [
    {
     "data": {
      "text/html": [
       "<div>\n",
       "<style scoped>\n",
       "    .dataframe tbody tr th:only-of-type {\n",
       "        vertical-align: middle;\n",
       "    }\n",
       "\n",
       "    .dataframe tbody tr th {\n",
       "        vertical-align: top;\n",
       "    }\n",
       "\n",
       "    .dataframe thead th {\n",
       "        text-align: right;\n",
       "    }\n",
       "</style>\n",
       "<table border=\"1\" class=\"dataframe\">\n",
       "  <thead>\n",
       "    <tr style=\"text-align: right;\">\n",
       "      <th></th>\n",
       "      <th>Score</th>\n",
       "      <th>Text</th>\n",
       "      <th>Char_count</th>\n",
       "      <th>Word_Count</th>\n",
       "      <th>Cleaned_Text</th>\n",
       "      <th>polarity_score</th>\n",
       "      <th>Sentiment</th>\n",
       "    </tr>\n",
       "  </thead>\n",
       "  <tbody>\n",
       "    <tr>\n",
       "      <th>0</th>\n",
       "      <td>5</td>\n",
       "      <td>I have bought several of the Vitality canned d...</td>\n",
       "      <td>263</td>\n",
       "      <td>48</td>\n",
       "      <td>buy several can dog food product find good qua...</td>\n",
       "      <td>0.9022</td>\n",
       "      <td>2</td>\n",
       "    </tr>\n",
       "    <tr>\n",
       "      <th>1</th>\n",
       "      <td>1</td>\n",
       "      <td>Product arrived labeled as Jumbo Salted Peanut...</td>\n",
       "      <td>190</td>\n",
       "      <td>31</td>\n",
       "      <td>product arrive label jumbo salt peanut peanut ...</td>\n",
       "      <td>-0.1027</td>\n",
       "      <td>0</td>\n",
       "    </tr>\n",
       "    <tr>\n",
       "      <th>2</th>\n",
       "      <td>4</td>\n",
       "      <td>This is a confection that has been around a fe...</td>\n",
       "      <td>509</td>\n",
       "      <td>94</td>\n",
       "      <td>around light citrus nut case cut tiny square c...</td>\n",
       "      <td>0.8624</td>\n",
       "      <td>2</td>\n",
       "    </tr>\n",
       "    <tr>\n",
       "      <th>3</th>\n",
       "      <td>2</td>\n",
       "      <td>If you are looking for the secret ingredient i...</td>\n",
       "      <td>219</td>\n",
       "      <td>41</td>\n",
       "      <td>look secret ingredient believe find get additi...</td>\n",
       "      <td>0.4404</td>\n",
       "      <td>2</td>\n",
       "    </tr>\n",
       "    <tr>\n",
       "      <th>4</th>\n",
       "      <td>5</td>\n",
       "      <td>Great taffy at a great price.  There was a wid...</td>\n",
       "      <td>140</td>\n",
       "      <td>27</td>\n",
       "      <td>great taffy great price wide assortment yummy ...</td>\n",
       "      <td>0.9468</td>\n",
       "      <td>2</td>\n",
       "    </tr>\n",
       "    <tr>\n",
       "      <th>5</th>\n",
       "      <td>4</td>\n",
       "      <td>I got a wild hair for taffy and ordered this f...</td>\n",
       "      <td>416</td>\n",
       "      <td>72</td>\n",
       "      <td>get wild hair taffy order five pound bag taffy...</td>\n",
       "      <td>0.9136</td>\n",
       "      <td>2</td>\n",
       "    </tr>\n",
       "    <tr>\n",
       "      <th>6</th>\n",
       "      <td>5</td>\n",
       "      <td>This saltwater taffy had great flavors and was...</td>\n",
       "      <td>304</td>\n",
       "      <td>49</td>\n",
       "      <td>taffy great flavor soft chewy candy individual...</td>\n",
       "      <td>0.9422</td>\n",
       "      <td>2</td>\n",
       "    </tr>\n",
       "    <tr>\n",
       "      <th>7</th>\n",
       "      <td>5</td>\n",
       "      <td>This taffy is so good.  It is very soft and ch...</td>\n",
       "      <td>140</td>\n",
       "      <td>24</td>\n",
       "      <td>taffy good soft chewy flavor amaze would defin...</td>\n",
       "      <td>0.9274</td>\n",
       "      <td>2</td>\n",
       "    </tr>\n",
       "    <tr>\n",
       "      <th>8</th>\n",
       "      <td>5</td>\n",
       "      <td>Right now I'm mostly just sprouting this so my...</td>\n",
       "      <td>131</td>\n",
       "      <td>26</td>\n",
       "      <td>right mostly cat eat grass love around</td>\n",
       "      <td>0.6369</td>\n",
       "      <td>2</td>\n",
       "    </tr>\n",
       "    <tr>\n",
       "      <th>9</th>\n",
       "      <td>5</td>\n",
       "      <td>This is a very healthy dog food. Good for thei...</td>\n",
       "      <td>137</td>\n",
       "      <td>25</td>\n",
       "      <td>healthy dog food good digestion also good smal...</td>\n",
       "      <td>0.8176</td>\n",
       "      <td>2</td>\n",
       "    </tr>\n",
       "    <tr>\n",
       "      <th>10</th>\n",
       "      <td>5</td>\n",
       "      <td>I don't know if it's the cactus or the tequila...</td>\n",
       "      <td>779</td>\n",
       "      <td>146</td>\n",
       "      <td>know cactus tequila unique combination ingredi...</td>\n",
       "      <td>0.9595</td>\n",
       "      <td>2</td>\n",
       "    </tr>\n",
       "    <tr>\n",
       "      <th>11</th>\n",
       "      <td>5</td>\n",
       "      <td>One of my boys needed to lose some weight and ...</td>\n",
       "      <td>328</td>\n",
       "      <td>64</td>\n",
       "      <td>one boy need lose weight put food floor chubby...</td>\n",
       "      <td>-0.2023</td>\n",
       "      <td>0</td>\n",
       "    </tr>\n",
       "    <tr>\n",
       "      <th>12</th>\n",
       "      <td>1</td>\n",
       "      <td>My cats have been happily eating Felidae Plati...</td>\n",
       "      <td>399</td>\n",
       "      <td>79</td>\n",
       "      <td>cat happily eat felidae platinum two year get ...</td>\n",
       "      <td>0.2960</td>\n",
       "      <td>2</td>\n",
       "    </tr>\n",
       "    <tr>\n",
       "      <th>13</th>\n",
       "      <td>4</td>\n",
       "      <td>good flavor! these came securely packed... the...</td>\n",
       "      <td>97</td>\n",
       "      <td>15</td>\n",
       "      <td>good flavor come securely pack fresh delicious...</td>\n",
       "      <td>0.9382</td>\n",
       "      <td>2</td>\n",
       "    </tr>\n",
       "    <tr>\n",
       "      <th>14</th>\n",
       "      <td>5</td>\n",
       "      <td>The Strawberry Twizzlers are my guilty pleasur...</td>\n",
       "      <td>113</td>\n",
       "      <td>22</td>\n",
       "      <td>strawberry twizzlers guilty pleasure yummy six...</td>\n",
       "      <td>0.6486</td>\n",
       "      <td>2</td>\n",
       "    </tr>\n",
       "    <tr>\n",
       "      <th>15</th>\n",
       "      <td>5</td>\n",
       "      <td>My daughter loves twizzlers and this shipment ...</td>\n",
       "      <td>155</td>\n",
       "      <td>24</td>\n",
       "      <td>daughter love twizzlers shipment six pound rea...</td>\n",
       "      <td>0.6369</td>\n",
       "      <td>2</td>\n",
       "    </tr>\n",
       "    <tr>\n",
       "      <th>16</th>\n",
       "      <td>2</td>\n",
       "      <td>I love eating them and they are good for watch...</td>\n",
       "      <td>195</td>\n",
       "      <td>42</td>\n",
       "      <td>love eat good watch tv look sweet like zip loc...</td>\n",
       "      <td>0.9313</td>\n",
       "      <td>2</td>\n",
       "    </tr>\n",
       "    <tr>\n",
       "      <th>17</th>\n",
       "      <td>5</td>\n",
       "      <td>I am very satisfied with my Twizzler purchase....</td>\n",
       "      <td>141</td>\n",
       "      <td>25</td>\n",
       "      <td>satisfied purchase share others enjoy definite...</td>\n",
       "      <td>0.8720</td>\n",
       "      <td>2</td>\n",
       "    </tr>\n",
       "    <tr>\n",
       "      <th>18</th>\n",
       "      <td>5</td>\n",
       "      <td>Twizzlers, Strawberry my childhood favorite ca...</td>\n",
       "      <td>746</td>\n",
       "      <td>131</td>\n",
       "      <td>twizzlers strawberry childhood favorite candy ...</td>\n",
       "      <td>0.9274</td>\n",
       "      <td>2</td>\n",
       "    </tr>\n",
       "    <tr>\n",
       "      <th>19</th>\n",
       "      <td>5</td>\n",
       "      <td>Candy was delivered very fast and was purchase...</td>\n",
       "      <td>145</td>\n",
       "      <td>29</td>\n",
       "      <td>candy deliver fast purchase reasonable price h...</td>\n",
       "      <td>0.5719</td>\n",
       "      <td>2</td>\n",
       "    </tr>\n",
       "  </tbody>\n",
       "</table>\n",
       "</div>"
      ],
      "text/plain": [
       "    Score                                               Text  Char_count  \\\n",
       "0       5  I have bought several of the Vitality canned d...         263   \n",
       "1       1  Product arrived labeled as Jumbo Salted Peanut...         190   \n",
       "2       4  This is a confection that has been around a fe...         509   \n",
       "3       2  If you are looking for the secret ingredient i...         219   \n",
       "4       5  Great taffy at a great price.  There was a wid...         140   \n",
       "5       4  I got a wild hair for taffy and ordered this f...         416   \n",
       "6       5  This saltwater taffy had great flavors and was...         304   \n",
       "7       5  This taffy is so good.  It is very soft and ch...         140   \n",
       "8       5  Right now I'm mostly just sprouting this so my...         131   \n",
       "9       5  This is a very healthy dog food. Good for thei...         137   \n",
       "10      5  I don't know if it's the cactus or the tequila...         779   \n",
       "11      5  One of my boys needed to lose some weight and ...         328   \n",
       "12      1  My cats have been happily eating Felidae Plati...         399   \n",
       "13      4  good flavor! these came securely packed... the...          97   \n",
       "14      5  The Strawberry Twizzlers are my guilty pleasur...         113   \n",
       "15      5  My daughter loves twizzlers and this shipment ...         155   \n",
       "16      2  I love eating them and they are good for watch...         195   \n",
       "17      5  I am very satisfied with my Twizzler purchase....         141   \n",
       "18      5  Twizzlers, Strawberry my childhood favorite ca...         746   \n",
       "19      5  Candy was delivered very fast and was purchase...         145   \n",
       "\n",
       "    Word_Count                                       Cleaned_Text  \\\n",
       "0           48  buy several can dog food product find good qua...   \n",
       "1           31  product arrive label jumbo salt peanut peanut ...   \n",
       "2           94  around light citrus nut case cut tiny square c...   \n",
       "3           41  look secret ingredient believe find get additi...   \n",
       "4           27  great taffy great price wide assortment yummy ...   \n",
       "5           72  get wild hair taffy order five pound bag taffy...   \n",
       "6           49  taffy great flavor soft chewy candy individual...   \n",
       "7           24  taffy good soft chewy flavor amaze would defin...   \n",
       "8           26             right mostly cat eat grass love around   \n",
       "9           25  healthy dog food good digestion also good smal...   \n",
       "10         146  know cactus tequila unique combination ingredi...   \n",
       "11          64  one boy need lose weight put food floor chubby...   \n",
       "12          79  cat happily eat felidae platinum two year get ...   \n",
       "13          15  good flavor come securely pack fresh delicious...   \n",
       "14          22  strawberry twizzlers guilty pleasure yummy six...   \n",
       "15          24  daughter love twizzlers shipment six pound rea...   \n",
       "16          42  love eat good watch tv look sweet like zip loc...   \n",
       "17          25  satisfied purchase share others enjoy definite...   \n",
       "18         131  twizzlers strawberry childhood favorite candy ...   \n",
       "19          29  candy deliver fast purchase reasonable price h...   \n",
       "\n",
       "    polarity_score  Sentiment  \n",
       "0           0.9022          2  \n",
       "1          -0.1027          0  \n",
       "2           0.8624          2  \n",
       "3           0.4404          2  \n",
       "4           0.9468          2  \n",
       "5           0.9136          2  \n",
       "6           0.9422          2  \n",
       "7           0.9274          2  \n",
       "8           0.6369          2  \n",
       "9           0.8176          2  \n",
       "10          0.9595          2  \n",
       "11         -0.2023          0  \n",
       "12          0.2960          2  \n",
       "13          0.9382          2  \n",
       "14          0.6486          2  \n",
       "15          0.6369          2  \n",
       "16          0.9313          2  \n",
       "17          0.8720          2  \n",
       "18          0.9274          2  \n",
       "19          0.5719          2  "
      ]
     },
     "execution_count": 43,
     "metadata": {},
     "output_type": "execute_result"
    }
   ],
   "source": [
    "from sklearn.preprocessing import LabelEncoder\n",
    "data[\"Sentiment\"] = LabelEncoder().fit_transform(data[\"Sentiment\"])\n",
    "data.head(20)"
   ]
  },
  {
   "cell_type": "code",
   "execution_count": 44,
   "id": "ae0bb3f9",
   "metadata": {},
   "outputs": [
    {
     "data": {
      "text/plain": [
       "Sentiment\n",
       "2    909\n",
       "0     70\n",
       "1     20\n",
       "Name: count, dtype: int64"
      ]
     },
     "execution_count": 44,
     "metadata": {},
     "output_type": "execute_result"
    }
   ],
   "source": [
    "data[\"Sentiment\"].value_counts()"
   ]
  },
  {
   "cell_type": "code",
   "execution_count": 45,
   "id": "6bf9073b",
   "metadata": {},
   "outputs": [],
   "source": [
    "# Seperating Positive, Negative and Neutral Sentiment\n",
    "positive_texts = ' '.join(data[data['Sentiment'] == 1]['Cleaned_Text'])\n",
    "neutral_texts = ' '.join(data[data['Sentiment'] == 2]['Cleaned_Text'])\n",
    "negative_texts = ' '.join(data[data['Sentiment'] == 0]['Cleaned_Text'])"
   ]
  },
  {
   "cell_type": "code",
   "execution_count": 46,
   "id": "f0a1a6a2",
   "metadata": {},
   "outputs": [
    {
     "name": "stdout",
     "output_type": "stream",
     "text": [
      "Positive texts length: 1450\n",
      "Neutral texts length: 196390\n",
      "Negative texts length: 11595\n"
     ]
    }
   ],
   "source": [
    "print(f'Positive texts length: {len(positive_texts)}')\n",
    "print(f'Neutral texts length: {len(neutral_texts)}')\n",
    "print(f'Negative texts length: {len(negative_texts)}')"
   ]
  },
  {
   "cell_type": "code",
   "execution_count": 47,
   "id": "91890955",
   "metadata": {},
   "outputs": [],
   "source": [
    "# Generating word clouds\n",
    "positive_wordcloud = WordCloud(width=800, height=400, background_color='black').generate(positive_texts)\n",
    "neutral_wordcloud = WordCloud(width=800, height=400, background_color='black').generate(neutral_texts)\n",
    "negative_wordcloud = WordCloud(width=800, height=400, background_color='black').generate(negative_texts)\n"
   ]
  },
  {
   "cell_type": "code",
   "execution_count": 48,
   "id": "55b31c61",
   "metadata": {},
   "outputs": [
    {
     "data": {
      "image/png": "[encoded data removed]",
      "text/plain": [
       "<Figure size 1000x1000 with 3 Axes>"
      ]
     },
     "metadata": {},
     "output_type": "display_data"
    }
   ],
   "source": [
    "# Display the word clouds\n",
    "plt.figure(figsize=(10, 10))\n",
    "\n",
    "# Positive word cloud\n",
    "plt.subplot(1, 3, 1)\n",
    "plt.imshow(positive_wordcloud, interpolation='bilinear')\n",
    "plt.title('Positive Sentiments')\n",
    "plt.axis('off')\n",
    "\n",
    "# Neutral word cloud\n",
    "plt.subplot(1, 3, 2)\n",
    "plt.imshow(neutral_wordcloud, interpolation='bilinear')\n",
    "plt.title('Neutral Sentiments')\n",
    "plt.axis('off')\n",
    "\n",
    "# Negative word cloud\n",
    "plt.subplot(1, 3, 3)\n",
    "plt.imshow(negative_wordcloud, interpolation='bilinear')\n",
    "plt.title('Negative Sentiments')\n",
    "plt.axis('off')\n",
    "\n",
    "plt.show()"
   ]
  },
  {
   "cell_type": "code",
   "execution_count": 49,
   "id": "b5ab20a9",
   "metadata": {},
   "outputs": [],
   "source": [
    "X = data[\"Cleaned_Text\"] # independent variable"
   ]
  },
  {
   "cell_type": "code",
   "execution_count": 50,
   "id": "c7aca89f",
   "metadata": {},
   "outputs": [],
   "source": [
    "Y= data[\"Sentiment\"] #dependent Variable"
   ]
  },
  {
   "cell_type": "markdown",
   "id": "5ffb2b2b",
   "metadata": {},
   "source": [
    "# Count Vectorizer"
   ]
  },
  {
   "cell_type": "markdown",
   "id": "df473a02",
   "metadata": {},
   "source": [
    "CountVectorizer from Scikit-learn is used to convert a collection of text documents into a matrix of token counts. This is a common preprocessing step in natural language processing (NLP) and text mining tasks. It creates a bag-of-words representation, where each text document is represented by the frequency (or count) of each word that appears in the document. This model does not consider word order but focuses on the presence or absence of words. Each unique word in the corpus becomes a feature (a column in the matrix), and each document is represented as a vector where the value of each feature is the count of that word in the document."
   ]
  },
  {
   "cell_type": "code",
   "execution_count": 51,
   "id": "64d55cd5",
   "metadata": {},
   "outputs": [],
   "source": [
    "from sklearn.feature_extraction.text import CountVectorizer\n",
    "vectorizer = CountVectorizer()\n",
    "X_cv = vectorizer.fit_transform(X)"
   ]
  },
  {
   "cell_type": "code",
   "execution_count": 52,
   "id": "9583dcb8",
   "metadata": {},
   "outputs": [
    {
     "data": {
      "text/plain": [
       "array(['absence', 'absolute', 'absolutely', 'absorb', 'acai',\n",
       "       'acceptable', 'access', 'accident', 'accord', 'account', 'acerola',\n",
       "       'acid', 'acquire', 'across', 'act', 'active', 'activity', 'actual',\n",
       "       'actually', 'ad', 'add', 'added', 'addict', 'addicted',\n",
       "       'addiction', 'addictive', 'addition', 'additionally', 'additive',\n",
       "       'address', 'admit', 'adore', 'adult', 'advantage', 'advertise',\n",
       "       'advertised', 'advertising', 'affect', 'affordable', 'afternoon',\n",
       "       'aftertaste', 'afterwards', 'agave', 'age', 'ago', 'agree',\n",
       "       'ahead', 'ahmad', 'aholic'], dtype=object)"
      ]
     },
     "execution_count": 52,
     "metadata": {},
     "output_type": "execute_result"
    }
   ],
   "source": [
    "vectorizer.get_feature_names_out()[1:50]"
   ]
  },
  {
   "cell_type": "code",
   "execution_count": 53,
   "id": "73aa8946",
   "metadata": {},
   "outputs": [
    {
     "data": {
      "text/plain": [
       "array([[0, 0, 0, ..., 0, 0, 0],\n",
       "       [0, 0, 0, ..., 0, 0, 0],\n",
       "       [0, 0, 0, ..., 0, 0, 0],\n",
       "       ...,\n",
       "       [0, 0, 0, ..., 0, 0, 0],\n",
       "       [0, 0, 0, ..., 0, 0, 0],\n",
       "       [0, 0, 0, ..., 0, 0, 0]], dtype=int64)"
      ]
     },
     "execution_count": 53,
     "metadata": {},
     "output_type": "execute_result"
    }
   ],
   "source": [
    "X_cv.toarray()"
   ]
  },
  {
   "cell_type": "markdown",
   "id": "484a4595",
   "metadata": {},
   "source": [
    "N-Gram Frequency"
   ]
  },
  {
   "cell_type": "code",
   "execution_count": 55,
   "id": "f47ad506",
   "metadata": {},
   "outputs": [
    {
     "data": {
      "text/plain": [
       "array(['able buy', 'able eat', 'able find', 'able fully', 'able get',\n",
       "       'able keep', 'able make', 'able munch', 'able rip', 'able save',\n",
       "       'able substitute', 'able tell', 'able test', 'able three',\n",
       "       'able warm', 'absence corn', 'absence especially', 'absolute best',\n",
       "       'absolute favorite', 'absolutely amaze', 'absolutely artificial',\n",
       "       'absolutely delicious', 'absolutely excellent',\n",
       "       'absolutely flavoring', 'absolutely forget', 'absolutely hate',\n",
       "       'absolutely husband', 'absolutely interest', 'absolutely love',\n",
       "       'absolutely nothing', 'absolutely recommend', 'absorb flavor',\n",
       "       'absorb liquid', 'absorb water', 'acai berry', 'acai experience',\n",
       "       'acai flavor', 'acai high', 'acai ingredient', 'acai juice',\n",
       "       'acai organic', 'acceptable buy', 'acceptable consistency',\n",
       "       'access coffee', 'access hot', 'accident amazon', 'accident find',\n",
       "       'accord bag', 'accord guinness'], dtype=object)"
      ]
     },
     "execution_count": 55,
     "metadata": {},
     "output_type": "execute_result"
    }
   ],
   "source": [
    "vectorizer_2 = CountVectorizer(analyzer='word', ngram_range=(2, 2))\n",
    "X_ngram = vectorizer_2.fit_transform(X)\n",
    "vectorizer_2.get_feature_names_out()[1:50]"
   ]
  },
  {
   "cell_type": "code",
   "execution_count": 56,
   "id": "08fd778e",
   "metadata": {},
   "outputs": [
    {
     "data": {
      "text/plain": [
       "array([[0, 0, 0, ..., 0, 0, 0],\n",
       "       [0, 0, 0, ..., 0, 0, 0],\n",
       "       [0, 0, 0, ..., 0, 0, 0],\n",
       "       ...,\n",
       "       [0, 0, 0, ..., 0, 0, 0],\n",
       "       [0, 0, 0, ..., 0, 0, 0],\n",
       "       [0, 0, 0, ..., 0, 0, 0]], dtype=int64)"
      ]
     },
     "execution_count": 56,
     "metadata": {},
     "output_type": "execute_result"
    }
   ],
   "source": [
    "X_ngram.toarray()"
   ]
  },
  {
   "cell_type": "markdown",
   "id": "052a969b",
   "metadata": {},
   "source": [
    "# TF-IDF"
   ]
  },
  {
   "cell_type": "markdown",
   "id": "b53dd972",
   "metadata": {},
   "source": [
    "TF-IDF is similar to \"CountVectorizer()\" but instead of just counting the occurence of words in each document, it calculates the term frequency- inverse document frequency (TF-IDF) value of each value.\n",
    "\n",
    "* Term Frequency (TF):- It measures how frequently a term(word) appears in a document\n",
    "TF = (Number of times term t appears in a document) / (Total number of terms in the document)\n",
    "\n",
    "* Inverse Document Frequency (IDF):- Measures how important a term is across the entire corpus.\n",
    "IDF = log_e(Total number of documents / Number of documents with term t in it)\n",
    "\n",
    "* TF-IDF:- It is the product of TF and IDF, giving a higher weight to terms that are rare in the entire corpus but frequent in specific documents.\n",
    "TF-IDF = TF * IDF\n",
    "\n"
   ]
  },
  {
   "cell_type": "code",
   "execution_count": 57,
   "id": "c9b25707",
   "metadata": {},
   "outputs": [],
   "source": [
    "from sklearn.feature_extraction.text import TfidfVectorizer\n",
    "\n",
    "tf_idf_vectorizer = TfidfVectorizer()\n",
    "\n",
    "# Fit and transform the document\n",
    "X_tf_idf = tf_idf_vectorizer.fit_transform(X)"
   ]
  },
  {
   "cell_type": "code",
   "execution_count": 73,
   "id": "efb5275b",
   "metadata": {},
   "outputs": [
    {
     "name": "stdout",
     "output_type": "stream",
     "text": [
      "TF-IDF Feature Names:\n"
     ]
    },
    {
     "data": {
      "text/plain": [
       "array(['absence', 'absolute', 'absolutely', 'absorb', 'acai',\n",
       "       'acceptable', 'access', 'accident', 'accord', 'account', 'acerola',\n",
       "       'acid', 'acquire', 'across', 'act', 'active', 'activity', 'actual',\n",
       "       'actually', 'ad', 'add', 'added', 'addict', 'addicted',\n",
       "       'addiction', 'addictive', 'addition', 'additionally', 'additive',\n",
       "       'address', 'admit', 'adore', 'adult', 'advantage', 'advertise',\n",
       "       'advertised', 'advertising', 'affect', 'affordable', 'afternoon',\n",
       "       'aftertaste', 'afterwards', 'agave', 'age', 'ago', 'agree',\n",
       "       'ahead', 'ahmad', 'aholic'], dtype=object)"
      ]
     },
     "execution_count": 73,
     "metadata": {},
     "output_type": "execute_result"
    }
   ],
   "source": [
    "print(\"TF-IDF Feature Names:\")\n",
    "tf_idf_vectorizer.get_feature_names_out()[1:50]"
   ]
  },
  {
   "cell_type": "code",
   "execution_count": 59,
   "id": "11cf26bf",
   "metadata": {},
   "outputs": [
    {
     "data": {
      "text/plain": [
       "array([[0., 0., 0., ..., 0., 0., 0.],\n",
       "       [0., 0., 0., ..., 0., 0., 0.],\n",
       "       [0., 0., 0., ..., 0., 0., 0.],\n",
       "       ...,\n",
       "       [0., 0., 0., ..., 0., 0., 0.],\n",
       "       [0., 0., 0., ..., 0., 0., 0.],\n",
       "       [0., 0., 0., ..., 0., 0., 0.]])"
      ]
     },
     "execution_count": 59,
     "metadata": {},
     "output_type": "execute_result"
    }
   ],
   "source": [
    "X_tf_idf.toarray()"
   ]
  },
  {
   "cell_type": "code",
   "execution_count": 74,
   "id": "6a86946a",
   "metadata": {},
   "outputs": [
    {
     "name": "stdout",
     "output_type": "stream",
     "text": [
      "TF-IDF Matrix Shape:\n",
      "(999, 2487)\n"
     ]
    }
   ],
   "source": [
    "# Print the TF-IDF matrix for debugging\n",
    "print(\"TF-IDF Matrix Shape:\")\n",
    "print(X_tf_idf.shape)"
   ]
  },
  {
   "cell_type": "code",
   "execution_count": 75,
   "id": "2ef6c686",
   "metadata": {},
   "outputs": [
    {
     "name": "stdout",
     "output_type": "stream",
     "text": [
      "Cluster Assignments:\n",
      "0      1\n",
      "1      2\n",
      "2      2\n",
      "3      1\n",
      "4      2\n",
      "      ..\n",
      "994    1\n",
      "995    1\n",
      "996    1\n",
      "997    1\n",
      "998    2\n",
      "Name: Cluster, Length: 999, dtype: int32\n"
     ]
    }
   ],
   "source": [
    "from sklearn.cluster import KMeans\n",
    "\n",
    "# Cluster the text data\n",
    "num_clusters = 3  # Adjust this number according to your dataset\n",
    "kmeans = KMeans(n_clusters=num_clusters, random_state=42)\n",
    "kmeans.fit(X_tf_idf)\n",
    "data['Cluster'] = kmeans.labels_\n",
    "\n",
    "# Print the cluster assignments for debugging\n",
    "print(\"Cluster Assignments:\")\n",
    "print(data['Cluster'])\n"
   ]
  },
  {
   "cell_type": "code",
   "execution_count": 78,
   "id": "97d903be",
   "metadata": {},
   "outputs": [
    {
     "data": {
      "image/png": "[encoded data removed]",
      "text/plain": [
       "<Figure size 1000x600 with 1 Axes>"
      ]
     },
     "metadata": {},
     "output_type": "display_data"
    }
   ],
   "source": [
    "from sklearn.decomposition import PCA\n",
    "\n",
    "# Use PCA to reduce dimensions for visualization\n",
    "pca = PCA(n_components=2, random_state=42)\n",
    "pca_result = pca.fit_transform(X_tf_idf.toarray())\n",
    "\n",
    "# Create a DataFrame for visualization\n",
    "data['PCA1'] = pca_result[:, 0]\n",
    "data['PCA2'] = pca_result[:, 1]\n",
    "\n",
    "# Plot the clusters\n",
    "plt.figure(figsize=(10, 6))\n",
    "scatter = plt.scatter(data['PCA1'], data['PCA2'], c=data['Cluster'], cmap='viridis')\n",
    "plt.legend(*scatter.legend_elements(), title=\"Clusters\")\n",
    "plt.title('Clusters of Reviews')\n",
    "plt.xlabel('PCA1')\n",
    "plt.ylabel('PCA2')\n",
    "plt.show()"
   ]
  },
  {
   "cell_type": "markdown",
   "id": "a252a4f0",
   "metadata": {},
   "source": [
    "N-Gram Frequency"
   ]
  },
  {
   "cell_type": "code",
   "execution_count": 80,
   "id": "7c874f58",
   "metadata": {},
   "outputs": [
    {
     "data": {
      "text/plain": [
       "array(['absolute favorite', 'absolutely delicious', 'absolutely love',\n",
       "       'acai juice', 'acid subdue', 'actually know', 'actually like',\n",
       "       'actually make', 'actually order', 'actually pretty',\n",
       "       'actually taste', 'add bit', 'add great', 'add little',\n",
       "       'add oatmeal', 'add spice', 'add veggie', 'add water',\n",
       "       'add wonderful', 'added bonus', 'addict buy', 'addict good',\n",
       "       'addict salty', 'admit chip', 'afternoon drink', 'afternoon snack',\n",
       "       'aftertaste like', 'agave nectar', 'age oak', 'age vet',\n",
       "       'agree previous', 'agree review', 'ahmad tea', 'air help',\n",
       "       'air tight', 'alternate bite', 'amazing crunch', 'amazon able',\n",
       "       'amazon buy', 'amazon carry', 'amazon cheap', 'amazon com',\n",
       "       'amazon come', 'amazon day', 'amazon free', 'amazon good',\n",
       "       'amazon great', 'amazon grocery', 'amazon hard'], dtype=object)"
      ]
     },
     "execution_count": 80,
     "metadata": {},
     "output_type": "execute_result"
    }
   ],
   "source": [
    "tf_idf_vectorizer_2 = TfidfVectorizer(ngram_range=(2,2), max_df=0.85, min_df=2, stop_words='english')\n",
    "X_tf_idf_ngram = tf_idf_vectorizer_2.fit_transform(X)\n",
    "tf_idf_vectorizer_2.get_feature_names_out()[1:50]"
   ]
  },
  {
   "cell_type": "code",
   "execution_count": 81,
   "id": "3503920f",
   "metadata": {},
   "outputs": [
    {
     "data": {
      "text/plain": [
       "array([[0., 0., 0., ..., 0., 0., 0.],\n",
       "       [0., 0., 0., ..., 0., 0., 0.],\n",
       "       [0., 0., 0., ..., 0., 0., 0.],\n",
       "       ...,\n",
       "       [0., 0., 0., ..., 0., 0., 0.],\n",
       "       [0., 0., 0., ..., 0., 0., 0.],\n",
       "       [0., 0., 0., ..., 0., 0., 0.]])"
      ]
     },
     "execution_count": 81,
     "metadata": {},
     "output_type": "execute_result"
    }
   ],
   "source": [
    "X_tf_idf_ngram.toarray()"
   ]
  },
  {
   "cell_type": "code",
   "execution_count": 83,
   "id": "ea9781bb",
   "metadata": {},
   "outputs": [
    {
     "name": "stdout",
     "output_type": "stream",
     "text": [
      "Cluster Assignments:\n",
      "0      0\n",
      "1      0\n",
      "2      0\n",
      "3      0\n",
      "4      0\n",
      "      ..\n",
      "994    0\n",
      "995    0\n",
      "996    0\n",
      "997    0\n",
      "998    0\n",
      "Name: Cluster_ngram, Length: 999, dtype: int32\n"
     ]
    },
    {
     "data": {
      "image/png": "[encoded data removed]",
      "text/plain": [
       "<Figure size 1000x600 with 1 Axes>"
      ]
     },
     "metadata": {},
     "output_type": "display_data"
    }
   ],
   "source": [
    "# Cluster the text data\n",
    "num_clusters = 3  # Adjust this number according to your dataset\n",
    "kmeans = KMeans(n_clusters=num_clusters, random_state=42)\n",
    "kmeans.fit(X_tf_idf_ngram)\n",
    "data['Cluster_ngram'] = kmeans.labels_\n",
    "\n",
    "# Print the cluster assignments for debugging\n",
    "print(\"Cluster Assignments:\")\n",
    "print(data['Cluster_ngram'])\n",
    "\n",
    "# Use PCA to reduce dimensions for visualization\n",
    "pca_ngram = PCA(n_components=2, random_state=42)\n",
    "pca_ngram_result = pca_ngram.fit_transform(X_tf_idf_ngram.toarray())\n",
    "\n",
    "# Create a DataFrame for visualization\n",
    "data['PCA_ngram_1'] = pca_ngram_result[:, 0]\n",
    "data['PCA_ngram_2'] = pca_ngram_result[:, 1]\n",
    "\n",
    "# Plot the clusters using matplotlib.pyplot.scatter\n",
    "plt.figure(figsize=(10, 6))\n",
    "scatter = plt.scatter(data['PCA_ngram_1'], data['PCA_ngram_2'], c=data['Cluster_ngram'], cmap='viridis')\n",
    "plt.legend(*scatter.legend_elements(), title=\"Clusters\")\n",
    "plt.title('Clusters of Reviews')\n",
    "plt.xlabel('PCA_ngram_1')\n",
    "plt.ylabel('PCA_ngram_2')\n",
    "plt.show()"
   ]
  },
  {
   "cell_type": "markdown",
   "id": "50d2e3ad",
   "metadata": {},
   "source": [
    "# Sentiment Analysis Modeling"
   ]
  },
  {
   "cell_type": "code",
   "execution_count": 84,
   "id": "5335839a",
   "metadata": {},
   "outputs": [],
   "source": [
    "import numpy as np\n",
    "import pandas as pd\n",
    "from sklearn.model_selection import train_test_split\n",
    "from sklearn.metrics import mean_squared_error, r2_score\n",
    "from sklearn.model_selection import train_test_split, cross_val_score, GridSearchCV\n",
    "from sklearn.preprocessing import StandardScaler\n",
    "from scipy.sparse import csr_matrix\n",
    "from sklearn.metrics import accuracy_score, classification_report\n",
    "\n",
    "# Split the data into training and testing sets\n",
    "X_train, X_test, y_train, y_test = train_test_split(X_tf_idf, Y, test_size=0.2, random_state=42)\n",
    "\n",
    "\n",
    "# Convert X_train to a sparse matrix (CSR format for example)\n",
    "# Sparse matrices cannot be used directly with the StandardScaler unless you specifically set with_mean=False. \n",
    "# When working with high-dimensional data, such as text data that has been transformed using methods like TF-IDF,sparse matrices are usually employed.\n",
    "X_train_sparse = csr_matrix(X_train)\n",
    "\n",
    "#Perform cross-validation on the training set for hyperparameter tuning\n",
    "scaler = StandardScaler(with_mean=False)\n",
    "X_train_scaled = scaler.fit_transform(X_train_sparse)"
   ]
  },
  {
   "cell_type": "markdown",
   "id": "fe69cbc4",
   "metadata": {},
   "source": [
    "# Support Vector Regression - SVR"
   ]
  },
  {
   "cell_type": "code",
   "execution_count": 85,
   "id": "61fc73d5",
   "metadata": {},
   "outputs": [],
   "source": [
    "from sklearn.svm import SVR"
   ]
  },
  {
   "cell_type": "code",
   "execution_count": 86,
   "id": "ae2578ac",
   "metadata": {},
   "outputs": [
    {
     "data": {
      "text/plain": [
       "-0.03216538385203591"
      ]
     },
     "execution_count": 86,
     "metadata": {},
     "output_type": "execute_result"
    }
   ],
   "source": [
    "# Count Vectors\n",
    "svr_model = SVR(kernel='rbf', C=10).fit(X_cv, Y)\n",
    "cross_val_score(svr_model, X_cv, Y, cv=5, n_jobs=-1).mean()"
   ]
  },
  {
   "cell_type": "code",
   "execution_count": 87,
   "id": "bbe6c183",
   "metadata": {},
   "outputs": [
    {
     "data": {
      "text/plain": [
       "0.019215674984961417"
      ]
     },
     "execution_count": 87,
     "metadata": {},
     "output_type": "execute_result"
    }
   ],
   "source": [
    "# TF-IDF Word-Level\n",
    "svr_tf_model = SVR(kernel='rbf', C=10).fit(X_tf_idf, Y)\n",
    "cross_val_score(svr_tf_model, X_tf_idf, Y, cv=5, n_jobs=-1).mean()"
   ]
  },
  {
   "cell_type": "code",
   "execution_count": 88,
   "id": "a8095e9a",
   "metadata": {},
   "outputs": [
    {
     "data": {
      "text/plain": [
       "-0.054504478181514694"
      ]
     },
     "execution_count": 88,
     "metadata": {},
     "output_type": "execute_result"
    }
   ],
   "source": [
    "# TF-IDF N-GRAM\n",
    "svr_ng_model = SVR(kernel='rbf', C=10).fit(X_tf_idf_ngram, Y)\n",
    "cross_val_score(svr_ng_model, X_tf_idf_ngram, Y, cv=5, n_jobs=-1).mean()"
   ]
  },
  {
   "cell_type": "markdown",
   "id": "5ac44be2",
   "metadata": {},
   "source": [
    "Hyperparameter Optimization - SVR"
   ]
  },
  {
   "cell_type": "code",
   "execution_count": 89,
   "id": "db2ee987",
   "metadata": {},
   "outputs": [
    {
     "name": "stdout",
     "output_type": "stream",
     "text": [
      "Fitting 5 folds for each of 18 candidates, totalling 90 fits\n",
      "Mean Squared Error on Test Set: 0.26\n",
      "Mean R^2: 0.02\n",
      "Best Parameters: {'C': 10, 'epsilon': 0.01, 'kernel': 'rbf'}\n"
     ]
    }
   ],
   "source": [
    "# Define the model and parameter grid for tuning\n",
    "svr = SVR()\n",
    "param_grid = {\n",
    "    'kernel': ['linear', 'rbf'],\n",
    "    'C': [0.1, 1, 10],\n",
    "    'epsilon': [0.01, 0.1, 1]\n",
    "}\n",
    "\n",
    "# Perform GridSearchCV with cross-validation\n",
    "grid_search_svr = GridSearchCV(svr, param_grid, scoring='neg_mean_squared_error', cv=5, verbose=1)\n",
    "grid_search_svr.fit(X_train_scaled, y_train)\n",
    "\n",
    "#Train the final model on the entire training set with the best hyperparameters\n",
    "best_svr = grid_search_svr.best_estimator_\n",
    "best_svr.fit(X_train_scaled, y_train)\n",
    "\n",
    "#Evaluate the final model on the test set\n",
    "X_test_scaled_svr = scaler.transform(X_test)\n",
    "y_pred_svr = best_svr.predict(X_test_scaled_svr)\n",
    "\n",
    "\n",
    "# Calculate performance metrics\n",
    "mse_svr = mean_squared_error(y_test, y_pred_svr)\n",
    "print(f'Mean Squared Error on Test Set: {mse_svr:.2f}')\n",
    "\n",
    "# Using R^2 as the scoring metric\n",
    "r2_scores_svr = cross_val_score(svr_model, X_tf_idf, Y, scoring='r2', cv=5).mean()\n",
    "print(f'Mean R^2: {r2_scores_svr:.2f}')\n",
    "\n",
    "# Print the best parameters found during cross-validation\n",
    "print(f'Best Parameters: {grid_search_svr.best_params_}')\n"
   ]
  },
  {
   "cell_type": "code",
   "execution_count": 90,
   "id": "0f197da9",
   "metadata": {},
   "outputs": [
    {
     "name": "stdout",
     "output_type": "stream",
     "text": [
      "Best Model: -0.026505477268915546\n"
     ]
    }
   ],
   "source": [
    "# Count Vectors\n",
    "svr_model_best = SVR(kernel='rbf', C=10, epsilon=0.01).fit(X_cv, Y)\n",
    "print(\"Best Model:\",cross_val_score(svr_model_best, X_cv, Y, cv=5, n_jobs=-1).mean())"
   ]
  },
  {
   "cell_type": "markdown",
   "id": "bd57487e",
   "metadata": {},
   "source": [
    "# Support Vector Classifier - SVC"
   ]
  },
  {
   "cell_type": "code",
   "execution_count": 91,
   "id": "6a94664c",
   "metadata": {},
   "outputs": [],
   "source": [
    "from sklearn.svm import SVC"
   ]
  },
  {
   "cell_type": "code",
   "execution_count": 92,
   "id": "fb14e51c",
   "metadata": {},
   "outputs": [
    {
     "data": {
      "text/plain": [
       "0.8908994974874371"
      ]
     },
     "execution_count": 92,
     "metadata": {},
     "output_type": "execute_result"
    }
   ],
   "source": [
    "# Count Vectors\n",
    "svc_model = SVC(kernel='linear', C=10).fit(X_cv, Y)\n",
    "cross_val_score(svc_model, X_cv, Y, cv=5, n_jobs=-1).mean()"
   ]
  },
  {
   "cell_type": "code",
   "execution_count": 93,
   "id": "0cbb19fe",
   "metadata": {},
   "outputs": [
    {
     "data": {
      "text/plain": [
       "0.9099095477386936"
      ]
     },
     "execution_count": 93,
     "metadata": {},
     "output_type": "execute_result"
    }
   ],
   "source": [
    "# TF-IDF Word-Level\n",
    "svc_tf_model = SVC(kernel='poly', C=10).fit(X_tf_idf, Y)\n",
    "cross_val_score(svc_tf_model, X_tf_idf, Y, cv=5, n_jobs=-1).mean()"
   ]
  },
  {
   "cell_type": "code",
   "execution_count": 94,
   "id": "bb19776c",
   "metadata": {},
   "outputs": [
    {
     "data": {
      "text/plain": [
       "0.9109145728643216"
      ]
     },
     "execution_count": 94,
     "metadata": {},
     "output_type": "execute_result"
    }
   ],
   "source": [
    "# TF-IDF N-GRAM\n",
    "svc_ng_model = SVC(kernel='rbf', C=10).fit(X_tf_idf_ngram, Y)\n",
    "cross_val_score(svc_ng_model, X_tf_idf_ngram, Y, cv=5, n_jobs=-1).mean()"
   ]
  },
  {
   "cell_type": "markdown",
   "id": "775bdf1b",
   "metadata": {},
   "source": [
    "Hyper Parameter Optimization - SVC"
   ]
  },
  {
   "cell_type": "code",
   "execution_count": 96,
   "id": "7f989acf",
   "metadata": {},
   "outputs": [
    {
     "name": "stdout",
     "output_type": "stream",
     "text": [
      "Fitting 5 folds for each of 32 candidates, totalling 160 fits\n",
      "Accuracy: 0.91\n",
      "Mean Squared Error on Test Set: 0.28\n",
      "Best Parameters: {'C': 10, 'gamma': 'scale', 'kernel': 'rbf'}\n"
     ]
    }
   ],
   "source": [
    "# Define the model and parameter grid for tuning\n",
    "svc = SVC()\n",
    "svc_grid = {\n",
    "    'C': [0.1, 1, 10, 100],\n",
    "    'kernel': ['linear', 'poly', 'rbf', 'sigmoid'],\n",
    "    'gamma': ['scale', 'auto']}\n",
    "\n",
    "\n",
    "# Perform GridSearchCV with cross-validation\n",
    "svc_grid = GridSearchCV(estimator=svc, param_grid=svc_grid, scoring='accuracy', cv=5, verbose=1, n_jobs=-1).fit(X_cv, Y)\n",
    "\n",
    "#Train the final model on the entire training set with the best hyperparameters\n",
    "best_svc = svc_grid.best_estimator_\n",
    "best_svc.fit(X_train_scaled, y_train)\n",
    "\n",
    "#Evaluate the final model on the test set\n",
    "X_test_scaled_svc = scaler.transform(X_test)\n",
    "y_pred_svc = best_svc.predict(X_test_scaled_svc)\n",
    "\n",
    "#Calculate the accuracy\n",
    "acc_svc=accuracy_score(y_test,y_pred_svc)\n",
    "print(f'Accuracy: {acc_svc:.2f}')\n",
    "\n",
    "# Calculate performance metrics\n",
    "mse_svc = mean_squared_error(y_test, y_pred_svc)\n",
    "print(f'Mean Squared Error on Test Set: {mse_svc:.2f}')\n",
    "\n",
    "# Print the best parameters found during cross-validation\n",
    "print(f'Best Parameters: {svc_grid.best_params_}')"
   ]
  },
  {
   "cell_type": "code",
   "execution_count": 95,
   "id": "bc26b1a1",
   "metadata": {},
   "outputs": [
    {
     "name": "stdout",
     "output_type": "stream",
     "text": [
      "Best Model: 0.9119095477386935\n"
     ]
    }
   ],
   "source": [
    "# Count Vectors\n",
    "svc_model_best = SVC(kernel='rbf', C=10, gamma='scale').fit(X_cv, Y)\n",
    "print(\"Best Model:\",cross_val_score(svc_model_best, X_cv, Y, cv=5, n_jobs=-1).mean())"
   ]
  },
  {
   "cell_type": "code",
   "execution_count": 97,
   "id": "6d86ae0e",
   "metadata": {},
   "outputs": [
    {
     "name": "stdout",
     "output_type": "stream",
     "text": [
      "              precision    recall  f1-score   support\n",
      "\n",
      "           0       0.00      0.00      0.00        13\n",
      "           1       0.00      0.00      0.00         5\n",
      "           2       0.91      1.00      0.95       182\n",
      "\n",
      "    accuracy                           0.91       200\n",
      "   macro avg       0.30      0.33      0.32       200\n",
      "weighted avg       0.83      0.91      0.87       200\n",
      "\n"
     ]
    }
   ],
   "source": [
    "print(classification_report(y_test, y_pred_svc))"
   ]
  },
  {
   "cell_type": "markdown",
   "id": "aea98b7d",
   "metadata": {},
   "source": [
    "# Random Forest"
   ]
  },
  {
   "cell_type": "code",
   "execution_count": 99,
   "id": "fda6cbdf",
   "metadata": {},
   "outputs": [],
   "source": [
    "from sklearn.ensemble import RandomForestClassifier"
   ]
  },
  {
   "cell_type": "code",
   "execution_count": 100,
   "id": "ad503606",
   "metadata": {},
   "outputs": [
    {
     "data": {
      "text/plain": [
       "0.9099095477386936"
      ]
     },
     "execution_count": 100,
     "metadata": {},
     "output_type": "execute_result"
    }
   ],
   "source": [
    "# Count Vectors\n",
    "rf_model = RandomForestClassifier().fit(X_cv, Y)\n",
    "cross_val_score(rf_model, X_cv, Y, cv=5, n_jobs=-1).mean()"
   ]
  },
  {
   "cell_type": "code",
   "execution_count": 101,
   "id": "2d452bee",
   "metadata": {},
   "outputs": [
    {
     "data": {
      "text/plain": [
       "0.9099095477386936"
      ]
     },
     "execution_count": 101,
     "metadata": {},
     "output_type": "execute_result"
    }
   ],
   "source": [
    "# TF-IDF Word-Level\n",
    "rf_tf_model = RandomForestClassifier(n_estimators=100, random_state=42).fit(X_tf_idf, Y)\n",
    "cross_val_score(rf_tf_model, X_tf_idf, Y, cv=5, n_jobs=-1).mean()"
   ]
  },
  {
   "cell_type": "code",
   "execution_count": 102,
   "id": "9cc012da",
   "metadata": {},
   "outputs": [
    {
     "data": {
      "text/plain": [
       "0.9069095477386935"
      ]
     },
     "execution_count": 102,
     "metadata": {},
     "output_type": "execute_result"
    }
   ],
   "source": [
    "# TF-IDF N-GRAM\n",
    "rf_ng_model = RandomForestClassifier(n_estimators=100, random_state=42).fit(X_tf_idf_ngram, Y)\n",
    "cross_val_score(rf_ng_model, X_tf_idf_ngram, Y, cv=5, n_jobs=-1).mean()"
   ]
  },
  {
   "cell_type": "markdown",
   "id": "67a7558c",
   "metadata": {},
   "source": [
    "Hyper Parameter Optimization - Random Forest"
   ]
  },
  {
   "cell_type": "code",
   "execution_count": 103,
   "id": "384669fe",
   "metadata": {},
   "outputs": [
    {
     "name": "stdout",
     "output_type": "stream",
     "text": [
      "Fitting 5 folds for each of 36 candidates, totalling 180 fits\n",
      "Accuracy: 0.91\n",
      "Mean Squared Error on Test Set: 0.28\n",
      "Best Parameters: {'max_depth': 8, 'max_features': 7, 'min_samples_split': 2, 'n_estimators': 100}\n"
     ]
    }
   ],
   "source": [
    "# Define the model and parameter grid for tuning\n",
    "rf_tf_model = RandomForestClassifier()\n",
    "rf_params = {\"max_depth\": [8, None],\n",
    "             \"max_features\": [7, \"auto\"],\n",
    "             \"min_samples_split\": [2, 5, 8],\n",
    "             \"n_estimators\": [100, 200,300]}\n",
    "\n",
    "# Perform GridSearchCV with cross-validation\n",
    "rf_grid = GridSearchCV(rf_tf_model, rf_params, cv=5, scoring='accuracy', n_jobs=-1, verbose=1).fit(X_cv, Y)\n",
    "\n",
    "#Train the final model on the entire training set with the best hyperparameters\n",
    "best_rf = rf_grid.best_estimator_\n",
    "best_rf.fit(X_train_scaled, y_train)\n",
    "\n",
    "#Evaluate the final model on the test set\n",
    "X_test_scaled_rf = scaler.transform(X_test)\n",
    "y_pred_rf = best_rf.predict(X_test_scaled_rf)\n",
    "\n",
    "#Calculate the accuracy\n",
    "acc_rf=accuracy_score(y_test,y_pred_rf)\n",
    "print(f'Accuracy: {acc_rf:.2f}')\n",
    "\n",
    "# Calculate performance metrics\n",
    "mse_rf = mean_squared_error(y_test, y_pred_rf)\n",
    "print(f'Mean Squared Error on Test Set: {mse_rf:.2f}')\n",
    "\n",
    "# Print the best parameters found during cross-validation\n",
    "print(f'Best Parameters: {rf_grid.best_params_}')"
   ]
  },
  {
   "cell_type": "code",
   "execution_count": 104,
   "id": "4ebd0bbd",
   "metadata": {},
   "outputs": [
    {
     "name": "stdout",
     "output_type": "stream",
     "text": [
      "Best Model:  0.9099095477386936\n"
     ]
    }
   ],
   "source": [
    "# TF-IDF Word-Level - With best parameters\n",
    "rf_tf_model_best = RandomForestClassifier(n_estimators=100, random_state=42).fit(X_tf_idf, Y)\n",
    "print(\"Best Model: \",cross_val_score(rf_tf_model_best, X_tf_idf, Y, cv=5, n_jobs=-1).mean())"
   ]
  },
  {
   "cell_type": "code",
   "execution_count": 105,
   "id": "facf341d",
   "metadata": {},
   "outputs": [
    {
     "name": "stdout",
     "output_type": "stream",
     "text": [
      "              precision    recall  f1-score   support\n",
      "\n",
      "           0       0.00      0.00      0.00        13\n",
      "           1       0.00      0.00      0.00         5\n",
      "           2       0.91      1.00      0.95       182\n",
      "\n",
      "    accuracy                           0.91       200\n",
      "   macro avg       0.30      0.33      0.32       200\n",
      "weighted avg       0.83      0.91      0.87       200\n",
      "\n"
     ]
    }
   ],
   "source": [
    "print(classification_report(y_test, y_pred_rf))"
   ]
  },
  {
   "cell_type": "markdown",
   "id": "0bd2c0c7",
   "metadata": {},
   "source": [
    "# Naive Bayes"
   ]
  },
  {
   "cell_type": "code",
   "execution_count": 106,
   "id": "19d31453",
   "metadata": {},
   "outputs": [],
   "source": [
    "from sklearn.naive_bayes import MultinomialNB"
   ]
  },
  {
   "cell_type": "code",
   "execution_count": 107,
   "id": "41974ba0",
   "metadata": {},
   "outputs": [
    {
     "data": {
      "text/plain": [
       "0.8548793969849247"
      ]
     },
     "execution_count": 107,
     "metadata": {},
     "output_type": "execute_result"
    }
   ],
   "source": [
    "# Count Vectors\n",
    "nb_model = MultinomialNB(alpha=1.0, fit_prior=True,class_prior=None).fit(X_cv, Y)\n",
    "cross_val_score(nb_model, X_cv, Y, cv=5, n_jobs=-1).mean() "
   ]
  },
  {
   "cell_type": "code",
   "execution_count": 108,
   "id": "796c65c0",
   "metadata": {},
   "outputs": [
    {
     "data": {
      "text/plain": [
       "0.9099095477386936"
      ]
     },
     "execution_count": 108,
     "metadata": {},
     "output_type": "execute_result"
    }
   ],
   "source": [
    "# TF-IDF Word-Level\n",
    "nb_tf_model = MultinomialNB(alpha=1.0,fit_prior=True,class_prior=None).fit(X_tf_idf, Y)\n",
    "cross_val_score(nb_tf_model, X_tf_idf, Y, cv=5, n_jobs=-1).mean()"
   ]
  },
  {
   "cell_type": "code",
   "execution_count": 109,
   "id": "7ad68e19",
   "metadata": {},
   "outputs": [
    {
     "data": {
      "text/plain": [
       "0.9029095477386935"
      ]
     },
     "execution_count": 109,
     "metadata": {},
     "output_type": "execute_result"
    }
   ],
   "source": [
    "# TF-IDF N-GRAM\n",
    "nb_ng_model = MultinomialNB(alpha=1.0,fit_prior=True,class_prior=None).fit(X_tf_idf_ngram, Y)\n",
    "cross_val_score(nb_ng_model, X_tf_idf_ngram, Y, cv=5, n_jobs=-1).mean()"
   ]
  },
  {
   "cell_type": "markdown",
   "id": "110c9548",
   "metadata": {},
   "source": [
    "Hyper Parameter Optimization - Naive Bayes"
   ]
  },
  {
   "cell_type": "code",
   "execution_count": 110,
   "id": "9d10f7f3",
   "metadata": {},
   "outputs": [
    {
     "name": "stdout",
     "output_type": "stream",
     "text": [
      "Fitting 5 folds for each of 8 candidates, totalling 40 fits\n",
      "Accuracy: 0.78\n",
      "Mean Squared Error on Test Set: 0.51\n",
      "Best Parameters: {'alpha': 2.0, 'fit_prior': True}\n"
     ]
    }
   ],
   "source": [
    "# Define the model and parameter grid for tuning\n",
    "nb_model = MultinomialNB()\n",
    "\n",
    "nb_params = {\n",
    "    'alpha': [0.1, 0.5, 1.0, 2.0],\n",
    "    'fit_prior': [True, False]}\n",
    "\n",
    "\n",
    "# Perform GridSearchCV with cross-validation\n",
    "nb_grid = GridSearchCV(nb_model, param_grid=nb_params, scoring='accuracy', cv=5, verbose=1, n_jobs=-1).fit(X_cv, Y)\n",
    "\n",
    "#Train the final model on the entire training set with the best hyperparameters\n",
    "best_nb = nb_grid.best_estimator_\n",
    "best_nb.fit(X_train_scaled, y_train)\n",
    "\n",
    "#Evaluate the final model on the test set\n",
    "X_test_scaled_nb = scaler.transform(X_test)\n",
    "y_pred_nb = best_nb.predict(X_test_scaled_nb)\n",
    "\n",
    "#Calculate the accuracy\n",
    "acc_nb=accuracy_score(y_test,y_pred_nb)\n",
    "print(f'Accuracy: {acc_nb:.2f}')\n",
    "\n",
    "# Calculate performance metrics\n",
    "mse_nb = mean_squared_error(y_test, y_pred_nb)\n",
    "print(f'Mean Squared Error on Test Set: {mse_nb:.2f}')\n",
    "\n",
    "# Print the best parameters found during cross-validation\n",
    "print(f'Best Parameters: {nb_grid.best_params_}')"
   ]
  },
  {
   "cell_type": "code",
   "execution_count": 111,
   "id": "9e1a278b",
   "metadata": {},
   "outputs": [
    {
     "name": "stdout",
     "output_type": "stream",
     "text": [
      "Best Model: 0.9099095477386936\n"
     ]
    }
   ],
   "source": [
    "# TF-IDF Word-Level\n",
    "nb_tf_model_best = MultinomialNB(alpha=2.0,fit_prior=True,class_prior=None).fit(X_tf_idf, Y)\n",
    "print(\"Best Model:\",cross_val_score(nb_tf_model_best, X_tf_idf, Y, cv=5, n_jobs=-1).mean())"
   ]
  },
  {
   "cell_type": "code",
   "execution_count": 112,
   "id": "78b8eb78",
   "metadata": {},
   "outputs": [
    {
     "name": "stdout",
     "output_type": "stream",
     "text": [
      "              precision    recall  f1-score   support\n",
      "\n",
      "           0       0.15      0.15      0.15        13\n",
      "           1       0.04      0.20      0.07         5\n",
      "           2       0.93      0.84      0.88       182\n",
      "\n",
      "    accuracy                           0.78       200\n",
      "   macro avg       0.37      0.40      0.37       200\n",
      "weighted avg       0.85      0.78      0.81       200\n",
      "\n"
     ]
    }
   ],
   "source": [
    "print(classification_report(y_test, y_pred_nb))"
   ]
  },
  {
   "cell_type": "code",
   "execution_count": 114,
   "id": "cb2ab841",
   "metadata": {},
   "outputs": [
    {
     "name": "stdout",
     "output_type": "stream",
     "text": [
      "Model and label encoder trained and saved successfully.\n"
     ]
    }
   ],
   "source": [
    "\n",
    "from sklearn.pipeline import make_pipeline\n",
    "import joblib \n",
    "\n",
    "# Encode the sentiment labels\n",
    "label_encoder = LabelEncoder()\n",
    "data['Sentiment'] = label_encoder.fit_transform(data['Sentiment'])\n",
    "\n",
    "\n",
    "# Create a pipeline to streamline the process\n",
    "pipeline = make_pipeline(tf_idf_vectorizer, svc_model_best)\n",
    "\n",
    "# Train the model on the entire dataset\n",
    "pipeline.fit(X, Y)\n",
    "\n",
    "# Save the trained model and label encoder to disk\n",
    "joblib.dump(pipeline, 'Models/sentiment_svc_model.pkl')\n",
    "joblib.dump(label_encoder, 'Models/label_encoder.pkl')\n",
    "\n",
    "print(\"Model and label encoder trained and saved successfully.\")\n",
    "\n"
   ]
  },
  {
   "cell_type": "code",
   "execution_count": 115,
   "id": "967c0dab",
   "metadata": {},
   "outputs": [],
   "source": [
    "# Later on, load the model and predict new data\n",
    "def predict_sentiment(new_texts):\n",
    "    # Load the saved model\n",
    "    model = joblib.load('Models/sentiment_svc_model.pkl')\n",
    "    \n",
    "    # Predict the sentiments\n",
    "    predictions = model.predict(new_texts)\n",
    "    \n",
    "    # Decode the predictions if necessary\n",
    "    sentiment_labels = label_encoder.inverse_transform(predictions)\n",
    "    \n",
    "    return sentiment_labels"
   ]
  },
  {
   "cell_type": "code",
   "execution_count": 118,
   "id": "e7c3fd27",
   "metadata": {},
   "outputs": [
    {
     "name": "stdout",
     "output_type": "stream",
     "text": [
      "[0]\n"
     ]
    }
   ],
   "source": [
    "# Example usage\n",
    "new_data = ['I feel great about this product!']\n",
    "new_data2 = [\"I have lived out of the US for over 7 yrs now, and I so miss my Twizzlers!!  When I go back to visit or someone visits me, I always stock up.  All I can say is YUM!<br />Sell these in Mexico and you will have a faithful buyer, more often than I'm able to buy them right now.\"]\n",
    "new_data3 = [\"The sky is clear.\"]\n",
    "predicted_sentiments = predict_sentiment(new_data2)\n",
    "print(predicted_sentiments)"
   ]
  },
  {
   "cell_type": "code",
   "execution_count": 93,
   "id": "c16a4030",
   "metadata": {},
   "outputs": [],
   "source": [
    "from matplotlib.colors import ListedColormap\n",
    "import matplotlib.pyplot as plt\n",
    "\n",
    "# To check recent matplotlib compatibility\n",
    "import matplotlib\n",
    "from distutils.version import LooseVersion\n",
    "\n",
    "\n",
    "def plot_decision_regions(X, y, classifier, test_idx=None, resolution=0.02):\n",
    "\n",
    "    # setup marker generator and color map\n",
    "    markers = ('o', 's', '^', 'v', '<')\n",
    "    colors = ('red', 'blue', 'lightgreen', 'gray', 'cyan')\n",
    "    cmap = ListedColormap(colors[:len(np.unique(y))])\n",
    "\n",
    "    # plot the decision surface\n",
    "    x1_min, x1_max = X[:, 0].min() - 1, X[:, 0].max() + 1\n",
    "    x2_min, x2_max = X[:, 1].min() - 1, X[:, 1].max() + 1\n",
    "    xx1, xx2 = np.meshgrid(np.arange(x1_min, x1_max, resolution),\n",
    "                           np.arange(x2_min, x2_max, resolution))\n",
    "    lab = classifier.predict(np.array([xx1.ravel(), xx2.ravel()]).T)\n",
    "    lab = lab.reshape(xx1.shape)\n",
    "    plt.contourf(xx1, xx2, lab, alpha=0.3, cmap=cmap)\n",
    "    plt.xlim(xx1.min(), xx1.max())\n",
    "    plt.ylim(xx2.min(), xx2.max())\n",
    "\n",
    "    # plot class examples\n",
    "    for idx, cl in enumerate(np.unique(y)):\n",
    "        plt.scatter(x=X[y == cl, 0], \n",
    "                    y=X[y == cl, 1],\n",
    "                    alpha=0.8, \n",
    "                    c=colors[idx],\n",
    "                    marker=markers[idx], \n",
    "                    label=f'Class {cl}', \n",
    "                    edgecolor='black')\n",
    "\n",
    "    # highlight test examples\n",
    "    if test_idx:\n",
    "        # plot all examples\n",
    "        X_test, y_test = X[test_idx, :], y[test_idx]\n",
    "\n",
    "        plt.scatter(X_test[:, 0],\n",
    "                    X_test[:, 1],\n",
    "                    c='none',\n",
    "                    edgecolor='black',\n",
    "                    alpha=1.0,\n",
    "                    linewidth=1,\n",
    "                    marker='o',\n",
    "                    s=100, \n",
    "                    label='Test set')"
   ]
  },
  {
   "cell_type": "code",
   "execution_count": 100,
   "id": "8c2436e8",
   "metadata": {},
   "outputs": [
    {
     "ename": "ValueError",
     "evalue": "inconsistent shapes",
     "output_type": "error",
     "traceback": [
      "\u001b[1;31m---------------------------------------------------------------------------\u001b[0m",
      "\u001b[1;31mValueError\u001b[0m                                Traceback (most recent call last)",
      "Cell \u001b[1;32mIn[100], line 4\u001b[0m\n\u001b[0;32m      1\u001b[0m X_combined_std \u001b[38;5;241m=\u001b[39m np\u001b[38;5;241m.\u001b[39mvstack((X_train_scaled, X_test_scaled_svc))\n\u001b[0;32m      2\u001b[0m y_combined \u001b[38;5;241m=\u001b[39m np\u001b[38;5;241m.\u001b[39mhstack((y_train, y_test))\n\u001b[1;32m----> 4\u001b[0m \u001b[43mplot_decision_regions\u001b[49m\u001b[43m(\u001b[49m\u001b[43mX\u001b[49m\u001b[38;5;241;43m=\u001b[39;49m\u001b[43mX_combined_std\u001b[49m\u001b[43m,\u001b[49m\u001b[43m \u001b[49m\u001b[43my\u001b[49m\u001b[38;5;241;43m=\u001b[39;49m\u001b[43my_combined\u001b[49m\u001b[43m,\u001b[49m\n\u001b[0;32m      5\u001b[0m \u001b[43m                      \u001b[49m\u001b[43mclassifier\u001b[49m\u001b[38;5;241;43m=\u001b[39;49m\u001b[43mppn\u001b[49m\u001b[43m,\u001b[49m\u001b[43m \u001b[49m\u001b[43mtest_idx\u001b[49m\u001b[38;5;241;43m=\u001b[39;49m\u001b[38;5;28;43mrange\u001b[39;49m\u001b[43m(\u001b[49m\u001b[38;5;241;43m105\u001b[39;49m\u001b[43m,\u001b[49m\u001b[43m \u001b[49m\u001b[38;5;241;43m150\u001b[39;49m\u001b[43m)\u001b[49m\u001b[43m)\u001b[49m\n\u001b[0;32m      6\u001b[0m plt\u001b[38;5;241m.\u001b[39mxlabel(\u001b[38;5;124m'\u001b[39m\u001b[38;5;124mPetal length [standardized]\u001b[39m\u001b[38;5;124m'\u001b[39m)\n\u001b[0;32m      7\u001b[0m plt\u001b[38;5;241m.\u001b[39mylabel(\u001b[38;5;124m'\u001b[39m\u001b[38;5;124mPetal width [standardized]\u001b[39m\u001b[38;5;124m'\u001b[39m)\n",
      "Cell \u001b[1;32mIn[93], line 17\u001b[0m, in \u001b[0;36mplot_decision_regions\u001b[1;34m(X, y, classifier, test_idx, resolution)\u001b[0m\n\u001b[0;32m     14\u001b[0m cmap \u001b[38;5;241m=\u001b[39m ListedColormap(colors[:\u001b[38;5;28mlen\u001b[39m(np\u001b[38;5;241m.\u001b[39munique(y))])\n\u001b[0;32m     16\u001b[0m \u001b[38;5;66;03m# plot the decision surface\u001b[39;00m\n\u001b[1;32m---> 17\u001b[0m x1_min, x1_max \u001b[38;5;241m=\u001b[39m \u001b[43mX\u001b[49m\u001b[43m[\u001b[49m\u001b[43m:\u001b[49m\u001b[43m,\u001b[49m\u001b[43m \u001b[49m\u001b[38;5;241;43m0\u001b[39;49m\u001b[43m]\u001b[49m\u001b[38;5;241;43m.\u001b[39;49m\u001b[43mmin\u001b[49m\u001b[43m(\u001b[49m\u001b[43m)\u001b[49m \u001b[38;5;241m-\u001b[39m \u001b[38;5;241m1\u001b[39m, X[:, \u001b[38;5;241m0\u001b[39m]\u001b[38;5;241m.\u001b[39mmax() \u001b[38;5;241m+\u001b[39m \u001b[38;5;241m1\u001b[39m\n\u001b[0;32m     18\u001b[0m x2_min, x2_max \u001b[38;5;241m=\u001b[39m X[:, \u001b[38;5;241m1\u001b[39m]\u001b[38;5;241m.\u001b[39mmin() \u001b[38;5;241m-\u001b[39m \u001b[38;5;241m1\u001b[39m, X[:, \u001b[38;5;241m1\u001b[39m]\u001b[38;5;241m.\u001b[39mmax() \u001b[38;5;241m+\u001b[39m \u001b[38;5;241m1\u001b[39m\n\u001b[0;32m     19\u001b[0m xx1, xx2 \u001b[38;5;241m=\u001b[39m np\u001b[38;5;241m.\u001b[39mmeshgrid(np\u001b[38;5;241m.\u001b[39marange(x1_min, x1_max, resolution),\n\u001b[0;32m     20\u001b[0m                        np\u001b[38;5;241m.\u001b[39marange(x2_min, x2_max, resolution))\n",
      "File \u001b[1;32mc:\\Users\\vijayalekshmi\\Desktop\\SentimentAnalysis\\venv\\Lib\\site-packages\\numpy\\core\\_methods.py:45\u001b[0m, in \u001b[0;36m_amin\u001b[1;34m(a, axis, out, keepdims, initial, where)\u001b[0m\n\u001b[0;32m     43\u001b[0m \u001b[38;5;28;01mdef\u001b[39;00m \u001b[38;5;21m_amin\u001b[39m(a, axis\u001b[38;5;241m=\u001b[39m\u001b[38;5;28;01mNone\u001b[39;00m, out\u001b[38;5;241m=\u001b[39m\u001b[38;5;28;01mNone\u001b[39;00m, keepdims\u001b[38;5;241m=\u001b[39m\u001b[38;5;28;01mFalse\u001b[39;00m,\n\u001b[0;32m     44\u001b[0m           initial\u001b[38;5;241m=\u001b[39m_NoValue, where\u001b[38;5;241m=\u001b[39m\u001b[38;5;28;01mTrue\u001b[39;00m):\n\u001b[1;32m---> 45\u001b[0m     \u001b[38;5;28;01mreturn\u001b[39;00m \u001b[43mumr_minimum\u001b[49m\u001b[43m(\u001b[49m\u001b[43ma\u001b[49m\u001b[43m,\u001b[49m\u001b[43m \u001b[49m\u001b[43maxis\u001b[49m\u001b[43m,\u001b[49m\u001b[43m \u001b[49m\u001b[38;5;28;43;01mNone\u001b[39;49;00m\u001b[43m,\u001b[49m\u001b[43m \u001b[49m\u001b[43mout\u001b[49m\u001b[43m,\u001b[49m\u001b[43m \u001b[49m\u001b[43mkeepdims\u001b[49m\u001b[43m,\u001b[49m\u001b[43m \u001b[49m\u001b[43minitial\u001b[49m\u001b[43m,\u001b[49m\u001b[43m \u001b[49m\u001b[43mwhere\u001b[49m\u001b[43m)\u001b[49m\n",
      "File \u001b[1;32mc:\\Users\\vijayalekshmi\\Desktop\\SentimentAnalysis\\venv\\Lib\\site-packages\\scipy\\sparse\\_compressed.py:329\u001b[0m, in \u001b[0;36m_cs_matrix.__le__\u001b[1;34m(self, other)\u001b[0m\n\u001b[0;32m    328\u001b[0m \u001b[38;5;28;01mdef\u001b[39;00m \u001b[38;5;21m__le__\u001b[39m(\u001b[38;5;28mself\u001b[39m, other):\n\u001b[1;32m--> 329\u001b[0m     \u001b[38;5;28;01mreturn\u001b[39;00m \u001b[38;5;28;43mself\u001b[39;49m\u001b[38;5;241;43m.\u001b[39;49m\u001b[43m_inequality\u001b[49m\u001b[43m(\u001b[49m\u001b[43mother\u001b[49m\u001b[43m,\u001b[49m\u001b[43m \u001b[49m\u001b[43moperator\u001b[49m\u001b[38;5;241;43m.\u001b[39;49m\u001b[43mle\u001b[49m\u001b[43m,\u001b[49m\u001b[43m \u001b[49m\u001b[38;5;124;43m'\u001b[39;49m\u001b[38;5;124;43m_le_\u001b[39;49m\u001b[38;5;124;43m'\u001b[39;49m\u001b[43m,\u001b[49m\n\u001b[0;32m    330\u001b[0m \u001b[43m                            \u001b[49m\u001b[38;5;124;43m\"\u001b[39;49m\u001b[38;5;124;43mComparing a sparse matrix with a scalar \u001b[39;49m\u001b[38;5;124;43m\"\u001b[39;49m\n\u001b[0;32m    331\u001b[0m \u001b[43m                            \u001b[49m\u001b[38;5;124;43m\"\u001b[39;49m\u001b[38;5;124;43mgreater than zero using <= is inefficient, \u001b[39;49m\u001b[38;5;124;43m\"\u001b[39;49m\n\u001b[0;32m    332\u001b[0m \u001b[43m                            \u001b[49m\u001b[38;5;124;43m\"\u001b[39;49m\u001b[38;5;124;43mtry using > instead.\u001b[39;49m\u001b[38;5;124;43m\"\u001b[39;49m\u001b[43m)\u001b[49m\n",
      "File \u001b[1;32mc:\\Users\\vijayalekshmi\\Desktop\\SentimentAnalysis\\venv\\Lib\\site-packages\\scipy\\sparse\\_compressed.py:301\u001b[0m, in \u001b[0;36m_cs_matrix._inequality\u001b[1;34m(self, other, op, op_name, bad_scalar_msg)\u001b[0m\n\u001b[0;32m    298\u001b[0m \u001b[38;5;28;01melif\u001b[39;00m issparse(other):\n\u001b[0;32m    299\u001b[0m     \u001b[38;5;66;03m# TODO sparse broadcasting\u001b[39;00m\n\u001b[0;32m    300\u001b[0m     \u001b[38;5;28;01mif\u001b[39;00m \u001b[38;5;28mself\u001b[39m\u001b[38;5;241m.\u001b[39mshape \u001b[38;5;241m!=\u001b[39m other\u001b[38;5;241m.\u001b[39mshape:\n\u001b[1;32m--> 301\u001b[0m         \u001b[38;5;28;01mraise\u001b[39;00m \u001b[38;5;167;01mValueError\u001b[39;00m(\u001b[38;5;124m\"\u001b[39m\u001b[38;5;124minconsistent shapes\u001b[39m\u001b[38;5;124m\"\u001b[39m)\n\u001b[0;32m    302\u001b[0m     \u001b[38;5;28;01melif\u001b[39;00m \u001b[38;5;28mself\u001b[39m\u001b[38;5;241m.\u001b[39mformat \u001b[38;5;241m!=\u001b[39m other\u001b[38;5;241m.\u001b[39mformat:\n\u001b[0;32m    303\u001b[0m         other \u001b[38;5;241m=\u001b[39m other\u001b[38;5;241m.\u001b[39masformat(\u001b[38;5;28mself\u001b[39m\u001b[38;5;241m.\u001b[39mformat)\n",
      "\u001b[1;31mValueError\u001b[0m: inconsistent shapes"
     ]
    }
   ],
   "source": [
    "X_combined_std = np.vstack((X_train_scaled, X_test_scaled_svc))\n",
    "y_combined = np.hstack((y_train, y_test))\n",
    "\n",
    "plot_decision_regions(X=X_combined_std, y=y_combined,\n",
    "                      classifier=ppn, test_idx=range(105, 150))\n",
    "plt.xlabel('Petal length [standardized]')\n",
    "plt.ylabel('Petal width [standardized]')\n",
    "plt.legend(loc='upper left')\n",
    "\n",
    "plt.tight_layout()\n",
    "#plt.savefig('figures/03_01.png', dpi=300)\n",
    "plt.show()"
   ]
  },
  {
   "cell_type": "code",
   "execution_count": 99,
   "id": "f3b61b39",
   "metadata": {},
   "outputs": [
    {
     "data": {
      "text/html": [
       "<style>#sk-container-id-1 {\n",
       "  /* Definition of color scheme common for light and dark mode */\n",
       "  --sklearn-color-text: black;\n",
       "  --sklearn-color-line: gray;\n",
       "  /* Definition of color scheme for unfitted estimators */\n",
       "  --sklearn-color-unfitted-level-0: #fff5e6;\n",
       "  --sklearn-color-unfitted-level-1: #f6e4d2;\n",
       "  --sklearn-color-unfitted-level-2: #ffe0b3;\n",
       "  --sklearn-color-unfitted-level-3: chocolate;\n",
       "  /* Definition of color scheme for fitted estimators */\n",
       "  --sklearn-color-fitted-level-0: #f0f8ff;\n",
       "  --sklearn-color-fitted-level-1: #d4ebff;\n",
       "  --sklearn-color-fitted-level-2: #b3dbfd;\n",
       "  --sklearn-color-fitted-level-3: cornflowerblue;\n",
       "\n",
       "  /* Specific color for light theme */\n",
       "  --sklearn-color-text-on-default-background: var(--sg-text-color, var(--theme-code-foreground, var(--jp-content-font-color1, black)));\n",
       "  --sklearn-color-background: var(--sg-background-color, var(--theme-background, var(--jp-layout-color0, white)));\n",
       "  --sklearn-color-border-box: var(--sg-text-color, var(--theme-code-foreground, var(--jp-content-font-color1, black)));\n",
       "  --sklearn-color-icon: #696969;\n",
       "\n",
       "  @media (prefers-color-scheme: dark) {\n",
       "    /* Redefinition of color scheme for dark theme */\n",
       "    --sklearn-color-text-on-default-background: var(--sg-text-color, var(--theme-code-foreground, var(--jp-content-font-color1, white)));\n",
       "    --sklearn-color-background: var(--sg-background-color, var(--theme-background, var(--jp-layout-color0, #111)));\n",
       "    --sklearn-color-border-box: var(--sg-text-color, var(--theme-code-foreground, var(--jp-content-font-color1, white)));\n",
       "    --sklearn-color-icon: #878787;\n",
       "  }\n",
       "}\n",
       "\n",
       "#sk-container-id-1 {\n",
       "  color: var(--sklearn-color-text);\n",
       "}\n",
       "\n",
       "#sk-container-id-1 pre {\n",
       "  padding: 0;\n",
       "}\n",
       "\n",
       "#sk-container-id-1 input.sk-hidden--visually {\n",
       "  border: 0;\n",
       "  clip: rect(1px 1px 1px 1px);\n",
       "  clip: rect(1px, 1px, 1px, 1px);\n",
       "  height: 1px;\n",
       "  margin: -1px;\n",
       "  overflow: hidden;\n",
       "  padding: 0;\n",
       "  position: absolute;\n",
       "  width: 1px;\n",
       "}\n",
       "\n",
       "#sk-container-id-1 div.sk-dashed-wrapped {\n",
       "  border: 1px dashed var(--sklearn-color-line);\n",
       "  margin: 0 0.4em 0.5em 0.4em;\n",
       "  box-sizing: border-box;\n",
       "  padding-bottom: 0.4em;\n",
       "  background-color: var(--sklearn-color-background);\n",
       "}\n",
       "\n",
       "#sk-container-id-1 div.sk-container {\n",
       "  /* jupyter's `normalize.less` sets `[hidden] { display: none; }`\n",
       "     but bootstrap.min.css set `[hidden] { display: none !important; }`\n",
       "     so we also need the `!important` here to be able to override the\n",
       "     default hidden behavior on the sphinx rendered scikit-learn.org.\n",
       "     See: https://github.com/scikit-learn/scikit-learn/issues/21755 */\n",
       "  display: inline-block !important;\n",
       "  position: relative;\n",
       "}\n",
       "\n",
       "#sk-container-id-1 div.sk-text-repr-fallback {\n",
       "  display: none;\n",
       "}\n",
       "\n",
       "div.sk-parallel-item,\n",
       "div.sk-serial,\n",
       "div.sk-item {\n",
       "  /* draw centered vertical line to link estimators */\n",
       "  background-image: linear-gradient(var(--sklearn-color-text-on-default-background), var(--sklearn-color-text-on-default-background));\n",
       "  background-size: 2px 100%;\n",
       "  background-repeat: no-repeat;\n",
       "  background-position: center center;\n",
       "}\n",
       "\n",
       "/* Parallel-specific style estimator block */\n",
       "\n",
       "#sk-container-id-1 div.sk-parallel-item::after {\n",
       "  content: \"\";\n",
       "  width: 100%;\n",
       "  border-bottom: 2px solid var(--sklearn-color-text-on-default-background);\n",
       "  flex-grow: 1;\n",
       "}\n",
       "\n",
       "#sk-container-id-1 div.sk-parallel {\n",
       "  display: flex;\n",
       "  align-items: stretch;\n",
       "  justify-content: center;\n",
       "  background-color: var(--sklearn-color-background);\n",
       "  position: relative;\n",
       "}\n",
       "\n",
       "#sk-container-id-1 div.sk-parallel-item {\n",
       "  display: flex;\n",
       "  flex-direction: column;\n",
       "}\n",
       "\n",
       "#sk-container-id-1 div.sk-parallel-item:first-child::after {\n",
       "  align-self: flex-end;\n",
       "  width: 50%;\n",
       "}\n",
       "\n",
       "#sk-container-id-1 div.sk-parallel-item:last-child::after {\n",
       "  align-self: flex-start;\n",
       "  width: 50%;\n",
       "}\n",
       "\n",
       "#sk-container-id-1 div.sk-parallel-item:only-child::after {\n",
       "  width: 0;\n",
       "}\n",
       "\n",
       "/* Serial-specific style estimator block */\n",
       "\n",
       "#sk-container-id-1 div.sk-serial {\n",
       "  display: flex;\n",
       "  flex-direction: column;\n",
       "  align-items: center;\n",
       "  background-color: var(--sklearn-color-background);\n",
       "  padding-right: 1em;\n",
       "  padding-left: 1em;\n",
       "}\n",
       "\n",
       "\n",
       "/* Toggleable style: style used for estimator/Pipeline/ColumnTransformer box that is\n",
       "clickable and can be expanded/collapsed.\n",
       "- Pipeline and ColumnTransformer use this feature and define the default style\n",
       "- Estimators will overwrite some part of the style using the `sk-estimator` class\n",
       "*/\n",
       "\n",
       "/* Pipeline and ColumnTransformer style (default) */\n",
       "\n",
       "#sk-container-id-1 div.sk-toggleable {\n",
       "  /* Default theme specific background. It is overwritten whether we have a\n",
       "  specific estimator or a Pipeline/ColumnTransformer */\n",
       "  background-color: var(--sklearn-color-background);\n",
       "}\n",
       "\n",
       "/* Toggleable label */\n",
       "#sk-container-id-1 label.sk-toggleable__label {\n",
       "  cursor: pointer;\n",
       "  display: block;\n",
       "  width: 100%;\n",
       "  margin-bottom: 0;\n",
       "  padding: 0.5em;\n",
       "  box-sizing: border-box;\n",
       "  text-align: center;\n",
       "}\n",
       "\n",
       "#sk-container-id-1 label.sk-toggleable__label-arrow:before {\n",
       "  /* Arrow on the left of the label */\n",
       "  content: \"▸\";\n",
       "  float: left;\n",
       "  margin-right: 0.25em;\n",
       "  color: var(--sklearn-color-icon);\n",
       "}\n",
       "\n",
       "#sk-container-id-1 label.sk-toggleable__label-arrow:hover:before {\n",
       "  color: var(--sklearn-color-text);\n",
       "}\n",
       "\n",
       "/* Toggleable content - dropdown */\n",
       "\n",
       "#sk-container-id-1 div.sk-toggleable__content {\n",
       "  max-height: 0;\n",
       "  max-width: 0;\n",
       "  overflow: hidden;\n",
       "  text-align: left;\n",
       "  /* unfitted */\n",
       "  background-color: var(--sklearn-color-unfitted-level-0);\n",
       "}\n",
       "\n",
       "#sk-container-id-1 div.sk-toggleable__content.fitted {\n",
       "  /* fitted */\n",
       "  background-color: var(--sklearn-color-fitted-level-0);\n",
       "}\n",
       "\n",
       "#sk-container-id-1 div.sk-toggleable__content pre {\n",
       "  margin: 0.2em;\n",
       "  border-radius: 0.25em;\n",
       "  color: var(--sklearn-color-text);\n",
       "  /* unfitted */\n",
       "  background-color: var(--sklearn-color-unfitted-level-0);\n",
       "}\n",
       "\n",
       "#sk-container-id-1 div.sk-toggleable__content.fitted pre {\n",
       "  /* unfitted */\n",
       "  background-color: var(--sklearn-color-fitted-level-0);\n",
       "}\n",
       "\n",
       "#sk-container-id-1 input.sk-toggleable__control:checked~div.sk-toggleable__content {\n",
       "  /* Expand drop-down */\n",
       "  max-height: 200px;\n",
       "  max-width: 100%;\n",
       "  overflow: auto;\n",
       "}\n",
       "\n",
       "#sk-container-id-1 input.sk-toggleable__control:checked~label.sk-toggleable__label-arrow:before {\n",
       "  content: \"▾\";\n",
       "}\n",
       "\n",
       "/* Pipeline/ColumnTransformer-specific style */\n",
       "\n",
       "#sk-container-id-1 div.sk-label input.sk-toggleable__control:checked~label.sk-toggleable__label {\n",
       "  color: var(--sklearn-color-text);\n",
       "  background-color: var(--sklearn-color-unfitted-level-2);\n",
       "}\n",
       "\n",
       "#sk-container-id-1 div.sk-label.fitted input.sk-toggleable__control:checked~label.sk-toggleable__label {\n",
       "  background-color: var(--sklearn-color-fitted-level-2);\n",
       "}\n",
       "\n",
       "/* Estimator-specific style */\n",
       "\n",
       "/* Colorize estimator box */\n",
       "#sk-container-id-1 div.sk-estimator input.sk-toggleable__control:checked~label.sk-toggleable__label {\n",
       "  /* unfitted */\n",
       "  background-color: var(--sklearn-color-unfitted-level-2);\n",
       "}\n",
       "\n",
       "#sk-container-id-1 div.sk-estimator.fitted input.sk-toggleable__control:checked~label.sk-toggleable__label {\n",
       "  /* fitted */\n",
       "  background-color: var(--sklearn-color-fitted-level-2);\n",
       "}\n",
       "\n",
       "#sk-container-id-1 div.sk-label label.sk-toggleable__label,\n",
       "#sk-container-id-1 div.sk-label label {\n",
       "  /* The background is the default theme color */\n",
       "  color: var(--sklearn-color-text-on-default-background);\n",
       "}\n",
       "\n",
       "/* On hover, darken the color of the background */\n",
       "#sk-container-id-1 div.sk-label:hover label.sk-toggleable__label {\n",
       "  color: var(--sklearn-color-text);\n",
       "  background-color: var(--sklearn-color-unfitted-level-2);\n",
       "}\n",
       "\n",
       "/* Label box, darken color on hover, fitted */\n",
       "#sk-container-id-1 div.sk-label.fitted:hover label.sk-toggleable__label.fitted {\n",
       "  color: var(--sklearn-color-text);\n",
       "  background-color: var(--sklearn-color-fitted-level-2);\n",
       "}\n",
       "\n",
       "/* Estimator label */\n",
       "\n",
       "#sk-container-id-1 div.sk-label label {\n",
       "  font-family: monospace;\n",
       "  font-weight: bold;\n",
       "  display: inline-block;\n",
       "  line-height: 1.2em;\n",
       "}\n",
       "\n",
       "#sk-container-id-1 div.sk-label-container {\n",
       "  text-align: center;\n",
       "}\n",
       "\n",
       "/* Estimator-specific */\n",
       "#sk-container-id-1 div.sk-estimator {\n",
       "  font-family: monospace;\n",
       "  border: 1px dotted var(--sklearn-color-border-box);\n",
       "  border-radius: 0.25em;\n",
       "  box-sizing: border-box;\n",
       "  margin-bottom: 0.5em;\n",
       "  /* unfitted */\n",
       "  background-color: var(--sklearn-color-unfitted-level-0);\n",
       "}\n",
       "\n",
       "#sk-container-id-1 div.sk-estimator.fitted {\n",
       "  /* fitted */\n",
       "  background-color: var(--sklearn-color-fitted-level-0);\n",
       "}\n",
       "\n",
       "/* on hover */\n",
       "#sk-container-id-1 div.sk-estimator:hover {\n",
       "  /* unfitted */\n",
       "  background-color: var(--sklearn-color-unfitted-level-2);\n",
       "}\n",
       "\n",
       "#sk-container-id-1 div.sk-estimator.fitted:hover {\n",
       "  /* fitted */\n",
       "  background-color: var(--sklearn-color-fitted-level-2);\n",
       "}\n",
       "\n",
       "/* Specification for estimator info (e.g. \"i\" and \"?\") */\n",
       "\n",
       "/* Common style for \"i\" and \"?\" */\n",
       "\n",
       ".sk-estimator-doc-link,\n",
       "a:link.sk-estimator-doc-link,\n",
       "a:visited.sk-estimator-doc-link {\n",
       "  float: right;\n",
       "  font-size: smaller;\n",
       "  line-height: 1em;\n",
       "  font-family: monospace;\n",
       "  background-color: var(--sklearn-color-background);\n",
       "  border-radius: 1em;\n",
       "  height: 1em;\n",
       "  width: 1em;\n",
       "  text-decoration: none !important;\n",
       "  margin-left: 1ex;\n",
       "  /* unfitted */\n",
       "  border: var(--sklearn-color-unfitted-level-1) 1pt solid;\n",
       "  color: var(--sklearn-color-unfitted-level-1);\n",
       "}\n",
       "\n",
       ".sk-estimator-doc-link.fitted,\n",
       "a:link.sk-estimator-doc-link.fitted,\n",
       "a:visited.sk-estimator-doc-link.fitted {\n",
       "  /* fitted */\n",
       "  border: var(--sklearn-color-fitted-level-1) 1pt solid;\n",
       "  color: var(--sklearn-color-fitted-level-1);\n",
       "}\n",
       "\n",
       "/* On hover */\n",
       "div.sk-estimator:hover .sk-estimator-doc-link:hover,\n",
       ".sk-estimator-doc-link:hover,\n",
       "div.sk-label-container:hover .sk-estimator-doc-link:hover,\n",
       ".sk-estimator-doc-link:hover {\n",
       "  /* unfitted */\n",
       "  background-color: var(--sklearn-color-unfitted-level-3);\n",
       "  color: var(--sklearn-color-background);\n",
       "  text-decoration: none;\n",
       "}\n",
       "\n",
       "div.sk-estimator.fitted:hover .sk-estimator-doc-link.fitted:hover,\n",
       ".sk-estimator-doc-link.fitted:hover,\n",
       "div.sk-label-container:hover .sk-estimator-doc-link.fitted:hover,\n",
       ".sk-estimator-doc-link.fitted:hover {\n",
       "  /* fitted */\n",
       "  background-color: var(--sklearn-color-fitted-level-3);\n",
       "  color: var(--sklearn-color-background);\n",
       "  text-decoration: none;\n",
       "}\n",
       "\n",
       "/* Span, style for the box shown on hovering the info icon */\n",
       ".sk-estimator-doc-link span {\n",
       "  display: none;\n",
       "  z-index: 9999;\n",
       "  position: relative;\n",
       "  font-weight: normal;\n",
       "  right: .2ex;\n",
       "  padding: .5ex;\n",
       "  margin: .5ex;\n",
       "  width: min-content;\n",
       "  min-width: 20ex;\n",
       "  max-width: 50ex;\n",
       "  color: var(--sklearn-color-text);\n",
       "  box-shadow: 2pt 2pt 4pt #999;\n",
       "  /* unfitted */\n",
       "  background: var(--sklearn-color-unfitted-level-0);\n",
       "  border: .5pt solid var(--sklearn-color-unfitted-level-3);\n",
       "}\n",
       "\n",
       ".sk-estimator-doc-link.fitted span {\n",
       "  /* fitted */\n",
       "  background: var(--sklearn-color-fitted-level-0);\n",
       "  border: var(--sklearn-color-fitted-level-3);\n",
       "}\n",
       "\n",
       ".sk-estimator-doc-link:hover span {\n",
       "  display: block;\n",
       "}\n",
       "\n",
       "/* \"?\"-specific style due to the `<a>` HTML tag */\n",
       "\n",
       "#sk-container-id-1 a.estimator_doc_link {\n",
       "  float: right;\n",
       "  font-size: 1rem;\n",
       "  line-height: 1em;\n",
       "  font-family: monospace;\n",
       "  background-color: var(--sklearn-color-background);\n",
       "  border-radius: 1rem;\n",
       "  height: 1rem;\n",
       "  width: 1rem;\n",
       "  text-decoration: none;\n",
       "  /* unfitted */\n",
       "  color: var(--sklearn-color-unfitted-level-1);\n",
       "  border: var(--sklearn-color-unfitted-level-1) 1pt solid;\n",
       "}\n",
       "\n",
       "#sk-container-id-1 a.estimator_doc_link.fitted {\n",
       "  /* fitted */\n",
       "  border: var(--sklearn-color-fitted-level-1) 1pt solid;\n",
       "  color: var(--sklearn-color-fitted-level-1);\n",
       "}\n",
       "\n",
       "/* On hover */\n",
       "#sk-container-id-1 a.estimator_doc_link:hover {\n",
       "  /* unfitted */\n",
       "  background-color: var(--sklearn-color-unfitted-level-3);\n",
       "  color: var(--sklearn-color-background);\n",
       "  text-decoration: none;\n",
       "}\n",
       "\n",
       "#sk-container-id-1 a.estimator_doc_link.fitted:hover {\n",
       "  /* fitted */\n",
       "  background-color: var(--sklearn-color-fitted-level-3);\n",
       "}\n",
       "</style><div id=\"sk-container-id-1\" class=\"sk-top-container\"><div class=\"sk-text-repr-fallback\"><pre>Perceptron(eta0=0.1, random_state=1)</pre><b>In a Jupyter environment, please rerun this cell to show the HTML representation or trust the notebook. <br />On GitHub, the HTML representation is unable to render, please try loading this page with nbviewer.org.</b></div><div class=\"sk-container\" hidden><div class=\"sk-item\"><div class=\"sk-estimator fitted sk-toggleable\"><input class=\"sk-toggleable__control sk-hidden--visually\" id=\"sk-estimator-id-1\" type=\"checkbox\" checked><label for=\"sk-estimator-id-1\" class=\"sk-toggleable__label fitted sk-toggleable__label-arrow fitted\">&nbsp;&nbsp;Perceptron<a class=\"sk-estimator-doc-link fitted\" rel=\"noreferrer\" target=\"_blank\" href=\"https://scikit-learn.org/1.5/modules/generated/sklearn.linear_model.Perceptron.html\">?<span>Documentation for Perceptron</span></a><span class=\"sk-estimator-doc-link fitted\">i<span>Fitted</span></span></label><div class=\"sk-toggleable__content fitted\"><pre>Perceptron(eta0=0.1, random_state=1)</pre></div> </div></div></div></div>"
      ],
      "text/plain": [
       "Perceptron(eta0=0.1, random_state=1)"
      ]
     },
     "execution_count": 99,
     "metadata": {},
     "output_type": "execute_result"
    }
   ],
   "source": [
    "from sklearn.linear_model import Perceptron\n",
    "\n",
    "ppn = Perceptron(eta0=0.1, random_state=1)\n",
    "ppn.fit(X_train_scaled, y_train)"
   ]
  },
  {
   "cell_type": "code",
   "execution_count": 103,
   "id": "840854f0",
   "metadata": {},
   "outputs": [
    {
     "ename": "ValueError",
     "evalue": "Found input variables with inconsistent numbers of samples: [0, 999]",
     "output_type": "error",
     "traceback": [
      "\u001b[1;31m---------------------------------------------------------------------------\u001b[0m",
      "\u001b[1;31mValueError\u001b[0m                                Traceback (most recent call last)",
      "Cell \u001b[1;32mIn[103], line 20\u001b[0m\n\u001b[0;32m     17\u001b[0m X_df[\u001b[38;5;124m'\u001b[39m\u001b[38;5;124mcat2\u001b[39m\u001b[38;5;124m'\u001b[39m] \u001b[38;5;241m=\u001b[39m X_df[\u001b[38;5;124m'\u001b[39m\u001b[38;5;124mcat2\u001b[39m\u001b[38;5;124m'\u001b[39m]\u001b[38;5;241m.\u001b[39mapply(\u001b[38;5;28;01mlambda\u001b[39;00m x: \u001b[38;5;124m'\u001b[39m\u001b[38;5;124mcat\u001b[39m\u001b[38;5;124m'\u001b[39m \u001b[38;5;241m+\u001b[39m \u001b[38;5;28mstr\u001b[39m(\u001b[38;5;28mint\u001b[39m(x)))\n\u001b[0;32m     19\u001b[0m \u001b[38;5;66;03m# Split dataset\u001b[39;00m\n\u001b[1;32m---> 20\u001b[0m X_train, X_test, y_train, y_test \u001b[38;5;241m=\u001b[39m \u001b[43mtrain_test_split\u001b[49m\u001b[43m(\u001b[49m\u001b[43mX_df\u001b[49m\u001b[43m,\u001b[49m\u001b[43m \u001b[49m\u001b[43mY\u001b[49m\u001b[43m,\u001b[49m\u001b[43m \u001b[49m\u001b[43mtest_size\u001b[49m\u001b[38;5;241;43m=\u001b[39;49m\u001b[38;5;241;43m0.3\u001b[39;49m\u001b[43m,\u001b[49m\u001b[43m \u001b[49m\u001b[43mrandom_state\u001b[49m\u001b[38;5;241;43m=\u001b[39;49m\u001b[38;5;241;43m42\u001b[39;49m\u001b[43m)\u001b[49m\n\u001b[0;32m     22\u001b[0m \u001b[38;5;66;03m# Define the preprocessing for numerical and categorical features\u001b[39;00m\n\u001b[0;32m     23\u001b[0m numerical_features \u001b[38;5;241m=\u001b[39m [\u001b[38;5;124m'\u001b[39m\u001b[38;5;124mnum1\u001b[39m\u001b[38;5;124m'\u001b[39m, \u001b[38;5;124m'\u001b[39m\u001b[38;5;124mnum2\u001b[39m\u001b[38;5;124m'\u001b[39m]\n",
      "File \u001b[1;32mc:\\Users\\vijayalekshmi\\Desktop\\SentimentAnalysis\\venv\\Lib\\site-packages\\sklearn\\utils\\_param_validation.py:213\u001b[0m, in \u001b[0;36mvalidate_params.<locals>.decorator.<locals>.wrapper\u001b[1;34m(*args, **kwargs)\u001b[0m\n\u001b[0;32m    207\u001b[0m \u001b[38;5;28;01mtry\u001b[39;00m:\n\u001b[0;32m    208\u001b[0m     \u001b[38;5;28;01mwith\u001b[39;00m config_context(\n\u001b[0;32m    209\u001b[0m         skip_parameter_validation\u001b[38;5;241m=\u001b[39m(\n\u001b[0;32m    210\u001b[0m             prefer_skip_nested_validation \u001b[38;5;129;01mor\u001b[39;00m global_skip_validation\n\u001b[0;32m    211\u001b[0m         )\n\u001b[0;32m    212\u001b[0m     ):\n\u001b[1;32m--> 213\u001b[0m         \u001b[38;5;28;01mreturn\u001b[39;00m \u001b[43mfunc\u001b[49m\u001b[43m(\u001b[49m\u001b[38;5;241;43m*\u001b[39;49m\u001b[43margs\u001b[49m\u001b[43m,\u001b[49m\u001b[43m \u001b[49m\u001b[38;5;241;43m*\u001b[39;49m\u001b[38;5;241;43m*\u001b[39;49m\u001b[43mkwargs\u001b[49m\u001b[43m)\u001b[49m\n\u001b[0;32m    214\u001b[0m \u001b[38;5;28;01mexcept\u001b[39;00m InvalidParameterError \u001b[38;5;28;01mas\u001b[39;00m e:\n\u001b[0;32m    215\u001b[0m     \u001b[38;5;66;03m# When the function is just a wrapper around an estimator, we allow\u001b[39;00m\n\u001b[0;32m    216\u001b[0m     \u001b[38;5;66;03m# the function to delegate validation to the estimator, but we replace\u001b[39;00m\n\u001b[0;32m    217\u001b[0m     \u001b[38;5;66;03m# the name of the estimator by the name of the function in the error\u001b[39;00m\n\u001b[0;32m    218\u001b[0m     \u001b[38;5;66;03m# message to avoid confusion.\u001b[39;00m\n\u001b[0;32m    219\u001b[0m     msg \u001b[38;5;241m=\u001b[39m re\u001b[38;5;241m.\u001b[39msub(\n\u001b[0;32m    220\u001b[0m         \u001b[38;5;124mr\u001b[39m\u001b[38;5;124m\"\u001b[39m\u001b[38;5;124mparameter of \u001b[39m\u001b[38;5;124m\\\u001b[39m\u001b[38;5;124mw+ must be\u001b[39m\u001b[38;5;124m\"\u001b[39m,\n\u001b[0;32m    221\u001b[0m         \u001b[38;5;124mf\u001b[39m\u001b[38;5;124m\"\u001b[39m\u001b[38;5;124mparameter of \u001b[39m\u001b[38;5;132;01m{\u001b[39;00mfunc\u001b[38;5;241m.\u001b[39m\u001b[38;5;18m__qualname__\u001b[39m\u001b[38;5;132;01m}\u001b[39;00m\u001b[38;5;124m must be\u001b[39m\u001b[38;5;124m\"\u001b[39m,\n\u001b[0;32m    222\u001b[0m         \u001b[38;5;28mstr\u001b[39m(e),\n\u001b[0;32m    223\u001b[0m     )\n",
      "File \u001b[1;32mc:\\Users\\vijayalekshmi\\Desktop\\SentimentAnalysis\\venv\\Lib\\site-packages\\sklearn\\model_selection\\_split.py:2775\u001b[0m, in \u001b[0;36mtrain_test_split\u001b[1;34m(test_size, train_size, random_state, shuffle, stratify, *arrays)\u001b[0m\n\u001b[0;32m   2772\u001b[0m \u001b[38;5;28;01mif\u001b[39;00m n_arrays \u001b[38;5;241m==\u001b[39m \u001b[38;5;241m0\u001b[39m:\n\u001b[0;32m   2773\u001b[0m     \u001b[38;5;28;01mraise\u001b[39;00m \u001b[38;5;167;01mValueError\u001b[39;00m(\u001b[38;5;124m\"\u001b[39m\u001b[38;5;124mAt least one array required as input\u001b[39m\u001b[38;5;124m\"\u001b[39m)\n\u001b[1;32m-> 2775\u001b[0m arrays \u001b[38;5;241m=\u001b[39m \u001b[43mindexable\u001b[49m\u001b[43m(\u001b[49m\u001b[38;5;241;43m*\u001b[39;49m\u001b[43marrays\u001b[49m\u001b[43m)\u001b[49m\n\u001b[0;32m   2777\u001b[0m n_samples \u001b[38;5;241m=\u001b[39m _num_samples(arrays[\u001b[38;5;241m0\u001b[39m])\n\u001b[0;32m   2778\u001b[0m n_train, n_test \u001b[38;5;241m=\u001b[39m _validate_shuffle_split(\n\u001b[0;32m   2779\u001b[0m     n_samples, test_size, train_size, default_test_size\u001b[38;5;241m=\u001b[39m\u001b[38;5;241m0.25\u001b[39m\n\u001b[0;32m   2780\u001b[0m )\n",
      "File \u001b[1;32mc:\\Users\\vijayalekshmi\\Desktop\\SentimentAnalysis\\venv\\Lib\\site-packages\\sklearn\\utils\\validation.py:517\u001b[0m, in \u001b[0;36mindexable\u001b[1;34m(*iterables)\u001b[0m\n\u001b[0;32m    487\u001b[0m \u001b[38;5;250m\u001b[39m\u001b[38;5;124;03m\"\"\"Make arrays indexable for cross-validation.\u001b[39;00m\n\u001b[0;32m    488\u001b[0m \n\u001b[0;32m    489\u001b[0m \u001b[38;5;124;03mChecks consistent length, passes through None, and ensures that everything\u001b[39;00m\n\u001b[1;32m   (...)\u001b[0m\n\u001b[0;32m    513\u001b[0m \u001b[38;5;124;03m[[1, 2, 3], array([2, 3, 4]), None, <3x1 sparse matrix ...>]\u001b[39;00m\n\u001b[0;32m    514\u001b[0m \u001b[38;5;124;03m\"\"\"\u001b[39;00m\n\u001b[0;32m    516\u001b[0m result \u001b[38;5;241m=\u001b[39m [_make_indexable(X) \u001b[38;5;28;01mfor\u001b[39;00m X \u001b[38;5;129;01min\u001b[39;00m iterables]\n\u001b[1;32m--> 517\u001b[0m \u001b[43mcheck_consistent_length\u001b[49m\u001b[43m(\u001b[49m\u001b[38;5;241;43m*\u001b[39;49m\u001b[43mresult\u001b[49m\u001b[43m)\u001b[49m\n\u001b[0;32m    518\u001b[0m \u001b[38;5;28;01mreturn\u001b[39;00m result\n",
      "File \u001b[1;32mc:\\Users\\vijayalekshmi\\Desktop\\SentimentAnalysis\\venv\\Lib\\site-packages\\sklearn\\utils\\validation.py:460\u001b[0m, in \u001b[0;36mcheck_consistent_length\u001b[1;34m(*arrays)\u001b[0m\n\u001b[0;32m    458\u001b[0m uniques \u001b[38;5;241m=\u001b[39m np\u001b[38;5;241m.\u001b[39munique(lengths)\n\u001b[0;32m    459\u001b[0m \u001b[38;5;28;01mif\u001b[39;00m \u001b[38;5;28mlen\u001b[39m(uniques) \u001b[38;5;241m>\u001b[39m \u001b[38;5;241m1\u001b[39m:\n\u001b[1;32m--> 460\u001b[0m     \u001b[38;5;28;01mraise\u001b[39;00m \u001b[38;5;167;01mValueError\u001b[39;00m(\n\u001b[0;32m    461\u001b[0m         \u001b[38;5;124m\"\u001b[39m\u001b[38;5;124mFound input variables with inconsistent numbers of samples: \u001b[39m\u001b[38;5;132;01m%r\u001b[39;00m\u001b[38;5;124m\"\u001b[39m\n\u001b[0;32m    462\u001b[0m         \u001b[38;5;241m%\u001b[39m [\u001b[38;5;28mint\u001b[39m(l) \u001b[38;5;28;01mfor\u001b[39;00m l \u001b[38;5;129;01min\u001b[39;00m lengths]\n\u001b[0;32m    463\u001b[0m     )\n",
      "\u001b[1;31mValueError\u001b[0m: Found input variables with inconsistent numbers of samples: [0, 999]"
     ]
    }
   ],
   "source": [
    "import numpy as np\n",
    "import pandas as pd\n",
    "import matplotlib.pyplot as plt\n",
    "from sklearn.compose import ColumnTransformer\n",
    "from sklearn.preprocessing import StandardScaler, OneHotEncoder\n",
    "from sklearn.svm import SVC\n",
    "from sklearn.pipeline import Pipeline\n",
    "from sklearn.datasets import load_iris\n",
    "from sklearn.model_selection import train_test_split\n",
    "from sklearn.metrics import classification_report\n",
    "\n",
    "\n",
    "# Convert to DataFrame to mimic a more complex dataset\n",
    "# For demonstration, let's assume the first two features are numerical and the next two are categorical\n",
    "X_df = pd.DataFrame(X, columns=['num1', 'num2', 'cat1', 'cat2'])\n",
    "X_df['cat1'] = X_df['cat1'].apply(lambda x: 'cat' + str(int(x)))\n",
    "X_df['cat2'] = X_df['cat2'].apply(lambda x: 'cat' + str(int(x)))\n",
    "\n",
    "# Split dataset\n",
    "X_train, X_test, y_train, y_test = train_test_split(X_df, Y, test_size=0.3, random_state=42)\n",
    "\n",
    "# Define the preprocessing for numerical and categorical features\n",
    "numerical_features = ['num1', 'num2']\n",
    "categorical_features = ['cat1', 'cat2']\n",
    "\n",
    "# Create transformers for numerical and categorical data\n",
    "numerical_transformer = StandardScaler()\n",
    "categorical_transformer = OneHotEncoder()\n",
    "\n",
    "# Combine transformers into a ColumnTransformer\n",
    "preprocessor = ColumnTransformer(\n",
    "    transformers=[\n",
    "        ('num', numerical_transformer, numerical_features),\n",
    "        ('cat', categorical_transformer, categorical_features)\n",
    "    ])\n",
    "\n",
    "# Create a pipeline that first preprocesses the data then applies the classifier\n",
    "clf = Pipeline(steps=[\n",
    "    ('preprocessor', preprocessor),\n",
    "    ('classifier', SVC(kernel='linear', C=1.0, random_state=42))\n",
    "])\n",
    "\n",
    "# Train the classifier\n",
    "clf.fit(X_train, y_train)\n",
    "\n",
    "# Predict on the test set\n",
    "y_pred = clf.predict(X_test)\n",
    "\n",
    "# Print classification report\n",
    "print(classification_report(y_test, y_pred))\n",
    "\n",
    "# Define plot_decision_regions function\n",
    "def plot_decision_regions(X, y, classifier, test_idx=None, resolution=0.02):\n",
    "    # Setup marker generator and color map\n",
    "    markers = ('s', 'x', 'o', '^', 'v')\n",
    "    colors = ('red', 'blue', 'lightgreen', 'gray', 'cyan')\n",
    "    cmap = ListedColormap(colors[:len(np.unique(y))])\n",
    "\n",
    "    # Plot the decision surface\n",
    "    x1_min, x1_max = X[:, 0].min() - 1, X[:, 0].max() + 1\n",
    "    x2_min, x2_max = X[:, 1].min() - 1, X[:, 1].max() + 1\n",
    "    xx1, xx2 = np.meshgrid(np.arange(x1_min, x1_max, resolution),\n",
    "                           np.arange(x2_min, x2_max, resolution))\n",
    "    Z = classifier.predict(np.array([xx1.ravel(), xx2.ravel()]).T)\n",
    "    Z = Z.reshape(xx1.shape)\n",
    "    plt.contourf(xx1, xx2, Z, alpha=0.3, cmap=cmap)\n",
    "    plt.xlim(xx1.min(), xx1.max())\n",
    "    plt.ylim(xx2.min(), xx2.max())\n",
    "\n",
    "    # Plot all samples\n",
    "    for idx, cl in enumerate(np.unique(y)):\n",
    "        plt.scatter(x=X[y == cl, 0], y=X[y == cl, 1],\n",
    "                    alpha=0.8, c=colors[idx],\n",
    "                    marker=markers[idx], label=cl, edgecolor='black')\n",
    "\n",
    "    # Highlight test samples\n",
    "    if test_idx:\n",
    "        X_test, y_test = X[test_idx, :], y[test_idx]\n",
    "        plt.scatter(X_test[:, 0], X_test[:, 1], c='',\n",
    "                    edgecolor='black', alpha=1.0,\n",
    "                    linewidth=1, marker='o',\n",
    "                    s=100, label='test set')\n",
    "\n",
    "# Note: For decision region plotting, we need to fit the model with only two features (for visualization)\n",
    "# Here, we'll use only the first two numerical features for the sake of example\n",
    "X_plot = X_df[['num1', 'num2']].values\n",
    "y_plot = Y\n",
    "\n",
    "# Split the plotting data\n",
    "X_plot_train, X_plot_test, y_plot_train, y_plot_test = train_test_split(X_plot, y_plot, test_size=0.3, random_state=42)\n",
    "\n",
    "# Standardize only the plotting data\n",
    "scaler_plot = StandardScaler()\n",
    "X_plot_train_scaled = scaler_plot.fit_transform(X_plot_train)\n",
    "X_plot_test_scaled = scaler_plot.transform(X_plot_test)\n",
    "\n",
    "# Combine the train and test data for plotting\n",
    "X_plot_combined = np.vstack((X_plot_train_scaled, X_plot_test_scaled))\n",
    "y_plot_combined = np.hstack((y_plot_train, y_plot_test))\n",
    "\n",
    "# Train a simple SVM on the plotting data\n",
    "svc_plot = SVC(kernel='linear', C=1.0, random_state=42)\n",
    "svc_plot.fit(X_plot_train_scaled, y_plot_train)\n",
    "\n",
    "# Plot decision regions\n",
    "plot_decision_regions(X=X_plot_combined, y=y_plot_combined, classifier=svc_plot, test_idx=range(105, 150))\n",
    "plt.xlabel('Numerical Feature 1 [standardized]')\n",
    "plt.ylabel('Numerical Feature 2 [standardized]')\n",
    "plt.legend(loc='upper left')\n",
    "plt.show()\n"
   ]
  }
 ],
 "metadata": {
  "kernelspec": {
   "display_name": "Python 3 (ipykernel)",
   "language": "python",
   "name": "python3"
  },
  "language_info": {
   "codemirror_mode": {
    "name": "ipython",
    "version": 3
   },
   "file_extension": ".py",
   "mimetype": "text/x-python",
   "name": "python",
   "nbconvert_exporter": "python",
   "pygments_lexer": "ipython3",
   "version": "3.12.0"
  }
 },
 "nbformat": 4,
 "nbformat_minor": 5
}
