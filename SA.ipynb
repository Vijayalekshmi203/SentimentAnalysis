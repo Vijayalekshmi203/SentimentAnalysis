{
 "cells": [
  {
   "cell_type": "code",
   "execution_count": 1,
   "id": "9d9cf16e",
   "metadata": {},
   "outputs": [],
   "source": [
    "import pandas as pd\n",
    "import numpy as np\n",
    "import matplotlib.pyplot as plt # type: ignore"
   ]
  },
  {
   "cell_type": "code",
   "execution_count": 2,
   "id": "0bd33a2b",
   "metadata": {},
   "outputs": [],
   "source": [
    "import warnings\n",
    "warnings.filterwarnings('ignore')"
   ]
  },
  {
   "cell_type": "code",
   "execution_count": 3,
   "id": "c2fcd236",
   "metadata": {},
   "outputs": [
    {
     "data": {
      "text/html": [
       "<div>\n",
       "<style scoped>\n",
       "    .dataframe tbody tr th:only-of-type {\n",
       "        vertical-align: middle;\n",
       "    }\n",
       "\n",
       "    .dataframe tbody tr th {\n",
       "        vertical-align: top;\n",
       "    }\n",
       "\n",
       "    .dataframe thead th {\n",
       "        text-align: right;\n",
       "    }\n",
       "</style>\n",
       "<table border=\"1\" class=\"dataframe\">\n",
       "  <thead>\n",
       "    <tr style=\"text-align: right;\">\n",
       "      <th></th>\n",
       "      <th>Id</th>\n",
       "      <th>ProductId</th>\n",
       "      <th>UserId</th>\n",
       "      <th>ProfileName</th>\n",
       "      <th>HelpfulnessNumerator</th>\n",
       "      <th>HelpfulnessDenominator</th>\n",
       "      <th>Score</th>\n",
       "      <th>Time</th>\n",
       "      <th>Summary</th>\n",
       "      <th>Text</th>\n",
       "    </tr>\n",
       "  </thead>\n",
       "  <tbody>\n",
       "    <tr>\n",
       "      <th>0</th>\n",
       "      <td>1</td>\n",
       "      <td>B001E4KFG0</td>\n",
       "      <td>A3SGXH7AUHU8GW</td>\n",
       "      <td>delmartian</td>\n",
       "      <td>1</td>\n",
       "      <td>1</td>\n",
       "      <td>5</td>\n",
       "      <td>1303862400</td>\n",
       "      <td>Good Quality Dog Food</td>\n",
       "      <td>I have bought several of the Vitality canned d...</td>\n",
       "    </tr>\n",
       "    <tr>\n",
       "      <th>1</th>\n",
       "      <td>2</td>\n",
       "      <td>B00813GRG4</td>\n",
       "      <td>A1D87F6ZCVE5NK</td>\n",
       "      <td>dll pa</td>\n",
       "      <td>0</td>\n",
       "      <td>0</td>\n",
       "      <td>1</td>\n",
       "      <td>1346976000</td>\n",
       "      <td>Not as Advertised</td>\n",
       "      <td>Product arrived labeled as Jumbo Salted Peanut...</td>\n",
       "    </tr>\n",
       "    <tr>\n",
       "      <th>2</th>\n",
       "      <td>3</td>\n",
       "      <td>B000LQOCH0</td>\n",
       "      <td>ABXLMWJIXXAIN</td>\n",
       "      <td>Natalia Corres \"Natalia Corres\"</td>\n",
       "      <td>1</td>\n",
       "      <td>1</td>\n",
       "      <td>4</td>\n",
       "      <td>1219017600</td>\n",
       "      <td>\"Delight\" says it all</td>\n",
       "      <td>This is a confection that has been around a fe...</td>\n",
       "    </tr>\n",
       "    <tr>\n",
       "      <th>3</th>\n",
       "      <td>4</td>\n",
       "      <td>B000UA0QIQ</td>\n",
       "      <td>A395BORC6FGVXV</td>\n",
       "      <td>Karl</td>\n",
       "      <td>3</td>\n",
       "      <td>3</td>\n",
       "      <td>2</td>\n",
       "      <td>1307923200</td>\n",
       "      <td>Cough Medicine</td>\n",
       "      <td>If you are looking for the secret ingredient i...</td>\n",
       "    </tr>\n",
       "    <tr>\n",
       "      <th>4</th>\n",
       "      <td>5</td>\n",
       "      <td>B006K2ZZ7K</td>\n",
       "      <td>A1UQRSCLF8GW1T</td>\n",
       "      <td>Michael D. Bigham \"M. Wassir\"</td>\n",
       "      <td>0</td>\n",
       "      <td>0</td>\n",
       "      <td>5</td>\n",
       "      <td>1350777600</td>\n",
       "      <td>Great taffy</td>\n",
       "      <td>Great taffy at a great price.  There was a wid...</td>\n",
       "    </tr>\n",
       "    <tr>\n",
       "      <th>...</th>\n",
       "      <td>...</td>\n",
       "      <td>...</td>\n",
       "      <td>...</td>\n",
       "      <td>...</td>\n",
       "      <td>...</td>\n",
       "      <td>...</td>\n",
       "      <td>...</td>\n",
       "      <td>...</td>\n",
       "      <td>...</td>\n",
       "      <td>...</td>\n",
       "    </tr>\n",
       "    <tr>\n",
       "      <th>9995</th>\n",
       "      <td>9996</td>\n",
       "      <td>B000P41A28</td>\n",
       "      <td>A3A63RACXR1XIL</td>\n",
       "      <td>A. Boodhoo \"deaddodo\"</td>\n",
       "      <td>10</td>\n",
       "      <td>15</td>\n",
       "      <td>1</td>\n",
       "      <td>1204502400</td>\n",
       "      <td>constipation</td>\n",
       "      <td>we switched from the advance similac to the or...</td>\n",
       "    </tr>\n",
       "    <tr>\n",
       "      <th>9996</th>\n",
       "      <td>9997</td>\n",
       "      <td>B000P41A28</td>\n",
       "      <td>A5VVRGL8JA7R</td>\n",
       "      <td>Adam</td>\n",
       "      <td>2</td>\n",
       "      <td>3</td>\n",
       "      <td>5</td>\n",
       "      <td>1306368000</td>\n",
       "      <td>Constipation Not A Problem if...</td>\n",
       "      <td>Like the bad reviews say, the organic formula ...</td>\n",
       "    </tr>\n",
       "    <tr>\n",
       "      <th>9997</th>\n",
       "      <td>9998</td>\n",
       "      <td>B000P41A28</td>\n",
       "      <td>A2TGDTJ8YCU6PD</td>\n",
       "      <td>geena77</td>\n",
       "      <td>0</td>\n",
       "      <td>0</td>\n",
       "      <td>5</td>\n",
       "      <td>1347494400</td>\n",
       "      <td>Love this formula!</td>\n",
       "      <td>I wanted to solely breastfeed but was unable t...</td>\n",
       "    </tr>\n",
       "    <tr>\n",
       "      <th>9998</th>\n",
       "      <td>9999</td>\n",
       "      <td>B000P41A28</td>\n",
       "      <td>AUV4GIZZE693O</td>\n",
       "      <td>Susan Coe \"sueysis\"</td>\n",
       "      <td>1</td>\n",
       "      <td>2</td>\n",
       "      <td>5</td>\n",
       "      <td>1203638400</td>\n",
       "      <td>very convenient</td>\n",
       "      <td>i love the fact that i can get this delieved t...</td>\n",
       "    </tr>\n",
       "    <tr>\n",
       "      <th>9999</th>\n",
       "      <td>10000</td>\n",
       "      <td>B000P41A28</td>\n",
       "      <td>A82WIMR4RSVLI</td>\n",
       "      <td>Emrose mom</td>\n",
       "      <td>0</td>\n",
       "      <td>1</td>\n",
       "      <td>4</td>\n",
       "      <td>1337472000</td>\n",
       "      <td>The best weve tried so far</td>\n",
       "      <td>We have a 7 week old... He had gas and constip...</td>\n",
       "    </tr>\n",
       "  </tbody>\n",
       "</table>\n",
       "<p>10000 rows × 10 columns</p>\n",
       "</div>"
      ],
      "text/plain": [
       "         Id   ProductId          UserId                      ProfileName  \\\n",
       "0         1  B001E4KFG0  A3SGXH7AUHU8GW                       delmartian   \n",
       "1         2  B00813GRG4  A1D87F6ZCVE5NK                           dll pa   \n",
       "2         3  B000LQOCH0   ABXLMWJIXXAIN  Natalia Corres \"Natalia Corres\"   \n",
       "3         4  B000UA0QIQ  A395BORC6FGVXV                             Karl   \n",
       "4         5  B006K2ZZ7K  A1UQRSCLF8GW1T    Michael D. Bigham \"M. Wassir\"   \n",
       "...     ...         ...             ...                              ...   \n",
       "9995   9996  B000P41A28  A3A63RACXR1XIL            A. Boodhoo \"deaddodo\"   \n",
       "9996   9997  B000P41A28    A5VVRGL8JA7R                             Adam   \n",
       "9997   9998  B000P41A28  A2TGDTJ8YCU6PD                          geena77   \n",
       "9998   9999  B000P41A28   AUV4GIZZE693O              Susan Coe \"sueysis\"   \n",
       "9999  10000  B000P41A28   A82WIMR4RSVLI                       Emrose mom   \n",
       "\n",
       "      HelpfulnessNumerator  HelpfulnessDenominator  Score        Time  \\\n",
       "0                        1                       1      5  1303862400   \n",
       "1                        0                       0      1  1346976000   \n",
       "2                        1                       1      4  1219017600   \n",
       "3                        3                       3      2  1307923200   \n",
       "4                        0                       0      5  1350777600   \n",
       "...                    ...                     ...    ...         ...   \n",
       "9995                    10                      15      1  1204502400   \n",
       "9996                     2                       3      5  1306368000   \n",
       "9997                     0                       0      5  1347494400   \n",
       "9998                     1                       2      5  1203638400   \n",
       "9999                     0                       1      4  1337472000   \n",
       "\n",
       "                               Summary  \\\n",
       "0                Good Quality Dog Food   \n",
       "1                    Not as Advertised   \n",
       "2                \"Delight\" says it all   \n",
       "3                       Cough Medicine   \n",
       "4                          Great taffy   \n",
       "...                                ...   \n",
       "9995                      constipation   \n",
       "9996  Constipation Not A Problem if...   \n",
       "9997                Love this formula!   \n",
       "9998                   very convenient   \n",
       "9999        The best weve tried so far   \n",
       "\n",
       "                                                   Text  \n",
       "0     I have bought several of the Vitality canned d...  \n",
       "1     Product arrived labeled as Jumbo Salted Peanut...  \n",
       "2     This is a confection that has been around a fe...  \n",
       "3     If you are looking for the secret ingredient i...  \n",
       "4     Great taffy at a great price.  There was a wid...  \n",
       "...                                                 ...  \n",
       "9995  we switched from the advance similac to the or...  \n",
       "9996  Like the bad reviews say, the organic formula ...  \n",
       "9997  I wanted to solely breastfeed but was unable t...  \n",
       "9998  i love the fact that i can get this delieved t...  \n",
       "9999  We have a 7 week old... He had gas and constip...  \n",
       "\n",
       "[10000 rows x 10 columns]"
      ]
     },
     "execution_count": 3,
     "metadata": {},
     "output_type": "execute_result"
    }
   ],
   "source": [
    "whole_data = pd.read_csv(r'Data\\Review.csv')\n",
    "whole_data"
   ]
  },
  {
   "cell_type": "code",
   "execution_count": 4,
   "id": "a1507438",
   "metadata": {},
   "outputs": [
    {
     "data": {
      "text/html": [
       "<div>\n",
       "<style scoped>\n",
       "    .dataframe tbody tr th:only-of-type {\n",
       "        vertical-align: middle;\n",
       "    }\n",
       "\n",
       "    .dataframe tbody tr th {\n",
       "        vertical-align: top;\n",
       "    }\n",
       "\n",
       "    .dataframe thead th {\n",
       "        text-align: right;\n",
       "    }\n",
       "</style>\n",
       "<table border=\"1\" class=\"dataframe\">\n",
       "  <thead>\n",
       "    <tr style=\"text-align: right;\">\n",
       "      <th></th>\n",
       "      <th>Score</th>\n",
       "      <th>Text</th>\n",
       "    </tr>\n",
       "  </thead>\n",
       "  <tbody>\n",
       "    <tr>\n",
       "      <th>0</th>\n",
       "      <td>5</td>\n",
       "      <td>I have bought several of the Vitality canned d...</td>\n",
       "    </tr>\n",
       "    <tr>\n",
       "      <th>1</th>\n",
       "      <td>1</td>\n",
       "      <td>Product arrived labeled as Jumbo Salted Peanut...</td>\n",
       "    </tr>\n",
       "    <tr>\n",
       "      <th>2</th>\n",
       "      <td>4</td>\n",
       "      <td>This is a confection that has been around a fe...</td>\n",
       "    </tr>\n",
       "    <tr>\n",
       "      <th>3</th>\n",
       "      <td>2</td>\n",
       "      <td>If you are looking for the secret ingredient i...</td>\n",
       "    </tr>\n",
       "    <tr>\n",
       "      <th>4</th>\n",
       "      <td>5</td>\n",
       "      <td>Great taffy at a great price.  There was a wid...</td>\n",
       "    </tr>\n",
       "    <tr>\n",
       "      <th>...</th>\n",
       "      <td>...</td>\n",
       "      <td>...</td>\n",
       "    </tr>\n",
       "    <tr>\n",
       "      <th>9995</th>\n",
       "      <td>1</td>\n",
       "      <td>we switched from the advance similac to the or...</td>\n",
       "    </tr>\n",
       "    <tr>\n",
       "      <th>9996</th>\n",
       "      <td>5</td>\n",
       "      <td>Like the bad reviews say, the organic formula ...</td>\n",
       "    </tr>\n",
       "    <tr>\n",
       "      <th>9997</th>\n",
       "      <td>5</td>\n",
       "      <td>I wanted to solely breastfeed but was unable t...</td>\n",
       "    </tr>\n",
       "    <tr>\n",
       "      <th>9998</th>\n",
       "      <td>5</td>\n",
       "      <td>i love the fact that i can get this delieved t...</td>\n",
       "    </tr>\n",
       "    <tr>\n",
       "      <th>9999</th>\n",
       "      <td>4</td>\n",
       "      <td>We have a 7 week old... He had gas and constip...</td>\n",
       "    </tr>\n",
       "  </tbody>\n",
       "</table>\n",
       "<p>10000 rows × 2 columns</p>\n",
       "</div>"
      ],
      "text/plain": [
       "      Score                                               Text\n",
       "0         5  I have bought several of the Vitality canned d...\n",
       "1         1  Product arrived labeled as Jumbo Salted Peanut...\n",
       "2         4  This is a confection that has been around a fe...\n",
       "3         2  If you are looking for the secret ingredient i...\n",
       "4         5  Great taffy at a great price.  There was a wid...\n",
       "...     ...                                                ...\n",
       "9995      1  we switched from the advance similac to the or...\n",
       "9996      5  Like the bad reviews say, the organic formula ...\n",
       "9997      5  I wanted to solely breastfeed but was unable t...\n",
       "9998      5  i love the fact that i can get this delieved t...\n",
       "9999      4  We have a 7 week old... He had gas and constip...\n",
       "\n",
       "[10000 rows x 2 columns]"
      ]
     },
     "execution_count": 4,
     "metadata": {},
     "output_type": "execute_result"
    }
   ],
   "source": [
    "data=whole_data[['Score','Text']]\n",
    "data"
   ]
  },
  {
   "cell_type": "code",
   "execution_count": 5,
   "id": "249e307a",
   "metadata": {},
   "outputs": [
    {
     "data": {
      "text/plain": [
       "Score    0\n",
       "Text     0\n",
       "dtype: int64"
      ]
     },
     "execution_count": 5,
     "metadata": {},
     "output_type": "execute_result"
    }
   ],
   "source": [
    "#Identifying misssing values\n",
    "data.isnull().sum()"
   ]
  },
  {
   "cell_type": "code",
   "execution_count": 6,
   "id": "72413ec7",
   "metadata": {},
   "outputs": [],
   "source": [
    "# Drop rows with any missing values\n",
    "data = data.dropna()"
   ]
  },
  {
   "cell_type": "code",
   "execution_count": 7,
   "id": "329c5b78",
   "metadata": {},
   "outputs": [
    {
     "data": {
      "text/plain": [
       "<Axes: xlabel='Score'>"
      ]
     },
     "execution_count": 7,
     "metadata": {},
     "output_type": "execute_result"
    },
    {
     "data": {
      "image/png": "[encoded data removed]",
      "text/plain": [
       "<Figure size 640x480 with 1 Axes>"
      ]
     },
     "metadata": {},
     "output_type": "display_data"
    }
   ],
   "source": [
    "#Plotting the scores (Rating)\n",
    "data['Score'].value_counts().plot.bar()"
   ]
  },
  {
   "cell_type": "markdown",
   "id": "f50ce3d7",
   "metadata": {},
   "source": [
    "DATA PREPROCESSING"
   ]
  },
  {
   "cell_type": "markdown",
   "id": "466fcfaf",
   "metadata": {},
   "source": [
    "Stop Words are common words that are usually filtered out in NLP, because they don't carry significant meaning\n",
    "example: is, the ..."
   ]
  },
  {
   "cell_type": "code",
   "execution_count": 8,
   "id": "d9afbc63",
   "metadata": {},
   "outputs": [
    {
     "name": "stderr",
     "output_type": "stream",
     "text": [
      "[nltk_data] Downloading package stopwords to\n",
      "[nltk_data]     C:\\Users\\vijayalekshmi\\AppData\\Roaming\\nltk_data...\n",
      "[nltk_data]   Package stopwords is already up-to-date!\n"
     ]
    },
    {
     "data": {
      "text/plain": [
       "True"
      ]
     },
     "execution_count": 8,
     "metadata": {},
     "output_type": "execute_result"
    }
   ],
   "source": [
    "#Stopwords\n",
    "import nltk\n",
    "from nltk.corpus import stopwords\n",
    "nltk.download('stopwords')"
   ]
  },
  {
   "cell_type": "code",
   "execution_count": 9,
   "id": "92f2ab56",
   "metadata": {},
   "outputs": [
    {
     "data": {
      "text/plain": [
       "{'a',\n",
       " 'about',\n",
       " 'above',\n",
       " 'after',\n",
       " 'again',\n",
       " 'against',\n",
       " 'ain',\n",
       " 'all',\n",
       " 'am',\n",
       " 'an',\n",
       " 'and',\n",
       " 'any',\n",
       " 'are',\n",
       " 'aren',\n",
       " \"aren't\",\n",
       " 'as',\n",
       " 'at',\n",
       " 'be',\n",
       " 'because',\n",
       " 'been',\n",
       " 'before',\n",
       " 'being',\n",
       " 'below',\n",
       " 'between',\n",
       " 'both',\n",
       " 'but',\n",
       " 'by',\n",
       " 'can',\n",
       " 'couldn',\n",
       " \"couldn't\",\n",
       " 'd',\n",
       " 'did',\n",
       " 'didn',\n",
       " \"didn't\",\n",
       " 'do',\n",
       " 'does',\n",
       " 'doesn',\n",
       " \"doesn't\",\n",
       " 'doing',\n",
       " 'don',\n",
       " \"don't\",\n",
       " 'down',\n",
       " 'during',\n",
       " 'each',\n",
       " 'few',\n",
       " 'for',\n",
       " 'from',\n",
       " 'further',\n",
       " 'had',\n",
       " 'hadn',\n",
       " \"hadn't\",\n",
       " 'has',\n",
       " 'hasn',\n",
       " \"hasn't\",\n",
       " 'have',\n",
       " 'haven',\n",
       " \"haven't\",\n",
       " 'having',\n",
       " 'he',\n",
       " 'her',\n",
       " 'here',\n",
       " 'hers',\n",
       " 'herself',\n",
       " 'him',\n",
       " 'himself',\n",
       " 'his',\n",
       " 'how',\n",
       " 'i',\n",
       " 'if',\n",
       " 'in',\n",
       " 'into',\n",
       " 'is',\n",
       " 'isn',\n",
       " \"isn't\",\n",
       " 'it',\n",
       " \"it's\",\n",
       " 'its',\n",
       " 'itself',\n",
       " 'just',\n",
       " 'll',\n",
       " 'm',\n",
       " 'ma',\n",
       " 'me',\n",
       " 'mightn',\n",
       " \"mightn't\",\n",
       " 'more',\n",
       " 'most',\n",
       " 'mustn',\n",
       " \"mustn't\",\n",
       " 'my',\n",
       " 'myself',\n",
       " 'needn',\n",
       " \"needn't\",\n",
       " 'no',\n",
       " 'nor',\n",
       " 'not',\n",
       " 'now',\n",
       " 'o',\n",
       " 'of',\n",
       " 'off',\n",
       " 'on',\n",
       " 'once',\n",
       " 'only',\n",
       " 'or',\n",
       " 'other',\n",
       " 'our',\n",
       " 'ours',\n",
       " 'ourselves',\n",
       " 'out',\n",
       " 'over',\n",
       " 'own',\n",
       " 're',\n",
       " 's',\n",
       " 'same',\n",
       " 'shan',\n",
       " \"shan't\",\n",
       " 'she',\n",
       " \"she's\",\n",
       " 'should',\n",
       " \"should've\",\n",
       " 'shouldn',\n",
       " \"shouldn't\",\n",
       " 'so',\n",
       " 'some',\n",
       " 'such',\n",
       " 't',\n",
       " 'than',\n",
       " 'that',\n",
       " \"that'll\",\n",
       " 'the',\n",
       " 'their',\n",
       " 'theirs',\n",
       " 'them',\n",
       " 'themselves',\n",
       " 'then',\n",
       " 'there',\n",
       " 'these',\n",
       " 'they',\n",
       " 'this',\n",
       " 'those',\n",
       " 'through',\n",
       " 'to',\n",
       " 'too',\n",
       " 'under',\n",
       " 'until',\n",
       " 'up',\n",
       " 've',\n",
       " 'very',\n",
       " 'was',\n",
       " 'wasn',\n",
       " \"wasn't\",\n",
       " 'we',\n",
       " 'were',\n",
       " 'weren',\n",
       " \"weren't\",\n",
       " 'what',\n",
       " 'when',\n",
       " 'where',\n",
       " 'which',\n",
       " 'while',\n",
       " 'who',\n",
       " 'whom',\n",
       " 'why',\n",
       " 'will',\n",
       " 'with',\n",
       " 'won',\n",
       " \"won't\",\n",
       " 'wouldn',\n",
       " \"wouldn't\",\n",
       " 'y',\n",
       " 'you',\n",
       " \"you'd\",\n",
       " \"you'll\",\n",
       " \"you're\",\n",
       " \"you've\",\n",
       " 'your',\n",
       " 'yours',\n",
       " 'yourself',\n",
       " 'yourselves'}"
      ]
     },
     "execution_count": 9,
     "metadata": {},
     "output_type": "execute_result"
    }
   ],
   "source": [
    "from nltk.corpus import stopwords\n",
    "stop_words = set(stopwords.words('english'))\n",
    "stop_words"
   ]
  },
  {
   "cell_type": "code",
   "execution_count": 10,
   "id": "9aec05f3",
   "metadata": {},
   "outputs": [
    {
     "data": {
      "text/plain": [
       "{\"'s\",\n",
       " 'a',\n",
       " 'about',\n",
       " 'above',\n",
       " 'after',\n",
       " 'again',\n",
       " 'against',\n",
       " 'ain',\n",
       " 'all',\n",
       " 'am',\n",
       " 'an',\n",
       " 'and',\n",
       " 'any',\n",
       " 'are',\n",
       " 'aren',\n",
       " \"aren't\",\n",
       " 'as',\n",
       " 'at',\n",
       " 'be',\n",
       " 'because',\n",
       " 'been',\n",
       " 'before',\n",
       " 'being',\n",
       " 'below',\n",
       " 'between',\n",
       " 'both',\n",
       " 'br',\n",
       " 'but',\n",
       " 'by',\n",
       " 'can',\n",
       " 'couldn',\n",
       " \"couldn't\",\n",
       " 'd',\n",
       " 'did',\n",
       " 'didn',\n",
       " \"didn't\",\n",
       " 'do',\n",
       " 'does',\n",
       " 'doesn',\n",
       " \"doesn't\",\n",
       " 'doing',\n",
       " 'don',\n",
       " \"don't\",\n",
       " 'down',\n",
       " 'during',\n",
       " 'each',\n",
       " 'few',\n",
       " 'for',\n",
       " 'from',\n",
       " 'further',\n",
       " 'had',\n",
       " 'hadn',\n",
       " \"hadn't\",\n",
       " 'has',\n",
       " 'hasn',\n",
       " \"hasn't\",\n",
       " 'have',\n",
       " 'haven',\n",
       " \"haven't\",\n",
       " 'having',\n",
       " 'he',\n",
       " 'her',\n",
       " 'here',\n",
       " 'hers',\n",
       " 'herself',\n",
       " 'him',\n",
       " 'himself',\n",
       " 'his',\n",
       " 'how',\n",
       " 'i',\n",
       " 'if',\n",
       " 'in',\n",
       " 'into',\n",
       " 'is',\n",
       " 'isn',\n",
       " \"isn't\",\n",
       " 'it',\n",
       " \"it's\",\n",
       " 'its',\n",
       " 'itself',\n",
       " 'just',\n",
       " 'll',\n",
       " 'm',\n",
       " 'ma',\n",
       " 'me',\n",
       " 'mightn',\n",
       " \"mightn't\",\n",
       " 'more',\n",
       " 'most',\n",
       " 'mustn',\n",
       " \"mustn't\",\n",
       " 'my',\n",
       " 'myself',\n",
       " \"n't\",\n",
       " 'needn',\n",
       " \"needn't\",\n",
       " 'no',\n",
       " 'nor',\n",
       " 'not',\n",
       " 'now',\n",
       " 'o',\n",
       " 'of',\n",
       " 'off',\n",
       " 'on',\n",
       " 'once',\n",
       " 'only',\n",
       " 'or',\n",
       " 'other',\n",
       " 'our',\n",
       " 'ours',\n",
       " 'ourselves',\n",
       " 'out',\n",
       " 'over',\n",
       " 'own',\n",
       " 're',\n",
       " 's',\n",
       " 'same',\n",
       " 'shan',\n",
       " \"shan't\",\n",
       " 'she',\n",
       " \"she's\",\n",
       " 'should',\n",
       " \"should've\",\n",
       " 'shouldn',\n",
       " \"shouldn't\",\n",
       " 'so',\n",
       " 'some',\n",
       " 'such',\n",
       " 't',\n",
       " 'than',\n",
       " 'that',\n",
       " \"that'll\",\n",
       " 'the',\n",
       " 'their',\n",
       " 'theirs',\n",
       " 'them',\n",
       " 'themselves',\n",
       " 'then',\n",
       " 'there',\n",
       " 'these',\n",
       " 'they',\n",
       " 'this',\n",
       " 'those',\n",
       " 'through',\n",
       " 'to',\n",
       " 'too',\n",
       " 'under',\n",
       " 'until',\n",
       " 'up',\n",
       " 've',\n",
       " 'very',\n",
       " 'was',\n",
       " 'wasn',\n",
       " \"wasn't\",\n",
       " 'we',\n",
       " 'were',\n",
       " 'weren',\n",
       " \"weren't\",\n",
       " 'what',\n",
       " 'when',\n",
       " 'where',\n",
       " 'which',\n",
       " 'while',\n",
       " 'who',\n",
       " 'whom',\n",
       " 'why',\n",
       " 'will',\n",
       " 'with',\n",
       " 'won',\n",
       " \"won't\",\n",
       " 'wouldn',\n",
       " \"wouldn't\",\n",
       " 'y',\n",
       " 'you',\n",
       " \"you'd\",\n",
       " \"you'll\",\n",
       " \"you're\",\n",
       " \"you've\",\n",
       " 'your',\n",
       " 'yours',\n",
       " 'yourself',\n",
       " 'yourselves'}"
      ]
     },
     "execution_count": 10,
     "metadata": {},
     "output_type": "execute_result"
    }
   ],
   "source": [
    "#Adding Custom words to remove from the dataset\n",
    "custom_stopwords={\"br\",\"'s\",\"n't\"}\n",
    "stop_words.update(custom_stopwords)\n",
    "stop_words"
   ]
  },
  {
   "cell_type": "markdown",
   "id": "a8ae0a49",
   "metadata": {},
   "source": [
    "After doing lemmatization, it may not give us the expected root form of words because the WordNetLemmatizer() in NLTK requires the correct part-of-speech (POS) tag to perform accurate lemmatization.\n",
    "To improve the lemmatization process, we need to provide correct \"POS tags\" for each word."
   ]
  },
  {
   "cell_type": "code",
   "execution_count": 11,
   "id": "e1ea6ce8",
   "metadata": {},
   "outputs": [],
   "source": [
    "import re\n",
    "from nltk.corpus import wordnet\n",
    "from nltk.tokenize import word_tokenize"
   ]
  },
  {
   "cell_type": "code",
   "execution_count": 12,
   "id": "652903d4",
   "metadata": {},
   "outputs": [
    {
     "name": "stderr",
     "output_type": "stream",
     "text": [
      "[nltk_data] Downloading package wordnet to\n",
      "[nltk_data]     C:\\Users\\vijayalekshmi\\AppData\\Roaming\\nltk_data...\n",
      "[nltk_data]   Package wordnet is already up-to-date!\n",
      "[nltk_data] Downloading package punkt to\n",
      "[nltk_data]     C:\\Users\\vijayalekshmi\\AppData\\Roaming\\nltk_data...\n",
      "[nltk_data]   Package punkt is already up-to-date!\n"
     ]
    },
    {
     "data": {
      "text/plain": [
       "True"
      ]
     },
     "execution_count": 12,
     "metadata": {},
     "output_type": "execute_result"
    }
   ],
   "source": [
    "import nltk\n",
    "from nltk.stem import WordNetLemmatizer\n",
    "nltk.download('wordnet')\n",
    "nltk.download('punkt')"
   ]
  },
  {
   "cell_type": "code",
   "execution_count": 13,
   "id": "0ad6bb51",
   "metadata": {},
   "outputs": [
    {
     "name": "stderr",
     "output_type": "stream",
     "text": [
      "[nltk_data] Downloading package averaged_perceptron_tagger to\n",
      "[nltk_data]     C:\\Users\\vijayalekshmi\\AppData\\Roaming\\nltk_data...\n",
      "[nltk_data]   Package averaged_perceptron_tagger is already up-to-\n",
      "[nltk_data]       date!\n"
     ]
    },
    {
     "data": {
      "text/plain": [
       "True"
      ]
     },
     "execution_count": 13,
     "metadata": {},
     "output_type": "execute_result"
    }
   ],
   "source": [
    "from nltk import pos_tag\n",
    "nltk.download('averaged_perceptron_tagger')"
   ]
  },
  {
   "cell_type": "code",
   "execution_count": 14,
   "id": "41c1fa83",
   "metadata": {},
   "outputs": [],
   "source": [
    "# Function to map NLTK POS tags to WordNet POS tags\n",
    "def get_wordnet_pos(tag):\n",
    "    if tag.startswith('J'):\n",
    "        return wordnet.ADJ\n",
    "    elif tag.startswith('V'):\n",
    "        return wordnet.VERB\n",
    "    elif tag.startswith('N'):\n",
    "        return wordnet.NOUN\n",
    "    elif tag.startswith('R'):\n",
    "        return wordnet.ADV\n",
    "    else:\n",
    "        return wordnet.NOUN"
   ]
  },
  {
   "cell_type": "code",
   "execution_count": 15,
   "id": "c25cb19e",
   "metadata": {},
   "outputs": [
    {
     "name": "stdout",
     "output_type": "stream",
     "text": [
      "0       buy several vitality can dog food product find...\n",
      "1       product arrive label jumbo salt peanut peanut ...\n",
      "2       confection around century light pillowy citrus...\n",
      "3       look secret ingredient robitussin believe find...\n",
      "4       great taffy great price wide assortment yummy ...\n",
      "                              ...                        \n",
      "9995    switch advance similac organic product think w...\n",
      "9996    like bad review say organic formula constipate...\n",
      "9997    want solely breastfeed unable keep supplement ...\n",
      "9998    love fact get delieved house delievy charge ha...\n",
      "9999    week old gas constipation problem first week t...\n",
      "Name: Cleaned_Text, Length: 10000, dtype: object\n"
     ]
    }
   ],
   "source": [
    "# Initialize WordNetLemmatizer\n",
    "lemmatizer = WordNetLemmatizer()\n",
    "from bs4 import BeautifulSoup\n",
    "\n",
    "corpus = []\n",
    "\n",
    "for i in range(len(data)):\n",
    "    # Remove URLs\n",
    "    Cleaned_text = re.sub(r'http\\S+|www\\S+|https\\S+|href\\S+', ' ', data[\"Text\"][i], flags=re.MULTILINE)\n",
    "\n",
    "    # Parse HTML using BeautifulSoup\n",
    "    soup = BeautifulSoup(Cleaned_text, 'html.parser')\n",
    "\n",
    "    # Get text content without HTML tags\n",
    "    Cleaned_text = soup.get_text(separator=' ')\n",
    "\n",
    "    # Remove unwanted characters & numbers\n",
    "    Cleaned_text = re.sub(r'[<>=,.()/!]+', ' ', Cleaned_text)\n",
    "    Cleaned_text = re.sub('[^a-zA-Z]', ' ', Cleaned_text)\n",
    "\n",
    "    # Replace extra spaces and angle brackets left by BeautifulSoup\n",
    "    Cleaned_text = re.sub(r'\\s+', ' ', Cleaned_text).strip()\n",
    "    \n",
    "    #Changing to lowercase\n",
    "    Cleaned_text = Cleaned_text.lower()\n",
    "\n",
    "    #word_tokenize interface for tokenization\n",
    "    Cleaned_text = word_tokenize(Cleaned_text)\n",
    "    \n",
    "    # POS tagging\n",
    "    pos_tags = pos_tag(Cleaned_text)\n",
    "    \n",
    "    # Lemmatize with POS tags\n",
    "    Cleaned_text = [lemmatizer.lemmatize(word, get_wordnet_pos(tag)) for word, tag in pos_tags if word not in stop_words]\n",
    "    \n",
    "    # Join the words back into a single string\n",
    "    Cleaned_text = \" \".join(Cleaned_text)\n",
    "    corpus.append(Cleaned_text)\n",
    "\n",
    "data['Cleaned_Text'] = corpus\n",
    "print(data['Cleaned_Text'])"
   ]
  },
  {
   "cell_type": "code",
   "execution_count": 16,
   "id": "8b905043",
   "metadata": {},
   "outputs": [
    {
     "data": {
      "text/plain": [
       "'Product received is as advertised.<br /><br /><a href=\"http://www.amazon.com/gp/product/B001GVISJM\">Twizzlers, Strawberry, 16-Ounce Bags (Pack of 6)</a>'"
      ]
     },
     "execution_count": 16,
     "metadata": {},
     "output_type": "execute_result"
    }
   ],
   "source": [
    "data['Text'][25]"
   ]
  },
  {
   "cell_type": "code",
   "execution_count": 17,
   "id": "304b36bb",
   "metadata": {},
   "outputs": [
    {
     "data": {
      "text/plain": [
       "'product receive advertised'"
      ]
     },
     "execution_count": 17,
     "metadata": {},
     "output_type": "execute_result"
    }
   ],
   "source": [
    "data['Cleaned_Text'][25]"
   ]
  },
  {
   "cell_type": "code",
   "execution_count": 18,
   "id": "aaafa826",
   "metadata": {},
   "outputs": [
    {
     "data": {
      "text/plain": [
       "like         4833\n",
       "taste        4466\n",
       "good         4352\n",
       "coffee       3914\n",
       "flavor       3866\n",
       "             ... \n",
       "wisdom          1\n",
       "remake          1\n",
       "vainly          1\n",
       "performer       1\n",
       "amazn           1\n",
       "Name: count, Length: 14666, dtype: int64"
      ]
     },
     "execution_count": 18,
     "metadata": {},
     "output_type": "execute_result"
    }
   ],
   "source": [
    "#Finding the count of each word\n",
    "temp_data = pd.Series(' '.join(data['Cleaned_Text']).split()).value_counts()\n",
    "temp_data"
   ]
  },
  {
   "cell_type": "code",
   "execution_count": 19,
   "id": "377d5943",
   "metadata": {},
   "outputs": [
    {
     "data": {
      "text/plain": [
       "nutrisodas     1\n",
       "unavoidably    1\n",
       "mdr            1\n",
       "oounces        1\n",
       "manages        1\n",
       "              ..\n",
       "wisdom         1\n",
       "remake         1\n",
       "vainly         1\n",
       "performer      1\n",
       "amazn          1\n",
       "Name: count, Length: 6194, dtype: int64"
      ]
     },
     "execution_count": 19,
     "metadata": {},
     "output_type": "execute_result"
    }
   ],
   "source": [
    "#Filering out the words with count <=1\n",
    "drops = temp_data[temp_data <= 1]\n",
    "drops"
   ]
  },
  {
   "cell_type": "code",
   "execution_count": 20,
   "id": "8f1993eb",
   "metadata": {},
   "outputs": [
    {
     "data": {
      "text/plain": [
       "0       buy several vitality can dog food product find...\n",
       "1       product arrive label jumbo salt peanut peanut ...\n",
       "2       confection around century light citrus gelatin...\n",
       "3       look secret ingredient robitussin believe find...\n",
       "4       great taffy great price wide assortment yummy ...\n",
       "                              ...                        \n",
       "9995    switch advance similac organic product think w...\n",
       "9996    like bad review say organic formula constipate...\n",
       "9997    want solely breastfeed unable keep supplement ...\n",
       "9998         love fact get house charge hard find organic\n",
       "9999    week old gas constipation problem first week t...\n",
       "Name: Cleaned_Text, Length: 10000, dtype: object"
      ]
     },
     "execution_count": 20,
     "metadata": {},
     "output_type": "execute_result"
    }
   ],
   "source": [
    "#Removing the words with count<=1\n",
    "data['Cleaned_Text'] = data['Cleaned_Text'].apply(lambda x: \" \".join(x for x in x.split() if x not in drops))\n",
    "data['Cleaned_Text']"
   ]
  },
  {
   "cell_type": "markdown",
   "id": "1c8fb5fe",
   "metadata": {},
   "source": [
    "# VADER"
   ]
  },
  {
   "cell_type": "code",
   "execution_count": 21,
   "id": "37ba2745",
   "metadata": {},
   "outputs": [
    {
     "name": "stderr",
     "output_type": "stream",
     "text": [
      "[nltk_data] Downloading package vader_lexicon to\n",
      "[nltk_data]     C:\\Users\\vijayalekshmi\\AppData\\Roaming\\nltk_data...\n",
      "[nltk_data]   Package vader_lexicon is already up-to-date!\n"
     ]
    },
    {
     "data": {
      "text/plain": [
       "True"
      ]
     },
     "execution_count": 21,
     "metadata": {},
     "output_type": "execute_result"
    }
   ],
   "source": [
    "nltk.download('vader_lexicon')"
   ]
  },
  {
   "cell_type": "code",
   "execution_count": 22,
   "id": "bb7c0643",
   "metadata": {},
   "outputs": [
    {
     "data": {
      "text/plain": [
       "0    buy several vitality can dog food product find...\n",
       "1    product arrive label jumbo salt peanut peanut ...\n",
       "2    confection around century light citrus gelatin...\n",
       "3    look secret ingredient robitussin believe find...\n",
       "4    great taffy great price wide assortment yummy ...\n",
       "5    get wild hair taffy order five pound bag taffy...\n",
       "6    taffy great flavor soft chewy candy individual...\n",
       "7    taffy good soft chewy flavor amaze would defin...\n",
       "8    right mostly sprout cat eat grass love rotate ...\n",
       "9    healthy dog food good digestion also good smal...\n",
       "Name: Cleaned_Text, dtype: object"
      ]
     },
     "execution_count": 22,
     "metadata": {},
     "output_type": "execute_result"
    }
   ],
   "source": [
    "data['Cleaned_Text'].head(10)"
   ]
  },
  {
   "cell_type": "markdown",
   "id": "6a52ba59",
   "metadata": {},
   "source": [
    "The SentimentIntensityAnalyzer from NLTK's VADER module is a useful tool for performing sentiment analysis. We use the SentimentIntensityAnalyzer to get sentiment scores for individual sentences or larger pieces of text. The polarity_scores method returns a dictionary with the following keys: neg: Negative sentiment score (range from 0 to 1). neu: Neutral sentiment score (range from 0 to 1). pos: Positive sentiment score (range from 0 to 1). compound: A compound score that combines the three sentiment scores into a single value, ranging from -1 (most negative) to +1 (most positive)."
   ]
  },
  {
   "cell_type": "code",
   "execution_count": 23,
   "id": "9b011883",
   "metadata": {},
   "outputs": [],
   "source": [
    "from nltk.sentiment import SentimentIntensityAnalyzer\n",
    "sa = SentimentIntensityAnalyzer()"
   ]
  },
  {
   "cell_type": "code",
   "execution_count": 24,
   "id": "b2de1780",
   "metadata": {},
   "outputs": [
    {
     "data": {
      "text/plain": [
       "0    {'neg': 0.0, 'neu': 0.525, 'pos': 0.475, 'comp...\n",
       "1    {'neg': 0.129, 'neu': 0.762, 'pos': 0.11, 'com...\n",
       "2    {'neg': 0.143, 'neu': 0.542, 'pos': 0.315, 'co...\n",
       "3    {'neg': 0.0, 'neu': 0.854, 'pos': 0.146, 'comp...\n",
       "4    {'neg': 0.0, 'neu': 0.369, 'pos': 0.631, 'comp...\n",
       "5    {'neg': 0.043, 'neu': 0.665, 'pos': 0.292, 'co...\n",
       "6    {'neg': 0.0, 'neu': 0.569, 'pos': 0.431, 'comp...\n",
       "7    {'neg': 0.0, 'neu': 0.291, 'pos': 0.709, 'comp...\n",
       "8    {'neg': 0.0, 'neu': 0.704, 'pos': 0.296, 'comp...\n",
       "9    {'neg': 0.0, 'neu': 0.585, 'pos': 0.415, 'comp...\n",
       "Name: Cleaned_Text, dtype: object"
      ]
     },
     "execution_count": 24,
     "metadata": {},
     "output_type": "execute_result"
    }
   ],
   "source": [
    "#applying vader in our dataset\n",
    "data[\"Cleaned_Text\"][0:10].apply(lambda x: sa.polarity_scores(x))"
   ]
  },
  {
   "cell_type": "code",
   "execution_count": 25,
   "id": "afd841d7",
   "metadata": {},
   "outputs": [
    {
     "data": {
      "text/plain": [
       "0    0.9246\n",
       "1   -0.1027\n",
       "2    0.8624\n",
       "3    0.4404\n",
       "4    0.9468\n",
       "5    0.9136\n",
       "6    0.9422\n",
       "7    0.9274\n",
       "8    0.6369\n",
       "9    0.8176\n",
       "Name: Cleaned_Text, dtype: float64"
      ]
     },
     "execution_count": 25,
     "metadata": {},
     "output_type": "execute_result"
    }
   ],
   "source": [
    "data[\"Cleaned_Text\"][0:10].apply(lambda x: sa.polarity_scores(x)[\"compound\"])"
   ]
  },
  {
   "cell_type": "code",
   "execution_count": 26,
   "id": "f0be2faf",
   "metadata": {},
   "outputs": [
    {
     "data": {
      "text/html": [
       "<div>\n",
       "<style scoped>\n",
       "    .dataframe tbody tr th:only-of-type {\n",
       "        vertical-align: middle;\n",
       "    }\n",
       "\n",
       "    .dataframe tbody tr th {\n",
       "        vertical-align: top;\n",
       "    }\n",
       "\n",
       "    .dataframe thead th {\n",
       "        text-align: right;\n",
       "    }\n",
       "</style>\n",
       "<table border=\"1\" class=\"dataframe\">\n",
       "  <thead>\n",
       "    <tr style=\"text-align: right;\">\n",
       "      <th></th>\n",
       "      <th>Score</th>\n",
       "      <th>Text</th>\n",
       "      <th>Cleaned_Text</th>\n",
       "      <th>polarity_score</th>\n",
       "    </tr>\n",
       "  </thead>\n",
       "  <tbody>\n",
       "    <tr>\n",
       "      <th>0</th>\n",
       "      <td>5</td>\n",
       "      <td>I have bought several of the Vitality canned d...</td>\n",
       "      <td>buy several vitality can dog food product find...</td>\n",
       "      <td>0.9246</td>\n",
       "    </tr>\n",
       "    <tr>\n",
       "      <th>1</th>\n",
       "      <td>1</td>\n",
       "      <td>Product arrived labeled as Jumbo Salted Peanut...</td>\n",
       "      <td>product arrive label jumbo salt peanut peanut ...</td>\n",
       "      <td>-0.1027</td>\n",
       "    </tr>\n",
       "    <tr>\n",
       "      <th>2</th>\n",
       "      <td>4</td>\n",
       "      <td>This is a confection that has been around a fe...</td>\n",
       "      <td>confection around century light citrus gelatin...</td>\n",
       "      <td>0.8624</td>\n",
       "    </tr>\n",
       "    <tr>\n",
       "      <th>3</th>\n",
       "      <td>2</td>\n",
       "      <td>If you are looking for the secret ingredient i...</td>\n",
       "      <td>look secret ingredient robitussin believe find...</td>\n",
       "      <td>0.4404</td>\n",
       "    </tr>\n",
       "    <tr>\n",
       "      <th>4</th>\n",
       "      <td>5</td>\n",
       "      <td>Great taffy at a great price.  There was a wid...</td>\n",
       "      <td>great taffy great price wide assortment yummy ...</td>\n",
       "      <td>0.9468</td>\n",
       "    </tr>\n",
       "    <tr>\n",
       "      <th>...</th>\n",
       "      <td>...</td>\n",
       "      <td>...</td>\n",
       "      <td>...</td>\n",
       "      <td>...</td>\n",
       "    </tr>\n",
       "    <tr>\n",
       "      <th>9995</th>\n",
       "      <td>1</td>\n",
       "      <td>we switched from the advance similac to the or...</td>\n",
       "      <td>switch advance similac organic product think w...</td>\n",
       "      <td>-0.6705</td>\n",
       "    </tr>\n",
       "    <tr>\n",
       "      <th>9996</th>\n",
       "      <td>5</td>\n",
       "      <td>Like the bad reviews say, the organic formula ...</td>\n",
       "      <td>like bad review say organic formula constipate...</td>\n",
       "      <td>0.8442</td>\n",
       "    </tr>\n",
       "    <tr>\n",
       "      <th>9997</th>\n",
       "      <td>5</td>\n",
       "      <td>I wanted to solely breastfeed but was unable t...</td>\n",
       "      <td>want solely breastfeed unable keep supplement ...</td>\n",
       "      <td>0.9403</td>\n",
       "    </tr>\n",
       "    <tr>\n",
       "      <th>9998</th>\n",
       "      <td>5</td>\n",
       "      <td>i love the fact that i can get this delieved t...</td>\n",
       "      <td>love fact get house charge hard find organic</td>\n",
       "      <td>0.5859</td>\n",
       "    </tr>\n",
       "    <tr>\n",
       "      <th>9999</th>\n",
       "      <td>4</td>\n",
       "      <td>We have a 7 week old... He had gas and constip...</td>\n",
       "      <td>week old gas constipation problem first week t...</td>\n",
       "      <td>0.9757</td>\n",
       "    </tr>\n",
       "  </tbody>\n",
       "</table>\n",
       "<p>10000 rows × 4 columns</p>\n",
       "</div>"
      ],
      "text/plain": [
       "      Score                                               Text  \\\n",
       "0         5  I have bought several of the Vitality canned d...   \n",
       "1         1  Product arrived labeled as Jumbo Salted Peanut...   \n",
       "2         4  This is a confection that has been around a fe...   \n",
       "3         2  If you are looking for the secret ingredient i...   \n",
       "4         5  Great taffy at a great price.  There was a wid...   \n",
       "...     ...                                                ...   \n",
       "9995      1  we switched from the advance similac to the or...   \n",
       "9996      5  Like the bad reviews say, the organic formula ...   \n",
       "9997      5  I wanted to solely breastfeed but was unable t...   \n",
       "9998      5  i love the fact that i can get this delieved t...   \n",
       "9999      4  We have a 7 week old... He had gas and constip...   \n",
       "\n",
       "                                           Cleaned_Text  polarity_score  \n",
       "0     buy several vitality can dog food product find...          0.9246  \n",
       "1     product arrive label jumbo salt peanut peanut ...         -0.1027  \n",
       "2     confection around century light citrus gelatin...          0.8624  \n",
       "3     look secret ingredient robitussin believe find...          0.4404  \n",
       "4     great taffy great price wide assortment yummy ...          0.9468  \n",
       "...                                                 ...             ...  \n",
       "9995  switch advance similac organic product think w...         -0.6705  \n",
       "9996  like bad review say organic formula constipate...          0.8442  \n",
       "9997  want solely breastfeed unable keep supplement ...          0.9403  \n",
       "9998       love fact get house charge hard find organic          0.5859  \n",
       "9999  week old gas constipation problem first week t...          0.9757  \n",
       "\n",
       "[10000 rows x 4 columns]"
      ]
     },
     "execution_count": 26,
     "metadata": {},
     "output_type": "execute_result"
    }
   ],
   "source": [
    "data[\"polarity_score\"] = data[\"Cleaned_Text\"].apply(lambda x: sa.polarity_scores(x)[\"compound\"])\n",
    "data"
   ]
  },
  {
   "cell_type": "code",
   "execution_count": 27,
   "id": "ff708eb4",
   "metadata": {},
   "outputs": [
    {
     "data": {
      "text/html": [
       "<div>\n",
       "<style scoped>\n",
       "    .dataframe tbody tr th:only-of-type {\n",
       "        vertical-align: middle;\n",
       "    }\n",
       "\n",
       "    .dataframe tbody tr th {\n",
       "        vertical-align: top;\n",
       "    }\n",
       "\n",
       "    .dataframe thead th {\n",
       "        text-align: right;\n",
       "    }\n",
       "</style>\n",
       "<table border=\"1\" class=\"dataframe\">\n",
       "  <thead>\n",
       "    <tr style=\"text-align: right;\">\n",
       "      <th></th>\n",
       "      <th>Score</th>\n",
       "      <th>Text</th>\n",
       "      <th>Cleaned_Text</th>\n",
       "      <th>polarity_score</th>\n",
       "      <th>Sentiment</th>\n",
       "    </tr>\n",
       "  </thead>\n",
       "  <tbody>\n",
       "    <tr>\n",
       "      <th>0</th>\n",
       "      <td>5</td>\n",
       "      <td>I have bought several of the Vitality canned d...</td>\n",
       "      <td>buy several vitality can dog food product find...</td>\n",
       "      <td>0.9246</td>\n",
       "      <td>positive</td>\n",
       "    </tr>\n",
       "    <tr>\n",
       "      <th>1</th>\n",
       "      <td>1</td>\n",
       "      <td>Product arrived labeled as Jumbo Salted Peanut...</td>\n",
       "      <td>product arrive label jumbo salt peanut peanut ...</td>\n",
       "      <td>-0.1027</td>\n",
       "      <td>neutral</td>\n",
       "    </tr>\n",
       "    <tr>\n",
       "      <th>2</th>\n",
       "      <td>4</td>\n",
       "      <td>This is a confection that has been around a fe...</td>\n",
       "      <td>confection around century light citrus gelatin...</td>\n",
       "      <td>0.8624</td>\n",
       "      <td>positive</td>\n",
       "    </tr>\n",
       "    <tr>\n",
       "      <th>3</th>\n",
       "      <td>2</td>\n",
       "      <td>If you are looking for the secret ingredient i...</td>\n",
       "      <td>look secret ingredient robitussin believe find...</td>\n",
       "      <td>0.4404</td>\n",
       "      <td>neutral</td>\n",
       "    </tr>\n",
       "    <tr>\n",
       "      <th>4</th>\n",
       "      <td>5</td>\n",
       "      <td>Great taffy at a great price.  There was a wid...</td>\n",
       "      <td>great taffy great price wide assortment yummy ...</td>\n",
       "      <td>0.9468</td>\n",
       "      <td>positive</td>\n",
       "    </tr>\n",
       "    <tr>\n",
       "      <th>5</th>\n",
       "      <td>4</td>\n",
       "      <td>I got a wild hair for taffy and ordered this f...</td>\n",
       "      <td>get wild hair taffy order five pound bag taffy...</td>\n",
       "      <td>0.9136</td>\n",
       "      <td>positive</td>\n",
       "    </tr>\n",
       "    <tr>\n",
       "      <th>6</th>\n",
       "      <td>5</td>\n",
       "      <td>This saltwater taffy had great flavors and was...</td>\n",
       "      <td>taffy great flavor soft chewy candy individual...</td>\n",
       "      <td>0.9422</td>\n",
       "      <td>positive</td>\n",
       "    </tr>\n",
       "    <tr>\n",
       "      <th>7</th>\n",
       "      <td>5</td>\n",
       "      <td>This taffy is so good.  It is very soft and ch...</td>\n",
       "      <td>taffy good soft chewy flavor amaze would defin...</td>\n",
       "      <td>0.9274</td>\n",
       "      <td>positive</td>\n",
       "    </tr>\n",
       "    <tr>\n",
       "      <th>8</th>\n",
       "      <td>5</td>\n",
       "      <td>Right now I'm mostly just sprouting this so my...</td>\n",
       "      <td>right mostly sprout cat eat grass love rotate ...</td>\n",
       "      <td>0.6369</td>\n",
       "      <td>positive</td>\n",
       "    </tr>\n",
       "    <tr>\n",
       "      <th>9</th>\n",
       "      <td>5</td>\n",
       "      <td>This is a very healthy dog food. Good for thei...</td>\n",
       "      <td>healthy dog food good digestion also good smal...</td>\n",
       "      <td>0.8176</td>\n",
       "      <td>positive</td>\n",
       "    </tr>\n",
       "    <tr>\n",
       "      <th>10</th>\n",
       "      <td>5</td>\n",
       "      <td>I don't know if it's the cactus or the tequila...</td>\n",
       "      <td>know cactus tequila unique combination ingredi...</td>\n",
       "      <td>0.9595</td>\n",
       "      <td>positive</td>\n",
       "    </tr>\n",
       "    <tr>\n",
       "      <th>11</th>\n",
       "      <td>5</td>\n",
       "      <td>One of my boys needed to lose some weight and ...</td>\n",
       "      <td>one boy need lose weight put food floor chubby...</td>\n",
       "      <td>-0.2023</td>\n",
       "      <td>neutral</td>\n",
       "    </tr>\n",
       "    <tr>\n",
       "      <th>12</th>\n",
       "      <td>1</td>\n",
       "      <td>My cats have been happily eating Felidae Plati...</td>\n",
       "      <td>cat happily eat felidae platinum two year get ...</td>\n",
       "      <td>0.2960</td>\n",
       "      <td>neutral</td>\n",
       "    </tr>\n",
       "    <tr>\n",
       "      <th>13</th>\n",
       "      <td>4</td>\n",
       "      <td>good flavor! these came securely packed... the...</td>\n",
       "      <td>good flavor come securely pack fresh delicious...</td>\n",
       "      <td>0.9382</td>\n",
       "      <td>positive</td>\n",
       "    </tr>\n",
       "    <tr>\n",
       "      <th>14</th>\n",
       "      <td>5</td>\n",
       "      <td>The Strawberry Twizzlers are my guilty pleasur...</td>\n",
       "      <td>strawberry twizzlers guilty pleasure yummy six...</td>\n",
       "      <td>0.6486</td>\n",
       "      <td>positive</td>\n",
       "    </tr>\n",
       "    <tr>\n",
       "      <th>15</th>\n",
       "      <td>5</td>\n",
       "      <td>My daughter loves twizzlers and this shipment ...</td>\n",
       "      <td>daughter love twizzlers shipment six pound rea...</td>\n",
       "      <td>0.6369</td>\n",
       "      <td>positive</td>\n",
       "    </tr>\n",
       "    <tr>\n",
       "      <th>16</th>\n",
       "      <td>2</td>\n",
       "      <td>I love eating them and they are good for watch...</td>\n",
       "      <td>love eat good watch tv look movie sweet like t...</td>\n",
       "      <td>0.9313</td>\n",
       "      <td>positive</td>\n",
       "    </tr>\n",
       "    <tr>\n",
       "      <th>17</th>\n",
       "      <td>5</td>\n",
       "      <td>I am very satisfied with my Twizzler purchase....</td>\n",
       "      <td>satisfied twizzler purchase share others enjoy...</td>\n",
       "      <td>0.8720</td>\n",
       "      <td>positive</td>\n",
       "    </tr>\n",
       "    <tr>\n",
       "      <th>18</th>\n",
       "      <td>5</td>\n",
       "      <td>Twizzlers, Strawberry my childhood favorite ca...</td>\n",
       "      <td>twizzlers strawberry childhood favorite candy ...</td>\n",
       "      <td>0.9274</td>\n",
       "      <td>positive</td>\n",
       "    </tr>\n",
       "    <tr>\n",
       "      <th>19</th>\n",
       "      <td>5</td>\n",
       "      <td>Candy was delivered very fast and was purchase...</td>\n",
       "      <td>candy deliver fast purchase reasonable price h...</td>\n",
       "      <td>0.5719</td>\n",
       "      <td>positive</td>\n",
       "    </tr>\n",
       "    <tr>\n",
       "      <th>20</th>\n",
       "      <td>5</td>\n",
       "      <td>My husband is a Twizzlers addict.  We've bough...</td>\n",
       "      <td>husband twizzlers addict buy many time amazon ...</td>\n",
       "      <td>0.6249</td>\n",
       "      <td>positive</td>\n",
       "    </tr>\n",
       "    <tr>\n",
       "      <th>21</th>\n",
       "      <td>5</td>\n",
       "      <td>I bought these for my husband who is currently...</td>\n",
       "      <td>buy husband currently overseas love apparently...</td>\n",
       "      <td>0.9186</td>\n",
       "      <td>positive</td>\n",
       "    </tr>\n",
       "    <tr>\n",
       "      <th>22</th>\n",
       "      <td>5</td>\n",
       "      <td>I can remember buying this candy as a kid and ...</td>\n",
       "      <td>remember buy candy kid quality drop year still...</td>\n",
       "      <td>0.0772</td>\n",
       "      <td>neutral</td>\n",
       "    </tr>\n",
       "    <tr>\n",
       "      <th>23</th>\n",
       "      <td>5</td>\n",
       "      <td>I love this candy.  After weight watchers I ha...</td>\n",
       "      <td>love candy weight watcher cut back still craving</td>\n",
       "      <td>0.4767</td>\n",
       "      <td>neutral</td>\n",
       "    </tr>\n",
       "    <tr>\n",
       "      <th>24</th>\n",
       "      <td>5</td>\n",
       "      <td>I have lived out of the US for over 7 yrs now,...</td>\n",
       "      <td>live u yr miss twizzlers go back visit someone...</td>\n",
       "      <td>0.3182</td>\n",
       "      <td>neutral</td>\n",
       "    </tr>\n",
       "    <tr>\n",
       "      <th>25</th>\n",
       "      <td>5</td>\n",
       "      <td>Product received is as advertised.&lt;br /&gt;&lt;br /&gt;...</td>\n",
       "      <td>product receive advertised</td>\n",
       "      <td>0.0000</td>\n",
       "      <td>neutral</td>\n",
       "    </tr>\n",
       "    <tr>\n",
       "      <th>26</th>\n",
       "      <td>1</td>\n",
       "      <td>The candy is just red , No flavor . Just  plan...</td>\n",
       "      <td>candy red flavor plan chewy would never buy</td>\n",
       "      <td>0.0000</td>\n",
       "      <td>neutral</td>\n",
       "    </tr>\n",
       "    <tr>\n",
       "      <th>27</th>\n",
       "      <td>4</td>\n",
       "      <td>I was so glad Amazon carried these batteries. ...</td>\n",
       "      <td>glad amazon carry battery hard time find elsew...</td>\n",
       "      <td>0.8126</td>\n",
       "      <td>positive</td>\n",
       "    </tr>\n",
       "    <tr>\n",
       "      <th>28</th>\n",
       "      <td>5</td>\n",
       "      <td>I got this for my Mum who is not diabetic but ...</td>\n",
       "      <td>get mum diabetic need watch sugar intake fathe...</td>\n",
       "      <td>0.9571</td>\n",
       "      <td>positive</td>\n",
       "    </tr>\n",
       "    <tr>\n",
       "      <th>29</th>\n",
       "      <td>5</td>\n",
       "      <td>I don't know if it's the cactus or the tequila...</td>\n",
       "      <td>know cactus tequila unique combination ingredi...</td>\n",
       "      <td>0.9595</td>\n",
       "      <td>positive</td>\n",
       "    </tr>\n",
       "  </tbody>\n",
       "</table>\n",
       "</div>"
      ],
      "text/plain": [
       "    Score                                               Text  \\\n",
       "0       5  I have bought several of the Vitality canned d...   \n",
       "1       1  Product arrived labeled as Jumbo Salted Peanut...   \n",
       "2       4  This is a confection that has been around a fe...   \n",
       "3       2  If you are looking for the secret ingredient i...   \n",
       "4       5  Great taffy at a great price.  There was a wid...   \n",
       "5       4  I got a wild hair for taffy and ordered this f...   \n",
       "6       5  This saltwater taffy had great flavors and was...   \n",
       "7       5  This taffy is so good.  It is very soft and ch...   \n",
       "8       5  Right now I'm mostly just sprouting this so my...   \n",
       "9       5  This is a very healthy dog food. Good for thei...   \n",
       "10      5  I don't know if it's the cactus or the tequila...   \n",
       "11      5  One of my boys needed to lose some weight and ...   \n",
       "12      1  My cats have been happily eating Felidae Plati...   \n",
       "13      4  good flavor! these came securely packed... the...   \n",
       "14      5  The Strawberry Twizzlers are my guilty pleasur...   \n",
       "15      5  My daughter loves twizzlers and this shipment ...   \n",
       "16      2  I love eating them and they are good for watch...   \n",
       "17      5  I am very satisfied with my Twizzler purchase....   \n",
       "18      5  Twizzlers, Strawberry my childhood favorite ca...   \n",
       "19      5  Candy was delivered very fast and was purchase...   \n",
       "20      5  My husband is a Twizzlers addict.  We've bough...   \n",
       "21      5  I bought these for my husband who is currently...   \n",
       "22      5  I can remember buying this candy as a kid and ...   \n",
       "23      5  I love this candy.  After weight watchers I ha...   \n",
       "24      5  I have lived out of the US for over 7 yrs now,...   \n",
       "25      5  Product received is as advertised.<br /><br />...   \n",
       "26      1  The candy is just red , No flavor . Just  plan...   \n",
       "27      4  I was so glad Amazon carried these batteries. ...   \n",
       "28      5  I got this for my Mum who is not diabetic but ...   \n",
       "29      5  I don't know if it's the cactus or the tequila...   \n",
       "\n",
       "                                         Cleaned_Text  polarity_score  \\\n",
       "0   buy several vitality can dog food product find...          0.9246   \n",
       "1   product arrive label jumbo salt peanut peanut ...         -0.1027   \n",
       "2   confection around century light citrus gelatin...          0.8624   \n",
       "3   look secret ingredient robitussin believe find...          0.4404   \n",
       "4   great taffy great price wide assortment yummy ...          0.9468   \n",
       "5   get wild hair taffy order five pound bag taffy...          0.9136   \n",
       "6   taffy great flavor soft chewy candy individual...          0.9422   \n",
       "7   taffy good soft chewy flavor amaze would defin...          0.9274   \n",
       "8   right mostly sprout cat eat grass love rotate ...          0.6369   \n",
       "9   healthy dog food good digestion also good smal...          0.8176   \n",
       "10  know cactus tequila unique combination ingredi...          0.9595   \n",
       "11  one boy need lose weight put food floor chubby...         -0.2023   \n",
       "12  cat happily eat felidae platinum two year get ...          0.2960   \n",
       "13  good flavor come securely pack fresh delicious...          0.9382   \n",
       "14  strawberry twizzlers guilty pleasure yummy six...          0.6486   \n",
       "15  daughter love twizzlers shipment six pound rea...          0.6369   \n",
       "16  love eat good watch tv look movie sweet like t...          0.9313   \n",
       "17  satisfied twizzler purchase share others enjoy...          0.8720   \n",
       "18  twizzlers strawberry childhood favorite candy ...          0.9274   \n",
       "19  candy deliver fast purchase reasonable price h...          0.5719   \n",
       "20  husband twizzlers addict buy many time amazon ...          0.6249   \n",
       "21  buy husband currently overseas love apparently...          0.9186   \n",
       "22  remember buy candy kid quality drop year still...          0.0772   \n",
       "23   love candy weight watcher cut back still craving          0.4767   \n",
       "24  live u yr miss twizzlers go back visit someone...          0.3182   \n",
       "25                         product receive advertised          0.0000   \n",
       "26        candy red flavor plan chewy would never buy          0.0000   \n",
       "27  glad amazon carry battery hard time find elsew...          0.8126   \n",
       "28  get mum diabetic need watch sugar intake fathe...          0.9571   \n",
       "29  know cactus tequila unique combination ingredi...          0.9595   \n",
       "\n",
       "   Sentiment  \n",
       "0   positive  \n",
       "1    neutral  \n",
       "2   positive  \n",
       "3    neutral  \n",
       "4   positive  \n",
       "5   positive  \n",
       "6   positive  \n",
       "7   positive  \n",
       "8   positive  \n",
       "9   positive  \n",
       "10  positive  \n",
       "11   neutral  \n",
       "12   neutral  \n",
       "13  positive  \n",
       "14  positive  \n",
       "15  positive  \n",
       "16  positive  \n",
       "17  positive  \n",
       "18  positive  \n",
       "19  positive  \n",
       "20  positive  \n",
       "21  positive  \n",
       "22   neutral  \n",
       "23   neutral  \n",
       "24   neutral  \n",
       "25   neutral  \n",
       "26   neutral  \n",
       "27  positive  \n",
       "28  positive  \n",
       "29  positive  "
      ]
     },
     "execution_count": 27,
     "metadata": {},
     "output_type": "execute_result"
    }
   ],
   "source": [
    "#Rule for determining the Sentiment\n",
    "data['Sentiment']=data[\"Cleaned_Text\"].apply(lambda x: 'positive' if sa.polarity_scores(x)[\"compound\"] >= 0.5  else 'negative' if sa.polarity_scores(x)[\"compound\"] <= -0.5  else 'neutral')\n",
    "data.head(30)"
   ]
  },
  {
   "cell_type": "code",
   "execution_count": 28,
   "id": "a9de276d",
   "metadata": {},
   "outputs": [
    {
     "data": {
      "text/plain": [
       "Sentiment\n",
       "positive    8291\n",
       "neutral     1441\n",
       "negative     268\n",
       "Name: count, dtype: int64"
      ]
     },
     "execution_count": 28,
     "metadata": {},
     "output_type": "execute_result"
    }
   ],
   "source": [
    "#To find the number of Positive, negative, and neutal reviews\n",
    "data[\"Sentiment\"].value_counts()"
   ]
  },
  {
   "cell_type": "markdown",
   "id": "4d2e5bae",
   "metadata": {},
   "source": [
    "The LabelEncoder from Scikit-learn to convert the sentiment scores into numerical labels. The LabelEncoder will find all unique values in the data[\"Sentiment\"] column. It will assign a unique integer to each unique sentiment score. The sentiment scores is replaced by these integer labels [0,1,2]. \n",
    "\n",
    "LabelEncoder() initializes a new instance of the LabelEncoder class. \".fit_transform(data[\"Sentiment\"])\" performs two actions: 1.fit: Learns the unique values in data[\"Sentiment\"]. 2.transform: Converts these unique values into numerical labels."
   ]
  },
  {
   "cell_type": "code",
   "execution_count": 29,
   "id": "83b72d35",
   "metadata": {},
   "outputs": [
    {
     "data": {
      "text/html": [
       "<div>\n",
       "<style scoped>\n",
       "    .dataframe tbody tr th:only-of-type {\n",
       "        vertical-align: middle;\n",
       "    }\n",
       "\n",
       "    .dataframe tbody tr th {\n",
       "        vertical-align: top;\n",
       "    }\n",
       "\n",
       "    .dataframe thead th {\n",
       "        text-align: right;\n",
       "    }\n",
       "</style>\n",
       "<table border=\"1\" class=\"dataframe\">\n",
       "  <thead>\n",
       "    <tr style=\"text-align: right;\">\n",
       "      <th></th>\n",
       "      <th>Score</th>\n",
       "      <th>Text</th>\n",
       "      <th>Cleaned_Text</th>\n",
       "      <th>polarity_score</th>\n",
       "      <th>Sentiment</th>\n",
       "    </tr>\n",
       "  </thead>\n",
       "  <tbody>\n",
       "    <tr>\n",
       "      <th>0</th>\n",
       "      <td>5</td>\n",
       "      <td>I have bought several of the Vitality canned d...</td>\n",
       "      <td>buy several vitality can dog food product find...</td>\n",
       "      <td>0.9246</td>\n",
       "      <td>2</td>\n",
       "    </tr>\n",
       "    <tr>\n",
       "      <th>1</th>\n",
       "      <td>1</td>\n",
       "      <td>Product arrived labeled as Jumbo Salted Peanut...</td>\n",
       "      <td>product arrive label jumbo salt peanut peanut ...</td>\n",
       "      <td>-0.1027</td>\n",
       "      <td>1</td>\n",
       "    </tr>\n",
       "    <tr>\n",
       "      <th>2</th>\n",
       "      <td>4</td>\n",
       "      <td>This is a confection that has been around a fe...</td>\n",
       "      <td>confection around century light citrus gelatin...</td>\n",
       "      <td>0.8624</td>\n",
       "      <td>2</td>\n",
       "    </tr>\n",
       "    <tr>\n",
       "      <th>3</th>\n",
       "      <td>2</td>\n",
       "      <td>If you are looking for the secret ingredient i...</td>\n",
       "      <td>look secret ingredient robitussin believe find...</td>\n",
       "      <td>0.4404</td>\n",
       "      <td>1</td>\n",
       "    </tr>\n",
       "    <tr>\n",
       "      <th>4</th>\n",
       "      <td>5</td>\n",
       "      <td>Great taffy at a great price.  There was a wid...</td>\n",
       "      <td>great taffy great price wide assortment yummy ...</td>\n",
       "      <td>0.9468</td>\n",
       "      <td>2</td>\n",
       "    </tr>\n",
       "    <tr>\n",
       "      <th>5</th>\n",
       "      <td>4</td>\n",
       "      <td>I got a wild hair for taffy and ordered this f...</td>\n",
       "      <td>get wild hair taffy order five pound bag taffy...</td>\n",
       "      <td>0.9136</td>\n",
       "      <td>2</td>\n",
       "    </tr>\n",
       "    <tr>\n",
       "      <th>6</th>\n",
       "      <td>5</td>\n",
       "      <td>This saltwater taffy had great flavors and was...</td>\n",
       "      <td>taffy great flavor soft chewy candy individual...</td>\n",
       "      <td>0.9422</td>\n",
       "      <td>2</td>\n",
       "    </tr>\n",
       "    <tr>\n",
       "      <th>7</th>\n",
       "      <td>5</td>\n",
       "      <td>This taffy is so good.  It is very soft and ch...</td>\n",
       "      <td>taffy good soft chewy flavor amaze would defin...</td>\n",
       "      <td>0.9274</td>\n",
       "      <td>2</td>\n",
       "    </tr>\n",
       "    <tr>\n",
       "      <th>8</th>\n",
       "      <td>5</td>\n",
       "      <td>Right now I'm mostly just sprouting this so my...</td>\n",
       "      <td>right mostly sprout cat eat grass love rotate ...</td>\n",
       "      <td>0.6369</td>\n",
       "      <td>2</td>\n",
       "    </tr>\n",
       "    <tr>\n",
       "      <th>9</th>\n",
       "      <td>5</td>\n",
       "      <td>This is a very healthy dog food. Good for thei...</td>\n",
       "      <td>healthy dog food good digestion also good smal...</td>\n",
       "      <td>0.8176</td>\n",
       "      <td>2</td>\n",
       "    </tr>\n",
       "    <tr>\n",
       "      <th>10</th>\n",
       "      <td>5</td>\n",
       "      <td>I don't know if it's the cactus or the tequila...</td>\n",
       "      <td>know cactus tequila unique combination ingredi...</td>\n",
       "      <td>0.9595</td>\n",
       "      <td>2</td>\n",
       "    </tr>\n",
       "    <tr>\n",
       "      <th>11</th>\n",
       "      <td>5</td>\n",
       "      <td>One of my boys needed to lose some weight and ...</td>\n",
       "      <td>one boy need lose weight put food floor chubby...</td>\n",
       "      <td>-0.2023</td>\n",
       "      <td>1</td>\n",
       "    </tr>\n",
       "    <tr>\n",
       "      <th>12</th>\n",
       "      <td>1</td>\n",
       "      <td>My cats have been happily eating Felidae Plati...</td>\n",
       "      <td>cat happily eat felidae platinum two year get ...</td>\n",
       "      <td>0.2960</td>\n",
       "      <td>1</td>\n",
       "    </tr>\n",
       "    <tr>\n",
       "      <th>13</th>\n",
       "      <td>4</td>\n",
       "      <td>good flavor! these came securely packed... the...</td>\n",
       "      <td>good flavor come securely pack fresh delicious...</td>\n",
       "      <td>0.9382</td>\n",
       "      <td>2</td>\n",
       "    </tr>\n",
       "    <tr>\n",
       "      <th>14</th>\n",
       "      <td>5</td>\n",
       "      <td>The Strawberry Twizzlers are my guilty pleasur...</td>\n",
       "      <td>strawberry twizzlers guilty pleasure yummy six...</td>\n",
       "      <td>0.6486</td>\n",
       "      <td>2</td>\n",
       "    </tr>\n",
       "    <tr>\n",
       "      <th>15</th>\n",
       "      <td>5</td>\n",
       "      <td>My daughter loves twizzlers and this shipment ...</td>\n",
       "      <td>daughter love twizzlers shipment six pound rea...</td>\n",
       "      <td>0.6369</td>\n",
       "      <td>2</td>\n",
       "    </tr>\n",
       "    <tr>\n",
       "      <th>16</th>\n",
       "      <td>2</td>\n",
       "      <td>I love eating them and they are good for watch...</td>\n",
       "      <td>love eat good watch tv look movie sweet like t...</td>\n",
       "      <td>0.9313</td>\n",
       "      <td>2</td>\n",
       "    </tr>\n",
       "    <tr>\n",
       "      <th>17</th>\n",
       "      <td>5</td>\n",
       "      <td>I am very satisfied with my Twizzler purchase....</td>\n",
       "      <td>satisfied twizzler purchase share others enjoy...</td>\n",
       "      <td>0.8720</td>\n",
       "      <td>2</td>\n",
       "    </tr>\n",
       "    <tr>\n",
       "      <th>18</th>\n",
       "      <td>5</td>\n",
       "      <td>Twizzlers, Strawberry my childhood favorite ca...</td>\n",
       "      <td>twizzlers strawberry childhood favorite candy ...</td>\n",
       "      <td>0.9274</td>\n",
       "      <td>2</td>\n",
       "    </tr>\n",
       "    <tr>\n",
       "      <th>19</th>\n",
       "      <td>5</td>\n",
       "      <td>Candy was delivered very fast and was purchase...</td>\n",
       "      <td>candy deliver fast purchase reasonable price h...</td>\n",
       "      <td>0.5719</td>\n",
       "      <td>2</td>\n",
       "    </tr>\n",
       "  </tbody>\n",
       "</table>\n",
       "</div>"
      ],
      "text/plain": [
       "    Score                                               Text  \\\n",
       "0       5  I have bought several of the Vitality canned d...   \n",
       "1       1  Product arrived labeled as Jumbo Salted Peanut...   \n",
       "2       4  This is a confection that has been around a fe...   \n",
       "3       2  If you are looking for the secret ingredient i...   \n",
       "4       5  Great taffy at a great price.  There was a wid...   \n",
       "5       4  I got a wild hair for taffy and ordered this f...   \n",
       "6       5  This saltwater taffy had great flavors and was...   \n",
       "7       5  This taffy is so good.  It is very soft and ch...   \n",
       "8       5  Right now I'm mostly just sprouting this so my...   \n",
       "9       5  This is a very healthy dog food. Good for thei...   \n",
       "10      5  I don't know if it's the cactus or the tequila...   \n",
       "11      5  One of my boys needed to lose some weight and ...   \n",
       "12      1  My cats have been happily eating Felidae Plati...   \n",
       "13      4  good flavor! these came securely packed... the...   \n",
       "14      5  The Strawberry Twizzlers are my guilty pleasur...   \n",
       "15      5  My daughter loves twizzlers and this shipment ...   \n",
       "16      2  I love eating them and they are good for watch...   \n",
       "17      5  I am very satisfied with my Twizzler purchase....   \n",
       "18      5  Twizzlers, Strawberry my childhood favorite ca...   \n",
       "19      5  Candy was delivered very fast and was purchase...   \n",
       "\n",
       "                                         Cleaned_Text  polarity_score  \\\n",
       "0   buy several vitality can dog food product find...          0.9246   \n",
       "1   product arrive label jumbo salt peanut peanut ...         -0.1027   \n",
       "2   confection around century light citrus gelatin...          0.8624   \n",
       "3   look secret ingredient robitussin believe find...          0.4404   \n",
       "4   great taffy great price wide assortment yummy ...          0.9468   \n",
       "5   get wild hair taffy order five pound bag taffy...          0.9136   \n",
       "6   taffy great flavor soft chewy candy individual...          0.9422   \n",
       "7   taffy good soft chewy flavor amaze would defin...          0.9274   \n",
       "8   right mostly sprout cat eat grass love rotate ...          0.6369   \n",
       "9   healthy dog food good digestion also good smal...          0.8176   \n",
       "10  know cactus tequila unique combination ingredi...          0.9595   \n",
       "11  one boy need lose weight put food floor chubby...         -0.2023   \n",
       "12  cat happily eat felidae platinum two year get ...          0.2960   \n",
       "13  good flavor come securely pack fresh delicious...          0.9382   \n",
       "14  strawberry twizzlers guilty pleasure yummy six...          0.6486   \n",
       "15  daughter love twizzlers shipment six pound rea...          0.6369   \n",
       "16  love eat good watch tv look movie sweet like t...          0.9313   \n",
       "17  satisfied twizzler purchase share others enjoy...          0.8720   \n",
       "18  twizzlers strawberry childhood favorite candy ...          0.9274   \n",
       "19  candy deliver fast purchase reasonable price h...          0.5719   \n",
       "\n",
       "    Sentiment  \n",
       "0           2  \n",
       "1           1  \n",
       "2           2  \n",
       "3           1  \n",
       "4           2  \n",
       "5           2  \n",
       "6           2  \n",
       "7           2  \n",
       "8           2  \n",
       "9           2  \n",
       "10          2  \n",
       "11          1  \n",
       "12          1  \n",
       "13          2  \n",
       "14          2  \n",
       "15          2  \n",
       "16          2  \n",
       "17          2  \n",
       "18          2  \n",
       "19          2  "
      ]
     },
     "execution_count": 29,
     "metadata": {},
     "output_type": "execute_result"
    }
   ],
   "source": [
    "# The sentiment value (which were previously categorical label from the VADER analysis) is replaced by integer labels [0,1,2]\n",
    "from sklearn.preprocessing import LabelEncoder\n",
    "data[\"Sentiment\"] = LabelEncoder().fit_transform(data[\"Sentiment\"])\n",
    "data.head(20)"
   ]
  },
  {
   "cell_type": "code",
   "execution_count": 30,
   "id": "ae0bb3f9",
   "metadata": {},
   "outputs": [
    {
     "data": {
      "text/plain": [
       "Sentiment\n",
       "2    8291\n",
       "1    1441\n",
       "0     268\n",
       "Name: count, dtype: int64"
      ]
     },
     "execution_count": 30,
     "metadata": {},
     "output_type": "execute_result"
    }
   ],
   "source": [
    "data[\"Sentiment\"].value_counts()"
   ]
  },
  {
   "cell_type": "markdown",
   "id": "1a16aa0e",
   "metadata": {},
   "source": [
    "WordCloud"
   ]
  },
  {
   "cell_type": "code",
   "execution_count": 31,
   "id": "3b822b4d",
   "metadata": {},
   "outputs": [],
   "source": [
    "!pip install wordcloud"
   ]
  },
  {
   "cell_type": "code",
   "execution_count": 32,
   "id": "78073235",
   "metadata": {},
   "outputs": [],
   "source": [
    "from wordcloud import WordCloud"
   ]
  },
  {
   "cell_type": "code",
   "execution_count": 33,
   "id": "6bf9073b",
   "metadata": {},
   "outputs": [],
   "source": [
    "# Seperating Positive, Negative and Neutral Sentiment\n",
    "positive_texts = ' '.join(data[data['Sentiment'] == 2]['Cleaned_Text'])\n",
    "neutral_texts = ' '.join(data[data['Sentiment'] == 1]['Cleaned_Text'])\n",
    "negative_texts = ' '.join(data[data['Sentiment'] == 0]['Cleaned_Text'])"
   ]
  },
  {
   "cell_type": "code",
   "execution_count": 34,
   "id": "f0a1a6a2",
   "metadata": {},
   "outputs": [
    {
     "name": "stdout",
     "output_type": "stream",
     "text": [
      "Positive texts length: 2014813\n",
      "Neutral texts length: 220929\n",
      "Negative texts length: 68648\n"
     ]
    }
   ],
   "source": [
    "print(f'Positive texts length: {len(positive_texts)}')\n",
    "print(f'Neutral texts length: {len(neutral_texts)}')\n",
    "print(f'Negative texts length: {len(negative_texts)}')"
   ]
  },
  {
   "cell_type": "code",
   "execution_count": 35,
   "id": "91890955",
   "metadata": {},
   "outputs": [],
   "source": [
    "# Generating word clouds\n",
    "positive_wordcloud = WordCloud(width=800, height=400, background_color='black').generate(positive_texts)\n",
    "neutral_wordcloud = WordCloud(width=800, height=400, background_color='black').generate(neutral_texts)\n",
    "negative_wordcloud = WordCloud(width=800, height=400, background_color='black').generate(negative_texts)\n"
   ]
  },
  {
   "cell_type": "code",
   "execution_count": 36,
   "id": "55b31c61",
   "metadata": {},
   "outputs": [
    {
     "data": {
      "image/png": "[encoded data removed]",
      "text/plain": [
       "<Figure size 1000x1000 with 3 Axes>"
      ]
     },
     "metadata": {},
     "output_type": "display_data"
    }
   ],
   "source": [
    "# Display the word clouds\n",
    "wordcloud_fig=plt.figure(figsize=(10, 10))\n",
    "\n",
    "# Positive word cloud\n",
    "plt.subplot(1, 3, 1)\n",
    "plt.imshow(positive_wordcloud, interpolation='bilinear')\n",
    "plt.title('Positive Sentiments')\n",
    "plt.axis('off')\n",
    "\n",
    "# Neutral word cloud\n",
    "plt.subplot(1, 3, 2)\n",
    "plt.imshow(neutral_wordcloud, interpolation='bilinear')\n",
    "plt.title('Neutral Sentiments')\n",
    "plt.axis('off')\n",
    "\n",
    "# Negative word cloud\n",
    "plt.subplot(1, 3, 3)\n",
    "plt.imshow(negative_wordcloud, interpolation='bilinear')\n",
    "plt.title('Negative Sentiments')\n",
    "plt.axis('off')\n",
    "\n",
    "plt.show()\n",
    "\n",
    "wordcloud_fig.savefig(\"wordcloud2.png\")"
   ]
  },
  {
   "cell_type": "code",
   "execution_count": 37,
   "id": "b5ab20a9",
   "metadata": {},
   "outputs": [],
   "source": [
    "#Assigning X values\n",
    "X = data[\"Cleaned_Text\"] # independent variable"
   ]
  },
  {
   "cell_type": "code",
   "execution_count": 38,
   "id": "c7aca89f",
   "metadata": {},
   "outputs": [],
   "source": [
    "#Assigning Y values\n",
    "Y= data[\"Sentiment\"] #dependent Variable"
   ]
  },
  {
   "cell_type": "markdown",
   "id": "142e6f07",
   "metadata": {},
   "source": [
    "DATA Splitting"
   ]
  },
  {
   "cell_type": "code",
   "execution_count": 39,
   "id": "1aeeebcb",
   "metadata": {},
   "outputs": [],
   "source": [
    "from sklearn.model_selection import train_test_split\n",
    "from sklearn.preprocessing import StandardScaler\n",
    "\n",
    "# Split the data into training and testing sets\n",
    "X_train, X_test, y_train, y_test = train_test_split(X, Y, test_size=0.2, random_state=42)"
   ]
  },
  {
   "cell_type": "markdown",
   "id": "052a969b",
   "metadata": {},
   "source": [
    "# TF-IDF"
   ]
  },
  {
   "cell_type": "markdown",
   "id": "b53dd972",
   "metadata": {},
   "source": [
    "TF-IDF is similar to \"CountVectorizer()\" but instead of just counting the occurence of words in each document, it calculates the term frequency- inverse document frequency (TF-IDF) value of each value.\n",
    "\n",
    "* Term Frequency (TF):- It measures how frequently a term(word) appears in a document\n",
    "TF = (Number of times term t appears in a document) / (Total number of terms in the document)\n",
    "\n",
    "* Inverse Document Frequency (IDF):- Measures how important a term is across the entire corpus.\n",
    "IDF = log_e(Total number of documents / Number of documents with term t in it)\n",
    "\n",
    "* TF-IDF:- It is the product of TF and IDF, giving a higher weight to terms that are rare in the entire corpus but frequent in specific documents.\n",
    "TF-IDF = TF * IDF\n",
    "\n"
   ]
  },
  {
   "cell_type": "code",
   "execution_count": 40,
   "id": "c9b25707",
   "metadata": {},
   "outputs": [],
   "source": [
    "from sklearn.feature_extraction.text import TfidfVectorizer\n",
    "\n",
    "tf_idf_vectorizer = TfidfVectorizer()\n",
    "\n",
    "# Fit and transform the document\n",
    "#X_tf_idf = tf_idf_vectorizer.fit_transform(X_train)\n",
    "X_train_tfidf = tf_idf_vectorizer.fit_transform(X_train)\n",
    "X_test_tfidf = tf_idf_vectorizer.transform(X_test)"
   ]
  },
  {
   "cell_type": "code",
   "execution_count": 41,
   "id": "efb5275b",
   "metadata": {},
   "outputs": [
    {
     "name": "stdout",
     "output_type": "stream",
     "text": [
      "TF-IDF Feature Names:\n"
     ]
    },
    {
     "data": {
      "text/plain": [
       "array(['aaaa', 'abbott', 'ability', 'able', 'absence', 'absent',\n",
       "       'absolute', 'absolutely', 'absolutley', 'absolutly', 'absorb',\n",
       "       'absorbtion', 'abundant', 'abuse', 'acacia', 'academia', 'academy',\n",
       "       'acai', 'accent', 'accept', 'acceptable', 'access', 'accessible',\n",
       "       'accessory', 'accident', 'accidentally', 'accidently',\n",
       "       'accommodate', 'accompaniment', 'accompany', 'accomplish',\n",
       "       'accord', 'accordingly', 'account', 'accoutrement', 'accumulate',\n",
       "       'accuracy', 'accurate', 'accustom', 'ace', 'acerola', 'acetate',\n",
       "       'ache', 'achieve', 'acid', 'acidic', 'acidity', 'acknowledge',\n",
       "       'acme'], dtype=object)"
      ]
     },
     "execution_count": 41,
     "metadata": {},
     "output_type": "execute_result"
    }
   ],
   "source": [
    "print(\"TF-IDF Feature Names:\")\n",
    "tf_idf_vectorizer.get_feature_names_out()[1:50]"
   ]
  },
  {
   "cell_type": "code",
   "execution_count": 42,
   "id": "11cf26bf",
   "metadata": {},
   "outputs": [
    {
     "data": {
      "text/plain": [
       "array([[0., 0., 0., ..., 0., 0., 0.],\n",
       "       [0., 0., 0., ..., 0., 0., 0.],\n",
       "       [0., 0., 0., ..., 0., 0., 0.],\n",
       "       ...,\n",
       "       [0., 0., 0., ..., 0., 0., 0.],\n",
       "       [0., 0., 0., ..., 0., 0., 0.],\n",
       "       [0., 0., 0., ..., 0., 0., 0.]])"
      ]
     },
     "execution_count": 42,
     "metadata": {},
     "output_type": "execute_result"
    }
   ],
   "source": [
    "X_train_tfidf.toarray()"
   ]
  },
  {
   "cell_type": "code",
   "execution_count": 43,
   "id": "6a86946a",
   "metadata": {},
   "outputs": [
    {
     "name": "stdout",
     "output_type": "stream",
     "text": [
      "TF-IDF Matrix Shape:\n",
      "(8000, 8292)\n"
     ]
    }
   ],
   "source": [
    "# Print the TF-IDF matrix for debugging\n",
    "print(\"TF-IDF Matrix Shape:\")\n",
    "print(X_train_tfidf.shape)"
   ]
  },
  {
   "cell_type": "code",
   "execution_count": 44,
   "id": "948754a7",
   "metadata": {},
   "outputs": [
    {
     "name": "stdout",
     "output_type": "stream",
     "text": [
      "X_train_scaled shape: (8000, 8292)\n",
      "X_test_scaled shape: (2000, 8292)\n"
     ]
    }
   ],
   "source": [
    "# Perform scaling on TF-IDF data\n",
    "from sklearn.preprocessing import StandardScaler\n",
    "scaler = StandardScaler(with_mean=False)\n",
    "X_train_scaled = scaler.fit_transform(X_train_tfidf)\n",
    "X_test_scaled = scaler.transform(X_test_tfidf)\n",
    "\n",
    "# Now X_train_scaled and X_test_scaled can be used for model training and testing\n",
    "print(\"X_train_scaled shape:\", X_train_scaled.shape)\n",
    "print(\"X_test_scaled shape:\", X_test_scaled.shape)"
   ]
  },
  {
   "cell_type": "markdown",
   "id": "a252a4f0",
   "metadata": {},
   "source": [
    "N-Gram Frequency"
   ]
  },
  {
   "cell_type": "code",
   "execution_count": 45,
   "id": "7c874f58",
   "metadata": {},
   "outputs": [
    {
     "data": {
      "text/plain": [
       "array(['able fee', 'able finish', 'able make', 'able sample', 'able try',\n",
       "       'able use', 'absolute best', 'absolute favorite',\n",
       "       'absolutely adore', 'absolutely delicious', 'absolutely great',\n",
       "       'absolutely love', 'accord company', 'acerola juice',\n",
       "       'acid subdue', 'acid vitamin', 'acidic taste', 'acquire taste',\n",
       "       'act like', 'actual coffee', 'actual product', 'actually day',\n",
       "       'actually drink', 'actually good', 'actually like',\n",
       "       'actually look', 'actually make', 'actually pretty',\n",
       "       'actually quite', 'actually taste', 'add additional', 'add bit',\n",
       "       'add chia', 'add chicken', 'add coffee', 'add corn', 'add couple',\n",
       "       'add cup', 'add dash', 'add dry', 'add extra', 'add fact',\n",
       "       'add favorite', 'add flavor', 'add great', 'add ingredient',\n",
       "       'add juice', 'add little', 'add lot'], dtype=object)"
      ]
     },
     "execution_count": 45,
     "metadata": {},
     "output_type": "execute_result"
    }
   ],
   "source": [
    "tf_idf_vectorizer_2 = TfidfVectorizer(ngram_range=(2,2), max_df=0.85, min_df=2, stop_words='english')\n",
    "X_train_tfidf_ngram = tf_idf_vectorizer_2.fit_transform(X_train)\n",
    "X_test_tfidf_ngram = tf_idf_vectorizer_2.fit_transform(X_test)\n",
    "tf_idf_vectorizer_2.get_feature_names_out()[1:50]"
   ]
  },
  {
   "cell_type": "code",
   "execution_count": 46,
   "id": "a173a5db",
   "metadata": {},
   "outputs": [
    {
     "name": "stdout",
     "output_type": "stream",
     "text": [
      "X_train_tfidf_ngramshape: (8000, 30153)\n",
      "X_test_tfidf_ngram shape: (2000, 6103)\n"
     ]
    }
   ],
   "source": [
    "print(\"X_train_tfidf_ngramshape:\", X_train_tfidf_ngram.shape)\n",
    "print(\"X_test_tfidf_ngram shape:\", X_test_tfidf_ngram.shape)"
   ]
  },
  {
   "cell_type": "code",
   "execution_count": 47,
   "id": "3503920f",
   "metadata": {},
   "outputs": [
    {
     "data": {
      "text/plain": [
       "array([[0., 0., 0., ..., 0., 0., 0.],\n",
       "       [0., 0., 0., ..., 0., 0., 0.],\n",
       "       [0., 0., 0., ..., 0., 0., 0.],\n",
       "       ...,\n",
       "       [0., 0., 0., ..., 0., 0., 0.],\n",
       "       [0., 0., 0., ..., 0., 0., 0.],\n",
       "       [0., 0., 0., ..., 0., 0., 0.]])"
      ]
     },
     "execution_count": 47,
     "metadata": {},
     "output_type": "execute_result"
    }
   ],
   "source": [
    "X_train_tfidf_ngram.toarray()"
   ]
  },
  {
   "cell_type": "markdown",
   "id": "1924e2bd",
   "metadata": {},
   "source": [
    "# Count Vectorizer"
   ]
  },
  {
   "cell_type": "markdown",
   "id": "219ef361",
   "metadata": {},
   "source": [
    "CountVectorizer from Scikit-learn is used to convert a collection of text documents into a matrix of token counts. This is a common preprocessing step in natural language processing (NLP) and text mining tasks. It creates a bag-of-words representation, where each text document is represented by the frequency (or count) of each word that appears in the document. This model does not consider word order but focuses on the presence or absence of words. Each unique word in the corpus becomes a feature (a column in the matrix), and each document is represented as a vector where the value of each feature is the count of that word in the document."
   ]
  },
  {
   "cell_type": "code",
   "execution_count": 48,
   "id": "fe3ac421",
   "metadata": {},
   "outputs": [],
   "source": [
    "from sklearn.feature_extraction.text import CountVectorizer\n",
    "vectorizer = CountVectorizer()\n",
    "X_train_cv = vectorizer.fit_transform(X_train)\n",
    "X_test_cv = vectorizer.transform(X_test)"
   ]
  },
  {
   "cell_type": "code",
   "execution_count": 49,
   "id": "ca4e5fa4",
   "metadata": {},
   "outputs": [
    {
     "data": {
      "text/plain": [
       "array(['aaaa', 'abbott', 'ability', 'able', 'absence', 'absent',\n",
       "       'absolute', 'absolutely', 'absolutley', 'absolutly', 'absorb',\n",
       "       'absorbtion', 'abundant', 'abuse', 'acacia', 'academia', 'academy',\n",
       "       'acai', 'accent', 'accept', 'acceptable', 'access', 'accessible',\n",
       "       'accessory', 'accident', 'accidentally', 'accidently',\n",
       "       'accommodate', 'accompaniment', 'accompany', 'accomplish',\n",
       "       'accord', 'accordingly', 'account', 'accoutrement', 'accumulate',\n",
       "       'accuracy', 'accurate', 'accustom', 'ace', 'acerola', 'acetate',\n",
       "       'ache', 'achieve', 'acid', 'acidic', 'acidity', 'acknowledge',\n",
       "       'acme'], dtype=object)"
      ]
     },
     "execution_count": 49,
     "metadata": {},
     "output_type": "execute_result"
    }
   ],
   "source": [
    "vectorizer.get_feature_names_out()[1:50]"
   ]
  },
  {
   "cell_type": "code",
   "execution_count": 50,
   "id": "b1383dbf",
   "metadata": {},
   "outputs": [
    {
     "data": {
      "text/plain": [
       "array([[0, 0, 0, ..., 0, 0, 0],\n",
       "       [0, 0, 0, ..., 0, 0, 0],\n",
       "       [0, 0, 0, ..., 0, 0, 0],\n",
       "       ...,\n",
       "       [0, 0, 0, ..., 0, 0, 0],\n",
       "       [0, 0, 0, ..., 0, 0, 0],\n",
       "       [0, 0, 0, ..., 0, 0, 0]], dtype=int64)"
      ]
     },
     "execution_count": 50,
     "metadata": {},
     "output_type": "execute_result"
    }
   ],
   "source": [
    "X_train_cv.toarray()"
   ]
  },
  {
   "cell_type": "code",
   "execution_count": 51,
   "id": "a7ec9974",
   "metadata": {},
   "outputs": [
    {
     "name": "stdout",
     "output_type": "stream",
     "text": [
      "X_train_scaled shape: (8000, 8292)\n",
      "X_test_scaled shape: (2000, 8292)\n"
     ]
    }
   ],
   "source": [
    "# Perform scaling on TF-IDF data\n",
    "from sklearn.preprocessing import StandardScaler\n",
    "scaler = StandardScaler(with_mean=False)\n",
    "X_train_scaled_cv = scaler.fit_transform(X_train_cv)\n",
    "X_test_scaled_cv = scaler.transform(X_test_cv)\n",
    "\n",
    "# Now X_train_scaled and X_test_scaled can be used for model training and testing\n",
    "print(\"X_train_scaled shape:\", X_train_scaled_cv.shape)\n",
    "print(\"X_test_scaled shape:\", X_test_scaled_cv.shape)"
   ]
  },
  {
   "cell_type": "markdown",
   "id": "50d2e3ad",
   "metadata": {},
   "source": [
    "# Sentiment Analysis Modeling"
   ]
  },
  {
   "cell_type": "code",
   "execution_count": 52,
   "id": "5335839a",
   "metadata": {},
   "outputs": [],
   "source": [
    "from sklearn.metrics import mean_squared_error, r2_score\n",
    "from sklearn.metrics import accuracy_score, classification_report\n",
    "from sklearn.model_selection import cross_val_score"
   ]
  },
  {
   "cell_type": "code",
   "execution_count": 53,
   "id": "fd12f758",
   "metadata": {},
   "outputs": [
    {
     "name": "stdout",
     "output_type": "stream",
     "text": [
      "Requirement already satisfied: scikit-optimize in c:\\users\\vijayalekshmi\\desktop\\sentimentanalysis\\venv\\lib\\site-packages (0.10.2)\n",
      "Requirement already satisfied: joblib>=0.11 in c:\\users\\vijayalekshmi\\desktop\\sentimentanalysis\\venv\\lib\\site-packages (from scikit-optimize) (1.4.2)\n",
      "Requirement already satisfied: pyaml>=16.9 in c:\\users\\vijayalekshmi\\desktop\\sentimentanalysis\\venv\\lib\\site-packages (from scikit-optimize) (24.4.0)\n",
      "Requirement already satisfied: numpy>=1.20.3 in c:\\users\\vijayalekshmi\\desktop\\sentimentanalysis\\venv\\lib\\site-packages (from scikit-optimize) (1.26.4)\n",
      "Requirement already satisfied: scipy>=1.1.0 in c:\\users\\vijayalekshmi\\desktop\\sentimentanalysis\\venv\\lib\\site-packages (from scikit-optimize) (1.14.0)\n",
      "Requirement already satisfied: scikit-learn>=1.0.0 in c:\\users\\vijayalekshmi\\desktop\\sentimentanalysis\\venv\\lib\\site-packages (from scikit-optimize) (1.5.0)\n",
      "Requirement already satisfied: packaging>=21.3 in c:\\users\\vijayalekshmi\\desktop\\sentimentanalysis\\venv\\lib\\site-packages (from scikit-optimize) (24.0)\n",
      "Requirement already satisfied: PyYAML in c:\\users\\vijayalekshmi\\desktop\\sentimentanalysis\\venv\\lib\\site-packages (from pyaml>=16.9->scikit-optimize) (6.0.1)\n",
      "Requirement already satisfied: threadpoolctl>=3.1.0 in c:\\users\\vijayalekshmi\\desktop\\sentimentanalysis\\venv\\lib\\site-packages (from scikit-learn>=1.0.0->scikit-optimize) (3.5.0)\n",
      "Note: you may need to restart the kernel to use updated packages.\n"
     ]
    },
    {
     "name": "stderr",
     "output_type": "stream",
     "text": [
      "\n",
      "[notice] A new release of pip is available: 24.1 -> 24.2\n",
      "[notice] To update, run: python.exe -m pip install --upgrade pip\n"
     ]
    }
   ],
   "source": [
    "pip install scikit-optimize"
   ]
  },
  {
   "cell_type": "code",
   "execution_count": 54,
   "id": "10a7505a",
   "metadata": {},
   "outputs": [],
   "source": [
    "from sklearn.model_selection import GridSearchCV, RandomizedSearchCV\n",
    "from skopt import BayesSearchCV\n",
    "from scipy.stats import uniform\n",
    "from skopt.space import Real, Categorical, Integer"
   ]
  },
  {
   "cell_type": "markdown",
   "id": "fe69cbc4",
   "metadata": {},
   "source": [
    "# Support Vector Classifier - SVC"
   ]
  },
  {
   "cell_type": "code",
   "execution_count": 55,
   "id": "6a94664c",
   "metadata": {},
   "outputs": [],
   "source": [
    "from sklearn.svm import SVC"
   ]
  },
  {
   "cell_type": "code",
   "execution_count": 56,
   "id": "d323f4d3",
   "metadata": {},
   "outputs": [
    {
     "data": {
      "text/plain": [
       "0.846125"
      ]
     },
     "execution_count": 56,
     "metadata": {},
     "output_type": "execute_result"
    }
   ],
   "source": [
    "# TF-IDF Word-Level\n",
    "svc_tf_model = SVC(kernel='poly', C=10).fit(X_train_tfidf, y_train)\n",
    "cross_val_score(svc_tf_model, X_train_tfidf, y_train, cv=5, n_jobs=-1).mean()"
   ]
  },
  {
   "cell_type": "markdown",
   "id": "15aa9720",
   "metadata": {},
   "source": [
    "Grid Search - SVC"
   ]
  },
  {
   "cell_type": "code",
   "execution_count": 57,
   "id": "e21dc1fb",
   "metadata": {},
   "outputs": [
    {
     "name": "stdout",
     "output_type": "stream",
     "text": [
      "Fitting 3 folds for each of 32 candidates, totalling 96 fits\n",
      "Accuracy: 0.82\n",
      "Mean Squared Error on Test Set: 0.27\n",
      "Best Parameters: {'C': 10, 'gamma': 'scale', 'kernel': 'rbf'}\n"
     ]
    }
   ],
   "source": [
    "# Define the model and parameter grid for tuning\n",
    "svc_grid = SVC()\n",
    "param_svc_grid = {\n",
    "    'C': [0.1, 1, 10, 100],\n",
    "    'kernel': ['linear', 'poly', 'rbf', 'sigmoid'],\n",
    "    'gamma': ['scale', 'auto']\n",
    "    }\n",
    "\n",
    "\n",
    "# Perform GridSearchCV with cross-validation\n",
    "grid_search_svc = GridSearchCV(estimator=svc_grid, param_grid=param_svc_grid, scoring='accuracy', cv=3, verbose=1, n_jobs=-1)\n",
    "grid_search_svc.fit(X_train_scaled, y_train)\n",
    "\n",
    "#Train the final model on the entire training set with the best hyperparameters\n",
    "best_svc_grid = grid_search_svc.best_estimator_\n",
    "best_svc_grid.fit(X_train_scaled, y_train)\n",
    "\n",
    "#Evaluate the final model on the test set\n",
    "X_test_scaled_svc_grid = scaler.transform(X_test_scaled)\n",
    "y_pred_svc_grid = best_svc_grid.predict(X_test_scaled_svc_grid)\n",
    "\n",
    "#Calculate the accuracy\n",
    "acc_svc_grid=accuracy_score(y_test,y_pred_svc_grid)\n",
    "print(f'Accuracy: {acc_svc_grid:.2f}')\n",
    "\n",
    "# Calculate performance metrics\n",
    "mse_svc_grid = mean_squared_error(y_test, y_pred_svc_grid)\n",
    "print(f'Mean Squared Error on Test Set: {mse_svc_grid:.2f}')\n",
    "\n",
    "# Print the best parameters found during cross-validation\n",
    "print(f'Best Parameters: {grid_search_svc.best_params_}')"
   ]
  },
  {
   "cell_type": "code",
   "execution_count": 58,
   "id": "c225ed02",
   "metadata": {},
   "outputs": [
    {
     "name": "stdout",
     "output_type": "stream",
     "text": [
      "              precision    recall  f1-score   support\n",
      "\n",
      "           0       0.00      0.00      0.00        57\n",
      "           1       0.00      0.00      0.00       308\n",
      "           2       0.82      1.00      0.90      1635\n",
      "\n",
      "    accuracy                           0.82      2000\n",
      "   macro avg       0.27      0.33      0.30      2000\n",
      "weighted avg       0.67      0.82      0.74      2000\n",
      "\n"
     ]
    }
   ],
   "source": [
    "print(classification_report(y_test, y_pred_svc_grid))"
   ]
  },
  {
   "cell_type": "markdown",
   "id": "d8b27aeb",
   "metadata": {},
   "source": [
    " Grid Search - SVC with Count Vectorizer"
   ]
  },
  {
   "cell_type": "code",
   "execution_count": 59,
   "id": "ef02f241",
   "metadata": {},
   "outputs": [
    {
     "name": "stdout",
     "output_type": "stream",
     "text": [
      "Fitting 3 folds for each of 32 candidates, totalling 96 fits\n",
      "Accuracy: 0.82\n",
      "Mean Squared Error on Test Set: 0.26\n",
      "Best Parameters: {'C': 10, 'gamma': 'scale', 'kernel': 'rbf'}\n"
     ]
    }
   ],
   "source": [
    "# Define the model and parameter grid for tuning\n",
    "svc_grid_cv = SVC()\n",
    "param_svc_grid = {\n",
    "    'C': [0.1, 1, 10, 100],\n",
    "    'kernel': ['linear', 'poly', 'rbf', 'sigmoid'],\n",
    "    'gamma': ['scale', 'auto']\n",
    "    }\n",
    "\n",
    "\n",
    "# Perform GridSearchCV with cross-validation\n",
    "grid_search_svc_cv = GridSearchCV(estimator=svc_grid_cv, param_grid=param_svc_grid, scoring='accuracy', cv=3, verbose=1, n_jobs=-1)\n",
    "grid_search_svc_cv.fit(X_train_scaled_cv, y_train)\n",
    "\n",
    "#Train the final model on the entire training set with the best hyperparameters\n",
    "best_svc_grid_cv = grid_search_svc_cv.best_estimator_\n",
    "best_svc_grid_cv.fit(X_train_scaled_cv, y_train)\n",
    "\n",
    "#Evaluate the final model on the test set\n",
    "X_test_scaled_svc_grid_cv = scaler.transform(X_test_scaled_cv)\n",
    "y_pred_svc_grid_cv = best_svc_grid_cv.predict(X_test_scaled_svc_grid_cv)\n",
    "\n",
    "#Calculate the accuracy\n",
    "acc_svc_grid_cv=accuracy_score(y_test,y_pred_svc_grid_cv)\n",
    "print(f'Accuracy: {acc_svc_grid_cv:.2f}')\n",
    "\n",
    "# Calculate performance metrics\n",
    "mse_svc_grid_cv = mean_squared_error(y_test, y_pred_svc_grid_cv)\n",
    "print(f'Mean Squared Error on Test Set: {mse_svc_grid_cv:.2f}')\n",
    "\n",
    "# Print the best parameters found during cross-validation\n",
    "print(f'Best Parameters: {grid_search_svc_cv.best_params_}')"
   ]
  },
  {
   "cell_type": "code",
   "execution_count": 60,
   "id": "57300b7a",
   "metadata": {},
   "outputs": [
    {
     "name": "stdout",
     "output_type": "stream",
     "text": [
      "              precision    recall  f1-score   support\n",
      "\n",
      "           0       0.33      0.02      0.03        57\n",
      "           1       0.40      0.01      0.01       308\n",
      "           2       0.82      1.00      0.90      1635\n",
      "\n",
      "    accuracy                           0.82      2000\n",
      "   macro avg       0.52      0.34      0.32      2000\n",
      "weighted avg       0.74      0.82      0.74      2000\n",
      "\n"
     ]
    }
   ],
   "source": [
    "print(classification_report(y_test, y_pred_svc_grid_cv))"
   ]
  },
  {
   "cell_type": "markdown",
   "id": "e1e3f090",
   "metadata": {},
   "source": [
    "Random Search - SVC"
   ]
  },
  {
   "cell_type": "code",
   "execution_count": 61,
   "id": "82b30632",
   "metadata": {},
   "outputs": [
    {
     "name": "stdout",
     "output_type": "stream",
     "text": [
      "Fitting 3 folds for each of 20 candidates, totalling 60 fits\n",
      "Accuracy: 0.57\n",
      "Mean Squared Error on Test Set: 0.83\n",
      "Best Parameters: {'kernel': 'poly', 'gamma': 'auto', 'C': 100.0}\n"
     ]
    }
   ],
   "source": [
    "# Define the model and parameter grid for tuning\n",
    "svc_rand = SVC()\n",
    "param_svc_rand = {\n",
    "    'C': np.logspace(-3, 2, 6),\n",
    "    'kernel': ['linear', 'poly', 'rbf', 'sigmoid'],\n",
    "    'gamma': ['scale', 'auto']\n",
    "}\n",
    "\n",
    "# Perform RandomizedSearchCV with cross-validation\n",
    "random_search_svc = RandomizedSearchCV(estimator=svc_rand, param_distributions=param_svc_rand, n_iter=20, scoring='accuracy', cv=3, verbose=1, n_jobs=-1, random_state=42)\n",
    "random_search_svc.fit(X_train_scaled, y_train)\n",
    "\n",
    "# Train the final model on the entire training set with the best hyperparameters\n",
    "best_svc = random_search_svc.best_estimator_\n",
    "best_svc.fit(X_train_scaled, y_train)\n",
    "\n",
    "# Evaluate the final model on the test set\n",
    "X_test_scaled_svc_rand = scaler.transform(X_test_scaled)\n",
    "y_pred_svc_rand = best_svc.predict(X_test_scaled_svc_rand)\n",
    "\n",
    "# Calculate the accuracy\n",
    "acc_svc_rand = accuracy_score(y_test, y_pred_svc_rand)\n",
    "print(f'Accuracy: {acc_svc_rand:.2f}')\n",
    "\n",
    "# Calculate performance metrics\n",
    "mse_svc_rand = mean_squared_error(y_test, y_pred_svc_rand)\n",
    "print(f'Mean Squared Error on Test Set: {mse_svc_rand:.2f}')\n",
    "\n",
    "# Print the best parameters found during cross-validation\n",
    "print(f'Best Parameters: {random_search_svc.best_params_}')"
   ]
  },
  {
   "cell_type": "code",
   "execution_count": 62,
   "id": "a1722d9b",
   "metadata": {},
   "outputs": [
    {
     "name": "stdout",
     "output_type": "stream",
     "text": [
      "              precision    recall  f1-score   support\n",
      "\n",
      "           0       0.07      0.40      0.12        57\n",
      "           1       0.20      0.32      0.25       308\n",
      "           2       0.86      0.62      0.72      1635\n",
      "\n",
      "    accuracy                           0.57      2000\n",
      "   macro avg       0.38      0.45      0.36      2000\n",
      "weighted avg       0.74      0.57      0.63      2000\n",
      "\n"
     ]
    }
   ],
   "source": [
    "print(classification_report(y_test, y_pred_svc_rand))"
   ]
  },
  {
   "cell_type": "markdown",
   "id": "2609c956",
   "metadata": {},
   "source": [
    "Random Search - SVC with Count Vectorizer"
   ]
  },
  {
   "cell_type": "code",
   "execution_count": 63,
   "id": "68dfaa37",
   "metadata": {},
   "outputs": [
    {
     "name": "stdout",
     "output_type": "stream",
     "text": [
      "Fitting 3 folds for each of 20 candidates, totalling 60 fits\n",
      "Accuracy: 0.44\n",
      "Mean Squared Error on Test Set: 1.26\n",
      "Best Parameters: {'kernel': 'poly', 'gamma': 'scale', 'C': 10.0}\n"
     ]
    }
   ],
   "source": [
    "# Define the model and parameter grid for tuning\n",
    "svc_rand_cv = SVC()\n",
    "param_svc_rand = {\n",
    "    'C': np.logspace(-3, 2, 6),\n",
    "    'kernel': ['linear', 'poly', 'rbf', 'sigmoid'],\n",
    "    'gamma': ['scale', 'auto']\n",
    "}\n",
    "\n",
    "# Perform RandomizedSearchCV with cross-validation\n",
    "random_search_svc_cv = RandomizedSearchCV(estimator=svc_rand_cv, param_distributions=param_svc_rand, n_iter=20, scoring='accuracy', cv=3, verbose=1, n_jobs=-1, random_state=42)\n",
    "random_search_svc_cv.fit(X_train_scaled_cv, y_train)\n",
    "\n",
    "# Train the final model on the entire training set with the best hyperparameters\n",
    "best_svc_rand_cv = random_search_svc.best_estimator_\n",
    "best_svc_rand_cv.fit(X_train_scaled_cv, y_train)\n",
    "\n",
    "# Evaluate the final model on the test set\n",
    "X_test_scaled_svc_rand_cv = scaler.transform(X_test_scaled_cv)\n",
    "y_pred_svc_rand_cv = best_svc_rand_cv.predict(X_test_scaled_svc_rand_cv)\n",
    "\n",
    "# Calculate the accuracy\n",
    "acc_svc_rand_cv = accuracy_score(y_test, y_pred_svc_rand_cv)\n",
    "print(f'Accuracy: {acc_svc_rand_cv:.2f}')\n",
    "\n",
    "# Calculate performance metrics\n",
    "mse_svc_rand_cv = mean_squared_error(y_test, y_pred_svc_rand_cv)\n",
    "print(f'Mean Squared Error on Test Set: {mse_svc_rand_cv:.2f}')\n",
    "\n",
    "# Print the best parameters found during cross-validation\n",
    "print(f'Best Parameters: {random_search_svc_cv.best_params_}')"
   ]
  },
  {
   "cell_type": "code",
   "execution_count": 64,
   "id": "cc5560a1",
   "metadata": {},
   "outputs": [
    {
     "name": "stdout",
     "output_type": "stream",
     "text": [
      "              precision    recall  f1-score   support\n",
      "\n",
      "           0       0.33      0.02      0.03        57\n",
      "           1       0.40      0.01      0.01       308\n",
      "           2       0.82      1.00      0.90      1635\n",
      "\n",
      "    accuracy                           0.82      2000\n",
      "   macro avg       0.52      0.34      0.32      2000\n",
      "weighted avg       0.74      0.82      0.74      2000\n",
      "\n"
     ]
    }
   ],
   "source": [
    "print(classification_report(y_test, y_pred_svc_grid_cv))"
   ]
  },
  {
   "cell_type": "markdown",
   "id": "cef4b1fe",
   "metadata": {},
   "source": [
    "Bayesian Optimization - SVC"
   ]
  },
  {
   "cell_type": "code",
   "execution_count": 65,
   "id": "bef46ab6",
   "metadata": {},
   "outputs": [
    {
     "name": "stdout",
     "output_type": "stream",
     "text": [
      "Fitting 5 folds for each of 1 candidates, totalling 5 fits\n",
      "Fitting 5 folds for each of 1 candidates, totalling 5 fits\n",
      "Fitting 5 folds for each of 1 candidates, totalling 5 fits\n",
      "Fitting 5 folds for each of 1 candidates, totalling 5 fits\n",
      "Fitting 5 folds for each of 1 candidates, totalling 5 fits\n",
      "Fitting 5 folds for each of 1 candidates, totalling 5 fits\n",
      "Fitting 5 folds for each of 1 candidates, totalling 5 fits\n",
      "Fitting 5 folds for each of 1 candidates, totalling 5 fits\n",
      "Fitting 5 folds for each of 1 candidates, totalling 5 fits\n",
      "Fitting 5 folds for each of 1 candidates, totalling 5 fits\n",
      "Fitting 5 folds for each of 1 candidates, totalling 5 fits\n",
      "Fitting 5 folds for each of 1 candidates, totalling 5 fits\n",
      "Fitting 5 folds for each of 1 candidates, totalling 5 fits\n",
      "Fitting 5 folds for each of 1 candidates, totalling 5 fits\n",
      "Fitting 5 folds for each of 1 candidates, totalling 5 fits\n",
      "Fitting 5 folds for each of 1 candidates, totalling 5 fits\n",
      "Fitting 5 folds for each of 1 candidates, totalling 5 fits\n",
      "Fitting 5 folds for each of 1 candidates, totalling 5 fits\n",
      "Fitting 5 folds for each of 1 candidates, totalling 5 fits\n",
      "Fitting 5 folds for each of 1 candidates, totalling 5 fits\n",
      "Fitting 5 folds for each of 1 candidates, totalling 5 fits\n",
      "Fitting 5 folds for each of 1 candidates, totalling 5 fits\n",
      "Fitting 5 folds for each of 1 candidates, totalling 5 fits\n",
      "Fitting 5 folds for each of 1 candidates, totalling 5 fits\n",
      "Fitting 5 folds for each of 1 candidates, totalling 5 fits\n",
      "Fitting 5 folds for each of 1 candidates, totalling 5 fits\n",
      "Fitting 5 folds for each of 1 candidates, totalling 5 fits\n",
      "Fitting 5 folds for each of 1 candidates, totalling 5 fits\n",
      "Fitting 5 folds for each of 1 candidates, totalling 5 fits\n",
      "Fitting 5 folds for each of 1 candidates, totalling 5 fits\n",
      "Fitting 5 folds for each of 1 candidates, totalling 5 fits\n",
      "Fitting 5 folds for each of 1 candidates, totalling 5 fits\n",
      "Accuracy: 0.82\n",
      "Mean Squared Error on Test Set: 0.27\n",
      "Best Parameters: OrderedDict({'C': 5.573408794976326, 'gamma': 'scale', 'kernel': 'rbf'})\n"
     ]
    }
   ],
   "source": [
    "# Define the model and parameter search space for Bayesian Optimization\n",
    "svc_bayes = SVC()\n",
    "param_svc_bayes = {\n",
    "    'C': Real(1e-3, 1e2, prior='log-uniform'),\n",
    "    'kernel': Categorical(['linear', 'poly', 'rbf', 'sigmoid']),\n",
    "    'gamma': Categorical(['scale', 'auto'])\n",
    "}\n",
    "\n",
    "# Perform Bayesian Optimization with cross-validation\n",
    "bayes_search_svc = BayesSearchCV(estimator=svc_bayes, search_spaces=param_svc_bayes, n_iter=32, scoring='accuracy', cv=5, verbose=1, n_jobs=-1, random_state=42)\n",
    "bayes_search_svc.fit(X_train_scaled, y_train)\n",
    "\n",
    "# Train the final model on the entire training set with the best hyperparameters\n",
    "best_svc_bayes = bayes_search_svc.best_estimator_\n",
    "best_svc_bayes.fit(X_train_scaled, y_train)\n",
    "\n",
    "# Evaluate the final model on the test set\n",
    "X_test_scaled_svc_bayes = scaler.transform(X_test_scaled)\n",
    "y_pred_svc_bayes = best_svc_bayes.predict(X_test_scaled_svc_bayes)\n",
    "\n",
    "# Calculate the accuracy\n",
    "acc_svc_bayes = accuracy_score(y_test, y_pred_svc_bayes)\n",
    "print(f'Accuracy: {acc_svc_bayes:.2f}')\n",
    "\n",
    "# Calculate performance metrics\n",
    "mse_svc_bayes = mean_squared_error(y_test, y_pred_svc_bayes)\n",
    "print(f'Mean Squared Error on Test Set: {mse_svc_bayes:.2f}')\n",
    "\n",
    "# Print the best parameters found during Bayesian Optimization\n",
    "print(f'Best Parameters: {bayes_search_svc.best_params_}')"
   ]
  },
  {
   "cell_type": "code",
   "execution_count": 66,
   "id": "afaf2139",
   "metadata": {},
   "outputs": [
    {
     "name": "stdout",
     "output_type": "stream",
     "text": [
      "              precision    recall  f1-score   support\n",
      "\n",
      "           0       0.00      0.00      0.00        57\n",
      "           1       0.00      0.00      0.00       308\n",
      "           2       0.82      1.00      0.90      1635\n",
      "\n",
      "    accuracy                           0.82      2000\n",
      "   macro avg       0.27      0.33      0.30      2000\n",
      "weighted avg       0.67      0.82      0.74      2000\n",
      "\n"
     ]
    }
   ],
   "source": [
    "print(classification_report(y_test, y_pred_svc_bayes))"
   ]
  },
  {
   "cell_type": "markdown",
   "id": "8400777d",
   "metadata": {},
   "source": [
    "Bayesian Optimization - SVC with Count Vectorizer"
   ]
  },
  {
   "cell_type": "code",
   "execution_count": 68,
   "id": "30298c4c",
   "metadata": {},
   "outputs": [
    {
     "name": "stdout",
     "output_type": "stream",
     "text": [
      "Fitting 5 folds for each of 1 candidates, totalling 5 fits\n",
      "Fitting 5 folds for each of 1 candidates, totalling 5 fits\n",
      "Fitting 5 folds for each of 1 candidates, totalling 5 fits\n",
      "Fitting 5 folds for each of 1 candidates, totalling 5 fits\n",
      "Fitting 5 folds for each of 1 candidates, totalling 5 fits\n",
      "Fitting 5 folds for each of 1 candidates, totalling 5 fits\n",
      "Fitting 5 folds for each of 1 candidates, totalling 5 fits\n",
      "Fitting 5 folds for each of 1 candidates, totalling 5 fits\n",
      "Fitting 5 folds for each of 1 candidates, totalling 5 fits\n",
      "Fitting 5 folds for each of 1 candidates, totalling 5 fits\n",
      "Fitting 5 folds for each of 1 candidates, totalling 5 fits\n",
      "Fitting 5 folds for each of 1 candidates, totalling 5 fits\n",
      "Fitting 5 folds for each of 1 candidates, totalling 5 fits\n",
      "Fitting 5 folds for each of 1 candidates, totalling 5 fits\n",
      "Fitting 5 folds for each of 1 candidates, totalling 5 fits\n",
      "Fitting 5 folds for each of 1 candidates, totalling 5 fits\n",
      "Fitting 5 folds for each of 1 candidates, totalling 5 fits\n",
      "Fitting 5 folds for each of 1 candidates, totalling 5 fits\n",
      "Fitting 5 folds for each of 1 candidates, totalling 5 fits\n",
      "Fitting 5 folds for each of 1 candidates, totalling 5 fits\n",
      "Fitting 5 folds for each of 1 candidates, totalling 5 fits\n",
      "Fitting 5 folds for each of 1 candidates, totalling 5 fits\n",
      "Fitting 5 folds for each of 1 candidates, totalling 5 fits\n",
      "Fitting 5 folds for each of 1 candidates, totalling 5 fits\n",
      "Fitting 5 folds for each of 1 candidates, totalling 5 fits\n",
      "Fitting 5 folds for each of 1 candidates, totalling 5 fits\n",
      "Fitting 5 folds for each of 1 candidates, totalling 5 fits\n",
      "Fitting 5 folds for each of 1 candidates, totalling 5 fits\n",
      "Fitting 5 folds for each of 1 candidates, totalling 5 fits\n",
      "Fitting 5 folds for each of 1 candidates, totalling 5 fits\n",
      "Fitting 5 folds for each of 1 candidates, totalling 5 fits\n",
      "Fitting 5 folds for each of 1 candidates, totalling 5 fits\n",
      "Accuracy: 0.82\n",
      "Mean Squared Error on Test Set: 0.26\n",
      "Best Parameters: OrderedDict({'C': 24.142039595673978, 'gamma': 'auto', 'kernel': 'rbf'})\n"
     ]
    }
   ],
   "source": [
    "# Define the model and parameter search space for Bayesian Optimization\n",
    "svc_bayes_cv = SVC()\n",
    "param_svc_bayes = {\n",
    "    'C': Real(1e-3, 1e2, prior='log-uniform'),\n",
    "    'kernel': Categorical(['linear', 'poly', 'rbf', 'sigmoid']),\n",
    "    'gamma': Categorical(['scale', 'auto'])\n",
    "}\n",
    "\n",
    "# Perform Bayesian Optimization with cross-validation\n",
    "bayes_search_svc_cv = BayesSearchCV(estimator=svc_bayes_cv, search_spaces=param_svc_bayes, n_iter=32, scoring='accuracy', cv=5, verbose=1, n_jobs=-1, random_state=42)\n",
    "bayes_search_svc_cv.fit(X_train_scaled_cv, y_train)\n",
    "\n",
    "# Train the final model on the entire training set with the best hyperparameters\n",
    "best_svc_bayes_cv = bayes_search_svc_cv.best_estimator_\n",
    "best_svc_bayes_cv.fit(X_train_scaled_cv, y_train)\n",
    "\n",
    "# Evaluate the final model on the test set\n",
    "X_test_scaled_svc_bayes_cv = scaler.transform(X_test_scaled_cv)\n",
    "y_pred_svc_bayes_cv = best_svc_bayes_cv.predict(X_test_scaled_svc_bayes_cv)\n",
    "\n",
    "# Calculate the accuracy\n",
    "acc_svc_bayes_cv = accuracy_score(y_test, y_pred_svc_bayes_cv)\n",
    "print(f'Accuracy: {acc_svc_bayes_cv:.2f}')\n",
    "\n",
    "# Calculate performance metrics\n",
    "mse_svc_bayes_cv = mean_squared_error(y_test, y_pred_svc_bayes_cv)\n",
    "print(f'Mean Squared Error on Test Set: {mse_svc_bayes_cv:.2f}')\n",
    "\n",
    "# Print the best parameters found during Bayesian Optimization\n",
    "print(f'Best Parameters: {bayes_search_svc_cv.best_params_}')"
   ]
  },
  {
   "cell_type": "code",
   "execution_count": 70,
   "id": "8d688f34",
   "metadata": {},
   "outputs": [
    {
     "name": "stdout",
     "output_type": "stream",
     "text": [
      "              precision    recall  f1-score   support\n",
      "\n",
      "           0       0.25      0.02      0.03        57\n",
      "           1       0.45      0.02      0.03       308\n",
      "           2       0.82      1.00      0.90      1635\n",
      "\n",
      "    accuracy                           0.82      2000\n",
      "   macro avg       0.51      0.34      0.32      2000\n",
      "weighted avg       0.75      0.82      0.74      2000\n",
      "\n"
     ]
    }
   ],
   "source": [
    "print(classification_report(y_test, y_pred_svc_bayes_cv))"
   ]
  },
  {
   "cell_type": "markdown",
   "id": "cdf94323",
   "metadata": {},
   "source": [
    "Best Model - SVC"
   ]
  },
  {
   "cell_type": "code",
   "execution_count": 73,
   "id": "106942b1",
   "metadata": {},
   "outputs": [
    {
     "data": {
      "text/plain": [
       "0.8423747294153873"
      ]
     },
     "execution_count": 73,
     "metadata": {},
     "output_type": "execute_result"
    }
   ],
   "source": [
    "# Best Model for SVM\n",
    "svc_best_model = SVC(kernel='poly', gamma='scale', C=10).fit(X_train_tfidf, y_train)\n",
    "#svc_best_model = SVC(kernel='poly', C=100, gamma='auto').fit(X_train_tfidf, y_train)\n",
    "cross_val_score(svc_best_model, X_train_tfidf, y_train, cv=3, n_jobs=-1).mean()"
   ]
  },
  {
   "cell_type": "code",
   "execution_count": 74,
   "id": "1d37a77b",
   "metadata": {},
   "outputs": [
    {
     "name": "stdout",
     "output_type": "stream",
     "text": [
      "Accuracy: 0.58\n",
      "              precision    recall  f1-score   support\n",
      "\n",
      "           0       0.07      0.33      0.11        57\n",
      "           1       0.20      0.31      0.24       308\n",
      "           2       0.85      0.64      0.73      1635\n",
      "\n",
      "    accuracy                           0.58      2000\n",
      "   macro avg       0.37      0.43      0.36      2000\n",
      "weighted avg       0.73      0.58      0.64      2000\n",
      "\n"
     ]
    }
   ],
   "source": [
    "X_test_svc = scaler.transform(X_test_scaled)\n",
    "y_pred_best_svc = svc_best_model.predict(X_test_svc)\n",
    "#y_pred_best_svc = svc_best_model.predict(X_test_scaled)\n",
    "\n",
    "# Calculate the accuracy\n",
    "acc_best_svc = accuracy_score(y_test, y_pred_best_svc)\n",
    "print(f'Accuracy: {acc_best_svc:.2f}')\n",
    "\n",
    "print(classification_report(y_test, y_pred_best_svc))\n"
   ]
  },
  {
   "cell_type": "markdown",
   "id": "c7de2a6c",
   "metadata": {},
   "source": [
    "Best Model for SVM with CV"
   ]
  },
  {
   "cell_type": "code",
   "execution_count": 75,
   "id": "223f5576",
   "metadata": {},
   "outputs": [
    {
     "data": {
      "text/plain": [
       "0.8321249791262963"
      ]
     },
     "execution_count": 75,
     "metadata": {},
     "output_type": "execute_result"
    }
   ],
   "source": [
    "# Best Model for SVM with CV\n",
    "svc_best_model_cv = SVC(kernel='rbf', C=24.142039595673978, gamma='auto').fit(X_train_cv, y_train)\n",
    "cross_val_score(svc_best_model_cv, X_train_cv, y_train, cv=3, n_jobs=-1).mean()"
   ]
  },
  {
   "cell_type": "code",
   "execution_count": 76,
   "id": "a422393b",
   "metadata": {},
   "outputs": [
    {
     "name": "stdout",
     "output_type": "stream",
     "text": [
      "Accuracy: 0.07\n",
      "              precision    recall  f1-score   support\n",
      "\n",
      "           0       0.03      1.00      0.06        57\n",
      "           1       0.00      0.00      0.00       308\n",
      "           2       0.89      0.05      0.09      1635\n",
      "\n",
      "    accuracy                           0.07      2000\n",
      "   macro avg       0.31      0.35      0.05      2000\n",
      "weighted avg       0.73      0.07      0.08      2000\n",
      "\n"
     ]
    }
   ],
   "source": [
    "X_test_svc_cv = scaler.transform(X_test_scaled_cv)\n",
    "y_pred_best_svc_cv = svc_best_model_cv.predict(X_test_svc_cv)\n",
    "\n",
    "# Calculate the accuracy\n",
    "acc_best_svc_cv = accuracy_score(y_test, y_pred_best_svc_cv)\n",
    "print(f'Accuracy: {acc_best_svc_cv:.2f}')\n",
    "\n",
    "print(classification_report(y_test, y_pred_best_svc_cv))\n"
   ]
  },
  {
   "cell_type": "markdown",
   "id": "aea98b7d",
   "metadata": {},
   "source": [
    "# Random Forest"
   ]
  },
  {
   "cell_type": "code",
   "execution_count": 77,
   "id": "fda6cbdf",
   "metadata": {},
   "outputs": [],
   "source": [
    "from sklearn.ensemble import RandomForestClassifier"
   ]
  },
  {
   "cell_type": "markdown",
   "id": "67a7558c",
   "metadata": {},
   "source": [
    "Hyper Parameter Optimization - Random Forest"
   ]
  },
  {
   "cell_type": "markdown",
   "id": "ec0d9c0b",
   "metadata": {},
   "source": [
    "Grid Search - Random Forest"
   ]
  },
  {
   "cell_type": "code",
   "execution_count": 78,
   "id": "384669fe",
   "metadata": {},
   "outputs": [
    {
     "name": "stdout",
     "output_type": "stream",
     "text": [
      "Fitting 3 folds for each of 36 candidates, totalling 108 fits\n",
      "Accuracy: 0.83\n",
      "Mean Squared Error on Test Set: 0.22\n",
      "Best Parameters: {'max_depth': None, 'max_features': 7, 'min_samples_split': 2, 'n_estimators': 100}\n"
     ]
    }
   ],
   "source": [
    "# Define the model and parameter grid for tuning\n",
    "rf_grid = RandomForestClassifier()\n",
    "params_rf_grid = {\"max_depth\": [8, None],\n",
    "                  \"max_features\": [7, \"auto\"],\n",
    "                  \"min_samples_split\": [2, 5, 8],\n",
    "                  \"n_estimators\": [100, 200,300]\n",
    "                                            }\n",
    "\n",
    "\n",
    "# Perform GridSearchCV with cross-validation\n",
    "grid_rf = GridSearchCV(rf_grid, params_rf_grid, cv=3, scoring='accuracy', n_jobs=-1, verbose=1)\n",
    "grid_rf.fit(X_train_scaled, y_train)\n",
    "\n",
    "#Train the final model on the entire training set with the best hyperparameters\n",
    "best_rf_grid =grid_rf.best_estimator_\n",
    "best_rf_grid.fit(X_train_scaled, y_train)\n",
    "\n",
    "#Evaluate the final model on the test set\n",
    "X_test_scaled_rf_grid = scaler.transform(X_test_scaled)\n",
    "y_pred_rf_grid = best_rf_grid.predict(X_test_scaled_rf_grid)\n",
    "\n",
    "#Calculate the accuracy\n",
    "acc_rf_grid=accuracy_score(y_test,y_pred_rf_grid)\n",
    "print(f'Accuracy: {acc_rf_grid:.2f}')\n",
    "\n",
    "# Calculate performance metrics\n",
    "mse_rf_grid = mean_squared_error(y_test, y_pred_rf_grid)\n",
    "print(f'Mean Squared Error on Test Set: {mse_rf_grid:.2f}')\n",
    "\n",
    "# Print the best parameters found during cross-validation\n",
    "print(f'Best Parameters: {grid_rf.best_params_}')"
   ]
  },
  {
   "cell_type": "code",
   "execution_count": 81,
   "id": "49a89ca0",
   "metadata": {},
   "outputs": [
    {
     "name": "stdout",
     "output_type": "stream",
     "text": [
      "              precision    recall  f1-score   support\n",
      "\n",
      "           0       1.00      0.07      0.13        57\n",
      "           1       0.59      0.16      0.25       308\n",
      "           2       0.84      0.99      0.91      1635\n",
      "\n",
      "    accuracy                           0.83      2000\n",
      "   macro avg       0.81      0.40      0.43      2000\n",
      "weighted avg       0.81      0.83      0.79      2000\n",
      "\n"
     ]
    }
   ],
   "source": [
    "print(classification_report(y_test, y_pred_rf_grid))"
   ]
  },
  {
   "cell_type": "markdown",
   "id": "c5dfecb1",
   "metadata": {},
   "source": [
    "Grid Search - Random Forest with Count Vectorizer"
   ]
  },
  {
   "cell_type": "code",
   "execution_count": 80,
   "id": "1ff6d577",
   "metadata": {},
   "outputs": [
    {
     "name": "stdout",
     "output_type": "stream",
     "text": [
      "Fitting 3 folds for each of 36 candidates, totalling 108 fits\n",
      "Accuracy: 0.83\n",
      "Mean Squared Error on Test Set: 0.25\n",
      "Best Parameters: {'max_depth': None, 'max_features': 7, 'min_samples_split': 2, 'n_estimators': 100}\n"
     ]
    }
   ],
   "source": [
    "# Define the model and parameter grid for tuning\n",
    "rf_grid_cv = RandomForestClassifier()\n",
    "params_rf_grid = {\"max_depth\": [8, None],\n",
    "                  \"max_features\": [7, \"auto\"],\n",
    "                  \"min_samples_split\": [2, 5, 8],\n",
    "                  \"n_estimators\": [100, 200,300]\n",
    "                                            }\n",
    "\n",
    "\n",
    "# Perform GridSearchCV with cross-validation\n",
    "grid_rf_cv = GridSearchCV(rf_grid_cv, params_rf_grid, cv=3, scoring='accuracy', n_jobs=-1, verbose=1)\n",
    "grid_rf_cv.fit(X_train_scaled_cv, y_train)\n",
    "\n",
    "#Train the final model on the entire training set with the best hyperparameters\n",
    "best_rf_grid_cv =grid_rf.best_estimator_\n",
    "best_rf_grid_cv.fit(X_train_scaled_cv, y_train)\n",
    "\n",
    "#Evaluate the final model on the test set\n",
    "X_test_scaled_rf_grid_cv = scaler.transform(X_test_scaled_cv)\n",
    "y_pred_rf_grid_cv = best_rf_grid_cv.predict(X_test_scaled_rf_grid_cv)\n",
    "\n",
    "#Calculate the accuracy\n",
    "acc_rf_grid_cv=accuracy_score(y_test,y_pred_rf_grid_cv)\n",
    "print(f'Accuracy: {acc_rf_grid_cv:.2f}')\n",
    "\n",
    "# Calculate performance metrics\n",
    "mse_rf_grid_cv = mean_squared_error(y_test, y_pred_rf_grid_cv)\n",
    "print(f'Mean Squared Error on Test Set: {mse_rf_grid_cv:.2f}')\n",
    "\n",
    "# Print the best parameters found during cross-validation\n",
    "print(f'Best Parameters: {grid_rf_cv.best_params_}')"
   ]
  },
  {
   "cell_type": "code",
   "execution_count": 82,
   "id": "f44f032d",
   "metadata": {},
   "outputs": [
    {
     "name": "stdout",
     "output_type": "stream",
     "text": [
      "              precision    recall  f1-score   support\n",
      "\n",
      "           0       1.00      0.07      0.13        57\n",
      "           1       0.90      0.06      0.11       308\n",
      "           2       0.83      1.00      0.91      1635\n",
      "\n",
      "    accuracy                           0.83      2000\n",
      "   macro avg       0.91      0.38      0.38      2000\n",
      "weighted avg       0.84      0.83      0.76      2000\n",
      "\n"
     ]
    }
   ],
   "source": [
    "print(classification_report(y_test, y_pred_rf_grid_cv))"
   ]
  },
  {
   "cell_type": "markdown",
   "id": "fe289eda",
   "metadata": {},
   "source": [
    "Random Search - Random Forest"
   ]
  },
  {
   "cell_type": "code",
   "execution_count": 83,
   "id": "a1d00da7",
   "metadata": {},
   "outputs": [
    {
     "name": "stdout",
     "output_type": "stream",
     "text": [
      "Fitting 3 folds for each of 20 candidates, totalling 60 fits\n",
      "Accuracy: 0.82\n",
      "Mean Squared Error on Test Set: 0.26\n",
      "Best Parameters: {'n_estimators': 300, 'min_samples_split': 10, 'min_samples_leaf': 4, 'max_features': 'sqrt', 'max_depth': 50, 'bootstrap': False}\n"
     ]
    }
   ],
   "source": [
    "# Define the model and parameter grid for tuning\n",
    "rf_rand = RandomForestClassifier()\n",
    "param_rf_rand = {\n",
    "    'n_estimators': [100, 200, 300, 400, 500],\n",
    "    'max_features': ['auto', 'sqrt', 'log2'],\n",
    "    'max_depth': [None, 10, 20, 30, 40, 50],\n",
    "    'min_samples_split': [2, 5, 10],\n",
    "    'min_samples_leaf': [1, 2, 4],\n",
    "    'bootstrap': [True, False]\n",
    "}\n",
    "\n",
    "# Perform RandomizedSearchCV with cross-validation\n",
    "random_search_rf = RandomizedSearchCV(estimator=rf_rand, param_distributions=param_rf_rand, n_iter=20, scoring='accuracy', cv=3, verbose=1, n_jobs=-1, random_state=42)\n",
    "random_search_rf.fit(X_train_scaled, y_train)\n",
    "\n",
    "# Train the final model on the entire training set with the best hyperparameters\n",
    "best_rf_rand = random_search_rf.best_estimator_\n",
    "best_rf_rand.fit(X_train_scaled, y_train)\n",
    "\n",
    "# Evaluate the final model on the test set\n",
    "X_test_scaled_rf_rand = scaler.transform(X_test_scaled)\n",
    "y_pred_rf_rand = best_rf_rand.predict(X_test_scaled_rf_rand)\n",
    "\n",
    "# Calculate the accuracy\n",
    "acc_rf_rand = accuracy_score(y_test, y_pred_rf_rand)\n",
    "print(f'Accuracy: {acc_rf_rand:.2f}')\n",
    "\n",
    "# Calculate performance metrics\n",
    "mse_rf_rand = mean_squared_error(y_test, y_pred_rf_rand)\n",
    "print(f'Mean Squared Error on Test Set: {mse_rf_rand:.2f}')\n",
    "\n",
    "# Print the best parameters found during cross-validation\n",
    "print(f'Best Parameters: {random_search_rf.best_params_}')"
   ]
  },
  {
   "cell_type": "code",
   "execution_count": 84,
   "id": "4ebd0bbd",
   "metadata": {},
   "outputs": [
    {
     "name": "stdout",
     "output_type": "stream",
     "text": [
      "              precision    recall  f1-score   support\n",
      "\n",
      "           0       0.00      0.00      0.00        57\n",
      "           1       0.46      0.02      0.04       308\n",
      "           2       0.82      1.00      0.90      1635\n",
      "\n",
      "    accuracy                           0.82      2000\n",
      "   macro avg       0.43      0.34      0.31      2000\n",
      "weighted avg       0.74      0.82      0.74      2000\n",
      "\n"
     ]
    }
   ],
   "source": [
    "print(classification_report(y_test, y_pred_rf_rand))"
   ]
  },
  {
   "cell_type": "markdown",
   "id": "b9966a79",
   "metadata": {},
   "source": [
    "Random Search - Random Forest with Count Vectorizer"
   ]
  },
  {
   "cell_type": "code",
   "execution_count": 85,
   "id": "e8e85cac",
   "metadata": {},
   "outputs": [
    {
     "name": "stdout",
     "output_type": "stream",
     "text": [
      "Fitting 3 folds for each of 20 candidates, totalling 60 fits\n",
      "Accuracy: 0.82\n",
      "Mean Squared Error on Test Set: 0.27\n",
      "Best Parameters: {'n_estimators': 500, 'min_samples_split': 10, 'min_samples_leaf': 1, 'max_features': 'log2', 'max_depth': 50, 'bootstrap': False}\n"
     ]
    }
   ],
   "source": [
    "# Define the model and parameter grid for tuning\n",
    "rf_rand_cv = RandomForestClassifier()\n",
    "param_rf_rand = {\n",
    "    'n_estimators': [100, 200, 300, 400, 500],\n",
    "    'max_features': ['auto', 'sqrt', 'log2'],\n",
    "    'max_depth': [None, 10, 20, 30, 40, 50],\n",
    "    'min_samples_split': [2, 5, 10],\n",
    "    'min_samples_leaf': [1, 2, 4],\n",
    "    'bootstrap': [True, False]\n",
    "}\n",
    "\n",
    "# Perform RandomizedSearchCV with cross-validation\n",
    "random_search_rf_cv = RandomizedSearchCV(estimator=rf_rand_cv, param_distributions=param_rf_rand, n_iter=20, scoring='accuracy', cv=3, verbose=1, n_jobs=-1, random_state=42)\n",
    "random_search_rf_cv.fit(X_train_scaled_cv, y_train)\n",
    "\n",
    "# Train the final model on the entire training set with the best hyperparameters\n",
    "best_rf_rand_cv = random_search_rf_cv.best_estimator_\n",
    "best_rf_rand_cv.fit(X_train_scaled_cv, y_train)\n",
    "\n",
    "# Evaluate the final model on the test set\n",
    "X_test_scaled_rf_rand_cv = scaler.transform(X_test_scaled_cv)\n",
    "y_pred_rf_rand_cv = best_rf_rand_cv.predict(X_test_scaled_rf_rand_cv)\n",
    "\n",
    "# Calculate the accuracy\n",
    "acc_rf_rand_cv = accuracy_score(y_test, y_pred_rf_rand_cv)\n",
    "print(f'Accuracy: {acc_rf_rand_cv:.2f}')\n",
    "\n",
    "# Calculate performance metrics\n",
    "mse_rf_rand_cv = mean_squared_error(y_test, y_pred_rf_rand_cv)\n",
    "print(f'Mean Squared Error on Test Set: {mse_rf_rand_cv:.2f}')\n",
    "\n",
    "# Print the best parameters found during cross-validation\n",
    "print(f'Best Parameters: {random_search_rf_cv.best_params_}')"
   ]
  },
  {
   "cell_type": "code",
   "execution_count": 86,
   "id": "88b7504a",
   "metadata": {},
   "outputs": [
    {
     "name": "stdout",
     "output_type": "stream",
     "text": [
      "              precision    recall  f1-score   support\n",
      "\n",
      "           0       0.00      0.00      0.00        57\n",
      "           1       0.00      0.00      0.00       308\n",
      "           2       0.82      1.00      0.90      1635\n",
      "\n",
      "    accuracy                           0.82      2000\n",
      "   macro avg       0.27      0.33      0.30      2000\n",
      "weighted avg       0.67      0.82      0.74      2000\n",
      "\n"
     ]
    }
   ],
   "source": [
    "print(classification_report(y_test, y_pred_rf_rand_cv))"
   ]
  },
  {
   "cell_type": "markdown",
   "id": "598ea4c7",
   "metadata": {},
   "source": [
    "Bayesian Optimization - Random Forest"
   ]
  },
  {
   "cell_type": "code",
   "execution_count": 87,
   "id": "906575f9",
   "metadata": {},
   "outputs": [
    {
     "name": "stdout",
     "output_type": "stream",
     "text": [
      "Fitting 3 folds for each of 1 candidates, totalling 3 fits\n",
      "Fitting 3 folds for each of 1 candidates, totalling 3 fits\n",
      "Fitting 3 folds for each of 1 candidates, totalling 3 fits\n",
      "Fitting 3 folds for each of 1 candidates, totalling 3 fits\n",
      "Fitting 3 folds for each of 1 candidates, totalling 3 fits\n",
      "Fitting 3 folds for each of 1 candidates, totalling 3 fits\n",
      "Fitting 3 folds for each of 1 candidates, totalling 3 fits\n",
      "Fitting 3 folds for each of 1 candidates, totalling 3 fits\n",
      "Fitting 3 folds for each of 1 candidates, totalling 3 fits\n",
      "Fitting 3 folds for each of 1 candidates, totalling 3 fits\n",
      "Fitting 3 folds for each of 1 candidates, totalling 3 fits\n",
      "Fitting 3 folds for each of 1 candidates, totalling 3 fits\n",
      "Fitting 3 folds for each of 1 candidates, totalling 3 fits\n",
      "Fitting 3 folds for each of 1 candidates, totalling 3 fits\n",
      "Fitting 3 folds for each of 1 candidates, totalling 3 fits\n",
      "Fitting 3 folds for each of 1 candidates, totalling 3 fits\n",
      "Fitting 3 folds for each of 1 candidates, totalling 3 fits\n",
      "Fitting 3 folds for each of 1 candidates, totalling 3 fits\n",
      "Fitting 3 folds for each of 1 candidates, totalling 3 fits\n",
      "Fitting 3 folds for each of 1 candidates, totalling 3 fits\n",
      "Fitting 3 folds for each of 1 candidates, totalling 3 fits\n",
      "Fitting 3 folds for each of 1 candidates, totalling 3 fits\n",
      "Fitting 3 folds for each of 1 candidates, totalling 3 fits\n",
      "Fitting 3 folds for each of 1 candidates, totalling 3 fits\n",
      "Fitting 3 folds for each of 1 candidates, totalling 3 fits\n",
      "Fitting 3 folds for each of 1 candidates, totalling 3 fits\n",
      "Fitting 3 folds for each of 1 candidates, totalling 3 fits\n",
      "Fitting 3 folds for each of 1 candidates, totalling 3 fits\n",
      "Fitting 3 folds for each of 1 candidates, totalling 3 fits\n",
      "Fitting 3 folds for each of 1 candidates, totalling 3 fits\n",
      "Fitting 3 folds for each of 1 candidates, totalling 3 fits\n",
      "Fitting 3 folds for each of 1 candidates, totalling 3 fits\n",
      "Accuracy: 0.82\n",
      "Mean Squared Error on Test Set: 0.23\n",
      "Best Parameters: OrderedDict({'bootstrap': False, 'max_depth': 50, 'max_features': 'sqrt', 'min_samples_leaf': 1, 'min_samples_split': 2, 'n_estimators': 500})\n"
     ]
    }
   ],
   "source": [
    "# Define the model and parameter search space for Bayesian Optimization\n",
    "rf_bayes = RandomForestClassifier()\n",
    "param_rf_bayes = {\n",
    "    'n_estimators': Integer(100, 500),\n",
    "    'max_features': Categorical(['sqrt', 'log2']),\n",
    "    'max_depth': Integer(10, 50),\n",
    "    'min_samples_split': Integer(2, 10),\n",
    "    'min_samples_leaf': Integer(1, 4),\n",
    "    'bootstrap': Categorical([True, False])\n",
    "}\n",
    "\n",
    "# Perform Bayesian Optimization with cross-validation\n",
    "bayes_search_rf = BayesSearchCV(estimator=rf_bayes, search_spaces=param_rf_bayes, n_iter=32, scoring='accuracy', cv=3, verbose=1, n_jobs=-1, random_state=42)\n",
    "bayes_search_rf.fit(X_train_scaled, y_train)\n",
    "\n",
    "# Train the final model on the entire training set with the best hyperparameters\n",
    "best_rf_bayes = bayes_search_rf.best_estimator_\n",
    "best_rf_bayes.fit(X_train_scaled, y_train)\n",
    "\n",
    "# Evaluate the final model on the test set\n",
    "X_test_scaled_rf_bayes = scaler.transform(X_test_scaled)\n",
    "y_pred_rf_bayes = best_rf_bayes.predict(X_test_scaled_rf_bayes)\n",
    "\n",
    "# Calculate the accuracy\n",
    "acc_rf_bayes = accuracy_score(y_test, y_pred_rf_bayes)\n",
    "print(f'Accuracy: {acc_rf_bayes:.2f}')\n",
    "\n",
    "# Calculate performance metrics\n",
    "mse_rf_bayes = mean_squared_error(y_test, y_pred_rf_bayes)\n",
    "print(f'Mean Squared Error on Test Set: {mse_rf_bayes:.2f}')\n",
    "\n",
    "# Print the best parameters found during Bayesian Optimization\n",
    "print(f'Best Parameters: {bayes_search_rf.best_params_}')"
   ]
  },
  {
   "cell_type": "code",
   "execution_count": 88,
   "id": "70fb1b29",
   "metadata": {},
   "outputs": [
    {
     "name": "stdout",
     "output_type": "stream",
     "text": [
      "              precision    recall  f1-score   support\n",
      "\n",
      "           0       1.00      0.09      0.16        57\n",
      "           1       0.41      0.10      0.16       308\n",
      "           2       0.84      0.98      0.90      1635\n",
      "\n",
      "    accuracy                           0.82      2000\n",
      "   macro avg       0.75      0.39      0.41      2000\n",
      "weighted avg       0.78      0.82      0.77      2000\n",
      "\n"
     ]
    }
   ],
   "source": [
    "print(classification_report(y_test, y_pred_rf_bayes))"
   ]
  },
  {
   "cell_type": "markdown",
   "id": "525a9302",
   "metadata": {},
   "source": [
    "Bayesian Optimization - Random Forest with Count Vectorizer"
   ]
  },
  {
   "cell_type": "code",
   "execution_count": 89,
   "id": "b0cefc71",
   "metadata": {},
   "outputs": [
    {
     "name": "stdout",
     "output_type": "stream",
     "text": [
      "Fitting 3 folds for each of 1 candidates, totalling 3 fits\n",
      "Fitting 3 folds for each of 1 candidates, totalling 3 fits\n",
      "Fitting 3 folds for each of 1 candidates, totalling 3 fits\n",
      "Fitting 3 folds for each of 1 candidates, totalling 3 fits\n",
      "Fitting 3 folds for each of 1 candidates, totalling 3 fits\n",
      "Fitting 3 folds for each of 1 candidates, totalling 3 fits\n",
      "Fitting 3 folds for each of 1 candidates, totalling 3 fits\n",
      "Fitting 3 folds for each of 1 candidates, totalling 3 fits\n",
      "Fitting 3 folds for each of 1 candidates, totalling 3 fits\n",
      "Fitting 3 folds for each of 1 candidates, totalling 3 fits\n",
      "Fitting 3 folds for each of 1 candidates, totalling 3 fits\n",
      "Fitting 3 folds for each of 1 candidates, totalling 3 fits\n",
      "Fitting 3 folds for each of 1 candidates, totalling 3 fits\n",
      "Fitting 3 folds for each of 1 candidates, totalling 3 fits\n",
      "Fitting 3 folds for each of 1 candidates, totalling 3 fits\n",
      "Fitting 3 folds for each of 1 candidates, totalling 3 fits\n",
      "Fitting 3 folds for each of 1 candidates, totalling 3 fits\n",
      "Fitting 3 folds for each of 1 candidates, totalling 3 fits\n",
      "Fitting 3 folds for each of 1 candidates, totalling 3 fits\n",
      "Fitting 3 folds for each of 1 candidates, totalling 3 fits\n",
      "Fitting 3 folds for each of 1 candidates, totalling 3 fits\n",
      "Fitting 3 folds for each of 1 candidates, totalling 3 fits\n",
      "Fitting 3 folds for each of 1 candidates, totalling 3 fits\n",
      "Fitting 3 folds for each of 1 candidates, totalling 3 fits\n",
      "Fitting 3 folds for each of 1 candidates, totalling 3 fits\n",
      "Fitting 3 folds for each of 1 candidates, totalling 3 fits\n",
      "Fitting 3 folds for each of 1 candidates, totalling 3 fits\n",
      "Fitting 3 folds for each of 1 candidates, totalling 3 fits\n",
      "Fitting 3 folds for each of 1 candidates, totalling 3 fits\n",
      "Fitting 3 folds for each of 1 candidates, totalling 3 fits\n",
      "Fitting 3 folds for each of 1 candidates, totalling 3 fits\n",
      "Fitting 3 folds for each of 1 candidates, totalling 3 fits\n",
      "Accuracy: 0.82\n",
      "Mean Squared Error on Test Set: 0.25\n",
      "Best Parameters: OrderedDict({'bootstrap': False, 'max_depth': 50, 'max_features': 'sqrt', 'min_samples_leaf': 1, 'min_samples_split': 2, 'n_estimators': 500})\n"
     ]
    }
   ],
   "source": [
    "# Define the model and parameter search space for Bayesian Optimization\n",
    "rf_bayes_cv = RandomForestClassifier()\n",
    "param_rf_bayes = {\n",
    "    'n_estimators': Integer(100, 500),\n",
    "    'max_features': Categorical(['sqrt', 'log2']),\n",
    "    'max_depth': Integer(10, 50),\n",
    "    'min_samples_split': Integer(2, 10),\n",
    "    'min_samples_leaf': Integer(1, 4),\n",
    "    'bootstrap': Categorical([True, False])\n",
    "}\n",
    "\n",
    "# Perform Bayesian Optimization with cross-validation\n",
    "bayes_search_rf_cv = BayesSearchCV(estimator=rf_bayes_cv, search_spaces=param_rf_bayes, n_iter=32, scoring='accuracy', cv=3, verbose=1, n_jobs=-1, random_state=42)\n",
    "bayes_search_rf_cv.fit(X_train_scaled_cv, y_train)\n",
    "\n",
    "# Train the final model on the entire training set with the best hyperparameters\n",
    "best_rf_bayes_cv = bayes_search_rf_cv.best_estimator_\n",
    "best_rf_bayes_cv.fit(X_train_scaled_cv, y_train)\n",
    "\n",
    "# Evaluate the final model on the test set\n",
    "X_test_scaled_rf_bayes_cv = scaler.transform(X_test_scaled_cv)\n",
    "y_pred_rf_bayes_cv = best_rf_bayes_cv.predict(X_test_scaled_rf_bayes_cv)\n",
    "\n",
    "# Calculate the accuracy\n",
    "acc_rf_bayes_cv = accuracy_score(y_test, y_pred_rf_bayes_cv)\n",
    "print(f'Accuracy: {acc_rf_bayes_cv:.2f}')\n",
    "\n",
    "# Calculate performance metrics\n",
    "mse_rf_bayes_cv = mean_squared_error(y_test, y_pred_rf_bayes_cv)\n",
    "print(f'Mean Squared Error on Test Set: {mse_rf_bayes_cv:.2f}')\n",
    "\n",
    "# Print the best parameters found during Bayesian Optimization\n",
    "print(f'Best Parameters: {bayes_search_rf_cv.best_params_}')"
   ]
  },
  {
   "cell_type": "code",
   "execution_count": 90,
   "id": "7595e5cb",
   "metadata": {},
   "outputs": [
    {
     "name": "stdout",
     "output_type": "stream",
     "text": [
      "              precision    recall  f1-score   support\n",
      "\n",
      "           0       1.00      0.07      0.13        57\n",
      "           1       0.82      0.03      0.06       308\n",
      "           2       0.82      1.00      0.90      1635\n",
      "\n",
      "    accuracy                           0.82      2000\n",
      "   macro avg       0.88      0.37      0.36      2000\n",
      "weighted avg       0.83      0.82      0.75      2000\n",
      "\n"
     ]
    }
   ],
   "source": [
    "print(classification_report(y_test, y_pred_rf_bayes_cv))"
   ]
  },
  {
   "cell_type": "markdown",
   "id": "fb59681b",
   "metadata": {},
   "source": [
    "Best Model - Random Forest"
   ]
  },
  {
   "cell_type": "code",
   "execution_count": 91,
   "id": "3dcb5dab",
   "metadata": {},
   "outputs": [
    {
     "data": {
      "text/plain": [
       "0.8470000000000001"
      ]
     },
     "execution_count": 91,
     "metadata": {},
     "output_type": "execute_result"
    }
   ],
   "source": [
    "# Best Model for Random Forest\n",
    "rf_best_model = RandomForestClassifier(max_depth= None, max_features= 7, min_samples_split= 2, n_estimators=100).fit(X_train_tfidf, y_train)\n",
    "cross_val_score(rf_best_model, X_train_tfidf, y_train, cv=5, n_jobs=-1).mean()"
   ]
  },
  {
   "cell_type": "code",
   "execution_count": 92,
   "id": "3f3347d3",
   "metadata": {},
   "outputs": [
    {
     "name": "stdout",
     "output_type": "stream",
     "text": [
      "Accuracy: 0.83\n",
      "              precision    recall  f1-score   support\n",
      "\n",
      "           0       1.00      0.05      0.10        57\n",
      "           1       0.52      0.15      0.24       308\n",
      "           2       0.84      0.98      0.91      1635\n",
      "\n",
      "    accuracy                           0.83      2000\n",
      "   macro avg       0.79      0.40      0.41      2000\n",
      "weighted avg       0.80      0.83      0.78      2000\n",
      "\n"
     ]
    }
   ],
   "source": [
    "X_test_rf = scaler.transform(X_test_scaled)\n",
    "y_pred_best_rf= rf_best_model.predict(X_test_rf)\n",
    "\n",
    "# Calculate the accuracy\n",
    "acc_best_rf = accuracy_score(y_test, y_pred_best_rf)\n",
    "print(f'Accuracy: {acc_best_rf:.2f}')\n",
    "\n",
    "print(classification_report(y_test, y_pred_best_rf))\n"
   ]
  },
  {
   "cell_type": "markdown",
   "id": "07956402",
   "metadata": {},
   "source": [
    "Best Model - Random Forest with Count Vectorizer"
   ]
  },
  {
   "cell_type": "code",
   "execution_count": 95,
   "id": "5ea1a9f3",
   "metadata": {},
   "outputs": [
    {
     "data": {
      "text/plain": [
       "0.8472500000000001"
      ]
     },
     "execution_count": 95,
     "metadata": {},
     "output_type": "execute_result"
    }
   ],
   "source": [
    "# Best Model for Random Forest\n",
    "rf_best_model_cv = RandomForestClassifier(max_depth= None, max_features= 7, min_samples_split= 2, n_estimators=100).fit(X_train_cv, y_train)\n",
    "cross_val_score(rf_best_model_cv, X_train_cv, y_train, cv=5, n_jobs=-1).mean()"
   ]
  },
  {
   "cell_type": "code",
   "execution_count": 97,
   "id": "d3bf05ba",
   "metadata": {},
   "outputs": [
    {
     "name": "stdout",
     "output_type": "stream",
     "text": [
      "Accuracy: 0.83\n",
      "              precision    recall  f1-score   support\n",
      "\n",
      "           0       1.00      0.09      0.16        57\n",
      "           1       0.86      0.06      0.11       308\n",
      "           2       0.83      1.00      0.91      1635\n",
      "\n",
      "    accuracy                           0.83      2000\n",
      "   macro avg       0.90      0.38      0.39      2000\n",
      "weighted avg       0.84      0.83      0.76      2000\n",
      "\n"
     ]
    }
   ],
   "source": [
    "X_test_rf_cv = scaler.transform(X_test_scaled_cv)\n",
    "y_pred_best_rf_cv= rf_best_model_cv.predict(X_test_rf_cv)\n",
    "\n",
    "# Calculate the accuracy\n",
    "acc_best_rf_cv = accuracy_score(y_test, y_pred_best_rf_cv)\n",
    "print(f'Accuracy: {acc_best_rf_cv:.2f}')\n",
    "\n",
    "print(classification_report(y_test, y_pred_best_rf_cv))"
   ]
  },
  {
   "cell_type": "markdown",
   "id": "0bd2c0c7",
   "metadata": {},
   "source": [
    "# Naive Bayes"
   ]
  },
  {
   "cell_type": "code",
   "execution_count": 98,
   "id": "19d31453",
   "metadata": {},
   "outputs": [],
   "source": [
    "from sklearn.naive_bayes import MultinomialNB"
   ]
  },
  {
   "cell_type": "markdown",
   "id": "110c9548",
   "metadata": {},
   "source": [
    "Hyper Parameter Optimization - Naive Bayes"
   ]
  },
  {
   "cell_type": "markdown",
   "id": "21538b2f",
   "metadata": {},
   "source": [
    "Grid Search - Naive Bayes"
   ]
  },
  {
   "cell_type": "code",
   "execution_count": 99,
   "id": "9d10f7f3",
   "metadata": {},
   "outputs": [
    {
     "name": "stdout",
     "output_type": "stream",
     "text": [
      "Fitting 3 folds for each of 8 candidates, totalling 24 fits\n",
      "Accuracy: 0.70\n",
      "Mean Squared Error on Test Set: 0.46\n",
      "Best Parameters: {'alpha': 0.1, 'fit_prior': True}\n"
     ]
    }
   ],
   "source": [
    "# Define the model and parameter grid for tuning\n",
    "nb_grid = MultinomialNB()\n",
    "\n",
    "param_nb_grid = {\n",
    "    'alpha': [0.1, 0.5, 1.0, 2.0],\n",
    "    'fit_prior': [True, False]\n",
    "    }\n",
    "\n",
    "\n",
    "# Perform GridSearchCV with cross-validation\n",
    "nb_grid = GridSearchCV(nb_grid, param_grid=param_nb_grid, scoring='accuracy', cv=3, verbose=1, n_jobs=-1)\n",
    "nb_grid.fit(X_train_scaled, y_train)\n",
    "\n",
    "#Train the final model on the entire training set with the best hyperparameters\n",
    "best_nb_grid = nb_grid.best_estimator_\n",
    "best_nb_grid.fit(X_train_scaled, y_train)\n",
    "\n",
    "#Evaluate the final model on the test set\n",
    "X_test_scaled_nb_grid = scaler.transform(X_test_scaled)\n",
    "y_pred_nb_grid = best_nb_grid.predict(X_test_scaled_nb_grid)\n",
    "\n",
    "#Calculate the accuracy\n",
    "acc_nb_grid=accuracy_score(y_test,y_pred_nb_grid)\n",
    "print(f'Accuracy: {acc_nb_grid:.2f}')\n",
    "\n",
    "# Calculate performance metrics\n",
    "mse_nb_grid = mean_squared_error(y_test, y_pred_nb_grid)\n",
    "print(f'Mean Squared Error on Test Set: {mse_nb_grid:.2f}')\n",
    "\n",
    "# Print the best parameters found during cross-validation\n",
    "print(f'Best Parameters: {nb_grid.best_params_}')"
   ]
  },
  {
   "cell_type": "code",
   "execution_count": 100,
   "id": "78b8eb78",
   "metadata": {},
   "outputs": [
    {
     "name": "stdout",
     "output_type": "stream",
     "text": [
      "              precision    recall  f1-score   support\n",
      "\n",
      "           0       0.09      0.19      0.12        57\n",
      "           1       0.24      0.28      0.26       308\n",
      "           2       0.86      0.80      0.83      1635\n",
      "\n",
      "    accuracy                           0.70      2000\n",
      "   macro avg       0.40      0.42      0.40      2000\n",
      "weighted avg       0.74      0.70      0.72      2000\n",
      "\n"
     ]
    }
   ],
   "source": [
    "print(classification_report(y_test, y_pred_nb_grid))"
   ]
  },
  {
   "cell_type": "markdown",
   "id": "aecdb1fe",
   "metadata": {},
   "source": [
    "Grid Search - Naive Bayes with Count Vectorizer"
   ]
  },
  {
   "cell_type": "code",
   "execution_count": 101,
   "id": "0c251d5f",
   "metadata": {},
   "outputs": [
    {
     "name": "stdout",
     "output_type": "stream",
     "text": [
      "Fitting 3 folds for each of 8 candidates, totalling 24 fits\n",
      "Accuracy: 0.70\n",
      "Mean Squared Error on Test Set: 0.46\n",
      "Best Parameters: {'alpha': 0.1, 'fit_prior': True}\n"
     ]
    }
   ],
   "source": [
    "# Define the model and parameter grid for tuning\n",
    "nb_grid_cv = MultinomialNB()\n",
    "\n",
    "param_nb_grid = {\n",
    "    'alpha': [0.1, 0.5, 1.0, 2.0],\n",
    "    'fit_prior': [True, False]\n",
    "    }\n",
    "\n",
    "\n",
    "# Perform GridSearchCV with cross-validation\n",
    "nb_grid_cv = GridSearchCV(nb_grid_cv, param_grid=param_nb_grid, scoring='accuracy', cv=3, verbose=1, n_jobs=-1)\n",
    "nb_grid_cv.fit(X_train_scaled_cv, y_train)\n",
    "\n",
    "#Train the final model on the entire training set with the best hyperparameters\n",
    "best_nb_grid_cv = nb_grid_cv.best_estimator_\n",
    "best_nb_grid_cv.fit(X_train_scaled_cv, y_train)\n",
    "\n",
    "#Evaluate the final model on the test set\n",
    "X_test_scaled_nb_grid_cv = scaler.transform(X_test_scaled_cv)\n",
    "y_pred_nb_grid_cv = best_nb_grid_cv.predict(X_test_scaled_nb_grid_cv)\n",
    "\n",
    "#Calculate the accuracy\n",
    "acc_nb_grid_cv =accuracy_score(y_test,y_pred_nb_grid_cv)\n",
    "print(f'Accuracy: {acc_nb_grid_cv:.2f}')\n",
    "\n",
    "# Calculate performance metrics\n",
    "mse_nb_grid_cv = mean_squared_error(y_test, y_pred_nb_grid_cv)\n",
    "print(f'Mean Squared Error on Test Set: {mse_nb_grid_cv:.2f}')\n",
    "\n",
    "# Print the best parameters found during cross-validation\n",
    "print(f'Best Parameters: {nb_grid_cv.best_params_}')"
   ]
  },
  {
   "cell_type": "code",
   "execution_count": 102,
   "id": "a70261ee",
   "metadata": {},
   "outputs": [
    {
     "name": "stdout",
     "output_type": "stream",
     "text": [
      "              precision    recall  f1-score   support\n",
      "\n",
      "           0       0.09      0.19      0.12        57\n",
      "           1       0.24      0.27      0.25       308\n",
      "           2       0.86      0.80      0.83      1635\n",
      "\n",
      "    accuracy                           0.70      2000\n",
      "   macro avg       0.40      0.42      0.40      2000\n",
      "weighted avg       0.74      0.70      0.72      2000\n",
      "\n"
     ]
    }
   ],
   "source": [
    "print(classification_report(y_test, y_pred_nb_grid_cv))"
   ]
  },
  {
   "cell_type": "markdown",
   "id": "d2201033",
   "metadata": {},
   "source": [
    "Random Search - Naive Bayes"
   ]
  },
  {
   "cell_type": "code",
   "execution_count": 103,
   "id": "dd96141a",
   "metadata": {},
   "outputs": [
    {
     "name": "stdout",
     "output_type": "stream",
     "text": [
      "Fitting 3 folds for each of 12 candidates, totalling 36 fits\n",
      "Accuracy: 0.70\n",
      "Mean Squared Error on Test Set: 0.46\n",
      "Best Parameters: {'fit_prior': True, 'alpha': 0.1}\n"
     ]
    }
   ],
   "source": [
    "# Define the model and parameter grid for tuning\n",
    "nb_rand = MultinomialNB()\n",
    "param_nb_rand = {\n",
    "    'alpha': [0.1, 0.5, 1.0, 2.0, 5.0, 10.0],\n",
    "    'fit_prior': [True, False]\n",
    "}\n",
    "\n",
    "# Perform RandomizedSearchCV with cross-validation\n",
    "random_search_nb = RandomizedSearchCV(estimator=nb_rand, param_distributions=param_nb_rand, n_iter=20, scoring='accuracy', cv=3, verbose=1, n_jobs=-1, random_state=42)\n",
    "random_search_nb.fit(X_train_scaled, y_train)\n",
    "\n",
    "# Train the final model on the entire training set with the best hyperparameters\n",
    "best_nb_rand = random_search_nb.best_estimator_\n",
    "best_nb_rand.fit(X_train_scaled, y_train)\n",
    "\n",
    "# Evaluate the final model on the test set\n",
    "X_test_scaled_nb_rand = scaler.transform(X_test_scaled)\n",
    "y_pred_nb_rand = best_nb_grid.predict(X_test_scaled_nb_rand)\n",
    "\n",
    "# Calculate the accuracy\n",
    "acc_nb_rand = accuracy_score(y_test, y_pred_nb_rand)\n",
    "print(f'Accuracy: {acc_nb_rand:.2f}')\n",
    "\n",
    "# Calculate performance metrics\n",
    "mse_nb_rand = mean_squared_error(y_test, y_pred_nb_rand)\n",
    "print(f'Mean Squared Error on Test Set: {mse_nb_rand:.2f}')\n",
    "\n",
    "# Print the best parameters found during cross-validation\n",
    "print(f'Best Parameters: {random_search_nb.best_params_}')"
   ]
  },
  {
   "cell_type": "code",
   "execution_count": 104,
   "id": "bfe3a193",
   "metadata": {},
   "outputs": [
    {
     "name": "stdout",
     "output_type": "stream",
     "text": [
      "              precision    recall  f1-score   support\n",
      "\n",
      "           0       0.09      0.19      0.12        57\n",
      "           1       0.24      0.28      0.26       308\n",
      "           2       0.86      0.80      0.83      1635\n",
      "\n",
      "    accuracy                           0.70      2000\n",
      "   macro avg       0.40      0.42      0.40      2000\n",
      "weighted avg       0.74      0.70      0.72      2000\n",
      "\n"
     ]
    }
   ],
   "source": [
    "print(classification_report(y_test, y_pred_nb_rand))"
   ]
  },
  {
   "cell_type": "markdown",
   "id": "95600310",
   "metadata": {},
   "source": [
    "Random Search - Naive Bayes with Count Vectorizer"
   ]
  },
  {
   "cell_type": "code",
   "execution_count": 106,
   "id": "f6446c1e",
   "metadata": {},
   "outputs": [
    {
     "name": "stdout",
     "output_type": "stream",
     "text": [
      "Fitting 5 folds for each of 12 candidates, totalling 60 fits\n",
      "Accuracy: 0.70\n",
      "Mean Squared Error on Test Set: 0.46\n",
      "Best Parameters: {'fit_prior': True, 'alpha': 0.1}\n"
     ]
    }
   ],
   "source": [
    "# Define the model and parameter grid for tuning\n",
    "nb_rand_cv = MultinomialNB()\n",
    "param_nb_rand = {\n",
    "    'alpha': [0.1, 0.5, 1.0, 2.0, 5.0, 10.0],\n",
    "    'fit_prior': [True, False]\n",
    "}\n",
    "\n",
    "# Perform RandomizedSearchCV with cross-validation\n",
    "random_search_nb_cv = RandomizedSearchCV(estimator=nb_rand_cv, param_distributions=param_nb_rand, n_iter=20, scoring='accuracy', cv=5, verbose=1, n_jobs=-1, random_state=42)\n",
    "random_search_nb_cv.fit(X_train_scaled_cv, y_train)\n",
    "\n",
    "# Train the final model on the entire training set with the best hyperparameters\n",
    "best_nb_rand_cv = random_search_nb_cv.best_estimator_\n",
    "best_nb_rand_cv.fit(X_train_scaled_cv, y_train)\n",
    "\n",
    "# Evaluate the final model on the test set\n",
    "X_test_scaled_nb_rand_cv = scaler.transform(X_test_scaled_cv)\n",
    "y_pred_nb_rand_cv = best_nb_grid_cv.predict(X_test_scaled_nb_rand_cv)\n",
    "\n",
    "# Calculate the accuracy\n",
    "acc_nb_rand_cv = accuracy_score(y_test, y_pred_nb_rand_cv)\n",
    "print(f'Accuracy: {acc_nb_rand_cv:.2f}')\n",
    "\n",
    "# Calculate performance metrics\n",
    "mse_nb_rand_cv = mean_squared_error(y_test, y_pred_nb_rand_cv)\n",
    "print(f'Mean Squared Error on Test Set: {mse_nb_rand_cv:.2f}')\n",
    "\n",
    "# Print the best parameters found during cross-validation\n",
    "print(f'Best Parameters: {random_search_nb_cv.best_params_}')"
   ]
  },
  {
   "cell_type": "code",
   "execution_count": 107,
   "id": "7d92dc9a",
   "metadata": {},
   "outputs": [
    {
     "name": "stdout",
     "output_type": "stream",
     "text": [
      "              precision    recall  f1-score   support\n",
      "\n",
      "           0       0.09      0.19      0.12        57\n",
      "           1       0.24      0.27      0.25       308\n",
      "           2       0.86      0.80      0.83      1635\n",
      "\n",
      "    accuracy                           0.70      2000\n",
      "   macro avg       0.40      0.42      0.40      2000\n",
      "weighted avg       0.74      0.70      0.72      2000\n",
      "\n"
     ]
    }
   ],
   "source": [
    "print(classification_report(y_test, y_pred_nb_rand_cv))"
   ]
  },
  {
   "cell_type": "markdown",
   "id": "70a08ecc",
   "metadata": {},
   "source": [
    "Bayes Optimization - Naive Bayes"
   ]
  },
  {
   "cell_type": "code",
   "execution_count": 108,
   "id": "581f7365",
   "metadata": {},
   "outputs": [
    {
     "name": "stdout",
     "output_type": "stream",
     "text": [
      "Fitting 3 folds for each of 1 candidates, totalling 3 fits\n",
      "Fitting 3 folds for each of 1 candidates, totalling 3 fits\n",
      "Fitting 3 folds for each of 1 candidates, totalling 3 fits\n",
      "Fitting 3 folds for each of 1 candidates, totalling 3 fits\n",
      "Fitting 3 folds for each of 1 candidates, totalling 3 fits\n",
      "Fitting 3 folds for each of 1 candidates, totalling 3 fits\n",
      "Fitting 3 folds for each of 1 candidates, totalling 3 fits\n",
      "Fitting 3 folds for each of 1 candidates, totalling 3 fits\n",
      "Fitting 3 folds for each of 1 candidates, totalling 3 fits\n",
      "Fitting 3 folds for each of 1 candidates, totalling 3 fits\n",
      "Fitting 3 folds for each of 1 candidates, totalling 3 fits\n",
      "Fitting 3 folds for each of 1 candidates, totalling 3 fits\n",
      "Fitting 3 folds for each of 1 candidates, totalling 3 fits\n",
      "Fitting 3 folds for each of 1 candidates, totalling 3 fits\n",
      "Fitting 3 folds for each of 1 candidates, totalling 3 fits\n",
      "Fitting 3 folds for each of 1 candidates, totalling 3 fits\n",
      "Fitting 3 folds for each of 1 candidates, totalling 3 fits\n",
      "Fitting 3 folds for each of 1 candidates, totalling 3 fits\n",
      "Fitting 3 folds for each of 1 candidates, totalling 3 fits\n",
      "Fitting 3 folds for each of 1 candidates, totalling 3 fits\n",
      "Fitting 3 folds for each of 1 candidates, totalling 3 fits\n",
      "Fitting 3 folds for each of 1 candidates, totalling 3 fits\n",
      "Fitting 3 folds for each of 1 candidates, totalling 3 fits\n",
      "Fitting 3 folds for each of 1 candidates, totalling 3 fits\n",
      "Fitting 3 folds for each of 1 candidates, totalling 3 fits\n",
      "Fitting 3 folds for each of 1 candidates, totalling 3 fits\n",
      "Fitting 3 folds for each of 1 candidates, totalling 3 fits\n",
      "Fitting 3 folds for each of 1 candidates, totalling 3 fits\n",
      "Fitting 3 folds for each of 1 candidates, totalling 3 fits\n",
      "Fitting 3 folds for each of 1 candidates, totalling 3 fits\n",
      "Fitting 3 folds for each of 1 candidates, totalling 3 fits\n",
      "Fitting 3 folds for each of 1 candidates, totalling 3 fits\n",
      "Accuracy: 0.71\n",
      "Mean Squared Error on Test Set: 0.43\n",
      "Best Parameters: OrderedDict({'alpha': 0.01, 'fit_prior': True})\n"
     ]
    }
   ],
   "source": [
    "# Define the model and parameter search space for Bayesian Optimization\n",
    "nb_bayes = MultinomialNB()\n",
    "\n",
    "param_nb_bayes ={\n",
    "    'alpha': (1e-2, 1e2, 'log-uniform'),\n",
    "    'fit_prior': [True, False]\n",
    "}\n",
    "\n",
    "# Perform Bayesian Optimization with cross-validation\n",
    "bayes_search_nb = BayesSearchCV(estimator=nb_bayes, search_spaces=param_nb_bayes, n_iter=32, scoring='accuracy', cv=3, verbose=1, n_jobs=-1, random_state=42)\n",
    "bayes_search_nb.fit(X_train_scaled, y_train)\n",
    "\n",
    "# Train the final model on the entire training set with the best hyperparameters\n",
    "best_nb_bayes = bayes_search_nb.best_estimator_\n",
    "best_nb_bayes.fit(X_train_scaled, y_train)\n",
    "\n",
    "# Evaluate the final model on the test set\n",
    "X_test_scaled_nb_bayes = scaler.transform(X_test_scaled)\n",
    "y_pred_nb_bayes = best_nb_bayes.predict(X_test_scaled_nb_bayes)\n",
    "\n",
    "# Calculate the accuracy\n",
    "acc_nb_bayes = accuracy_score(y_test, y_pred_nb_bayes)\n",
    "print(f'Accuracy: {acc_nb_bayes:.2f}')\n",
    "\n",
    "# Calculate performance metrics\n",
    "mse_nb_bayes = mean_squared_error(y_test, y_pred_nb_bayes)\n",
    "print(f'Mean Squared Error on Test Set: {mse_nb_bayes:.2f}')\n",
    "\n",
    "# Print the best parameters found during Bayesian Optimization\n",
    "print(f'Best Parameters: {bayes_search_nb.best_params_}')"
   ]
  },
  {
   "cell_type": "code",
   "execution_count": 109,
   "id": "c58fc588",
   "metadata": {},
   "outputs": [
    {
     "name": "stdout",
     "output_type": "stream",
     "text": [
      "              precision    recall  f1-score   support\n",
      "\n",
      "           0       0.10      0.19      0.13        57\n",
      "           1       0.25      0.28      0.26       308\n",
      "           2       0.86      0.82      0.84      1635\n",
      "\n",
      "    accuracy                           0.71      2000\n",
      "   macro avg       0.40      0.43      0.41      2000\n",
      "weighted avg       0.74      0.71      0.73      2000\n",
      "\n"
     ]
    }
   ],
   "source": [
    "print(classification_report(y_test, y_pred_nb_bayes))"
   ]
  },
  {
   "cell_type": "markdown",
   "id": "5bc94cc9",
   "metadata": {},
   "source": [
    "Bayesian Optimization - Naive Bayes with Count Vectorizer"
   ]
  },
  {
   "cell_type": "code",
   "execution_count": 110,
   "id": "8797b679",
   "metadata": {},
   "outputs": [
    {
     "name": "stdout",
     "output_type": "stream",
     "text": [
      "Fitting 3 folds for each of 1 candidates, totalling 3 fits\n",
      "Fitting 3 folds for each of 1 candidates, totalling 3 fits\n",
      "Fitting 3 folds for each of 1 candidates, totalling 3 fits\n",
      "Fitting 3 folds for each of 1 candidates, totalling 3 fits\n",
      "Fitting 3 folds for each of 1 candidates, totalling 3 fits\n",
      "Fitting 3 folds for each of 1 candidates, totalling 3 fits\n",
      "Fitting 3 folds for each of 1 candidates, totalling 3 fits\n",
      "Fitting 3 folds for each of 1 candidates, totalling 3 fits\n",
      "Fitting 3 folds for each of 1 candidates, totalling 3 fits\n",
      "Fitting 3 folds for each of 1 candidates, totalling 3 fits\n",
      "Fitting 3 folds for each of 1 candidates, totalling 3 fits\n",
      "Fitting 3 folds for each of 1 candidates, totalling 3 fits\n",
      "Fitting 3 folds for each of 1 candidates, totalling 3 fits\n",
      "Fitting 3 folds for each of 1 candidates, totalling 3 fits\n",
      "Fitting 3 folds for each of 1 candidates, totalling 3 fits\n",
      "Fitting 3 folds for each of 1 candidates, totalling 3 fits\n",
      "Fitting 3 folds for each of 1 candidates, totalling 3 fits\n",
      "Fitting 3 folds for each of 1 candidates, totalling 3 fits\n",
      "Fitting 3 folds for each of 1 candidates, totalling 3 fits\n",
      "Fitting 3 folds for each of 1 candidates, totalling 3 fits\n",
      "Fitting 3 folds for each of 1 candidates, totalling 3 fits\n",
      "Fitting 3 folds for each of 1 candidates, totalling 3 fits\n",
      "Fitting 3 folds for each of 1 candidates, totalling 3 fits\n",
      "Fitting 3 folds for each of 1 candidates, totalling 3 fits\n",
      "Fitting 3 folds for each of 1 candidates, totalling 3 fits\n",
      "Fitting 3 folds for each of 1 candidates, totalling 3 fits\n",
      "Fitting 3 folds for each of 1 candidates, totalling 3 fits\n",
      "Fitting 3 folds for each of 1 candidates, totalling 3 fits\n",
      "Fitting 3 folds for each of 1 candidates, totalling 3 fits\n",
      "Fitting 3 folds for each of 1 candidates, totalling 3 fits\n",
      "Fitting 3 folds for each of 1 candidates, totalling 3 fits\n",
      "Fitting 3 folds for each of 1 candidates, totalling 3 fits\n",
      "Accuracy: 0.71\n",
      "Mean Squared Error on Test Set: 0.43\n",
      "Best Parameters: OrderedDict({'alpha': 0.01, 'fit_prior': True})\n"
     ]
    }
   ],
   "source": [
    "# Define the model and parameter search space for Bayesian Optimization\n",
    "nb_bayes_cv = MultinomialNB()\n",
    "\n",
    "param_nb_bayes ={\n",
    "    'alpha': (1e-2, 1e2, 'log-uniform'),\n",
    "    'fit_prior': [True, False]\n",
    "}\n",
    "\n",
    "# Perform Bayesian Optimization with cross-validation\n",
    "bayes_search_nb_cv = BayesSearchCV(estimator=nb_bayes_cv, search_spaces=param_nb_bayes, n_iter=32, scoring='accuracy', cv=3, verbose=1, n_jobs=-1, random_state=42)\n",
    "bayes_search_nb_cv.fit(X_train_scaled, y_train)\n",
    "\n",
    "# Train the final model on the entire training set with the best hyperparameters\n",
    "best_nb_bayes_cv = bayes_search_nb_cv.best_estimator_\n",
    "best_nb_bayes_cv.fit(X_train_scaled_cv, y_train)\n",
    "\n",
    "# Evaluate the final model on the test set\n",
    "X_test_scaled_nb_bayes_cv = scaler.transform(X_test_scaled_cv)\n",
    "y_pred_nb_bayes_cv = best_nb_bayes_cv.predict(X_test_scaled_nb_bayes_cv)\n",
    "\n",
    "# Calculate the accuracy\n",
    "acc_nb_bayes_cv = accuracy_score(y_test, y_pred_nb_bayes_cv)\n",
    "print(f'Accuracy: {acc_nb_bayes_cv:.2f}')\n",
    "\n",
    "# Calculate performance metrics\n",
    "mse_nb_bayes_cv = mean_squared_error(y_test, y_pred_nb_bayes_cv)\n",
    "print(f'Mean Squared Error on Test Set: {mse_nb_bayes_cv:.2f}')\n",
    "\n",
    "# Print the best parameters found during Bayesian Optimization\n",
    "print(f'Best Parameters: {bayes_search_nb_cv.best_params_}')"
   ]
  },
  {
   "cell_type": "code",
   "execution_count": 111,
   "id": "782453ef",
   "metadata": {},
   "outputs": [
    {
     "name": "stdout",
     "output_type": "stream",
     "text": [
      "              precision    recall  f1-score   support\n",
      "\n",
      "           0       0.10      0.18      0.12        57\n",
      "           1       0.25      0.27      0.26       308\n",
      "           2       0.86      0.82      0.84      1635\n",
      "\n",
      "    accuracy                           0.71      2000\n",
      "   macro avg       0.40      0.42      0.41      2000\n",
      "weighted avg       0.74      0.71      0.73      2000\n",
      "\n"
     ]
    }
   ],
   "source": [
    "print(classification_report(y_test, y_pred_nb_bayes_cv))"
   ]
  },
  {
   "cell_type": "markdown",
   "id": "b3d6fc23",
   "metadata": {},
   "source": [
    "Best Model - Naive Bayes"
   ]
  },
  {
   "cell_type": "code",
   "execution_count": 114,
   "id": "04f14ccb",
   "metadata": {},
   "outputs": [
    {
     "data": {
      "text/plain": [
       "0.8407499999999999"
      ]
     },
     "execution_count": 114,
     "metadata": {},
     "output_type": "execute_result"
    }
   ],
   "source": [
    "# Best Model for Naive\n",
    "nb_best_model = MultinomialNB(alpha= 0.01, fit_prior= True).fit(X_train_tfidf, y_train)\n",
    "cross_val_score(nb_best_model, X_train_tfidf, y_train, cv=5, n_jobs=-1).mean()"
   ]
  },
  {
   "cell_type": "code",
   "execution_count": 115,
   "id": "67aad44a",
   "metadata": {},
   "outputs": [
    {
     "name": "stdout",
     "output_type": "stream",
     "text": [
      "Accuracy: 0.56\n",
      "              precision    recall  f1-score   support\n",
      "\n",
      "           0       0.06      0.53      0.11        57\n",
      "           1       0.24      0.27      0.25       308\n",
      "           2       0.88      0.62      0.73      1635\n",
      "\n",
      "    accuracy                           0.56      2000\n",
      "   macro avg       0.39      0.47      0.36      2000\n",
      "weighted avg       0.75      0.56      0.64      2000\n",
      "\n"
     ]
    }
   ],
   "source": [
    "X_test_nb = scaler.transform(X_test_scaled)\n",
    "y_pred_best_nb= nb_best_model.predict(X_test_nb)\n",
    "\n",
    "# Calculate the accuracy\n",
    "acc_best_nb = accuracy_score(y_test, y_pred_best_nb)\n",
    "print(f'Accuracy: {acc_best_nb:.2f}')\n",
    "\n",
    "print(classification_report(y_test, y_pred_best_nb))\n"
   ]
  },
  {
   "cell_type": "markdown",
   "id": "64418bf7",
   "metadata": {},
   "source": [
    "Best Model - NAive Bayes with Count Vectorizer"
   ]
  },
  {
   "cell_type": "code",
   "execution_count": 117,
   "id": "a6e31730",
   "metadata": {},
   "outputs": [
    {
     "data": {
      "text/plain": [
       "0.8335000000000001"
      ]
     },
     "execution_count": 117,
     "metadata": {},
     "output_type": "execute_result"
    }
   ],
   "source": [
    "# Best Model for Naive\n",
    "nb_best_model_cv = MultinomialNB(alpha= 0.01, fit_prior= True).fit(X_train_cv, y_train)\n",
    "cross_val_score(nb_best_model_cv, X_train_cv, y_train, cv=5, n_jobs=-1).mean()"
   ]
  },
  {
   "cell_type": "code",
   "execution_count": 118,
   "id": "2827ceae",
   "metadata": {},
   "outputs": [
    {
     "name": "stdout",
     "output_type": "stream",
     "text": [
      "Accuracy: 0.68\n",
      "              precision    recall  f1-score   support\n",
      "\n",
      "           0       0.07      0.21      0.11        57\n",
      "           1       0.23      0.27      0.25       308\n",
      "           2       0.86      0.77      0.81      1635\n",
      "\n",
      "    accuracy                           0.68      2000\n",
      "   macro avg       0.39      0.42      0.39      2000\n",
      "weighted avg       0.74      0.68      0.70      2000\n",
      "\n"
     ]
    }
   ],
   "source": [
    "X_test_nb_cv = scaler.transform(X_test_scaled_cv)\n",
    "y_pred_best_nb_cv= nb_best_model_cv.predict(X_test_nb_cv)\n",
    "\n",
    "# Calculate the accuracy\n",
    "acc_best_nb_cv = accuracy_score(y_test, y_pred_best_nb_cv)\n",
    "print(f'Accuracy: {acc_best_nb_cv :.2f}')\n",
    "\n",
    "print(classification_report(y_test, y_pred_best_nb_cv))\n"
   ]
  },
  {
   "cell_type": "markdown",
   "id": "5c10f575",
   "metadata": {},
   "source": [
    "# Sentiment Analysis Model"
   ]
  },
  {
   "cell_type": "code",
   "execution_count": 119,
   "id": "f754e451",
   "metadata": {},
   "outputs": [
    {
     "name": "stdout",
     "output_type": "stream",
     "text": [
      "Model and label encoder trained and saved successfully.\n"
     ]
    }
   ],
   "source": [
    "#pipeline\n",
    "\n",
    "from sklearn.pipeline import make_pipeline\n",
    "import joblib \n",
    "\n",
    "# Encode the sentiment labels\n",
    "label_encoder = LabelEncoder()\n",
    "data['Sentiment'] = label_encoder.fit_transform(data['Sentiment'])\n",
    "\n",
    "\n",
    "# Create a pipeline to streamline the process\n",
    "pipeline = make_pipeline(vectorizer, rf_best_model_cv)\n",
    "\n",
    "# Train the model on the entire dataset\n",
    "pipeline.fit(X, Y)\n",
    "\n",
    "# Save the trained model and label encoder to disk\n",
    "joblib.dump(pipeline, 'Models/sentiment_svc_model.pkl')\n",
    "joblib.dump(label_encoder, 'Models/label_encoder.pkl')\n",
    "\n",
    "print(\"Model and label encoder trained and saved successfully.\")\n",
    "\n"
   ]
  },
  {
   "cell_type": "code",
   "execution_count": 120,
   "id": "79982756",
   "metadata": {},
   "outputs": [],
   "source": [
    "# Later on, load the model and predict new data\n",
    "def predict_sentiment(new_texts):\n",
    "    # Load the saved model\n",
    "    model = joblib.load('Models/sentiment_svc_model.pkl')\n",
    "    \n",
    "    # Predict the sentiments\n",
    "    predictions = model.predict(new_texts)\n",
    "    \n",
    "    # Decode the predictions if necessary\n",
    "    sentiment_labels = label_encoder.inverse_transform(predictions)\n",
    "    \n",
    "    return sentiment_labels"
   ]
  },
  {
   "cell_type": "code",
   "execution_count": 127,
   "id": "9d71e908",
   "metadata": {},
   "outputs": [
    {
     "name": "stdout",
     "output_type": "stream",
     "text": [
      "[1]\n"
     ]
    }
   ],
   "source": [
    "# Example usage\n",
    "new_data = ['I feel great about this product!']\n",
    "new_data2 = [\"I have lived out of the US for over 7 yrs now, and I so miss my Twizzlers!!  When I go back to visit or someone visits me, I always stock up.  All I can say is YUM!<br />Sell these in Mexico and you will have a faithful buyer, more often than I'm able to buy them right now.\"]\n",
    "new_data3 = [\"The sky.\"]\n",
    "predicted_sentiments = predict_sentiment(new_data2)\n",
    "print(predicted_sentiments)"
   ]
  }
 ],
 "metadata": {
  "kernelspec": {
   "display_name": "Python 3 (ipykernel)",
   "language": "python",
   "name": "python3"
  },
  "language_info": {
   "codemirror_mode": {
    "name": "ipython",
    "version": 3
   },
   "file_extension": ".py",
   "mimetype": "text/x-python",
   "name": "python",
   "nbconvert_exporter": "python",
   "pygments_lexer": "ipython3",
   "version": "3.12.0"
  }
 },
 "nbformat": 4,
 "nbformat_minor": 5
}
